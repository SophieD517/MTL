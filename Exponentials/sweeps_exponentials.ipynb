{
  "cells": [
    {
      "cell_type": "markdown",
      "metadata": {
        "id": "iyVpLs1QuTuC"
      },
      "source": [
        "http://intomath.org/wp-content/uploads/2021/03/Fx-ab-c.jpg"
      ]
    },
    {
      "cell_type": "code",
      "execution_count": null,
      "metadata": {
        "colab": {
          "base_uri": "https://localhost:8080/"
        },
        "id": "rrW4_aWdhsVM",
        "outputId": "19e6e893-f55a-431e-9472-1d22afe8f3dd"
      },
      "outputs": [
        {
          "name": "stdout",
          "output_type": "stream",
          "text": [
            "Looking in indexes: https://pypi.org/simple, https://us-python.pkg.dev/colab-wheels/public/simple/\n",
            "Collecting wandb\n",
            "  Downloading wandb-0.12.17-py2.py3-none-any.whl (1.8 MB)\n",
            "\u001b[K     |████████████████████████████████| 1.8 MB 5.3 MB/s \n",
            "\u001b[?25hRequirement already satisfied: requests<3,>=2.0.0 in /usr/local/lib/python3.7/dist-packages (from wandb) (2.23.0)\n",
            "Collecting sentry-sdk>=1.0.0\n",
            "  Downloading sentry_sdk-1.5.12-py2.py3-none-any.whl (145 kB)\n",
            "\u001b[K     |████████████████████████████████| 145 kB 45.5 MB/s \n",
            "\u001b[?25hCollecting shortuuid>=0.5.0\n",
            "  Downloading shortuuid-1.0.9-py3-none-any.whl (9.4 kB)\n",
            "Requirement already satisfied: psutil>=5.0.0 in /usr/local/lib/python3.7/dist-packages (from wandb) (5.4.8)\n",
            "Requirement already satisfied: setuptools in /usr/local/lib/python3.7/dist-packages (from wandb) (57.4.0)\n",
            "Collecting docker-pycreds>=0.4.0\n",
            "  Downloading docker_pycreds-0.4.0-py2.py3-none-any.whl (9.0 kB)\n",
            "Requirement already satisfied: PyYAML in /usr/local/lib/python3.7/dist-packages (from wandb) (3.13)\n",
            "Collecting setproctitle\n",
            "  Downloading setproctitle-1.2.3-cp37-cp37m-manylinux_2_5_x86_64.manylinux1_x86_64.manylinux_2_17_x86_64.manylinux2014_x86_64.whl (29 kB)\n",
            "Requirement already satisfied: protobuf<4.0dev,>=3.12.0 in /usr/local/lib/python3.7/dist-packages (from wandb) (3.17.3)\n",
            "Requirement already satisfied: six>=1.13.0 in /usr/local/lib/python3.7/dist-packages (from wandb) (1.15.0)\n",
            "Collecting GitPython>=1.0.0\n",
            "  Downloading GitPython-3.1.27-py3-none-any.whl (181 kB)\n",
            "\u001b[K     |████████████████████████████████| 181 kB 45.4 MB/s \n",
            "\u001b[?25hRequirement already satisfied: Click!=8.0.0,>=7.0 in /usr/local/lib/python3.7/dist-packages (from wandb) (7.1.2)\n",
            "Requirement already satisfied: python-dateutil>=2.6.1 in /usr/local/lib/python3.7/dist-packages (from wandb) (2.8.2)\n",
            "Requirement already satisfied: promise<3,>=2.0 in /usr/local/lib/python3.7/dist-packages (from wandb) (2.3)\n",
            "Collecting pathtools\n",
            "  Downloading pathtools-0.1.2.tar.gz (11 kB)\n",
            "Collecting gitdb<5,>=4.0.1\n",
            "  Downloading gitdb-4.0.9-py3-none-any.whl (63 kB)\n",
            "\u001b[K     |████████████████████████████████| 63 kB 1.7 MB/s \n",
            "\u001b[?25hRequirement already satisfied: typing-extensions>=3.7.4.3 in /usr/local/lib/python3.7/dist-packages (from GitPython>=1.0.0->wandb) (4.2.0)\n",
            "Collecting smmap<6,>=3.0.1\n",
            "  Downloading smmap-5.0.0-py3-none-any.whl (24 kB)\n",
            "Requirement already satisfied: idna<3,>=2.5 in /usr/local/lib/python3.7/dist-packages (from requests<3,>=2.0.0->wandb) (2.10)\n",
            "Requirement already satisfied: urllib3!=1.25.0,!=1.25.1,<1.26,>=1.21.1 in /usr/local/lib/python3.7/dist-packages (from requests<3,>=2.0.0->wandb) (1.24.3)\n",
            "Requirement already satisfied: chardet<4,>=3.0.2 in /usr/local/lib/python3.7/dist-packages (from requests<3,>=2.0.0->wandb) (3.0.4)\n",
            "Requirement already satisfied: certifi>=2017.4.17 in /usr/local/lib/python3.7/dist-packages (from requests<3,>=2.0.0->wandb) (2022.5.18.1)\n",
            "Building wheels for collected packages: pathtools\n",
            "  Building wheel for pathtools (setup.py) ... \u001b[?25l\u001b[?25hdone\n",
            "  Created wheel for pathtools: filename=pathtools-0.1.2-py3-none-any.whl size=8806 sha256=f49d6f110be320e42489ab74fd4ae54dedbfa108f39cd824922b422a982928d8\n",
            "  Stored in directory: /root/.cache/pip/wheels/3e/31/09/fa59cef12cdcfecc627b3d24273699f390e71828921b2cbba2\n",
            "Successfully built pathtools\n",
            "Installing collected packages: smmap, gitdb, shortuuid, setproctitle, sentry-sdk, pathtools, GitPython, docker-pycreds, wandb\n",
            "Successfully installed GitPython-3.1.27 docker-pycreds-0.4.0 gitdb-4.0.9 pathtools-0.1.2 sentry-sdk-1.5.12 setproctitle-1.2.3 shortuuid-1.0.9 smmap-5.0.0 wandb-0.12.17\n",
            "\u001b[34m\u001b[1mwandb\u001b[0m: You can find your API key in your browser here: https://wandb.ai/authorize\n",
            "\u001b[34m\u001b[1mwandb\u001b[0m: Paste an API key from your profile and hit enter, or press ctrl+c to quit: \n",
            "\u001b[34m\u001b[1mwandb\u001b[0m: Appending key for api.wandb.ai to your netrc file: /root/.netrc\n"
          ]
        }
      ],
      "source": [
        "import numpy as np\n",
        "import pandas as pd\n",
        "import torch\n",
        "import matplotlib.pyplot as plt\n",
        "!pip install wandb\n",
        "import wandb\n",
        "!wandb login\n",
        "import os\n",
        "import seaborn as sns\n",
        "import plotly.express as px\n",
        "import math as m\n",
        "from scipy.stats import norm\n",
        "euler = m.e\n",
        "pd.set_option('max_rows', 99999)\n",
        "pd.set_option('max_colwidth', 400)"
      ]
    },
    {
      "cell_type": "code",
      "execution_count": null,
      "metadata": {
        "colab": {
          "base_uri": "https://localhost:8080/",
          "height": 486
        },
        "id": "h5qTo3vFlL6c",
        "outputId": "0d34d7d1-6a3e-4db1-a4dd-fdb6d0b6d37d"
      },
      "outputs": [
        {
          "data": {
            "text/html": [
              "Changes to your `wandb` environment variables will be ignored because your `wandb` session has already started. For more information on how to modify your settings with `wandb.init()` arguments, please refer to <a href=\"https://wandb.me/wandb-init\" target=\"_blank\">the W&B docs</a>."
            ],
            "text/plain": [
              "<IPython.core.display.HTML object>"
            ]
          },
          "metadata": {},
          "output_type": "display_data"
        },
        {
          "name": "stderr",
          "output_type": "stream",
          "text": [
            "\u001b[34m\u001b[1mwandb\u001b[0m: \u001b[33mWARNING\u001b[0m Ignored wandb.init() arg project when running a sweep.\n",
            "\u001b[34m\u001b[1mwandb\u001b[0m: \u001b[33mWARNING\u001b[0m Ignored wandb.init() arg entity when running a sweep.\n"
          ]
        },
        {
          "data": {
            "text/html": [
              "Tracking run with wandb version 0.12.17"
            ],
            "text/plain": [
              "<IPython.core.display.HTML object>"
            ]
          },
          "metadata": {},
          "output_type": "display_data"
        },
        {
          "data": {
            "text/html": [
              "Run data is saved locally in <code>/content/wandb/run-20220528_215948-8du655gd</code>"
            ],
            "text/plain": [
              "<IPython.core.display.HTML object>"
            ]
          },
          "metadata": {},
          "output_type": "display_data"
        },
        {
          "data": {
            "text/html": [
              "Syncing run <strong><a href=\"https://wandb.ai/sophied/exponentials/runs/8du655gd\" target=\"_blank\">easy-sweep-2</a></strong> to <a href=\"https://wandb.ai/sophied/exponentials\" target=\"_blank\">Weights & Biases</a> (<a href=\"https://wandb.me/run\" target=\"_blank\">docs</a>)<br/>Sweep page:  <a href=\"https://wandb.ai/sophied/exponentials/sweeps/ljd7exqq\" target=\"_blank\">https://wandb.ai/sophied/exponentials/sweeps/ljd7exqq</a>"
            ],
            "text/plain": [
              "<IPython.core.display.HTML object>"
            ]
          },
          "metadata": {},
          "output_type": "display_data"
        },
        {
          "name": "stdout",
          "output_type": "stream",
          "text": [
            "{'method': 'bayes',\n",
            " 'metric': {'goal': 'minimize', 'name': 'branch_loss'},\n",
            " 'parameters': {'ae_layer': {'distribution': 'int_uniform',\n",
            "                             'max': 20,\n",
            "                             'min': 7},\n",
            "                'branch_layer': {'distribution': 'int_uniform',\n",
            "                                 'max': 10,\n",
            "                                 'min': 4},\n",
            "                'branch_weight': {'distribution': 'uniform',\n",
            "                                  'max': 100,\n",
            "                                  'min': 1},\n",
            "                'kl_weight': {'distribution': 'uniform',\n",
            "                              'max': 1,\n",
            "                              'min': 0.001},\n",
            "                'learning_rate': {'distribution': 'uniform',\n",
            "                                  'max': 0.005,\n",
            "                                  'min': 0.0001}}}\n",
            "Create sweep with ID: 5e99jgaj\n",
            "Sweep URL: https://wandb.ai/sophied/exponentials/sweeps/5e99jgaj\n"
          ]
        }
      ],
      "source": [
        "wandb.init(project=\"exponentials\", entity=\"sophied\")\n",
        "sweep_config = {'method': 'bayes'}\n",
        "metric = {'name': 'branch_loss', 'goal': 'minimize'}\n",
        "sweep_config['metric'] = metric\n",
        "parameters_dict = {\n",
        "    'branch_weight': {\n",
        "        'min': 1,\n",
        "        'max': 100,\n",
        "        'distribution': 'uniform'\n",
        "    },\n",
        "    'kl_weight': {\n",
        "        'min': .001,\n",
        "        'max': 1,\n",
        "        'distribution': 'uniform'\n",
        "    },\n",
        "    'learning_rate': {\n",
        "        'min': 0.0001,\n",
        "        'max': 0.005,\n",
        "        'distribution': 'uniform'\n",
        "    },\n",
        "    'ae_layer': {\n",
        "        'min': 7,\n",
        "        'max': 20,\n",
        "        'distribution': 'int_uniform'\n",
        "    },\n",
        "    'branch_layer': {\n",
        "        'min': 4,\n",
        "        'max': 10,\n",
        "        'distribution': 'int_uniform'\n",
        "    }\n",
        "}\n",
        "\n",
        "sweep_config['parameters'] = parameters_dict\n",
        "import pprint\n",
        "pprint.pprint(sweep_config)\n",
        "sweep_id = wandb.sweep(sweep_config, project=\"exponentials\")"
      ]
    },
    {
      "cell_type": "code",
      "execution_count": null,
      "metadata": {
        "id": "C3BgbZT1vme6"
      },
      "outputs": [],
      "source": [
        "class DL:\n",
        "    \"\"\"\n",
        "    A DataLoader-like object for a set of tensors that can be much faster than\n",
        "    TensorDataset + DataLoader because dataloader grabs individual indices of\n",
        "    the dataset and calls cat (slow).\n",
        "    Source: https://discuss.pytorch.org/t/dataloader-much-slower-than-manual-batching/27014/6\n",
        "    \"\"\"\n",
        "    def __init__(self, *tensors, batch_size=32, shuffle=False):\n",
        "        \"\"\"\n",
        "        Initialize a FastTensorDataLoader.\n",
        "        :param *tensors: tensors to store. Must have the same length @ dim 0.\n",
        "        :param batch_size: batch size to load.\n",
        "        :param shuffle: if True, shuffle the data *in-place* whenever an\n",
        "            iterator is created out of this object.\n",
        "        :returns: A FastTensorDataLoader.\n",
        "        \"\"\"\n",
        "        assert all(t.shape[0] == tensors[0].shape[0] for t in tensors)\n",
        "        self.tensors = tensors\n",
        "\n",
        "        self.dataset_len = self.tensors[0].shape[0]\n",
        "        self.batch_size = batch_size\n",
        "        self.shuffle = shuffle\n",
        "\n",
        "        # Calculate # batches\n",
        "        n_batches, remainder = divmod(self.dataset_len, self.batch_size)\n",
        "        if remainder > 0:\n",
        "            n_batches += 1\n",
        "        self.n_batches = n_batches\n",
        "    def __iter__(self):\n",
        "        if self.shuffle:\n",
        "            r = torch.randperm(self.dataset_len)\n",
        "            self.tensors = [t[r] for t in self.tensors]\n",
        "        self.i = 0\n",
        "        return self\n",
        "\n",
        "    def __next__(self):\n",
        "        if self.i >= self.dataset_len:\n",
        "            raise StopIteration\n",
        "        batch = tuple(t[self.i:self.i+self.batch_size] for t in self.tensors)\n",
        "        self.i += self.batch_size\n",
        "        return batch\n",
        "\n",
        "    def __len__(self):\n",
        "        return self.n_batches"
      ]
    },
    {
      "cell_type": "code",
      "execution_count": null,
      "metadata": {
        "id": "22HpCHDMhwxd"
      },
      "outputs": [],
      "source": [
        "def gen_data(A=True, B=True, C=True, D=True, size=10000):\n",
        "  if A==True: \n",
        "    a = np.concatenate((np.random.uniform(low=-3, high=-0.1, size=int(size/2)).tolist(), np.random.uniform(low=0.1, high=3, size=int(size/2))), axis=0)\n",
        "    np.random.shuffle(a)\n",
        "  else:\n",
        "    a = np.full(shape=size, fill_value=1,dtype=float)\n",
        "  if B==True: \n",
        "    b = np.random.uniform(low=1/(euler), high=(euler), size=int(size))\n",
        "    np.random.shuffle(b)\n",
        "  else:\n",
        "    b = np.full(shape=size, fill_value=euler,dtype=float)\n",
        "  if C==True: \n",
        "    c = np.random.uniform(low=-3, high=3, size=size).tolist()\n",
        "  else:\n",
        "    c = np.full(shape=size, fill_value=0,dtype=float)\n",
        "  if D==True: \n",
        "    d = np.random.uniform(low=-euler, high=euler, size=size)\n",
        "  else:\n",
        "    d = np.full(shape=size, fill_value=0,dtype=float)\n",
        "  mlist = []\n",
        "  for i, t in enumerate(a):\n",
        "    mlist.append([a[i]*(b[i]**(x-d[i]))+c[i] for x in np.arange(-euler,euler,euler/50)])\n",
        "  data = pd.DataFrame(mlist)\n",
        "\n",
        "  data['a'] = a\n",
        "  data['b'] = b\n",
        "  data['c'] = c\n",
        "  data['d'] = d\n",
        "  return data\n",
        "\n",
        "def norm(t):\n",
        "  # return (t-torch.mean(t))/torch.std(t)\n",
        "  return (t-torch.min(t))/(torch.max(t)-torch.min(t))\n",
        "\n",
        "def plot_data(data):\n",
        "  x1 = [x for x in np.arange(-euler, euler, euler/50)]\n",
        "  for index, row in data.drop(columns=['a', 'b', 'c', 'd']).iterrows():\n",
        "    plt.plot(x1, row) \n",
        "  plt.ylim(-10, 10)\n",
        "  plt.xlim(-euler, euler-euler/50)\n",
        "\n",
        "def split_data(data): \n",
        "  msk = np.random.rand(len(data)) < 0.8\n",
        "  train = data[msk]\n",
        "  test = data[~msk]\n",
        "  msk2 = np.random.rand(len(test)) < 0.8\n",
        "  validate = test[~msk2]\n",
        "  test = test[msk2]\n",
        "\n",
        "  train_data = torch.tensor(train.values, requires_grad=True, dtype=torch.float32)\n",
        "  test_data = torch.tensor(test.values, requires_grad=True, dtype=torch.float32)\n",
        "  validate_data = torch.tensor(validate.values, requires_grad=True, dtype=torch.float32)\n",
        "\n",
        "  trains = {\n",
        "  'X': norm(train_data[:, :100]),\n",
        "  'A': norm(train_data[:, 100:101].unsqueeze(dim=1)),\n",
        "  'B': norm(train_data[:, 101:102].unsqueeze(dim=1)),\n",
        "  'C': norm(train_data[:, 102:103].unsqueeze(dim=1)),\n",
        "  'D': norm(train_data[:, 103:].unsqueeze(dim=1))\n",
        "  }\n",
        "\n",
        "  tests = {\n",
        "  'X': norm(test_data[:, :100]),\n",
        "  'A': norm(test_data[:, 100:101].unsqueeze(dim=1)),\n",
        "  'B': norm(test_data[:, 101:102].unsqueeze(dim=1)),\n",
        "  'C': norm(test_data[:, 102:103].unsqueeze(dim=1)),\n",
        "  'D': norm(test_data[:, 103:].unsqueeze(dim=1))\n",
        "  }\n",
        "\n",
        "  X_val = validate_data[:, :100].mul(0.1)\n",
        "  Exp_val = validate_data[:, 100:101].unsqueeze(dim=1)\n",
        "  Coef_val = validate_data[:, 101:].unsqueeze(dim=1)\n",
        "  return trains, tests"
      ]
    },
    {
      "cell_type": "code",
      "execution_count": null,
      "metadata": {
        "colab": {
          "base_uri": "https://localhost:8080/",
          "height": 269
        },
        "id": "F3RKI8XpkGOH",
        "outputId": "fca715a1-1b65-45a4-b839-02daa28dc83d"
      },
      "outputs": [
        {
          "data": {
            "image/png": "[encoded data removed]",
            "text/plain": [
              "<Figure size 432x288 with 1 Axes>"
            ]
          },
          "metadata": {},
          "output_type": "display_data"
        }
      ],
      "source": [
        "data = gen_data(A=True, B=True, C=True, D=True)\n",
        "trains, tests = split_data(data)\n",
        "plot_data(data)"
      ]
    },
    {
      "cell_type": "code",
      "execution_count": null,
      "metadata": {
        "id": "1oylHPwTuiQy"
      },
      "outputs": [],
      "source": [
        "# class Calico(torch.nn.Module):\n",
        "#   def __init__(self, latent_dim, ae_layer, branch_layer, end_dim):\n",
        "#     super().__init__()\n",
        "#     self.encoder = torch.nn.Sequential(\n",
        "#         torch.nn.Linear(100, ae_layer),\n",
        "#         torch.nn.ReLU(),\n",
        "#         torch.nn.Linear(ae_layer, latent_dim)\n",
        "#     )\n",
        "#     self.decoder = torch.nn.Sequential(\n",
        "#         torch.nn.ReLU(),\n",
        "#         torch.nn.Linear(latent_dim, ae_layer),\n",
        "#         torch.nn.ReLU(),\n",
        "#         torch.nn.Linear(ae_layer, 100),\n",
        "#         torch.nn.Sigmoid()\n",
        "#     )\n",
        "#     self.branch = torch.nn.Sequential(\n",
        "#         torch.nn.ReLU(),\n",
        "#         torch.nn.Linear(latent_dim, branch_layer),\n",
        "#         torch.nn.ReLU(),\n",
        "#         torch.nn.Linear(branch_layer, end_dim),\n",
        "#         torch.nn.Sigmoid()\n",
        "#     )\n",
        "\n",
        "#   def reparameterize(self, mu, log_var):\n",
        "#     std = torch.exp(0.5*log_var)\n",
        "#     eps = torch.randn_like(std)\n",
        "#     sample = mu + (eps * std)\n",
        "#     return sample\n",
        "\n",
        "#   def forward(self, x):\n",
        "#     ls = self.encoder(x)#.unsqueeze(dim=2)\n",
        "\n",
        "#     mu = ls[:, 0] \n",
        "#     log_var = ls[:, 1]\n",
        "\n",
        "#     ls = self.reparameterize(mu, log_var)\n",
        "#     return ls, self.decoder(ls), self.branch(ls)"
      ]
    },
    {
      "cell_type": "code",
      "execution_count": null,
      "metadata": {
        "id": "VCExjZsykC_n"
      },
      "outputs": [],
      "source": [
        "class Calico(torch.nn.Module):\n",
        "    def __init__(self, latent_dim, ae_layer, branch_layer, end_dim):\n",
        "        super().__init__()\n",
        " \n",
        "        self.enc1 = torch.nn.Linear(in_features=100, out_features=ae_layer)\n",
        "        self.enc2 = torch.nn.Linear(in_features=ae_layer, out_features=latent_dim*2)\n",
        " \n",
        "        self.dec1 = torch.nn.Linear(in_features=latent_dim, out_features=ae_layer)\n",
        "        self.dec2 = torch.nn.Linear(in_features=ae_layer, out_features=100)\n",
        "        self.latent_dim = latent_dim\n",
        "\n",
        "        self.branch1 = torch.nn.Linear(in_features=latent_dim, out_features=branch_layer)\n",
        "        self.branch2 = torch.nn.Linear(in_features=branch_layer, out_features=end_dim)\n",
        "\n",
        "    def reparameterize(self, mu, sigma):\n",
        "        std = torch.exp(sigma/2)\n",
        "        epsilon = torch.randn_like(std)\n",
        "        sample = mu + (epsilon * std) \n",
        "        return sample\n",
        " \n",
        "    def forward(self, x):\n",
        "        x = torch.nn.functional.relu(self.enc1(x))\n",
        "        x = self.enc2(x)\n",
        "        x = x.view(-1, 2, self.latent_dim)\n",
        "\n",
        "        mu = x[:, 0, :] # mean\n",
        "        sigma = x[:, 1, :] # variance\n",
        "\n",
        "        ls = self.reparameterize(mu, sigma)\n",
        " \n",
        "        # decoding\n",
        "        x = torch.nn.functional.relu(self.dec1(ls))\n",
        "        reconstruction = torch.sigmoid(self.dec2(x))\n",
        "        \n",
        "        #branch\n",
        "        preds = torch.nn.functional.relu(self.branch1(ls))\n",
        "        preds = torch.sigmoid(self.branch2(preds))\n",
        "\n",
        "        return ls, reconstruction, preds, mu, sigma"
      ]
    },
    {
      "cell_type": "code",
      "execution_count": null,
      "metadata": {
        "id": "kWTVYxKxvfQw"
      },
      "outputs": [],
      "source": [
        "\n",
        "def train(x=trains['X'], a=torch.cat((trains['A'], trains['B'], trains['C'], trains['D']), axis=1)):\n",
        "  with wandb.init(config=None):\n",
        "    config = wandb.config\n",
        "    model = Calico(10, config.ae_layer, config.branch_layer, 4)\n",
        "    wandb.log({'vars': 'A+B+C+D'})\n",
        "    optimizer = torch.optim.Adam(model.parameters(), lr=config.learning_rate)\n",
        "    train_batches = DL(x, a, batch_size=64, shuffle=False)\n",
        "    for epoch in range(30):\n",
        "      for idx, batch in enumerate(train_batches):\n",
        "        optimizer.zero_grad()\n",
        "        ls, recon, pred, mu, sigma = model(batch[0])\n",
        "        recon_loss = torch.nn.MSELoss()(recon, batch[0])\n",
        "        branch_loss = torch.nn.MSELoss()(pred.squeeze(), batch[1].squeeze())\n",
        "        kl = torch.nn.KLDivLoss(reduction='sum')(torch.nn.functional.log_softmax(pred.squeeze(), -1), batch[1].squeeze())#self.kl(mu, sigma)\n",
        "        loss = recon_loss + config.branch_weight*branch_loss + config.kl_weight*kl\n",
        "        loss.backward(retain_graph=True)\n",
        "        optimizer.step()\n",
        "        wandb.log({'loss': loss, 'recon_loss': recon_loss, 'branch_loss': branch_loss, 'kl': kl})"
      ]
    },
    {
      "cell_type": "code",
      "execution_count": null,
      "metadata": {
        "colab": {
          "background_save": true,
          "base_uri": "https://localhost:8080/",
          "height": 1000,
          "referenced_widgets": [
            "e0b5b4d5806146e19da8a55b66861f37",
            "c1d17547758d4d2280871fb57cdc5c45",
            "2107f5d3081f4011ae7e62ef837ba681",
            "0e7d15bee15d415b941be878cc305369",
            "f603bdd4e9414c07ae21ca887139999b",
            "46c10c2bc0a44d1f8015aff07610eceb",
            "497f187a61a24b0f985327f7f3784877",
            "063e57135d984dd08fb83315e4ef6a6e",
            "a40e0a372b7c46118c19b2c95614111d",
            "e5c4a3bf941c4853a4e0d40a84fdb64e",
            "c6d8503c11f141038a5131752cd59ffc",
            "e5834b5d01c64b5c862dd61304d3f1ab",
            "f905546de550408b9858837668d793cd",
            "c5abdafc28cd4856965cc85db0d6d3ab",
            "87b00b2785674c57b0b4ca129f85dc88",
            "63de53e832f74d94a23c13825c9ea14b",
            "d13ca2793aa24a9e94fefd629c4ed798",
            "2d79bde4308044f5b655f870fd9cc823",
            "9d985d0406854c619d594ae20a10a6b9",
            "f5938dd8e08f4fbb8a18064d81fbffaa",
            "c40f18dd2f834b6684dce77c0440b879",
            "e928d662fd734dde9303edfafc131000",
            "f511e7f6d277488ea67eaa15536079e6",
            "23fd72373ac14d86ba2932392f516405",
            "ee96d074356e4370ab83b0963f4d9dc2",
            "ab090e7051d24e99b718b7882e0a6994",
            "ee0c89f7b3304f489c2a06ede4550075",
            "d14b70c2060e4b24ad9369e58a9b1cb7",
            "5d088203116a4b8fa64c5fe84b57600c",
            "cb90ac3971664c3491351fdb89ab74ed",
            "e98be2d306b6474487eac45df736e207",
            "df414982669d415f8616ffb91d9ad045",
            "c1ec5ff2571f43eea4c2db7d346fd3d2",
            "5c04e8267bac4acb830a3db65d847d92",
            "0051d017caf84526a0d9b1d3c4866635",
            "bd18ab8b908740f4960401a6eea5d8c3",
            "18e8fd9edf714f55a3d8598b8ffe5463",
            "7899e1db4abd4a44a9f59d6f70660a48",
            "45e98cf09d4e4a51bf2894ab6f2b5f88",
            "6841e8c17c5348099373553a171df7b6",
            "d3d1f29faa384a33aab21a053c820291",
            "db838510361c4acc90f116c7bf1222c1",
            "6110ce97ae6547948b57affb008138a8",
            "8a56ae7be7c3421399851d92f042557f",
            "8ce4cc8b01244956958bb3a25f8d3c04",
            "b1d4fa6248ca4ab9a2c69615528819ca",
            "32c0fd31ee6649788d3f42279d45f937",
            "9cbe280d97414106a069d684cd96b205",
            "1a42418b343448339c037b6f5cd9b509",
            "811b6896d326492296def400203eb8d4",
            "eaeaa9577c90464ba30cf1b865de2e3d",
            "04f004d28c684b669844abb548c08c22",
            "7c4bcc9a6bd74c56b99268f8c6e65f14",
            "cdb0bca521e341f99c2f428601cae0c6",
            "e147d219277b40ec8ef907ad01c41e69",
            "47e91d54b62541a7b1f96db8a429bd03",
            "ee37bdf8f3d54ab591feb386b482f7eb",
            "82186c81c6d346958ea974d7a03debd6",
            "80b293c34b86413a8a18c1b1b8214903",
            "2ccf31cf61eb491fa0b5c9426d2ef241",
            "e2c9f028cbee40c78d234c9fdb3c4a03",
            "d24d9daced3041b98a3ec5bb5067febb",
            "5d2d6a7dce344c7ba2b632ea2a2cff25",
            "dd7fdd8eca5a416eb5eef8992f64ed89",
            "b8bb90a08e3c471aa0c3287ae22c959b",
            "ae044b9ef7334e5bb1f5e33db19696cb",
            "89e047d97b7f48b2b651bc39b14de2bb",
            "e002ede748cc4f1c80dceb6f5fd4355e",
            "183d6131e4af46b0b4b0d9984b72e572",
            "c47fbbaf89dc41efb3860ad1e90f2354",
            "4df464a71d1a4ae7a477ab896f1267cd",
            "20e9b221af5143d7b5f1843edb913fbd",
            "0e8d0369675845c58f34dfa438adf1f4",
            "d603e39db84f4244a64947bda7b5ad2f",
            "d182ac116e1e43a1bf0d1115c23da5c6",
            "7d0bd7bd596e46759a5b2c4c7972083f",
            "6325acc936c44b3b8c1bc06a9dfd63b7",
            "c704154a2d2647c1afabb9a1e74bf868",
            "0e33763c82c946a592058161b2146e76",
            "00a3f652fff74b2399809c1794b3a950",
            "51246c1b6b4c4c8cbb160abc599f9eb7",
            "f2bdc7112b234a1cb49b9768c7753855",
            "8d5a6e628a3b4b3b82ffbf1d55d9c7c4",
            "47f0f504647f4ebdab261028f1a2bf5e",
            "0aab280feae246178b404973f3533c28",
            "0fe76597c25c4532a33452ca07abdfee",
            "285a32e8ce0c40dc8c089560040e8c50",
            "b8d4c651035944c88c74b77ad2480c2b",
            "503e2e2d48e04062ab68473558d75ad3",
            "430d3caf51c140269e5a051d41f4b0fc",
            "ed01318b11aa4a599214b31ec2692f23",
            "f59ae748f74f4eb7acda483c8256f320",
            "24e3356080b64ab1be16438ff008ec86",
            "33bc36a6661242b19f0a4183a8a69196",
            "cfe0ee53f9d5481ab3883528698da27a",
            "8e18905611ae451f8c284fd5c98ca10e",
            "ccde29e408bf4b1eab1eb5515db9272a",
            "1b10fc2580a74aeba1e71c277e434159",
            "2664b14d06194da2b7e2e64f470e4e42",
            "2cf68ef5507a48d494e5eacae4fb01d4",
            "b85284f3ce654685a95d3c2e7af9cdb2",
            "108723e43abb4da18a8659a434cfc9c7",
            "ed0331e8bf2f4a9e98e3357720156760",
            "f3f4108387bb47df80ae1c65ae261274",
            "566f98bc71bc4dc09d9a1305516fed01",
            "625a387baa0e454182ca3438f49ae1c9",
            "c78b588af7244f108ce969b6589da135",
            "aa2e9317eb744bb794b550afdf29803f",
            "b8a401eab66446ecba5f67dc0513af2d",
            "3d5a257b1db9411c8d5728352ba36178",
            "f9b55732d73042ac8b5788a7ba7fd13b",
            "f6763434694e493aa1dcdb627385ab88",
            "f4be9cd8c5a24a198d132b956cf6af5e",
            "63c68ef5e2894d338847f7acc63805d0",
            "602ce2cd6edf41159c2d0fb284d7b118",
            "81e931851276420ab082de7776b77cff",
            "8912748f2232409baa206a99e14680a0",
            "ce366be0b3f44c79b168897888d3e33a",
            "0f4aff97265c43ffb7111f8f8ce4adb5",
            "4a1125c9b8294969ad4b67ee21f7a32c",
            "249a6e63581c4aaaa248f88ef1750a14",
            "00c62bfffb5e4532a30eced70c5c07f9",
            "91a95985fd3149d3bb692bb01774479d",
            "a12c7dde79514cfbb3207f761b933d02",
            "43e5707e5db04f868cdf197a3adbb7dd",
            "8dfc78e14cf84ea3a9b1234f26b278c7",
            "8f44516f17684e9ba9c6689a627a6797",
            "d08017603ed7413db89f64e4a94c3479",
            "adc52bbc39ee44558f8052d4ab0cadf4",
            "321ffe9f3dbf491f9b51fb933bb5a2f0",
            "840194c93d934dba9ef52b06a7a1b145",
            "c9ca545a5f0641d5bcd8fc3b9d1bfb3b",
            "5d03cd6ca18d42cdbd525152e46a4342",
            "915ad1517d1d406d9e43c159e248bc8e",
            "ee8aeec87f1b4a2ab76ab488a11da223",
            "19182e31e50b403f9648da4cd3c7ad45",
            "ca3830a9d8654d97944246e0f62f1589",
            "6aed5bcb1e6e45008ba6d25ac5c0a6c8",
            "a18b09bce6b34368befcc6d439eb2968",
            "b801ab4350784c0098daeb80330272a7",
            "59f9c978c1b6474593569de29957fc70",
            "3eb68411a5364caebcf715a82451929b",
            "effc6e31da2d4968973cbf9ce48af9b0",
            "9f9fd2cc0b604daeade25d5ae9615462",
            "d7842ed854da4a23835742c8a8c2d2be",
            "cc4cfbb6c99d4411829204f371c48912",
            "bef6a2e9b62142e988fa7f95a11b0318",
            "a6a9527db00149a6bb3318bc5e658580",
            "a5aee57400104014be8740bcbd4b22f7",
            "5045b7a92fda49a09e934715065ad2f2",
            "f1f1f57b2e374ead822775f6bbf7b06b",
            "b6d040221da94f9f9971f39e0393314e",
            "103941d55de34ca4821f6a3d866ef143",
            "f8392c7127024ae4a75f9a14a42c9f4d",
            "8d122c3ca249437ea64ce684ee70e2a5",
            "eeb0b790132c44378fc4b5377dacfec0",
            "36e6d1e68f844e1ebec6ead02266a5ee",
            "30e920c235f04e4188c46763c2c99e1b",
            "8b1602365e77495490718cd18c060a94",
            "fa71bebb91a24fa4aa18f82edb91031f",
            "5f202a8e19ae4824bed6e4b1c292342a",
            "0efb3656d0eb46f39fc2bdbbf0e84175",
            "cdfacdd7542f432bbf594e223489dcdf",
            "9769c731fdad41cca6ed9b72d5dff22f",
            "cafc98a2a04d4571b71ad4931f10dbca",
            "815dc0d771b34e469d745986715d353d",
            "c6862e17e15c42cf9165c87e9db4a6a1",
            "bf114f7a0dd74a7d9e304a924d029604",
            "7c396dc441054d53be359f252d7da7fc",
            "b8ca777145314448890a76c917f993a5",
            "55818a2263374c2a887841b4a7e792c3",
            "34b99805b93e474aa118e9f9a205fd70",
            "f910e97216f14cee97a2acd3ef95c2c2",
            "b4dca91ff6e24e00a4c8bd152791d01d",
            "3dd4d2ded31a4c33bd79f9a87e307578",
            "1681e50db5f54d18956483ae2fb012b1",
            "c8167a8507524b1d9356a94496400ce5",
            "d36db851d01043178e4f80467050af26",
            "7d32bc35434f433793b3791bf7320f74",
            "ad9547688cb84f7cb81e9e7868991baf",
            "2967348e60c946eda75f3fdde40630a0",
            "3653042f67714efb9035b280418cea6a",
            "8d278945055e4c3e94635fa5dc38f63f",
            "1919a3a7a54a4572a3a16698bcec7853",
            "79f389fe04034fc9a67a5f748e1ceea0",
            "463c4a2e877f44a6b424f6a128f789e2",
            "c137a47624804cad90f8bd2021e52a78",
            "d55496cf687241c284e205fded47d95a",
            "f1f1e0f2fdd744d1ac76643731a520c9",
            "6144be84c64647469a285ce6b3b863e3",
            "341732dda8b844899348382c64c7707a",
            "a84df2021ef54e79b901d4cb8f1142b2",
            "650f88ef032d416ab8604aa31c12f91b",
            "8bf93ab1c5284d60af65c9d8d5f1a546",
            "78342a5670444d0b936908da936f8f91",
            "ea1b2b46aa5d4dfc87cb317f36963031",
            "58290fc2414040618ed243c2cde7506a",
            "ffbdf902c2214935833f67a162471ba2",
            "0abeca5156734c7283fb061749d442fc",
            "94e1872c085b4a50a8941f360d0383cd",
            "58b47451faa54f3dbdfb07dcb6f43f71",
            "eee23941d9674b05b737b8305aeb4b13",
            "9fbe9eb70d89460297efa1d832d142ad",
            "e9b2ba0253cd488da241ae6a8db3846a",
            "6e93e92526ca4f7c8841e0604dbc04f3",
            "e979bbacdc1c4e339525c7a83f9dff5a",
            "12e390794cea442b85294e425032ebe8",
            "c8ead56d5cbf44c3804c8dba501cd667",
            "a571918b972e45ffb19d2cc722cbd2a0",
            "813021519aa74fcb8c73e8b537af6f9f",
            "22c0682b12fd483785b5fb220bc3c109",
            "475f5e4e54dd430a97112106881c24d4",
            "4f9afc02411947ffab8fcbee88b952da",
            "a883e0b955584e66ac33315731fc55fd",
            "41632cd365034637a802c0c9c85c47b4",
            "f4201bcc83d14dbd8e5c958c169e454e",
            "2bf7e2cb20194a9d91d0a2c025dd4a58",
            "f618e6c2c0c94ff6bdcbba46a46d32f6",
            "9b2516edb4b84b50a88f85fbcee9d2f3",
            "d1b1b6d63b584f8f923901f7879c4236",
            "f606c45c789d4a84907a1532e0808cca",
            "448b534c75ee4a7f870096c751bcf4a4",
            "6745d5cb2c314c30b065638d08b84344",
            "2384a0ae6db94eebb5996889c4f906ac",
            "fa0c7102a3ad46b1885ce7407a05f746",
            "a1a1db81e853468aa5c3349c4992c00e",
            "59ef3cafc3c4489f9634ec14977146b1",
            "b9aa70d3b05c4fbca060f32328cba164",
            "57c838a409b342c699a3019000e48295",
            "d7e6d86ba78e45cfbe601ff58a1cd88d",
            "a630b998f05a4093aa443de4e004d883",
            "cb1006f80c044be4914826220de0bf2a",
            "6ac7f23a6ada4dada30e9163aaf6a11c",
            "3a4f05d58c794108bfd3129a20977010",
            "d8c09f59958c4724ba4615ae9e212ee7",
            "fba408f940764f9e96d1aec78ff8f0d4",
            "a04b8d16311146d390d8f1c61df8acab",
            "4daf486de0284709a5fd169cbd051adc",
            "faa5e01da3494fc3b7dcecfd91fb124f",
            "14914c80f4a24ae5aebd18bc651edc6c",
            "4a0fa1c5356148acb1cb2f68788df8b5",
            "e494afcb69ba4db693a268884f3c08ca",
            "4f9ad66584794f5296650ee19f066374",
            "a435164101124af885bcfad8c1c41a73",
            "3a2fdf5217134439a33b8d38a93d99c8",
            "4c2265180f624702bd5daeea0d28eb01",
            "98977b5d30e54703b9b81a1e47252371",
            "66388fb5f2fa45488f8483110b20e4f4",
            "2b45aa962d3f4081abaa3e9400d96517",
            "876a644894164db8a78d7cef8d1a0df8",
            "004da51d715041848df6bd161334ffcc",
            "5093eeb46acc490188a87bf43047a1ac",
            "86e82a1bb9c44d23a46d20b71740c6df",
            "916245db3e7246f1afe6e96172502e4a",
            "169f12547321482ba34dec3654629ec3",
            "11675dd0249944ca9fd9bd9477e7b0e4",
            "03ed2d547a7e42abb7adcf07e3c5f769",
            "c4430b82c8a94bb59d8549de89bf8df5",
            "bfccc26f41364c5fad924d68f0684888",
            "a8c91b4bdfbd434195811164739b826a",
            "7e6a3091a3e4435285c54b5e1fcae8e3",
            "fd7e4eceb879476683ac0b8f8f5a36d0",
            "5c2c9e5bfb8c4995845fcd82a6271c01",
            "787cfccdf5ad44b7acdb20b3d75927a6",
            "4865a457c34a4f62890c549de4aa83d4",
            "cbea1319eea54b37ad12f19090a91c60",
            "be8abc5950db4ca084c5a8baef1d4f26",
            "ae803c257fcf494dad415e25ac058e06",
            "2fd45689864c4df0a55c5db6592c6a04",
            "99dd46b15cb147bba5d2d228aa521791",
            "310fbcaf7f784de79f2f678490cb101a",
            "81a24d0370314977beb8d4bcd5f43dda"
          ]
        },
        "id": "Sm5T0qHLvtbN",
        "outputId": "4233f1e5-dd3f-479c-b134-8479bcaf5a13"
      },
      "outputs": [
        {
          "name": "stderr",
          "output_type": "stream",
          "text": [
            "\u001b[34m\u001b[1mwandb\u001b[0m: \u001b[33mWARNING\u001b[0m Calling wandb.login() after wandb.init() has no effect.\n",
            "\u001b[34m\u001b[1mwandb\u001b[0m: Agent Starting Run: s85jzx6g with config:\n",
            "\u001b[34m\u001b[1mwandb\u001b[0m: \tae_layer: 11\n",
            "\u001b[34m\u001b[1mwandb\u001b[0m: \tbranch_layer: 7\n",
            "\u001b[34m\u001b[1mwandb\u001b[0m: \tbranch_weight: 11.842802074203842\n",
            "\u001b[34m\u001b[1mwandb\u001b[0m: \tkl_weight: 0.365869298614495\n",
            "\u001b[34m\u001b[1mwandb\u001b[0m: \tlearning_rate: 0.00042077996561355985\n"
          ]
        },
        {
          "data": {
            "text/html": [
              "Tracking run with wandb version 0.12.17"
            ],
            "text/plain": [
              "<IPython.core.display.HTML object>"
            ]
          },
          "metadata": {},
          "output_type": "display_data"
        },
        {
          "data": {
            "text/html": [
              "Run data is saved locally in <code>/content/wandb/run-20220528_215958-s85jzx6g</code>"
            ],
            "text/plain": [
              "<IPython.core.display.HTML object>"
            ]
          },
          "metadata": {},
          "output_type": "display_data"
        },
        {
          "data": {
            "text/html": [
              "Syncing run <strong><a href=\"https://wandb.ai/sophied/exponentials/runs/s85jzx6g\" target=\"_blank\">tough-sweep-1</a></strong> to <a href=\"https://wandb.ai/sophied/exponentials\" target=\"_blank\">Weights & Biases</a> (<a href=\"https://wandb.me/run\" target=\"_blank\">docs</a>)<br/>Sweep page:  <a href=\"https://wandb.ai/sophied/exponentials/sweeps/5e99jgaj\" target=\"_blank\">https://wandb.ai/sophied/exponentials/sweeps/5e99jgaj</a>"
            ],
            "text/plain": [
              "<IPython.core.display.HTML object>"
            ]
          },
          "metadata": {},
          "output_type": "display_data"
        },
        {
          "data": {
            "text/html": [
              "Waiting for W&B process to finish... <strong style=\"color:green\">(success).</strong>"
            ],
            "text/plain": [
              "<IPython.core.display.HTML object>"
            ]
          },
          "metadata": {},
          "output_type": "display_data"
        },
        {
          "data": {
            "application/vnd.jupyter.widget-view+json": {
              "model_id": "e0b5b4d5806146e19da8a55b66861f37",
              "version_major": 2,
              "version_minor": 0
            },
            "text/plain": [
              "VBox(children=(Label(value='0.000 MB of 0.000 MB uploaded (0.000 MB deduped)\\r'), FloatProgress(value=1.0, max…"
            ]
          },
          "metadata": {},
          "output_type": "display_data"
        },
        {
          "data": {
            "text/html": [
              "<style>\n",
              "    table.wandb td:nth-child(1) { padding: 0 10px; text-align: left ; width: auto;} td:nth-child(2) {text-align: left ; width: 100%}\n",
              "    .wandb-row { display: flex; flex-direction: row; flex-wrap: wrap; justify-content: flex-start; width: 100% }\n",
              "    .wandb-col { display: flex; flex-direction: column; flex-basis: 100%; flex: 1; padding: 10px; }\n",
              "    </style>\n",
              "<div class=\"wandb-row\"><div class=\"wandb-col\"><h3>Run history:</h3><br/><table class=\"wandb\"><tr><td>branch_loss</td><td>▄▇▃▄▄▃█▇▄▃▃█▅▄▅▅▅▃▅▇▇▅▄▆▇█▃▃▅▃▅▃▁▄▆▂▃▄▆▂</td></tr><tr><td>kl</td><td>▄▄▃▃▆▂▅▄█▅▃▂▃▂▃▆▃▄▃▃▄▄▅▂█▄▃▆▄▄▃▅▆▃▄▁▅▃▅▅</td></tr><tr><td>loss</td><td>▄▄▃▃▆▂▅▄█▅▃▂▃▂▃▆▃▄▃▃▄▄▅▂█▄▃▆▄▄▃▅▆▃▄▁▅▃▅▅</td></tr><tr><td>recon_loss</td><td>█▅▃▃▂▂▂▁▁▁▁▁▂▁▁▁▁▁▁▁▁▁▁▁▂▁▁▁▁▁▁▁▁▁▁▁▁▁▁▁</td></tr></table><br/></div><div class=\"wandb-col\"><h3>Run summary:</h3><br/><table class=\"wandb\"><tr><td>branch_loss</td><td>0.08921</td></tr><tr><td>kl</td><td>93.50218</td></tr><tr><td>loss</td><td>35.26619</td></tr><tr><td>recon_loss</td><td>0.00011</td></tr><tr><td>vars</td><td>A+B+C+D</td></tr></table><br/></div></div>"
            ],
            "text/plain": [
              "<IPython.core.display.HTML object>"
            ]
          },
          "metadata": {},
          "output_type": "display_data"
        },
        {
          "data": {
            "text/html": [
              "Synced <strong style=\"color:#cdcd00\">tough-sweep-1</strong>: <a href=\"https://wandb.ai/sophied/exponentials/runs/s85jzx6g\" target=\"_blank\">https://wandb.ai/sophied/exponentials/runs/s85jzx6g</a><br/>Synced 4 W&B file(s), 0 media file(s), 0 artifact file(s) and 0 other file(s)"
            ],
            "text/plain": [
              "<IPython.core.display.HTML object>"
            ]
          },
          "metadata": {},
          "output_type": "display_data"
        },
        {
          "data": {
            "text/html": [
              "Find logs at: <code>./wandb/run-20220528_215958-s85jzx6g/logs</code>"
            ],
            "text/plain": [
              "<IPython.core.display.HTML object>"
            ]
          },
          "metadata": {},
          "output_type": "display_data"
        },
        {
          "name": "stderr",
          "output_type": "stream",
          "text": [
            "\u001b[34m\u001b[1mwandb\u001b[0m: Agent Starting Run: ux9cu573 with config:\n",
            "\u001b[34m\u001b[1mwandb\u001b[0m: \tae_layer: 19\n",
            "\u001b[34m\u001b[1mwandb\u001b[0m: \tbranch_layer: 4\n",
            "\u001b[34m\u001b[1mwandb\u001b[0m: \tbranch_weight: 8.525108932716588\n",
            "\u001b[34m\u001b[1mwandb\u001b[0m: \tkl_weight: 0.11694481830039806\n",
            "\u001b[34m\u001b[1mwandb\u001b[0m: \tlearning_rate: 0.004071797001224831\n"
          ]
        },
        {
          "data": {
            "text/html": [
              "Tracking run with wandb version 0.12.17"
            ],
            "text/plain": [
              "<IPython.core.display.HTML object>"
            ]
          },
          "metadata": {},
          "output_type": "display_data"
        },
        {
          "data": {
            "text/html": [
              "Run data is saved locally in <code>/content/wandb/run-20220528_220300-ux9cu573</code>"
            ],
            "text/plain": [
              "<IPython.core.display.HTML object>"
            ]
          },
          "metadata": {},
          "output_type": "display_data"
        },
        {
          "data": {
            "text/html": [
              "Syncing run <strong><a href=\"https://wandb.ai/sophied/exponentials/runs/ux9cu573\" target=\"_blank\">honest-sweep-2</a></strong> to <a href=\"https://wandb.ai/sophied/exponentials\" target=\"_blank\">Weights & Biases</a> (<a href=\"https://wandb.me/run\" target=\"_blank\">docs</a>)<br/>Sweep page:  <a href=\"https://wandb.ai/sophied/exponentials/sweeps/5e99jgaj\" target=\"_blank\">https://wandb.ai/sophied/exponentials/sweeps/5e99jgaj</a>"
            ],
            "text/plain": [
              "<IPython.core.display.HTML object>"
            ]
          },
          "metadata": {},
          "output_type": "display_data"
        },
        {
          "data": {
            "text/html": [
              "Waiting for W&B process to finish... <strong style=\"color:green\">(success).</strong>"
            ],
            "text/plain": [
              "<IPython.core.display.HTML object>"
            ]
          },
          "metadata": {},
          "output_type": "display_data"
        },
        {
          "data": {
            "application/vnd.jupyter.widget-view+json": {
              "model_id": "a40e0a372b7c46118c19b2c95614111d",
              "version_major": 2,
              "version_minor": 0
            },
            "text/plain": [
              "VBox(children=(Label(value='0.000 MB of 0.000 MB uploaded (0.000 MB deduped)\\r'), FloatProgress(value=1.0, max…"
            ]
          },
          "metadata": {},
          "output_type": "display_data"
        },
        {
          "data": {
            "text/html": [
              "<style>\n",
              "    table.wandb td:nth-child(1) { padding: 0 10px; text-align: left ; width: auto;} td:nth-child(2) {text-align: left ; width: 100%}\n",
              "    .wandb-row { display: flex; flex-direction: row; flex-wrap: wrap; justify-content: flex-start; width: 100% }\n",
              "    .wandb-col { display: flex; flex-direction: column; flex-basis: 100%; flex: 1; padding: 10px; }\n",
              "    </style>\n",
              "<div class=\"wandb-row\"><div class=\"wandb-col\"><h3>Run history:</h3><br/><table class=\"wandb\"><tr><td>branch_loss</td><td>▄▆▂▅▃▄█▇▄▄▃█▆▄▅▅▅▃▆▇▇▆▄▆▇█▃▃▅▃▅▃▁▄▇▂▃▄▆▂</td></tr><tr><td>kl</td><td>▄▄▃▃▆▂▅▄█▅▃▂▃▂▃▆▃▄▃▃▄▄▅▂█▄▃▆▄▄▃▅▆▃▄▁▅▃▅▅</td></tr><tr><td>loss</td><td>▄▄▃▃▆▂▅▄█▅▃▂▃▂▃▆▃▄▃▃▄▄▅▂█▄▃▆▄▄▃▅▆▃▄▁▅▃▅▅</td></tr><tr><td>recon_loss</td><td>▅▂▂▂▂▂▂▂▂▃▃▁▅▃▁▃▂▂▃▃▄▁▁▁█▃▂▂▂▁▃▁▁▂▄▂▁▁▁▂</td></tr></table><br/></div><div class=\"wandb-col\"><h3>Run summary:</h3><br/><table class=\"wandb\"><tr><td>branch_loss</td><td>0.08946</td></tr><tr><td>kl</td><td>93.52229</td></tr><tr><td>loss</td><td>11.69967</td></tr><tr><td>recon_loss</td><td>9e-05</td></tr><tr><td>vars</td><td>A+B+C+D</td></tr></table><br/></div></div>"
            ],
            "text/plain": [
              "<IPython.core.display.HTML object>"
            ]
          },
          "metadata": {},
          "output_type": "display_data"
        },
        {
          "data": {
            "text/html": [
              "Synced <strong style=\"color:#cdcd00\">honest-sweep-2</strong>: <a href=\"https://wandb.ai/sophied/exponentials/runs/ux9cu573\" target=\"_blank\">https://wandb.ai/sophied/exponentials/runs/ux9cu573</a><br/>Synced 4 W&B file(s), 0 media file(s), 0 artifact file(s) and 0 other file(s)"
            ],
            "text/plain": [
              "<IPython.core.display.HTML object>"
            ]
          },
          "metadata": {},
          "output_type": "display_data"
        },
        {
          "data": {
            "text/html": [
              "Find logs at: <code>./wandb/run-20220528_220300-ux9cu573/logs</code>"
            ],
            "text/plain": [
              "<IPython.core.display.HTML object>"
            ]
          },
          "metadata": {},
          "output_type": "display_data"
        },
        {
          "name": "stderr",
          "output_type": "stream",
          "text": [
            "\u001b[34m\u001b[1mwandb\u001b[0m: Agent Starting Run: ylfp43nd with config:\n",
            "\u001b[34m\u001b[1mwandb\u001b[0m: \tae_layer: 8\n",
            "\u001b[34m\u001b[1mwandb\u001b[0m: \tbranch_layer: 7\n",
            "\u001b[34m\u001b[1mwandb\u001b[0m: \tbranch_weight: 12.286521271161554\n",
            "\u001b[34m\u001b[1mwandb\u001b[0m: \tkl_weight: 0.7271296515393024\n",
            "\u001b[34m\u001b[1mwandb\u001b[0m: \tlearning_rate: 0.00151045644108034\n"
          ]
        },
        {
          "data": {
            "text/html": [
              "Tracking run with wandb version 0.12.17"
            ],
            "text/plain": [
              "<IPython.core.display.HTML object>"
            ]
          },
          "metadata": {},
          "output_type": "display_data"
        },
        {
          "data": {
            "text/html": [
              "Run data is saved locally in <code>/content/wandb/run-20220528_220604-ylfp43nd</code>"
            ],
            "text/plain": [
              "<IPython.core.display.HTML object>"
            ]
          },
          "metadata": {},
          "output_type": "display_data"
        },
        {
          "data": {
            "text/html": [
              "Syncing run <strong><a href=\"https://wandb.ai/sophied/exponentials/runs/ylfp43nd\" target=\"_blank\">sweepy-sweep-3</a></strong> to <a href=\"https://wandb.ai/sophied/exponentials\" target=\"_blank\">Weights & Biases</a> (<a href=\"https://wandb.me/run\" target=\"_blank\">docs</a>)<br/>Sweep page:  <a href=\"https://wandb.ai/sophied/exponentials/sweeps/5e99jgaj\" target=\"_blank\">https://wandb.ai/sophied/exponentials/sweeps/5e99jgaj</a>"
            ],
            "text/plain": [
              "<IPython.core.display.HTML object>"
            ]
          },
          "metadata": {},
          "output_type": "display_data"
        },
        {
          "data": {
            "text/html": [
              "Waiting for W&B process to finish... <strong style=\"color:green\">(success).</strong>"
            ],
            "text/plain": [
              "<IPython.core.display.HTML object>"
            ]
          },
          "metadata": {},
          "output_type": "display_data"
        },
        {
          "data": {
            "application/vnd.jupyter.widget-view+json": {
              "model_id": "e5c4a3bf941c4853a4e0d40a84fdb64e",
              "version_major": 2,
              "version_minor": 0
            },
            "text/plain": [
              "VBox(children=(Label(value='0.000 MB of 0.000 MB uploaded (0.000 MB deduped)\\r'), FloatProgress(value=1.0, max…"
            ]
          },
          "metadata": {},
          "output_type": "display_data"
        },
        {
          "data": {
            "text/html": [
              "<style>\n",
              "    table.wandb td:nth-child(1) { padding: 0 10px; text-align: left ; width: auto;} td:nth-child(2) {text-align: left ; width: 100%}\n",
              "    .wandb-row { display: flex; flex-direction: row; flex-wrap: wrap; justify-content: flex-start; width: 100% }\n",
              "    .wandb-col { display: flex; flex-direction: column; flex-basis: 100%; flex: 1; padding: 10px; }\n",
              "    </style>\n",
              "<div class=\"wandb-row\"><div class=\"wandb-col\"><h3>Run history:</h3><br/><table class=\"wandb\"><tr><td>branch_loss</td><td>▃▇▂▅▃▄█▇▄▄▃█▆▄▅▅▅▃▅▆▇▆▄▆▇█▃▃▅▃▅▃▁▄▇▁▃▃▆▁</td></tr><tr><td>kl</td><td>▄▄▃▃▆▂▅▄█▅▃▂▃▂▃▆▃▅▃▃▄▄▅▂█▄▃▆▄▅▃▅▆▃▄▁▅▃▅▅</td></tr><tr><td>loss</td><td>▄▄▃▃▆▂▅▄█▅▃▂▃▂▃▆▃▅▃▃▄▄▅▂█▄▃▆▄▅▃▅▆▃▄▁▅▃▅▅</td></tr><tr><td>recon_loss</td><td>█▃▁▁▁▁▁▁▁▁▁▁▂▁▁▁▁▁▁▁▁▁▁▁▂▁▁▁▁▁▁▁▁▁▁▁▁▁▁▁</td></tr></table><br/></div><div class=\"wandb-col\"><h3>Run summary:</h3><br/><table class=\"wandb\"><tr><td>branch_loss</td><td>0.08774</td></tr><tr><td>kl</td><td>93.36115</td></tr><tr><td>loss</td><td>68.96376</td></tr><tr><td>recon_loss</td><td>0.00011</td></tr><tr><td>vars</td><td>A+B+C+D</td></tr></table><br/></div></div>"
            ],
            "text/plain": [
              "<IPython.core.display.HTML object>"
            ]
          },
          "metadata": {},
          "output_type": "display_data"
        },
        {
          "data": {
            "text/html": [
              "Synced <strong style=\"color:#cdcd00\">sweepy-sweep-3</strong>: <a href=\"https://wandb.ai/sophied/exponentials/runs/ylfp43nd\" target=\"_blank\">https://wandb.ai/sophied/exponentials/runs/ylfp43nd</a><br/>Synced 4 W&B file(s), 0 media file(s), 0 artifact file(s) and 0 other file(s)"
            ],
            "text/plain": [
              "<IPython.core.display.HTML object>"
            ]
          },
          "metadata": {},
          "output_type": "display_data"
        },
        {
          "data": {
            "text/html": [
              "Find logs at: <code>./wandb/run-20220528_220604-ylfp43nd/logs</code>"
            ],
            "text/plain": [
              "<IPython.core.display.HTML object>"
            ]
          },
          "metadata": {},
          "output_type": "display_data"
        },
        {
          "name": "stderr",
          "output_type": "stream",
          "text": [
            "\u001b[34m\u001b[1mwandb\u001b[0m: Sweep Agent: Waiting for job.\n",
            "\u001b[34m\u001b[1mwandb\u001b[0m: Job received.\n",
            "\u001b[34m\u001b[1mwandb\u001b[0m: Agent Starting Run: vtmhz0ix with config:\n",
            "\u001b[34m\u001b[1mwandb\u001b[0m: \tae_layer: 8\n",
            "\u001b[34m\u001b[1mwandb\u001b[0m: \tbranch_layer: 7\n",
            "\u001b[34m\u001b[1mwandb\u001b[0m: \tbranch_weight: 7.947343964805256\n",
            "\u001b[34m\u001b[1mwandb\u001b[0m: \tkl_weight: 0.6161928294427942\n",
            "\u001b[34m\u001b[1mwandb\u001b[0m: \tlearning_rate: 0.001094609289251195\n"
          ]
        },
        {
          "data": {
            "text/html": [
              "Tracking run with wandb version 0.12.17"
            ],
            "text/plain": [
              "<IPython.core.display.HTML object>"
            ]
          },
          "metadata": {},
          "output_type": "display_data"
        },
        {
          "data": {
            "text/html": [
              "Run data is saved locally in <code>/content/wandb/run-20220528_220912-vtmhz0ix</code>"
            ],
            "text/plain": [
              "<IPython.core.display.HTML object>"
            ]
          },
          "metadata": {},
          "output_type": "display_data"
        },
        {
          "data": {
            "text/html": [
              "Syncing run <strong><a href=\"https://wandb.ai/sophied/exponentials/runs/vtmhz0ix\" target=\"_blank\">vibrant-sweep-4</a></strong> to <a href=\"https://wandb.ai/sophied/exponentials\" target=\"_blank\">Weights & Biases</a> (<a href=\"https://wandb.me/run\" target=\"_blank\">docs</a>)<br/>Sweep page:  <a href=\"https://wandb.ai/sophied/exponentials/sweeps/5e99jgaj\" target=\"_blank\">https://wandb.ai/sophied/exponentials/sweeps/5e99jgaj</a>"
            ],
            "text/plain": [
              "<IPython.core.display.HTML object>"
            ]
          },
          "metadata": {},
          "output_type": "display_data"
        },
        {
          "data": {
            "text/html": [
              "Waiting for W&B process to finish... <strong style=\"color:green\">(success).</strong>"
            ],
            "text/plain": [
              "<IPython.core.display.HTML object>"
            ]
          },
          "metadata": {},
          "output_type": "display_data"
        },
        {
          "data": {
            "application/vnd.jupyter.widget-view+json": {
              "model_id": "c6d8503c11f141038a5131752cd59ffc",
              "version_major": 2,
              "version_minor": 0
            },
            "text/plain": [
              "VBox(children=(Label(value='0.000 MB of 0.000 MB uploaded (0.000 MB deduped)\\r'), FloatProgress(value=1.0, max…"
            ]
          },
          "metadata": {},
          "output_type": "display_data"
        },
        {
          "data": {
            "text/html": [
              "<style>\n",
              "    table.wandb td:nth-child(1) { padding: 0 10px; text-align: left ; width: auto;} td:nth-child(2) {text-align: left ; width: 100%}\n",
              "    .wandb-row { display: flex; flex-direction: row; flex-wrap: wrap; justify-content: flex-start; width: 100% }\n",
              "    .wandb-col { display: flex; flex-direction: column; flex-basis: 100%; flex: 1; padding: 10px; }\n",
              "    </style>\n",
              "<div class=\"wandb-row\"><div class=\"wandb-col\"><h3>Run history:</h3><br/><table class=\"wandb\"><tr><td>branch_loss</td><td>▃█▃▄▃▄▇▆▄▃▃▇▅▄▅▄▅▃▅▆▆▅▄▆▆▇▃▂▄▃▄▃▁▃▆▂▃▄▅▂</td></tr><tr><td>kl</td><td>▄▄▃▃▆▂▅▄█▅▃▂▃▂▃▆▃▄▃▃▄▄▅▂█▄▃▆▄▄▃▅▆▃▄▁▅▃▅▅</td></tr><tr><td>loss</td><td>▄▄▃▃▆▂▅▄█▅▃▂▃▂▃▆▃▄▃▃▄▄▅▂█▄▃▆▄▄▃▅▆▃▄▁▅▃▅▅</td></tr><tr><td>recon_loss</td><td>█▄▂▁▁▁▁▁▁▁▁▁▂▁▁▁▁▁▁▁▁▁▁▁▂▁▁▁▁▁▁▁▁▁▁▁▁▁▁▁</td></tr></table><br/></div><div class=\"wandb-col\"><h3>Run summary:</h3><br/><table class=\"wandb\"><tr><td>branch_loss</td><td>0.08875</td></tr><tr><td>kl</td><td>93.48289</td></tr><tr><td>loss</td><td>58.30894</td></tr><tr><td>recon_loss</td><td>9e-05</td></tr><tr><td>vars</td><td>A+B+C+D</td></tr></table><br/></div></div>"
            ],
            "text/plain": [
              "<IPython.core.display.HTML object>"
            ]
          },
          "metadata": {},
          "output_type": "display_data"
        },
        {
          "data": {
            "text/html": [
              "Synced <strong style=\"color:#cdcd00\">vibrant-sweep-4</strong>: <a href=\"https://wandb.ai/sophied/exponentials/runs/vtmhz0ix\" target=\"_blank\">https://wandb.ai/sophied/exponentials/runs/vtmhz0ix</a><br/>Synced 4 W&B file(s), 0 media file(s), 0 artifact file(s) and 0 other file(s)"
            ],
            "text/plain": [
              "<IPython.core.display.HTML object>"
            ]
          },
          "metadata": {},
          "output_type": "display_data"
        },
        {
          "data": {
            "text/html": [
              "Find logs at: <code>./wandb/run-20220528_220912-vtmhz0ix/logs</code>"
            ],
            "text/plain": [
              "<IPython.core.display.HTML object>"
            ]
          },
          "metadata": {},
          "output_type": "display_data"
        },
        {
          "name": "stderr",
          "output_type": "stream",
          "text": [
            "\u001b[34m\u001b[1mwandb\u001b[0m: Agent Starting Run: h5gum1jg with config:\n",
            "\u001b[34m\u001b[1mwandb\u001b[0m: \tae_layer: 8\n",
            "\u001b[34m\u001b[1mwandb\u001b[0m: \tbranch_layer: 7\n",
            "\u001b[34m\u001b[1mwandb\u001b[0m: \tbranch_weight: 6.69259897208894\n",
            "\u001b[34m\u001b[1mwandb\u001b[0m: \tkl_weight: 0.8515729174426202\n",
            "\u001b[34m\u001b[1mwandb\u001b[0m: \tlearning_rate: 0.0014713384670720986\n"
          ]
        },
        {
          "data": {
            "text/html": [
              "Tracking run with wandb version 0.12.17"
            ],
            "text/plain": [
              "<IPython.core.display.HTML object>"
            ]
          },
          "metadata": {},
          "output_type": "display_data"
        },
        {
          "data": {
            "text/html": [
              "Run data is saved locally in <code>/content/wandb/run-20220528_221215-h5gum1jg</code>"
            ],
            "text/plain": [
              "<IPython.core.display.HTML object>"
            ]
          },
          "metadata": {},
          "output_type": "display_data"
        },
        {
          "data": {
            "text/html": [
              "Syncing run <strong><a href=\"https://wandb.ai/sophied/exponentials/runs/h5gum1jg\" target=\"_blank\">easy-sweep-5</a></strong> to <a href=\"https://wandb.ai/sophied/exponentials\" target=\"_blank\">Weights & Biases</a> (<a href=\"https://wandb.me/run\" target=\"_blank\">docs</a>)<br/>Sweep page:  <a href=\"https://wandb.ai/sophied/exponentials/sweeps/5e99jgaj\" target=\"_blank\">https://wandb.ai/sophied/exponentials/sweeps/5e99jgaj</a>"
            ],
            "text/plain": [
              "<IPython.core.display.HTML object>"
            ]
          },
          "metadata": {},
          "output_type": "display_data"
        },
        {
          "data": {
            "text/html": [
              "Waiting for W&B process to finish... <strong style=\"color:green\">(success).</strong>"
            ],
            "text/plain": [
              "<IPython.core.display.HTML object>"
            ]
          },
          "metadata": {},
          "output_type": "display_data"
        },
        {
          "data": {
            "application/vnd.jupyter.widget-view+json": {
              "model_id": "e5834b5d01c64b5c862dd61304d3f1ab",
              "version_major": 2,
              "version_minor": 0
            },
            "text/plain": [
              "VBox(children=(Label(value='0.000 MB of 0.000 MB uploaded (0.000 MB deduped)\\r'), FloatProgress(value=1.0, max…"
            ]
          },
          "metadata": {},
          "output_type": "display_data"
        },
        {
          "data": {
            "text/html": [
              "<style>\n",
              "    table.wandb td:nth-child(1) { padding: 0 10px; text-align: left ; width: auto;} td:nth-child(2) {text-align: left ; width: 100%}\n",
              "    .wandb-row { display: flex; flex-direction: row; flex-wrap: wrap; justify-content: flex-start; width: 100% }\n",
              "    .wandb-col { display: flex; flex-direction: column; flex-basis: 100%; flex: 1; padding: 10px; }\n",
              "    </style>\n",
              "<div class=\"wandb-row\"><div class=\"wandb-col\"><h3>Run history:</h3><br/><table class=\"wandb\"><tr><td>branch_loss</td><td>▅▆▄▅▄▅█▇▅▄▄█▆▅▆▆▅▄▆▇▇▆▅▇▇█▄▄▅▅▅▄▂▃▅▁▂▂▃▂</td></tr><tr><td>kl</td><td>▄▄▄▃▆▂▅▄█▅▃▂▃▂▃▆▃▅▃▃▄▄▅▂█▄▃▆▄▅▃▅▆▃▄▁▅▃▄▅</td></tr><tr><td>loss</td><td>▄▄▄▃▆▂▅▄█▅▃▂▃▃▃▆▃▅▃▃▄▄▅▂█▄▃▆▄▅▃▅▆▃▄▁▅▃▄▅</td></tr><tr><td>recon_loss</td><td>█▄▂▁▁▁▁▁▁▁▁▁▂▁▁▁▁▁▁▁▁▁▁▁▂▁▁▁▁▁▁▁▁▁▁▁▁▁▁▁</td></tr></table><br/></div><div class=\"wandb-col\"><h3>Run summary:</h3><br/><table class=\"wandb\"><tr><td>branch_loss</td><td>0.07912</td></tr><tr><td>kl</td><td>91.66716</td></tr><tr><td>loss</td><td>78.59082</td></tr><tr><td>recon_loss</td><td>6e-05</td></tr><tr><td>vars</td><td>A+B+C+D</td></tr></table><br/></div></div>"
            ],
            "text/plain": [
              "<IPython.core.display.HTML object>"
            ]
          },
          "metadata": {},
          "output_type": "display_data"
        },
        {
          "data": {
            "text/html": [
              "Synced <strong style=\"color:#cdcd00\">easy-sweep-5</strong>: <a href=\"https://wandb.ai/sophied/exponentials/runs/h5gum1jg\" target=\"_blank\">https://wandb.ai/sophied/exponentials/runs/h5gum1jg</a><br/>Synced 4 W&B file(s), 0 media file(s), 0 artifact file(s) and 0 other file(s)"
            ],
            "text/plain": [
              "<IPython.core.display.HTML object>"
            ]
          },
          "metadata": {},
          "output_type": "display_data"
        },
        {
          "data": {
            "text/html": [
              "Find logs at: <code>./wandb/run-20220528_221215-h5gum1jg/logs</code>"
            ],
            "text/plain": [
              "<IPython.core.display.HTML object>"
            ]
          },
          "metadata": {},
          "output_type": "display_data"
        },
        {
          "name": "stderr",
          "output_type": "stream",
          "text": [
            "\u001b[34m\u001b[1mwandb\u001b[0m: Agent Starting Run: 8dzrfgmc with config:\n",
            "\u001b[34m\u001b[1mwandb\u001b[0m: \tae_layer: 8\n",
            "\u001b[34m\u001b[1mwandb\u001b[0m: \tbranch_layer: 4\n",
            "\u001b[34m\u001b[1mwandb\u001b[0m: \tbranch_weight: 46.08342845371297\n",
            "\u001b[34m\u001b[1mwandb\u001b[0m: \tkl_weight: 0.09087253129399175\n",
            "\u001b[34m\u001b[1mwandb\u001b[0m: \tlearning_rate: 0.0003393154508768789\n"
          ]
        },
        {
          "data": {
            "text/html": [
              "Tracking run with wandb version 0.12.17"
            ],
            "text/plain": [
              "<IPython.core.display.HTML object>"
            ]
          },
          "metadata": {},
          "output_type": "display_data"
        },
        {
          "data": {
            "text/html": [
              "Run data is saved locally in <code>/content/wandb/run-20220528_221513-8dzrfgmc</code>"
            ],
            "text/plain": [
              "<IPython.core.display.HTML object>"
            ]
          },
          "metadata": {},
          "output_type": "display_data"
        },
        {
          "data": {
            "text/html": [
              "Syncing run <strong><a href=\"https://wandb.ai/sophied/exponentials/runs/8dzrfgmc\" target=\"_blank\">colorful-sweep-6</a></strong> to <a href=\"https://wandb.ai/sophied/exponentials\" target=\"_blank\">Weights & Biases</a> (<a href=\"https://wandb.me/run\" target=\"_blank\">docs</a>)<br/>Sweep page:  <a href=\"https://wandb.ai/sophied/exponentials/sweeps/5e99jgaj\" target=\"_blank\">https://wandb.ai/sophied/exponentials/sweeps/5e99jgaj</a>"
            ],
            "text/plain": [
              "<IPython.core.display.HTML object>"
            ]
          },
          "metadata": {},
          "output_type": "display_data"
        },
        {
          "data": {
            "text/html": [
              "Waiting for W&B process to finish... <strong style=\"color:green\">(success).</strong>"
            ],
            "text/plain": [
              "<IPython.core.display.HTML object>"
            ]
          },
          "metadata": {},
          "output_type": "display_data"
        },
        {
          "data": {
            "application/vnd.jupyter.widget-view+json": {
              "model_id": "f905546de550408b9858837668d793cd",
              "version_major": 2,
              "version_minor": 0
            },
            "text/plain": [
              "VBox(children=(Label(value='0.000 MB of 0.000 MB uploaded (0.000 MB deduped)\\r'), FloatProgress(value=1.0, max…"
            ]
          },
          "metadata": {},
          "output_type": "display_data"
        },
        {
          "data": {
            "text/html": [
              "<style>\n",
              "    table.wandb td:nth-child(1) { padding: 0 10px; text-align: left ; width: auto;} td:nth-child(2) {text-align: left ; width: 100%}\n",
              "    .wandb-row { display: flex; flex-direction: row; flex-wrap: wrap; justify-content: flex-start; width: 100% }\n",
              "    .wandb-col { display: flex; flex-direction: column; flex-basis: 100%; flex: 1; padding: 10px; }\n",
              "    </style>\n",
              "<div class=\"wandb-row\"><div class=\"wandb-col\"><h3>Run history:</h3><br/><table class=\"wandb\"><tr><td>branch_loss</td><td>▇▇▃▆▂▅█▇▃▃▃█▅▄▅▅▅▃▅▆▆▅▃▆▇█▃▃▄▃▅▃▁▄▆▁▃▄▅▂</td></tr><tr><td>kl</td><td>▄▄▃▃▆▂▅▄█▅▃▂▃▂▃▆▃▄▃▃▄▄▅▂█▄▃▆▄▄▃▅▆▃▄▁▅▃▅▅</td></tr><tr><td>loss</td><td>▅▅▃▄▅▂▆▅▇▅▃▃▄▃▃▆▃▄▄▄▄▄▅▃█▅▃▅▄▄▄▄▅▃▄▁▅▃▅▅</td></tr><tr><td>recon_loss</td><td>█▆▄▂▂▂▁▁▁▁▁▁▁▁▁▁▁▁▁▁▁▁▁▁▂▁▁▁▁▁▁▁▁▁▁▁▁▁▁▁</td></tr></table><br/></div><div class=\"wandb-col\"><h3>Run summary:</h3><br/><table class=\"wandb\"><tr><td>branch_loss</td><td>0.08938</td></tr><tr><td>kl</td><td>93.51797</td></tr><tr><td>loss</td><td>12.61732</td></tr><tr><td>recon_loss</td><td>0.00011</td></tr><tr><td>vars</td><td>A+B+C+D</td></tr></table><br/></div></div>"
            ],
            "text/plain": [
              "<IPython.core.display.HTML object>"
            ]
          },
          "metadata": {},
          "output_type": "display_data"
        },
        {
          "data": {
            "text/html": [
              "Synced <strong style=\"color:#cdcd00\">colorful-sweep-6</strong>: <a href=\"https://wandb.ai/sophied/exponentials/runs/8dzrfgmc\" target=\"_blank\">https://wandb.ai/sophied/exponentials/runs/8dzrfgmc</a><br/>Synced 4 W&B file(s), 0 media file(s), 0 artifact file(s) and 0 other file(s)"
            ],
            "text/plain": [
              "<IPython.core.display.HTML object>"
            ]
          },
          "metadata": {},
          "output_type": "display_data"
        },
        {
          "data": {
            "text/html": [
              "Find logs at: <code>./wandb/run-20220528_221513-8dzrfgmc/logs</code>"
            ],
            "text/plain": [
              "<IPython.core.display.HTML object>"
            ]
          },
          "metadata": {},
          "output_type": "display_data"
        },
        {
          "name": "stderr",
          "output_type": "stream",
          "text": [
            "\u001b[34m\u001b[1mwandb\u001b[0m: Agent Starting Run: 8u135lts with config:\n",
            "\u001b[34m\u001b[1mwandb\u001b[0m: \tae_layer: 12\n",
            "\u001b[34m\u001b[1mwandb\u001b[0m: \tbranch_layer: 8\n",
            "\u001b[34m\u001b[1mwandb\u001b[0m: \tbranch_weight: 64.69056278792833\n",
            "\u001b[34m\u001b[1mwandb\u001b[0m: \tkl_weight: 0.6386585107416064\n",
            "\u001b[34m\u001b[1mwandb\u001b[0m: \tlearning_rate: 0.0016827570023662068\n"
          ]
        },
        {
          "data": {
            "text/html": [
              "Tracking run with wandb version 0.12.17"
            ],
            "text/plain": [
              "<IPython.core.display.HTML object>"
            ]
          },
          "metadata": {},
          "output_type": "display_data"
        },
        {
          "data": {
            "text/html": [
              "Run data is saved locally in <code>/content/wandb/run-20220528_221811-8u135lts</code>"
            ],
            "text/plain": [
              "<IPython.core.display.HTML object>"
            ]
          },
          "metadata": {},
          "output_type": "display_data"
        },
        {
          "data": {
            "text/html": [
              "Syncing run <strong><a href=\"https://wandb.ai/sophied/exponentials/runs/8u135lts\" target=\"_blank\">celestial-sweep-7</a></strong> to <a href=\"https://wandb.ai/sophied/exponentials\" target=\"_blank\">Weights & Biases</a> (<a href=\"https://wandb.me/run\" target=\"_blank\">docs</a>)<br/>Sweep page:  <a href=\"https://wandb.ai/sophied/exponentials/sweeps/5e99jgaj\" target=\"_blank\">https://wandb.ai/sophied/exponentials/sweeps/5e99jgaj</a>"
            ],
            "text/plain": [
              "<IPython.core.display.HTML object>"
            ]
          },
          "metadata": {},
          "output_type": "display_data"
        },
        {
          "data": {
            "text/html": [
              "Waiting for W&B process to finish... <strong style=\"color:green\">(success).</strong>"
            ],
            "text/plain": [
              "<IPython.core.display.HTML object>"
            ]
          },
          "metadata": {},
          "output_type": "display_data"
        },
        {
          "data": {
            "application/vnd.jupyter.widget-view+json": {
              "model_id": "c5abdafc28cd4856965cc85db0d6d3ab",
              "version_major": 2,
              "version_minor": 0
            },
            "text/plain": [
              "VBox(children=(Label(value='0.000 MB of 0.000 MB uploaded (0.000 MB deduped)\\r'), FloatProgress(value=1.0, max…"
            ]
          },
          "metadata": {},
          "output_type": "display_data"
        },
        {
          "data": {
            "text/html": [
              "<style>\n",
              "    table.wandb td:nth-child(1) { padding: 0 10px; text-align: left ; width: auto;} td:nth-child(2) {text-align: left ; width: 100%}\n",
              "    .wandb-row { display: flex; flex-direction: row; flex-wrap: wrap; justify-content: flex-start; width: 100% }\n",
              "    .wandb-col { display: flex; flex-direction: column; flex-basis: 100%; flex: 1; padding: 10px; }\n",
              "    </style>\n",
              "<div class=\"wandb-row\"><div class=\"wandb-col\"><h3>Run history:</h3><br/><table class=\"wandb\"><tr><td>branch_loss</td><td>▄▇▅▆▅▆█▇▆▅▅█▆▆▆▆▆▅▇▇▇▆▅▇▇▆▃▄▆▄▃▄▂▃▄▂▁▃▃▂</td></tr><tr><td>kl</td><td>▄▄▄▃▆▂▅▅█▅▃▃▃▃▃▆▃▅▄▃▄▄▅▃█▄▃▆▄▅▃▅▆▃▄▁▅▃▄▅</td></tr><tr><td>loss</td><td>▄▄▄▃▆▂▆▅█▅▄▃▄▃▃▆▃▅▄▄▄▄▅▃█▄▃▆▄▅▃▅▆▃▄▁▅▃▄▅</td></tr><tr><td>recon_loss</td><td>█▃▁▁▁▁▁▁▁▁▂▁▂▁▁▁▁▁▂▁▁▁▁▁▁▁▁▁▁▁▁▁▁▁▁▁▁▁▁▁</td></tr></table><br/></div><div class=\"wandb-col\"><h3>Run summary:</h3><br/><table class=\"wandb\"><tr><td>branch_loss</td><td>0.07592</td></tr><tr><td>kl</td><td>91.3503</td></tr><tr><td>loss</td><td>63.25299</td></tr><tr><td>recon_loss</td><td>5e-05</td></tr><tr><td>vars</td><td>A+B+C+D</td></tr></table><br/></div></div>"
            ],
            "text/plain": [
              "<IPython.core.display.HTML object>"
            ]
          },
          "metadata": {},
          "output_type": "display_data"
        },
        {
          "data": {
            "text/html": [
              "Synced <strong style=\"color:#cdcd00\">celestial-sweep-7</strong>: <a href=\"https://wandb.ai/sophied/exponentials/runs/8u135lts\" target=\"_blank\">https://wandb.ai/sophied/exponentials/runs/8u135lts</a><br/>Synced 4 W&B file(s), 0 media file(s), 0 artifact file(s) and 0 other file(s)"
            ],
            "text/plain": [
              "<IPython.core.display.HTML object>"
            ]
          },
          "metadata": {},
          "output_type": "display_data"
        },
        {
          "data": {
            "text/html": [
              "Find logs at: <code>./wandb/run-20220528_221811-8u135lts/logs</code>"
            ],
            "text/plain": [
              "<IPython.core.display.HTML object>"
            ]
          },
          "metadata": {},
          "output_type": "display_data"
        },
        {
          "name": "stderr",
          "output_type": "stream",
          "text": [
            "\u001b[34m\u001b[1mwandb\u001b[0m: Agent Starting Run: lhoymyyk with config:\n",
            "\u001b[34m\u001b[1mwandb\u001b[0m: \tae_layer: 16\n",
            "\u001b[34m\u001b[1mwandb\u001b[0m: \tbranch_layer: 10\n",
            "\u001b[34m\u001b[1mwandb\u001b[0m: \tbranch_weight: 58.544618930098665\n",
            "\u001b[34m\u001b[1mwandb\u001b[0m: \tkl_weight: 0.6570104929031179\n",
            "\u001b[34m\u001b[1mwandb\u001b[0m: \tlearning_rate: 0.0010157963047341518\n"
          ]
        },
        {
          "data": {
            "text/html": [
              "Tracking run with wandb version 0.12.17"
            ],
            "text/plain": [
              "<IPython.core.display.HTML object>"
            ]
          },
          "metadata": {},
          "output_type": "display_data"
        },
        {
          "data": {
            "text/html": [
              "Run data is saved locally in <code>/content/wandb/run-20220528_222104-lhoymyyk</code>"
            ],
            "text/plain": [
              "<IPython.core.display.HTML object>"
            ]
          },
          "metadata": {},
          "output_type": "display_data"
        },
        {
          "data": {
            "text/html": [
              "Syncing run <strong><a href=\"https://wandb.ai/sophied/exponentials/runs/lhoymyyk\" target=\"_blank\">iconic-sweep-8</a></strong> to <a href=\"https://wandb.ai/sophied/exponentials\" target=\"_blank\">Weights & Biases</a> (<a href=\"https://wandb.me/run\" target=\"_blank\">docs</a>)<br/>Sweep page:  <a href=\"https://wandb.ai/sophied/exponentials/sweeps/5e99jgaj\" target=\"_blank\">https://wandb.ai/sophied/exponentials/sweeps/5e99jgaj</a>"
            ],
            "text/plain": [
              "<IPython.core.display.HTML object>"
            ]
          },
          "metadata": {},
          "output_type": "display_data"
        },
        {
          "data": {
            "text/html": [
              "Waiting for W&B process to finish... <strong style=\"color:green\">(success).</strong>"
            ],
            "text/plain": [
              "<IPython.core.display.HTML object>"
            ]
          },
          "metadata": {},
          "output_type": "display_data"
        },
        {
          "data": {
            "application/vnd.jupyter.widget-view+json": {
              "model_id": "87b00b2785674c57b0b4ca129f85dc88",
              "version_major": 2,
              "version_minor": 0
            },
            "text/plain": [
              "VBox(children=(Label(value='0.000 MB of 0.000 MB uploaded (0.000 MB deduped)\\r'), FloatProgress(value=1.0, max…"
            ]
          },
          "metadata": {},
          "output_type": "display_data"
        },
        {
          "data": {
            "text/html": [
              "<style>\n",
              "    table.wandb td:nth-child(1) { padding: 0 10px; text-align: left ; width: auto;} td:nth-child(2) {text-align: left ; width: 100%}\n",
              "    .wandb-row { display: flex; flex-direction: row; flex-wrap: wrap; justify-content: flex-start; width: 100% }\n",
              "    .wandb-col { display: flex; flex-direction: column; flex-basis: 100%; flex: 1; padding: 10px; }\n",
              "    </style>\n",
              "<div class=\"wandb-row\"><div class=\"wandb-col\"><h3>Run history:</h3><br/><table class=\"wandb\"><tr><td>branch_loss</td><td>▄▆▃▅▃▄█▇▄▄▃█▆▄▅▅▅▃▅▆▇▅▄▆▇█▃▃▅▃▅▃▁▄▆▁▃▄▅▂</td></tr><tr><td>kl</td><td>▄▄▃▃▆▂▅▄█▅▃▂▃▂▃▆▃▄▃▃▄▄▅▂█▄▃▆▄▄▃▅▆▃▄▁▅▃▅▅</td></tr><tr><td>loss</td><td>▄▄▃▃▆▂▅▄█▅▃▃▃▂▃▆▃▄▃▃▄▄▅▂█▄▃▆▄▄▃▅▆▃▄▁▅▃▅▅</td></tr><tr><td>recon_loss</td><td>█▃▂▁▁▁▁▁▁▁▂▁▂▁▁▁▁▁▁▁▂▁▁▁▂▁▁▁▁▁▁▁▁▁▁▁▁▁▁▁</td></tr></table><br/></div><div class=\"wandb-col\"><h3>Run summary:</h3><br/><table class=\"wandb\"><tr><td>branch_loss</td><td>0.0893</td></tr><tr><td>kl</td><td>93.51604</td></tr><tr><td>loss</td><td>66.6689</td></tr><tr><td>recon_loss</td><td>9e-05</td></tr><tr><td>vars</td><td>A+B+C+D</td></tr></table><br/></div></div>"
            ],
            "text/plain": [
              "<IPython.core.display.HTML object>"
            ]
          },
          "metadata": {},
          "output_type": "display_data"
        },
        {
          "data": {
            "text/html": [
              "Synced <strong style=\"color:#cdcd00\">iconic-sweep-8</strong>: <a href=\"https://wandb.ai/sophied/exponentials/runs/lhoymyyk\" target=\"_blank\">https://wandb.ai/sophied/exponentials/runs/lhoymyyk</a><br/>Synced 4 W&B file(s), 0 media file(s), 0 artifact file(s) and 0 other file(s)"
            ],
            "text/plain": [
              "<IPython.core.display.HTML object>"
            ]
          },
          "metadata": {},
          "output_type": "display_data"
        },
        {
          "data": {
            "text/html": [
              "Find logs at: <code>./wandb/run-20220528_222104-lhoymyyk/logs</code>"
            ],
            "text/plain": [
              "<IPython.core.display.HTML object>"
            ]
          },
          "metadata": {},
          "output_type": "display_data"
        },
        {
          "name": "stderr",
          "output_type": "stream",
          "text": [
            "\u001b[34m\u001b[1mwandb\u001b[0m: Agent Starting Run: xnnyb5et with config:\n",
            "\u001b[34m\u001b[1mwandb\u001b[0m: \tae_layer: 8\n",
            "\u001b[34m\u001b[1mwandb\u001b[0m: \tbranch_layer: 10\n",
            "\u001b[34m\u001b[1mwandb\u001b[0m: \tbranch_weight: 71.63684736436925\n",
            "\u001b[34m\u001b[1mwandb\u001b[0m: \tkl_weight: 0.7947028874516129\n",
            "\u001b[34m\u001b[1mwandb\u001b[0m: \tlearning_rate: 0.004074340319369007\n"
          ]
        },
        {
          "data": {
            "text/html": [
              "Tracking run with wandb version 0.12.17"
            ],
            "text/plain": [
              "<IPython.core.display.HTML object>"
            ]
          },
          "metadata": {},
          "output_type": "display_data"
        },
        {
          "data": {
            "text/html": [
              "Run data is saved locally in <code>/content/wandb/run-20220528_222402-xnnyb5et</code>"
            ],
            "text/plain": [
              "<IPython.core.display.HTML object>"
            ]
          },
          "metadata": {},
          "output_type": "display_data"
        },
        {
          "data": {
            "text/html": [
              "Syncing run <strong><a href=\"https://wandb.ai/sophied/exponentials/runs/xnnyb5et\" target=\"_blank\">glad-sweep-9</a></strong> to <a href=\"https://wandb.ai/sophied/exponentials\" target=\"_blank\">Weights & Biases</a> (<a href=\"https://wandb.me/run\" target=\"_blank\">docs</a>)<br/>Sweep page:  <a href=\"https://wandb.ai/sophied/exponentials/sweeps/5e99jgaj\" target=\"_blank\">https://wandb.ai/sophied/exponentials/sweeps/5e99jgaj</a>"
            ],
            "text/plain": [
              "<IPython.core.display.HTML object>"
            ]
          },
          "metadata": {},
          "output_type": "display_data"
        },
        {
          "data": {
            "text/html": [
              "Waiting for W&B process to finish... <strong style=\"color:green\">(success).</strong>"
            ],
            "text/plain": [
              "<IPython.core.display.HTML object>"
            ]
          },
          "metadata": {},
          "output_type": "display_data"
        },
        {
          "data": {
            "application/vnd.jupyter.widget-view+json": {
              "model_id": "63de53e832f74d94a23c13825c9ea14b",
              "version_major": 2,
              "version_minor": 0
            },
            "text/plain": [
              "VBox(children=(Label(value='0.000 MB of 0.000 MB uploaded (0.000 MB deduped)\\r'), FloatProgress(value=1.0, max…"
            ]
          },
          "metadata": {},
          "output_type": "display_data"
        },
        {
          "data": {
            "text/html": [
              "<style>\n",
              "    table.wandb td:nth-child(1) { padding: 0 10px; text-align: left ; width: auto;} td:nth-child(2) {text-align: left ; width: 100%}\n",
              "    .wandb-row { display: flex; flex-direction: row; flex-wrap: wrap; justify-content: flex-start; width: 100% }\n",
              "    .wandb-col { display: flex; flex-direction: column; flex-basis: 100%; flex: 1; padding: 10px; }\n",
              "    </style>\n",
              "<div class=\"wandb-row\"><div class=\"wandb-col\"><h3>Run history:</h3><br/><table class=\"wandb\"><tr><td>branch_loss</td><td>▃▆▂▄▃▄█▇▄▄▃█▆▄▅▅▅▃▆▇▇▆▄▆▇█▃▃▅▃▅▃▁▄▇▂▃▄▆▂</td></tr><tr><td>kl</td><td>▄▄▃▃▆▂▅▄█▅▃▂▃▂▃▆▃▄▃▃▄▄▅▂█▄▃▆▄▄▃▅▆▃▄▁▅▃▅▅</td></tr><tr><td>loss</td><td>▄▄▃▃▆▂▅▄█▅▃▂▃▂▃▆▃▄▃▃▄▄▅▂█▄▃▆▄▄▃▅▆▃▄▁▅▃▅▅</td></tr><tr><td>recon_loss</td><td>█▁▁▂▁▂▂▂▁▂▂▁▃▂▁▂▁▁▂▂▂▁▁▁▄▂▂▁▂▁▂▁▁▁▂▁▁▁▁▁</td></tr></table><br/></div><div class=\"wandb-col\"><h3>Run summary:</h3><br/><table class=\"wandb\"><tr><td>branch_loss</td><td>0.08947</td></tr><tr><td>kl</td><td>93.52287</td></tr><tr><td>loss</td><td>80.73268</td></tr><tr><td>recon_loss</td><td>0.0001</td></tr><tr><td>vars</td><td>A+B+C+D</td></tr></table><br/></div></div>"
            ],
            "text/plain": [
              "<IPython.core.display.HTML object>"
            ]
          },
          "metadata": {},
          "output_type": "display_data"
        },
        {
          "data": {
            "text/html": [
              "Synced <strong style=\"color:#cdcd00\">glad-sweep-9</strong>: <a href=\"https://wandb.ai/sophied/exponentials/runs/xnnyb5et\" target=\"_blank\">https://wandb.ai/sophied/exponentials/runs/xnnyb5et</a><br/>Synced 4 W&B file(s), 0 media file(s), 0 artifact file(s) and 0 other file(s)"
            ],
            "text/plain": [
              "<IPython.core.display.HTML object>"
            ]
          },
          "metadata": {},
          "output_type": "display_data"
        },
        {
          "data": {
            "text/html": [
              "Find logs at: <code>./wandb/run-20220528_222402-xnnyb5et/logs</code>"
            ],
            "text/plain": [
              "<IPython.core.display.HTML object>"
            ]
          },
          "metadata": {},
          "output_type": "display_data"
        },
        {
          "name": "stderr",
          "output_type": "stream",
          "text": [
            "\u001b[34m\u001b[1mwandb\u001b[0m: Agent Starting Run: ofmt0tb1 with config:\n",
            "\u001b[34m\u001b[1mwandb\u001b[0m: \tae_layer: 19\n",
            "\u001b[34m\u001b[1mwandb\u001b[0m: \tbranch_layer: 4\n",
            "\u001b[34m\u001b[1mwandb\u001b[0m: \tbranch_weight: 71.22234938496602\n",
            "\u001b[34m\u001b[1mwandb\u001b[0m: \tkl_weight: 0.3050488475857675\n",
            "\u001b[34m\u001b[1mwandb\u001b[0m: \tlearning_rate: 0.003450932669771329\n"
          ]
        },
        {
          "data": {
            "text/html": [
              "Tracking run with wandb version 0.12.17"
            ],
            "text/plain": [
              "<IPython.core.display.HTML object>"
            ]
          },
          "metadata": {},
          "output_type": "display_data"
        },
        {
          "data": {
            "text/html": [
              "Run data is saved locally in <code>/content/wandb/run-20220528_222701-ofmt0tb1</code>"
            ],
            "text/plain": [
              "<IPython.core.display.HTML object>"
            ]
          },
          "metadata": {},
          "output_type": "display_data"
        },
        {
          "data": {
            "text/html": [
              "Syncing run <strong><a href=\"https://wandb.ai/sophied/exponentials/runs/ofmt0tb1\" target=\"_blank\">sandy-sweep-10</a></strong> to <a href=\"https://wandb.ai/sophied/exponentials\" target=\"_blank\">Weights & Biases</a> (<a href=\"https://wandb.me/run\" target=\"_blank\">docs</a>)<br/>Sweep page:  <a href=\"https://wandb.ai/sophied/exponentials/sweeps/5e99jgaj\" target=\"_blank\">https://wandb.ai/sophied/exponentials/sweeps/5e99jgaj</a>"
            ],
            "text/plain": [
              "<IPython.core.display.HTML object>"
            ]
          },
          "metadata": {},
          "output_type": "display_data"
        },
        {
          "data": {
            "text/html": [
              "Waiting for W&B process to finish... <strong style=\"color:green\">(success).</strong>"
            ],
            "text/plain": [
              "<IPython.core.display.HTML object>"
            ]
          },
          "metadata": {},
          "output_type": "display_data"
        },
        {
          "data": {
            "application/vnd.jupyter.widget-view+json": {
              "model_id": "23fd72373ac14d86ba2932392f516405",
              "version_major": 2,
              "version_minor": 0
            },
            "text/plain": [
              "VBox(children=(Label(value='0.000 MB of 0.000 MB uploaded (0.000 MB deduped)\\r'), FloatProgress(value=1.0, max…"
            ]
          },
          "metadata": {},
          "output_type": "display_data"
        },
        {
          "data": {
            "text/html": [
              "<style>\n",
              "    table.wandb td:nth-child(1) { padding: 0 10px; text-align: left ; width: auto;} td:nth-child(2) {text-align: left ; width: 100%}\n",
              "    .wandb-row { display: flex; flex-direction: row; flex-wrap: wrap; justify-content: flex-start; width: 100% }\n",
              "    .wandb-col { display: flex; flex-direction: column; flex-basis: 100%; flex: 1; padding: 10px; }\n",
              "    </style>\n",
              "<div class=\"wandb-row\"><div class=\"wandb-col\"><h3>Run history:</h3><br/><table class=\"wandb\"><tr><td>branch_loss</td><td>▅█▅▆▅▆█▇▆▅▅█▆▆▆▆▆▅▇▇▇▆▆▅▅▆▃▅▄▃▂▂▁▁▃▁▂▃▂▂</td></tr><tr><td>kl</td><td>▅▄▄▃▆▂▆▅█▅▄▃▄▃▃▆▃▅▄▃▄▄▅▃█▄▃▆▄▅▃▅▆▃▄▁▅▃▅▅</td></tr><tr><td>loss</td><td>▅▅▄▄▆▃▆▅█▆▄▄▄▃▄▆▄▅▄▄▅▅▆▃█▅▃▆▄▅▃▄▆▃▄▁▅▃▄▅</td></tr><tr><td>recon_loss</td><td>█▃▃▃▂▃▃▃▂▃▄▂▄▃▂▄▃▃▄▃▄▁▂▂▁▁▂▁▁▁▁▁▁▁▁▁▁▁▁▁</td></tr></table><br/></div><div class=\"wandb-col\"><h3>Run summary:</h3><br/><table class=\"wandb\"><tr><td>branch_loss</td><td>0.07804</td></tr><tr><td>kl</td><td>91.30897</td></tr><tr><td>loss</td><td>33.41164</td></tr><tr><td>recon_loss</td><td>5e-05</td></tr><tr><td>vars</td><td>A+B+C+D</td></tr></table><br/></div></div>"
            ],
            "text/plain": [
              "<IPython.core.display.HTML object>"
            ]
          },
          "metadata": {},
          "output_type": "display_data"
        },
        {
          "data": {
            "text/html": [
              "Synced <strong style=\"color:#cdcd00\">sandy-sweep-10</strong>: <a href=\"https://wandb.ai/sophied/exponentials/runs/ofmt0tb1\" target=\"_blank\">https://wandb.ai/sophied/exponentials/runs/ofmt0tb1</a><br/>Synced 4 W&B file(s), 0 media file(s), 0 artifact file(s) and 0 other file(s)"
            ],
            "text/plain": [
              "<IPython.core.display.HTML object>"
            ]
          },
          "metadata": {},
          "output_type": "display_data"
        },
        {
          "data": {
            "text/html": [
              "Find logs at: <code>./wandb/run-20220528_222701-ofmt0tb1/logs</code>"
            ],
            "text/plain": [
              "<IPython.core.display.HTML object>"
            ]
          },
          "metadata": {},
          "output_type": "display_data"
        },
        {
          "name": "stderr",
          "output_type": "stream",
          "text": [
            "\u001b[34m\u001b[1mwandb\u001b[0m: Agent Starting Run: 6yaz07un with config:\n",
            "\u001b[34m\u001b[1mwandb\u001b[0m: \tae_layer: 19\n",
            "\u001b[34m\u001b[1mwandb\u001b[0m: \tbranch_layer: 5\n",
            "\u001b[34m\u001b[1mwandb\u001b[0m: \tbranch_weight: 73.0539551483805\n",
            "\u001b[34m\u001b[1mwandb\u001b[0m: \tkl_weight: 0.32337972593348874\n",
            "\u001b[34m\u001b[1mwandb\u001b[0m: \tlearning_rate: 0.003711408734601629\n"
          ]
        },
        {
          "data": {
            "text/html": [
              "Tracking run with wandb version 0.12.17"
            ],
            "text/plain": [
              "<IPython.core.display.HTML object>"
            ]
          },
          "metadata": {},
          "output_type": "display_data"
        },
        {
          "data": {
            "text/html": [
              "Run data is saved locally in <code>/content/wandb/run-20220528_222959-6yaz07un</code>"
            ],
            "text/plain": [
              "<IPython.core.display.HTML object>"
            ]
          },
          "metadata": {},
          "output_type": "display_data"
        },
        {
          "data": {
            "text/html": [
              "Syncing run <strong><a href=\"https://wandb.ai/sophied/exponentials/runs/6yaz07un\" target=\"_blank\">resilient-sweep-11</a></strong> to <a href=\"https://wandb.ai/sophied/exponentials\" target=\"_blank\">Weights & Biases</a> (<a href=\"https://wandb.me/run\" target=\"_blank\">docs</a>)<br/>Sweep page:  <a href=\"https://wandb.ai/sophied/exponentials/sweeps/5e99jgaj\" target=\"_blank\">https://wandb.ai/sophied/exponentials/sweeps/5e99jgaj</a>"
            ],
            "text/plain": [
              "<IPython.core.display.HTML object>"
            ]
          },
          "metadata": {},
          "output_type": "display_data"
        },
        {
          "data": {
            "text/html": [
              "Waiting for W&B process to finish... <strong style=\"color:green\">(success).</strong>"
            ],
            "text/plain": [
              "<IPython.core.display.HTML object>"
            ]
          },
          "metadata": {},
          "output_type": "display_data"
        },
        {
          "data": {
            "application/vnd.jupyter.widget-view+json": {
              "model_id": "df414982669d415f8616ffb91d9ad045",
              "version_major": 2,
              "version_minor": 0
            },
            "text/plain": [
              "VBox(children=(Label(value='0.000 MB of 0.000 MB uploaded (0.000 MB deduped)\\r'), FloatProgress(value=1.0, max…"
            ]
          },
          "metadata": {},
          "output_type": "display_data"
        },
        {
          "data": {
            "text/html": [
              "<style>\n",
              "    table.wandb td:nth-child(1) { padding: 0 10px; text-align: left ; width: auto;} td:nth-child(2) {text-align: left ; width: 100%}\n",
              "    .wandb-row { display: flex; flex-direction: row; flex-wrap: wrap; justify-content: flex-start; width: 100% }\n",
              "    .wandb-col { display: flex; flex-direction: column; flex-basis: 100%; flex: 1; padding: 10px; }\n",
              "    </style>\n",
              "<div class=\"wandb-row\"><div class=\"wandb-col\"><h3>Run history:</h3><br/><table class=\"wandb\"><tr><td>branch_loss</td><td>▅▇▅▆▅▆█▇▆▆▅█▇▆▇▆▆▅▇▇▇▆▆▆▆▆▄▃▄▃▄▃▂▂▃▂▁▃▃▄</td></tr><tr><td>kl</td><td>▄▄▄▃▆▂▆▅█▅▄▃▃▃▃▆▃▅▄▃▄▄▅▃█▄▃▆▄▅▃▅▆▃▃▁▅▃▄▅</td></tr><tr><td>loss</td><td>▅▅▄▄▆▃▆▅█▅▄▄▄▃▄▆▄▅▄▄▅▅▆▃█▄▃▅▄▄▃▄▆▃▃▁▄▃▄▅</td></tr><tr><td>recon_loss</td><td>█▂▂▃▂▃▃▃▂▃▄▂▅▃▁▄▃▂▃▃▅▂▂▁▅▂▂▁▂▁▁▁▁▁▁▁▁▁▁▂</td></tr></table><br/></div><div class=\"wandb-col\"><h3>Run summary:</h3><br/><table class=\"wandb\"><tr><td>branch_loss</td><td>0.0748</td></tr><tr><td>kl</td><td>91.09339</td></tr><tr><td>loss</td><td>34.92244</td></tr><tr><td>recon_loss</td><td>4e-05</td></tr><tr><td>vars</td><td>A+B+C+D</td></tr></table><br/></div></div>"
            ],
            "text/plain": [
              "<IPython.core.display.HTML object>"
            ]
          },
          "metadata": {},
          "output_type": "display_data"
        },
        {
          "data": {
            "text/html": [
              "Synced <strong style=\"color:#cdcd00\">resilient-sweep-11</strong>: <a href=\"https://wandb.ai/sophied/exponentials/runs/6yaz07un\" target=\"_blank\">https://wandb.ai/sophied/exponentials/runs/6yaz07un</a><br/>Synced 4 W&B file(s), 0 media file(s), 0 artifact file(s) and 0 other file(s)"
            ],
            "text/plain": [
              "<IPython.core.display.HTML object>"
            ]
          },
          "metadata": {},
          "output_type": "display_data"
        },
        {
          "data": {
            "text/html": [
              "Find logs at: <code>./wandb/run-20220528_222959-6yaz07un/logs</code>"
            ],
            "text/plain": [
              "<IPython.core.display.HTML object>"
            ]
          },
          "metadata": {},
          "output_type": "display_data"
        },
        {
          "name": "stderr",
          "output_type": "stream",
          "text": [
            "\u001b[34m\u001b[1mwandb\u001b[0m: Agent Starting Run: 9jz73x3r with config:\n",
            "\u001b[34m\u001b[1mwandb\u001b[0m: \tae_layer: 19\n",
            "\u001b[34m\u001b[1mwandb\u001b[0m: \tbranch_layer: 6\n",
            "\u001b[34m\u001b[1mwandb\u001b[0m: \tbranch_weight: 73.479853538611\n",
            "\u001b[34m\u001b[1mwandb\u001b[0m: \tkl_weight: 0.4016266676907641\n",
            "\u001b[34m\u001b[1mwandb\u001b[0m: \tlearning_rate: 0.003919793469043543\n"
          ]
        },
        {
          "data": {
            "text/html": [
              "Tracking run with wandb version 0.12.17"
            ],
            "text/plain": [
              "<IPython.core.display.HTML object>"
            ]
          },
          "metadata": {},
          "output_type": "display_data"
        },
        {
          "data": {
            "text/html": [
              "Run data is saved locally in <code>/content/wandb/run-20220528_223257-9jz73x3r</code>"
            ],
            "text/plain": [
              "<IPython.core.display.HTML object>"
            ]
          },
          "metadata": {},
          "output_type": "display_data"
        },
        {
          "data": {
            "text/html": [
              "Syncing run <strong><a href=\"https://wandb.ai/sophied/exponentials/runs/9jz73x3r\" target=\"_blank\">fiery-sweep-12</a></strong> to <a href=\"https://wandb.ai/sophied/exponentials\" target=\"_blank\">Weights & Biases</a> (<a href=\"https://wandb.me/run\" target=\"_blank\">docs</a>)<br/>Sweep page:  <a href=\"https://wandb.ai/sophied/exponentials/sweeps/5e99jgaj\" target=\"_blank\">https://wandb.ai/sophied/exponentials/sweeps/5e99jgaj</a>"
            ],
            "text/plain": [
              "<IPython.core.display.HTML object>"
            ]
          },
          "metadata": {},
          "output_type": "display_data"
        },
        {
          "data": {
            "text/html": [
              "Waiting for W&B process to finish... <strong style=\"color:green\">(success).</strong>"
            ],
            "text/plain": [
              "<IPython.core.display.HTML object>"
            ]
          },
          "metadata": {},
          "output_type": "display_data"
        },
        {
          "data": {
            "application/vnd.jupyter.widget-view+json": {
              "model_id": "c1ec5ff2571f43eea4c2db7d346fd3d2",
              "version_major": 2,
              "version_minor": 0
            },
            "text/plain": [
              "VBox(children=(Label(value='0.000 MB of 0.000 MB uploaded (0.000 MB deduped)\\r'), FloatProgress(value=1.0, max…"
            ]
          },
          "metadata": {},
          "output_type": "display_data"
        },
        {
          "data": {
            "text/html": [
              "<style>\n",
              "    table.wandb td:nth-child(1) { padding: 0 10px; text-align: left ; width: auto;} td:nth-child(2) {text-align: left ; width: 100%}\n",
              "    .wandb-row { display: flex; flex-direction: row; flex-wrap: wrap; justify-content: flex-start; width: 100% }\n",
              "    .wandb-col { display: flex; flex-direction: column; flex-basis: 100%; flex: 1; padding: 10px; }\n",
              "    </style>\n",
              "<div class=\"wandb-row\"><div class=\"wandb-col\"><h3>Run history:</h3><br/><table class=\"wandb\"><tr><td>branch_loss</td><td>▃▇▂▅▃▄█▇▄▄▃█▆▄▅▅▅▃▅▆▇▅▄▆▇█▃▃▅▃▅▃▁▄▇▂▃▄▆▂</td></tr><tr><td>kl</td><td>▄▄▃▃▆▂▅▄█▅▃▂▃▂▃▆▃▄▃▃▄▄▅▂█▄▃▆▄▄▃▅▆▃▄▁▅▃▅▅</td></tr><tr><td>loss</td><td>▄▄▃▃▆▂▅▄▇▅▃▃▃▂▃▆▃▄▃▃▄▄▅▃█▄▃▆▄▄▄▄▆▃▄▁▅▃▅▅</td></tr><tr><td>recon_loss</td><td>▆▁▂▂▂▂▂▂▂▃▃▁▄▃▁▃▂▂▃▃▄▁▁▁█▃▂▂▂▁▃▁▁▂▄▂▁▁▂▂</td></tr></table><br/></div><div class=\"wandb-col\"><h3>Run summary:</h3><br/><table class=\"wandb\"><tr><td>branch_loss</td><td>0.08947</td></tr><tr><td>kl</td><td>93.52434</td></tr><tr><td>loss</td><td>44.13603</td></tr><tr><td>recon_loss</td><td>0.00011</td></tr><tr><td>vars</td><td>A+B+C+D</td></tr></table><br/></div></div>"
            ],
            "text/plain": [
              "<IPython.core.display.HTML object>"
            ]
          },
          "metadata": {},
          "output_type": "display_data"
        },
        {
          "data": {
            "text/html": [
              "Synced <strong style=\"color:#cdcd00\">fiery-sweep-12</strong>: <a href=\"https://wandb.ai/sophied/exponentials/runs/9jz73x3r\" target=\"_blank\">https://wandb.ai/sophied/exponentials/runs/9jz73x3r</a><br/>Synced 4 W&B file(s), 0 media file(s), 0 artifact file(s) and 0 other file(s)"
            ],
            "text/plain": [
              "<IPython.core.display.HTML object>"
            ]
          },
          "metadata": {},
          "output_type": "display_data"
        },
        {
          "data": {
            "text/html": [
              "Find logs at: <code>./wandb/run-20220528_223257-9jz73x3r/logs</code>"
            ],
            "text/plain": [
              "<IPython.core.display.HTML object>"
            ]
          },
          "metadata": {},
          "output_type": "display_data"
        },
        {
          "name": "stderr",
          "output_type": "stream",
          "text": [
            "\u001b[34m\u001b[1mwandb\u001b[0m: Agent Starting Run: xjsmzecr with config:\n",
            "\u001b[34m\u001b[1mwandb\u001b[0m: \tae_layer: 17\n",
            "\u001b[34m\u001b[1mwandb\u001b[0m: \tbranch_layer: 8\n",
            "\u001b[34m\u001b[1mwandb\u001b[0m: \tbranch_weight: 69.10715800254374\n",
            "\u001b[34m\u001b[1mwandb\u001b[0m: \tkl_weight: 0.03215998460311862\n",
            "\u001b[34m\u001b[1mwandb\u001b[0m: \tlearning_rate: 0.0039684734655587\n"
          ]
        },
        {
          "data": {
            "text/html": [
              "Tracking run with wandb version 0.12.17"
            ],
            "text/plain": [
              "<IPython.core.display.HTML object>"
            ]
          },
          "metadata": {},
          "output_type": "display_data"
        },
        {
          "data": {
            "text/html": [
              "Run data is saved locally in <code>/content/wandb/run-20220528_223550-xjsmzecr</code>"
            ],
            "text/plain": [
              "<IPython.core.display.HTML object>"
            ]
          },
          "metadata": {},
          "output_type": "display_data"
        },
        {
          "data": {
            "text/html": [
              "Syncing run <strong><a href=\"https://wandb.ai/sophied/exponentials/runs/xjsmzecr\" target=\"_blank\">zany-sweep-13</a></strong> to <a href=\"https://wandb.ai/sophied/exponentials\" target=\"_blank\">Weights & Biases</a> (<a href=\"https://wandb.me/run\" target=\"_blank\">docs</a>)<br/>Sweep page:  <a href=\"https://wandb.ai/sophied/exponentials/sweeps/5e99jgaj\" target=\"_blank\">https://wandb.ai/sophied/exponentials/sweeps/5e99jgaj</a>"
            ],
            "text/plain": [
              "<IPython.core.display.HTML object>"
            ]
          },
          "metadata": {},
          "output_type": "display_data"
        },
        {
          "data": {
            "text/html": [
              "Waiting for W&B process to finish... <strong style=\"color:green\">(success).</strong>"
            ],
            "text/plain": [
              "<IPython.core.display.HTML object>"
            ]
          },
          "metadata": {},
          "output_type": "display_data"
        },
        {
          "data": {
            "application/vnd.jupyter.widget-view+json": {
              "model_id": "5c04e8267bac4acb830a3db65d847d92",
              "version_major": 2,
              "version_minor": 0
            },
            "text/plain": [
              "VBox(children=(Label(value='0.000 MB of 0.000 MB uploaded (0.000 MB deduped)\\r'), FloatProgress(value=1.0, max…"
            ]
          },
          "metadata": {},
          "output_type": "display_data"
        },
        {
          "data": {
            "text/html": [
              "<style>\n",
              "    table.wandb td:nth-child(1) { padding: 0 10px; text-align: left ; width: auto;} td:nth-child(2) {text-align: left ; width: 100%}\n",
              "    .wandb-row { display: flex; flex-direction: row; flex-wrap: wrap; justify-content: flex-start; width: 100% }\n",
              "    .wandb-col { display: flex; flex-direction: column; flex-basis: 100%; flex: 1; padding: 10px; }\n",
              "    </style>\n",
              "<div class=\"wandb-row\"><div class=\"wandb-col\"><h3>Run history:</h3><br/><table class=\"wandb\"><tr><td>branch_loss</td><td>▅▇▅▆▅▆█▇▆▆▅█▇▆▆▆▆▄▄▅▅▄▃▄▄▆▃▂▃▃▃▃▁▁▃▁▁▁▂▂</td></tr><tr><td>kl</td><td>▄▄▄▃▆▂▆▅█▅▄▃▄▃▃▆▃▅▃▃▄▄▅▂█▄▃▆▄▅▃▅▆▃▃▁▅▃▄▅</td></tr><tr><td>loss</td><td>▅▇▅▆▆▅█▇▇▆▅▇▆▅▆▇▅▅▄▅▅▅▄▃▆▆▃▄▄▄▃▄▃▂▃▁▂▂▃▃</td></tr><tr><td>recon_loss</td><td>█▂▃▃▃▃▃▃▂▄▄▂▆▄▂▃▂▁▁▁▃▁▁▁▁▂▂▁▁▁▁▁▁▁▁▁▁▁▁▂</td></tr></table><br/></div><div class=\"wandb-col\"><h3>Run summary:</h3><br/><table class=\"wandb\"><tr><td>branch_loss</td><td>0.06723</td></tr><tr><td>kl</td><td>90.86776</td></tr><tr><td>loss</td><td>7.56851</td></tr><tr><td>recon_loss</td><td>4e-05</td></tr><tr><td>vars</td><td>A+B+C+D</td></tr></table><br/></div></div>"
            ],
            "text/plain": [
              "<IPython.core.display.HTML object>"
            ]
          },
          "metadata": {},
          "output_type": "display_data"
        },
        {
          "data": {
            "text/html": [
              "Synced <strong style=\"color:#cdcd00\">zany-sweep-13</strong>: <a href=\"https://wandb.ai/sophied/exponentials/runs/xjsmzecr\" target=\"_blank\">https://wandb.ai/sophied/exponentials/runs/xjsmzecr</a><br/>Synced 4 W&B file(s), 0 media file(s), 0 artifact file(s) and 0 other file(s)"
            ],
            "text/plain": [
              "<IPython.core.display.HTML object>"
            ]
          },
          "metadata": {},
          "output_type": "display_data"
        },
        {
          "data": {
            "text/html": [
              "Find logs at: <code>./wandb/run-20220528_223550-xjsmzecr/logs</code>"
            ],
            "text/plain": [
              "<IPython.core.display.HTML object>"
            ]
          },
          "metadata": {},
          "output_type": "display_data"
        },
        {
          "name": "stderr",
          "output_type": "stream",
          "text": [
            "\u001b[34m\u001b[1mwandb\u001b[0m: Agent Starting Run: n77580qe with config:\n",
            "\u001b[34m\u001b[1mwandb\u001b[0m: \tae_layer: 11\n",
            "\u001b[34m\u001b[1mwandb\u001b[0m: \tbranch_layer: 8\n",
            "\u001b[34m\u001b[1mwandb\u001b[0m: \tbranch_weight: 76.2372628829918\n",
            "\u001b[34m\u001b[1mwandb\u001b[0m: \tkl_weight: 0.8081357744220111\n",
            "\u001b[34m\u001b[1mwandb\u001b[0m: \tlearning_rate: 0.0012174937541720484\n"
          ]
        },
        {
          "data": {
            "text/html": [
              "Tracking run with wandb version 0.12.17"
            ],
            "text/plain": [
              "<IPython.core.display.HTML object>"
            ]
          },
          "metadata": {},
          "output_type": "display_data"
        },
        {
          "data": {
            "text/html": [
              "Run data is saved locally in <code>/content/wandb/run-20220528_223840-n77580qe</code>"
            ],
            "text/plain": [
              "<IPython.core.display.HTML object>"
            ]
          },
          "metadata": {},
          "output_type": "display_data"
        },
        {
          "data": {
            "text/html": [
              "Syncing run <strong><a href=\"https://wandb.ai/sophied/exponentials/runs/n77580qe\" target=\"_blank\">smooth-sweep-14</a></strong> to <a href=\"https://wandb.ai/sophied/exponentials\" target=\"_blank\">Weights & Biases</a> (<a href=\"https://wandb.me/run\" target=\"_blank\">docs</a>)<br/>Sweep page:  <a href=\"https://wandb.ai/sophied/exponentials/sweeps/5e99jgaj\" target=\"_blank\">https://wandb.ai/sophied/exponentials/sweeps/5e99jgaj</a>"
            ],
            "text/plain": [
              "<IPython.core.display.HTML object>"
            ]
          },
          "metadata": {},
          "output_type": "display_data"
        },
        {
          "data": {
            "text/html": [
              "Waiting for W&B process to finish... <strong style=\"color:green\">(success).</strong>"
            ],
            "text/plain": [
              "<IPython.core.display.HTML object>"
            ]
          },
          "metadata": {},
          "output_type": "display_data"
        },
        {
          "data": {
            "application/vnd.jupyter.widget-view+json": {
              "model_id": "0051d017caf84526a0d9b1d3c4866635",
              "version_major": 2,
              "version_minor": 0
            },
            "text/plain": [
              "VBox(children=(Label(value='0.000 MB of 0.000 MB uploaded (0.000 MB deduped)\\r'), FloatProgress(value=1.0, max…"
            ]
          },
          "metadata": {},
          "output_type": "display_data"
        },
        {
          "data": {
            "text/html": [
              "<style>\n",
              "    table.wandb td:nth-child(1) { padding: 0 10px; text-align: left ; width: auto;} td:nth-child(2) {text-align: left ; width: 100%}\n",
              "    .wandb-row { display: flex; flex-direction: row; flex-wrap: wrap; justify-content: flex-start; width: 100% }\n",
              "    .wandb-col { display: flex; flex-direction: column; flex-basis: 100%; flex: 1; padding: 10px; }\n",
              "    </style>\n",
              "<div class=\"wandb-row\"><div class=\"wandb-col\"><h3>Run history:</h3><br/><table class=\"wandb\"><tr><td>branch_loss</td><td>▄▆▃▄▃▄█▇▄▄▃█▆▄▅▅▅▃▅▆▇▅▄▆▇█▃▃▅▃▅▃▁▄▇▂▃▄▆▂</td></tr><tr><td>kl</td><td>▄▄▃▃▆▂▅▄█▅▃▂▃▂▃▆▃▄▃▃▄▄▅▂█▄▃▆▄▄▃▅▆▃▄▁▅▃▅▅</td></tr><tr><td>loss</td><td>▄▄▃▃▆▂▅▄▇▅▃▂▃▂▃▆▃▄▃▃▄▄▅▂█▄▃▆▄▄▃▅▆▃▄▁▅▃▅▅</td></tr><tr><td>recon_loss</td><td>█▃▂▁▁▁▁▁▁▁▁▁▂▁▁▁▁▁▁▁▂▁▁▁▂▁▁▁▁▁▁▁▁▁▂▁▁▁▁▁</td></tr></table><br/></div><div class=\"wandb-col\"><h3>Run summary:</h3><br/><table class=\"wandb\"><tr><td>branch_loss</td><td>0.0896</td></tr><tr><td>kl</td><td>93.55589</td></tr><tr><td>loss</td><td>82.43661</td></tr><tr><td>recon_loss</td><td>0.0001</td></tr><tr><td>vars</td><td>A+B+C+D</td></tr></table><br/></div></div>"
            ],
            "text/plain": [
              "<IPython.core.display.HTML object>"
            ]
          },
          "metadata": {},
          "output_type": "display_data"
        },
        {
          "data": {
            "text/html": [
              "Synced <strong style=\"color:#cdcd00\">smooth-sweep-14</strong>: <a href=\"https://wandb.ai/sophied/exponentials/runs/n77580qe\" target=\"_blank\">https://wandb.ai/sophied/exponentials/runs/n77580qe</a><br/>Synced 4 W&B file(s), 0 media file(s), 0 artifact file(s) and 0 other file(s)"
            ],
            "text/plain": [
              "<IPython.core.display.HTML object>"
            ]
          },
          "metadata": {},
          "output_type": "display_data"
        },
        {
          "data": {
            "text/html": [
              "Find logs at: <code>./wandb/run-20220528_223840-n77580qe/logs</code>"
            ],
            "text/plain": [
              "<IPython.core.display.HTML object>"
            ]
          },
          "metadata": {},
          "output_type": "display_data"
        },
        {
          "name": "stderr",
          "output_type": "stream",
          "text": [
            "\u001b[34m\u001b[1mwandb\u001b[0m: Sweep Agent: Waiting for job.\n",
            "\u001b[34m\u001b[1mwandb\u001b[0m: Job received.\n",
            "\u001b[34m\u001b[1mwandb\u001b[0m: Agent Starting Run: ro22hv92 with config:\n",
            "\u001b[34m\u001b[1mwandb\u001b[0m: \tae_layer: 7\n",
            "\u001b[34m\u001b[1mwandb\u001b[0m: \tbranch_layer: 7\n",
            "\u001b[34m\u001b[1mwandb\u001b[0m: \tbranch_weight: 95.7616394620578\n",
            "\u001b[34m\u001b[1mwandb\u001b[0m: \tkl_weight: 0.4496201595379174\n",
            "\u001b[34m\u001b[1mwandb\u001b[0m: \tlearning_rate: 0.00261980910087083\n"
          ]
        },
        {
          "data": {
            "text/html": [
              "Tracking run with wandb version 0.12.17"
            ],
            "text/plain": [
              "<IPython.core.display.HTML object>"
            ]
          },
          "metadata": {},
          "output_type": "display_data"
        },
        {
          "data": {
            "text/html": [
              "Run data is saved locally in <code>/content/wandb/run-20220528_224138-ro22hv92</code>"
            ],
            "text/plain": [
              "<IPython.core.display.HTML object>"
            ]
          },
          "metadata": {},
          "output_type": "display_data"
        },
        {
          "data": {
            "text/html": [
              "Syncing run <strong><a href=\"https://wandb.ai/sophied/exponentials/runs/ro22hv92\" target=\"_blank\">vocal-sweep-15</a></strong> to <a href=\"https://wandb.ai/sophied/exponentials\" target=\"_blank\">Weights & Biases</a> (<a href=\"https://wandb.me/run\" target=\"_blank\">docs</a>)<br/>Sweep page:  <a href=\"https://wandb.ai/sophied/exponentials/sweeps/5e99jgaj\" target=\"_blank\">https://wandb.ai/sophied/exponentials/sweeps/5e99jgaj</a>"
            ],
            "text/plain": [
              "<IPython.core.display.HTML object>"
            ]
          },
          "metadata": {},
          "output_type": "display_data"
        },
        {
          "data": {
            "text/html": [
              "Waiting for W&B process to finish... <strong style=\"color:green\">(success).</strong>"
            ],
            "text/plain": [
              "<IPython.core.display.HTML object>"
            ]
          },
          "metadata": {},
          "output_type": "display_data"
        },
        {
          "data": {
            "application/vnd.jupyter.widget-view+json": {
              "model_id": "bd18ab8b908740f4960401a6eea5d8c3",
              "version_major": 2,
              "version_minor": 0
            },
            "text/plain": [
              "VBox(children=(Label(value='0.000 MB of 0.000 MB uploaded (0.000 MB deduped)\\r'), FloatProgress(value=1.0, max…"
            ]
          },
          "metadata": {},
          "output_type": "display_data"
        },
        {
          "data": {
            "text/html": [
              "<style>\n",
              "    table.wandb td:nth-child(1) { padding: 0 10px; text-align: left ; width: auto;} td:nth-child(2) {text-align: left ; width: 100%}\n",
              "    .wandb-row { display: flex; flex-direction: row; flex-wrap: wrap; justify-content: flex-start; width: 100% }\n",
              "    .wandb-col { display: flex; flex-direction: column; flex-basis: 100%; flex: 1; padding: 10px; }\n",
              "    </style>\n",
              "<div class=\"wandb-row\"><div class=\"wandb-col\"><h3>Run history:</h3><br/><table class=\"wandb\"><tr><td>branch_loss</td><td>▅█▅▆▅▆█▇▆▆▅█▇▆▆▆▇▅▆▇▆▆▄▅▅▇▄▂▄▃▄▃▂▃▃▁▁▂▂▄</td></tr><tr><td>kl</td><td>▅▄▄▃▆▂▆▅█▅▄▃▄▃▃▆▃▅▄▃▄▄▅▃█▄▃▆▄▅▃▅▆▃▃▁▅▃▄▅</td></tr><tr><td>loss</td><td>▅▅▄▄▆▃▆▅█▅▄▄▄▃▄▆▄▅▄▄▅▅▅▃█▅▃▅▄▄▃▅▆▃▄▁▅▃▄▅</td></tr><tr><td>recon_loss</td><td>█▂▁▁▁▁▁▁▁▁▂▁▂▁▁▁▁▁▁▁▁▁▁▁▁▁▁▁▁▁▁▁▁▁▁▁▁▁▁▁</td></tr></table><br/></div><div class=\"wandb-col\"><h3>Run summary:</h3><br/><table class=\"wandb\"><tr><td>branch_loss</td><td>0.0774</td></tr><tr><td>kl</td><td>91.01363</td></tr><tr><td>loss</td><td>48.33352</td></tr><tr><td>recon_loss</td><td>5e-05</td></tr><tr><td>vars</td><td>A+B+C+D</td></tr></table><br/></div></div>"
            ],
            "text/plain": [
              "<IPython.core.display.HTML object>"
            ]
          },
          "metadata": {},
          "output_type": "display_data"
        },
        {
          "data": {
            "text/html": [
              "Synced <strong style=\"color:#cdcd00\">vocal-sweep-15</strong>: <a href=\"https://wandb.ai/sophied/exponentials/runs/ro22hv92\" target=\"_blank\">https://wandb.ai/sophied/exponentials/runs/ro22hv92</a><br/>Synced 4 W&B file(s), 0 media file(s), 0 artifact file(s) and 0 other file(s)"
            ],
            "text/plain": [
              "<IPython.core.display.HTML object>"
            ]
          },
          "metadata": {},
          "output_type": "display_data"
        },
        {
          "data": {
            "text/html": [
              "Find logs at: <code>./wandb/run-20220528_224138-ro22hv92/logs</code>"
            ],
            "text/plain": [
              "<IPython.core.display.HTML object>"
            ]
          },
          "metadata": {},
          "output_type": "display_data"
        },
        {
          "name": "stderr",
          "output_type": "stream",
          "text": [
            "\u001b[34m\u001b[1mwandb\u001b[0m: Agent Starting Run: lbvsp2se with config:\n",
            "\u001b[34m\u001b[1mwandb\u001b[0m: \tae_layer: 18\n",
            "\u001b[34m\u001b[1mwandb\u001b[0m: \tbranch_layer: 5\n",
            "\u001b[34m\u001b[1mwandb\u001b[0m: \tbranch_weight: 57.79292141102271\n",
            "\u001b[34m\u001b[1mwandb\u001b[0m: \tkl_weight: 0.04973968888078692\n",
            "\u001b[34m\u001b[1mwandb\u001b[0m: \tlearning_rate: 0.0019042829562684344\n"
          ]
        },
        {
          "data": {
            "text/html": [
              "Tracking run with wandb version 0.12.17"
            ],
            "text/plain": [
              "<IPython.core.display.HTML object>"
            ]
          },
          "metadata": {},
          "output_type": "display_data"
        },
        {
          "data": {
            "text/html": [
              "Run data is saved locally in <code>/content/wandb/run-20220528_224432-lbvsp2se</code>"
            ],
            "text/plain": [
              "<IPython.core.display.HTML object>"
            ]
          },
          "metadata": {},
          "output_type": "display_data"
        },
        {
          "data": {
            "text/html": [
              "Syncing run <strong><a href=\"https://wandb.ai/sophied/exponentials/runs/lbvsp2se\" target=\"_blank\">glamorous-sweep-16</a></strong> to <a href=\"https://wandb.ai/sophied/exponentials\" target=\"_blank\">Weights & Biases</a> (<a href=\"https://wandb.me/run\" target=\"_blank\">docs</a>)<br/>Sweep page:  <a href=\"https://wandb.ai/sophied/exponentials/sweeps/5e99jgaj\" target=\"_blank\">https://wandb.ai/sophied/exponentials/sweeps/5e99jgaj</a>"
            ],
            "text/plain": [
              "<IPython.core.display.HTML object>"
            ]
          },
          "metadata": {},
          "output_type": "display_data"
        },
        {
          "data": {
            "text/html": [
              "Waiting for W&B process to finish... <strong style=\"color:green\">(success).</strong>"
            ],
            "text/plain": [
              "<IPython.core.display.HTML object>"
            ]
          },
          "metadata": {},
          "output_type": "display_data"
        },
        {
          "data": {
            "application/vnd.jupyter.widget-view+json": {
              "model_id": "18e8fd9edf714f55a3d8598b8ffe5463",
              "version_major": 2,
              "version_minor": 0
            },
            "text/plain": [
              "VBox(children=(Label(value='0.000 MB of 0.000 MB uploaded (0.000 MB deduped)\\r'), FloatProgress(value=1.0, max…"
            ]
          },
          "metadata": {},
          "output_type": "display_data"
        },
        {
          "data": {
            "text/html": [
              "<style>\n",
              "    table.wandb td:nth-child(1) { padding: 0 10px; text-align: left ; width: auto;} td:nth-child(2) {text-align: left ; width: 100%}\n",
              "    .wandb-row { display: flex; flex-direction: row; flex-wrap: wrap; justify-content: flex-start; width: 100% }\n",
              "    .wandb-col { display: flex; flex-direction: column; flex-basis: 100%; flex: 1; padding: 10px; }\n",
              "    </style>\n",
              "<div class=\"wandb-row\"><div class=\"wandb-col\"><h3>Run history:</h3><br/><table class=\"wandb\"><tr><td>branch_loss</td><td>▅█▄▆▄▅█▇▅▅▄█▆▅▆▆▆▄▆▇▇▆▅▇▇█▄▅▆▅▅▄▂▄▅▁▃▂▂▂</td></tr><tr><td>kl</td><td>▄▄▃▃▆▂▅▄█▅▃▂▃▂▃▆▃▅▃▃▄▄▅▂█▄▃▆▄▅▄▅▆▃▄▁▅▃▄▅</td></tr><tr><td>loss</td><td>▅▆▄▄▅▃▇▆▇▅▄▅▅▄▄▆▄▅▅▅▅▅▅▅█▆▄▅▅▅▄▅▅▄▄▁▄▂▃▄</td></tr><tr><td>recon_loss</td><td>█▂▁▂▁▂▂▂▁▂▂▁▂▂▁▂▁▁▂▂▂▁▁▁▃▁▂▂▁▁▁▁▁▁▁▁▁▁▁▁</td></tr></table><br/></div><div class=\"wandb-col\"><h3>Run summary:</h3><br/><table class=\"wandb\"><tr><td>branch_loss</td><td>0.07762</td></tr><tr><td>kl</td><td>91.79008</td></tr><tr><td>loss</td><td>9.05176</td></tr><tr><td>recon_loss</td><td>5e-05</td></tr><tr><td>vars</td><td>A+B+C+D</td></tr></table><br/></div></div>"
            ],
            "text/plain": [
              "<IPython.core.display.HTML object>"
            ]
          },
          "metadata": {},
          "output_type": "display_data"
        },
        {
          "data": {
            "text/html": [
              "Synced <strong style=\"color:#cdcd00\">glamorous-sweep-16</strong>: <a href=\"https://wandb.ai/sophied/exponentials/runs/lbvsp2se\" target=\"_blank\">https://wandb.ai/sophied/exponentials/runs/lbvsp2se</a><br/>Synced 4 W&B file(s), 0 media file(s), 0 artifact file(s) and 0 other file(s)"
            ],
            "text/plain": [
              "<IPython.core.display.HTML object>"
            ]
          },
          "metadata": {},
          "output_type": "display_data"
        },
        {
          "data": {
            "text/html": [
              "Find logs at: <code>./wandb/run-20220528_224432-lbvsp2se/logs</code>"
            ],
            "text/plain": [
              "<IPython.core.display.HTML object>"
            ]
          },
          "metadata": {},
          "output_type": "display_data"
        },
        {
          "name": "stderr",
          "output_type": "stream",
          "text": [
            "\u001b[34m\u001b[1mwandb\u001b[0m: Agent Starting Run: zzpk0mud with config:\n",
            "\u001b[34m\u001b[1mwandb\u001b[0m: \tae_layer: 10\n",
            "\u001b[34m\u001b[1mwandb\u001b[0m: \tbranch_layer: 10\n",
            "\u001b[34m\u001b[1mwandb\u001b[0m: \tbranch_weight: 7.910094128982519\n",
            "\u001b[34m\u001b[1mwandb\u001b[0m: \tkl_weight: 0.6616971501829381\n",
            "\u001b[34m\u001b[1mwandb\u001b[0m: \tlearning_rate: 0.001350261288015207\n"
          ]
        },
        {
          "data": {
            "text/html": [
              "Tracking run with wandb version 0.12.17"
            ],
            "text/plain": [
              "<IPython.core.display.HTML object>"
            ]
          },
          "metadata": {},
          "output_type": "display_data"
        },
        {
          "data": {
            "text/html": [
              "Run data is saved locally in <code>/content/wandb/run-20220528_224725-zzpk0mud</code>"
            ],
            "text/plain": [
              "<IPython.core.display.HTML object>"
            ]
          },
          "metadata": {},
          "output_type": "display_data"
        },
        {
          "data": {
            "text/html": [
              "Syncing run <strong><a href=\"https://wandb.ai/sophied/exponentials/runs/zzpk0mud\" target=\"_blank\">divine-sweep-17</a></strong> to <a href=\"https://wandb.ai/sophied/exponentials\" target=\"_blank\">Weights & Biases</a> (<a href=\"https://wandb.me/run\" target=\"_blank\">docs</a>)<br/>Sweep page:  <a href=\"https://wandb.ai/sophied/exponentials/sweeps/5e99jgaj\" target=\"_blank\">https://wandb.ai/sophied/exponentials/sweeps/5e99jgaj</a>"
            ],
            "text/plain": [
              "<IPython.core.display.HTML object>"
            ]
          },
          "metadata": {},
          "output_type": "display_data"
        },
        {
          "data": {
            "text/html": [
              "Waiting for W&B process to finish... <strong style=\"color:green\">(success).</strong>"
            ],
            "text/plain": [
              "<IPython.core.display.HTML object>"
            ]
          },
          "metadata": {},
          "output_type": "display_data"
        },
        {
          "data": {
            "application/vnd.jupyter.widget-view+json": {
              "model_id": "7899e1db4abd4a44a9f59d6f70660a48",
              "version_major": 2,
              "version_minor": 0
            },
            "text/plain": [
              "VBox(children=(Label(value='0.000 MB of 0.000 MB uploaded (0.000 MB deduped)\\r'), FloatProgress(value=1.0, max…"
            ]
          },
          "metadata": {},
          "output_type": "display_data"
        },
        {
          "data": {
            "text/html": [
              "<style>\n",
              "    table.wandb td:nth-child(1) { padding: 0 10px; text-align: left ; width: auto;} td:nth-child(2) {text-align: left ; width: 100%}\n",
              "    .wandb-row { display: flex; flex-direction: row; flex-wrap: wrap; justify-content: flex-start; width: 100% }\n",
              "    .wandb-col { display: flex; flex-direction: column; flex-basis: 100%; flex: 1; padding: 10px; }\n",
              "    </style>\n",
              "<div class=\"wandb-row\"><div class=\"wandb-col\"><h3>Run history:</h3><br/><table class=\"wandb\"><tr><td>branch_loss</td><td>▅▇▃▅▄▅█▇▅▅▄█▆▅▆▆▆▄▆▇▇▆▅▇▇█▄▄▅▄▅▄▂▅▆▂▂▂▂▁</td></tr><tr><td>kl</td><td>▄▄▃▃▆▂▅▄█▅▃▂▃▂▃▆▃▅▃▃▄▄▅▂█▄▃▆▄▅▃▅▆▃▄▁▅▃▄▅</td></tr><tr><td>loss</td><td>▄▄▃▃▆▂▅▄█▅▃▂▃▂▃▆▃▅▃▃▄▄▅▂█▄▃▆▄▅▃▅▆▃▄▁▅▃▄▅</td></tr><tr><td>recon_loss</td><td>█▃▁▁▁▁▁▁▁▁▁▁▂▁▁▁▁▁▁▁▁▁▁▁▂▁▁▁▁▁▁▁▁▁▁▁▁▁▁▁</td></tr></table><br/></div><div class=\"wandb-col\"><h3>Run summary:</h3><br/><table class=\"wandb\"><tr><td>branch_loss</td><td>0.07775</td></tr><tr><td>kl</td><td>91.64579</td></tr><tr><td>loss</td><td>61.25683</td></tr><tr><td>recon_loss</td><td>5e-05</td></tr><tr><td>vars</td><td>A+B+C+D</td></tr></table><br/></div></div>"
            ],
            "text/plain": [
              "<IPython.core.display.HTML object>"
            ]
          },
          "metadata": {},
          "output_type": "display_data"
        },
        {
          "data": {
            "text/html": [
              "Synced <strong style=\"color:#cdcd00\">divine-sweep-17</strong>: <a href=\"https://wandb.ai/sophied/exponentials/runs/zzpk0mud\" target=\"_blank\">https://wandb.ai/sophied/exponentials/runs/zzpk0mud</a><br/>Synced 4 W&B file(s), 0 media file(s), 0 artifact file(s) and 0 other file(s)"
            ],
            "text/plain": [
              "<IPython.core.display.HTML object>"
            ]
          },
          "metadata": {},
          "output_type": "display_data"
        },
        {
          "data": {
            "text/html": [
              "Find logs at: <code>./wandb/run-20220528_224725-zzpk0mud/logs</code>"
            ],
            "text/plain": [
              "<IPython.core.display.HTML object>"
            ]
          },
          "metadata": {},
          "output_type": "display_data"
        },
        {
          "name": "stderr",
          "output_type": "stream",
          "text": [
            "\u001b[34m\u001b[1mwandb\u001b[0m: Agent Starting Run: kug2tdez with config:\n",
            "\u001b[34m\u001b[1mwandb\u001b[0m: \tae_layer: 17\n",
            "\u001b[34m\u001b[1mwandb\u001b[0m: \tbranch_layer: 7\n",
            "\u001b[34m\u001b[1mwandb\u001b[0m: \tbranch_weight: 79.12448271782853\n",
            "\u001b[34m\u001b[1mwandb\u001b[0m: \tkl_weight: 0.6045382611692802\n",
            "\u001b[34m\u001b[1mwandb\u001b[0m: \tlearning_rate: 0.002985551955375923\n"
          ]
        },
        {
          "data": {
            "text/html": [
              "Tracking run with wandb version 0.12.17"
            ],
            "text/plain": [
              "<IPython.core.display.HTML object>"
            ]
          },
          "metadata": {},
          "output_type": "display_data"
        },
        {
          "data": {
            "text/html": [
              "Run data is saved locally in <code>/content/wandb/run-20220528_225018-kug2tdez</code>"
            ],
            "text/plain": [
              "<IPython.core.display.HTML object>"
            ]
          },
          "metadata": {},
          "output_type": "display_data"
        },
        {
          "data": {
            "text/html": [
              "Syncing run <strong><a href=\"https://wandb.ai/sophied/exponentials/runs/kug2tdez\" target=\"_blank\">good-sweep-18</a></strong> to <a href=\"https://wandb.ai/sophied/exponentials\" target=\"_blank\">Weights & Biases</a> (<a href=\"https://wandb.me/run\" target=\"_blank\">docs</a>)<br/>Sweep page:  <a href=\"https://wandb.ai/sophied/exponentials/sweeps/5e99jgaj\" target=\"_blank\">https://wandb.ai/sophied/exponentials/sweeps/5e99jgaj</a>"
            ],
            "text/plain": [
              "<IPython.core.display.HTML object>"
            ]
          },
          "metadata": {},
          "output_type": "display_data"
        },
        {
          "data": {
            "text/html": [
              "Waiting for W&B process to finish... <strong style=\"color:green\">(success).</strong>"
            ],
            "text/plain": [
              "<IPython.core.display.HTML object>"
            ]
          },
          "metadata": {},
          "output_type": "display_data"
        },
        {
          "data": {
            "application/vnd.jupyter.widget-view+json": {
              "model_id": "45e98cf09d4e4a51bf2894ab6f2b5f88",
              "version_major": 2,
              "version_minor": 0
            },
            "text/plain": [
              "VBox(children=(Label(value='0.000 MB of 0.000 MB uploaded (0.000 MB deduped)\\r'), FloatProgress(value=1.0, max…"
            ]
          },
          "metadata": {},
          "output_type": "display_data"
        },
        {
          "data": {
            "text/html": [
              "<style>\n",
              "    table.wandb td:nth-child(1) { padding: 0 10px; text-align: left ; width: auto;} td:nth-child(2) {text-align: left ; width: 100%}\n",
              "    .wandb-row { display: flex; flex-direction: row; flex-wrap: wrap; justify-content: flex-start; width: 100% }\n",
              "    .wandb-col { display: flex; flex-direction: column; flex-basis: 100%; flex: 1; padding: 10px; }\n",
              "    </style>\n",
              "<div class=\"wandb-row\"><div class=\"wandb-col\"><h3>Run history:</h3><br/><table class=\"wandb\"><tr><td>branch_loss</td><td>▄▆▂▄▃▄█▇▄▄▃█▆▄▅▅▅▃▆▇▇▆▄▆▇█▃▃▅▃▅▃▁▄▇▂▃▄▆▂</td></tr><tr><td>kl</td><td>▄▄▃▃▆▂▅▄█▅▃▂▃▂▃▆▃▄▃▃▄▄▅▂█▄▃▆▄▄▃▅▆▃▄▁▅▃▅▅</td></tr><tr><td>loss</td><td>▄▄▃▃▆▂▅▄▇▅▃▃▃▂▃▆▃▄▃▃▄▄▅▃█▄▃▆▄▄▃▅▆▃▄▁▅▃▅▅</td></tr><tr><td>recon_loss</td><td>█▂▂▂▂▂▂▂▂▃▃▁▄▃▁▃▂▂▂▃▄▁▁▁█▂▂▂▂▁▃▁▁▂▄▂▁▁▁▂</td></tr></table><br/></div><div class=\"wandb-col\"><h3>Run summary:</h3><br/><table class=\"wandb\"><tr><td>branch_loss</td><td>0.08941</td></tr><tr><td>kl</td><td>93.51754</td></tr><tr><td>loss</td><td>63.60923</td></tr><tr><td>recon_loss</td><td>0.00011</td></tr><tr><td>vars</td><td>A+B+C+D</td></tr></table><br/></div></div>"
            ],
            "text/plain": [
              "<IPython.core.display.HTML object>"
            ]
          },
          "metadata": {},
          "output_type": "display_data"
        },
        {
          "data": {
            "text/html": [
              "Synced <strong style=\"color:#cdcd00\">good-sweep-18</strong>: <a href=\"https://wandb.ai/sophied/exponentials/runs/kug2tdez\" target=\"_blank\">https://wandb.ai/sophied/exponentials/runs/kug2tdez</a><br/>Synced 4 W&B file(s), 0 media file(s), 0 artifact file(s) and 0 other file(s)"
            ],
            "text/plain": [
              "<IPython.core.display.HTML object>"
            ]
          },
          "metadata": {},
          "output_type": "display_data"
        },
        {
          "data": {
            "text/html": [
              "Find logs at: <code>./wandb/run-20220528_225018-kug2tdez/logs</code>"
            ],
            "text/plain": [
              "<IPython.core.display.HTML object>"
            ]
          },
          "metadata": {},
          "output_type": "display_data"
        },
        {
          "name": "stderr",
          "output_type": "stream",
          "text": [
            "\u001b[34m\u001b[1mwandb\u001b[0m: Agent Starting Run: xgnvexvt with config:\n",
            "\u001b[34m\u001b[1mwandb\u001b[0m: \tae_layer: 12\n",
            "\u001b[34m\u001b[1mwandb\u001b[0m: \tbranch_layer: 4\n",
            "\u001b[34m\u001b[1mwandb\u001b[0m: \tbranch_weight: 15.40800143745242\n",
            "\u001b[34m\u001b[1mwandb\u001b[0m: \tkl_weight: 0.5506015546058736\n",
            "\u001b[34m\u001b[1mwandb\u001b[0m: \tlearning_rate: 0.001078703601577561\n"
          ]
        },
        {
          "data": {
            "text/html": [
              "Tracking run with wandb version 0.12.17"
            ],
            "text/plain": [
              "<IPython.core.display.HTML object>"
            ]
          },
          "metadata": {},
          "output_type": "display_data"
        },
        {
          "data": {
            "text/html": [
              "Run data is saved locally in <code>/content/wandb/run-20220528_225311-xgnvexvt</code>"
            ],
            "text/plain": [
              "<IPython.core.display.HTML object>"
            ]
          },
          "metadata": {},
          "output_type": "display_data"
        },
        {
          "data": {
            "text/html": [
              "Syncing run <strong><a href=\"https://wandb.ai/sophied/exponentials/runs/xgnvexvt\" target=\"_blank\">icy-sweep-19</a></strong> to <a href=\"https://wandb.ai/sophied/exponentials\" target=\"_blank\">Weights & Biases</a> (<a href=\"https://wandb.me/run\" target=\"_blank\">docs</a>)<br/>Sweep page:  <a href=\"https://wandb.ai/sophied/exponentials/sweeps/5e99jgaj\" target=\"_blank\">https://wandb.ai/sophied/exponentials/sweeps/5e99jgaj</a>"
            ],
            "text/plain": [
              "<IPython.core.display.HTML object>"
            ]
          },
          "metadata": {},
          "output_type": "display_data"
        },
        {
          "data": {
            "text/html": [
              "Waiting for W&B process to finish... <strong style=\"color:green\">(success).</strong>"
            ],
            "text/plain": [
              "<IPython.core.display.HTML object>"
            ]
          },
          "metadata": {},
          "output_type": "display_data"
        },
        {
          "data": {
            "application/vnd.jupyter.widget-view+json": {
              "model_id": "6841e8c17c5348099373553a171df7b6",
              "version_major": 2,
              "version_minor": 0
            },
            "text/plain": [
              "VBox(children=(Label(value='0.000 MB of 0.000 MB uploaded (0.000 MB deduped)\\r'), FloatProgress(value=1.0, max…"
            ]
          },
          "metadata": {},
          "output_type": "display_data"
        },
        {
          "data": {
            "text/html": [
              "<style>\n",
              "    table.wandb td:nth-child(1) { padding: 0 10px; text-align: left ; width: auto;} td:nth-child(2) {text-align: left ; width: 100%}\n",
              "    .wandb-row { display: flex; flex-direction: row; flex-wrap: wrap; justify-content: flex-start; width: 100% }\n",
              "    .wandb-col { display: flex; flex-direction: column; flex-basis: 100%; flex: 1; padding: 10px; }\n",
              "    </style>\n",
              "<div class=\"wandb-row\"><div class=\"wandb-col\"><h3>Run history:</h3><br/><table class=\"wandb\"><tr><td>branch_loss</td><td>▅▇▂▄▂▄█▇▄▄▃█▆▄▅▅▅▃▅▇▇▅▄▆▇█▃▃▅▃▅▃▁▄▇▂▃▄▆▂</td></tr><tr><td>kl</td><td>▄▄▃▃▆▂▅▄█▅▃▂▃▂▃▆▃▄▃▃▄▄▅▂█▄▃▆▄▄▃▅▆▃▄▁▅▃▅▅</td></tr><tr><td>loss</td><td>▄▄▃▃▆▂▅▄█▅▃▂▃▂▃▆▃▄▃▃▄▄▅▂█▄▃▆▄▄▃▅▆▃▄▁▅▃▅▅</td></tr><tr><td>recon_loss</td><td>█▃▁▁▁▁▁▁▁▁▁▁▂▁▁▁▁▁▁▁▁▁▁▁▂▁▁▁▁▁▁▁▁▁▁▁▁▁▁▁</td></tr></table><br/></div><div class=\"wandb-col\"><h3>Run summary:</h3><br/><table class=\"wandb\"><tr><td>branch_loss</td><td>0.08918</td></tr><tr><td>kl</td><td>93.51092</td></tr><tr><td>loss</td><td>52.86141</td></tr><tr><td>recon_loss</td><td>0.0001</td></tr><tr><td>vars</td><td>A+B+C+D</td></tr></table><br/></div></div>"
            ],
            "text/plain": [
              "<IPython.core.display.HTML object>"
            ]
          },
          "metadata": {},
          "output_type": "display_data"
        },
        {
          "data": {
            "text/html": [
              "Synced <strong style=\"color:#cdcd00\">icy-sweep-19</strong>: <a href=\"https://wandb.ai/sophied/exponentials/runs/xgnvexvt\" target=\"_blank\">https://wandb.ai/sophied/exponentials/runs/xgnvexvt</a><br/>Synced 4 W&B file(s), 0 media file(s), 0 artifact file(s) and 0 other file(s)"
            ],
            "text/plain": [
              "<IPython.core.display.HTML object>"
            ]
          },
          "metadata": {},
          "output_type": "display_data"
        },
        {
          "data": {
            "text/html": [
              "Find logs at: <code>./wandb/run-20220528_225311-xgnvexvt/logs</code>"
            ],
            "text/plain": [
              "<IPython.core.display.HTML object>"
            ]
          },
          "metadata": {},
          "output_type": "display_data"
        },
        {
          "name": "stderr",
          "output_type": "stream",
          "text": [
            "\u001b[34m\u001b[1mwandb\u001b[0m: Agent Starting Run: lbh5in2k with config:\n",
            "\u001b[34m\u001b[1mwandb\u001b[0m: \tae_layer: 19\n",
            "\u001b[34m\u001b[1mwandb\u001b[0m: \tbranch_layer: 8\n",
            "\u001b[34m\u001b[1mwandb\u001b[0m: \tbranch_weight: 18.6044502176784\n",
            "\u001b[34m\u001b[1mwandb\u001b[0m: \tkl_weight: 0.1478753925599494\n",
            "\u001b[34m\u001b[1mwandb\u001b[0m: \tlearning_rate: 0.001082332550435935\n"
          ]
        },
        {
          "data": {
            "text/html": [
              "Tracking run with wandb version 0.12.17"
            ],
            "text/plain": [
              "<IPython.core.display.HTML object>"
            ]
          },
          "metadata": {},
          "output_type": "display_data"
        },
        {
          "data": {
            "text/html": [
              "Run data is saved locally in <code>/content/wandb/run-20220528_225604-lbh5in2k</code>"
            ],
            "text/plain": [
              "<IPython.core.display.HTML object>"
            ]
          },
          "metadata": {},
          "output_type": "display_data"
        },
        {
          "data": {
            "text/html": [
              "Syncing run <strong><a href=\"https://wandb.ai/sophied/exponentials/runs/lbh5in2k\" target=\"_blank\">crimson-sweep-20</a></strong> to <a href=\"https://wandb.ai/sophied/exponentials\" target=\"_blank\">Weights & Biases</a> (<a href=\"https://wandb.me/run\" target=\"_blank\">docs</a>)<br/>Sweep page:  <a href=\"https://wandb.ai/sophied/exponentials/sweeps/5e99jgaj\" target=\"_blank\">https://wandb.ai/sophied/exponentials/sweeps/5e99jgaj</a>"
            ],
            "text/plain": [
              "<IPython.core.display.HTML object>"
            ]
          },
          "metadata": {},
          "output_type": "display_data"
        },
        {
          "data": {
            "text/html": [
              "Waiting for W&B process to finish... <strong style=\"color:green\">(success).</strong>"
            ],
            "text/plain": [
              "<IPython.core.display.HTML object>"
            ]
          },
          "metadata": {},
          "output_type": "display_data"
        },
        {
          "data": {
            "application/vnd.jupyter.widget-view+json": {
              "model_id": "d3d1f29faa384a33aab21a053c820291",
              "version_major": 2,
              "version_minor": 0
            },
            "text/plain": [
              "VBox(children=(Label(value='0.000 MB of 0.000 MB uploaded (0.000 MB deduped)\\r'), FloatProgress(value=1.0, max…"
            ]
          },
          "metadata": {},
          "output_type": "display_data"
        },
        {
          "data": {
            "text/html": [
              "<style>\n",
              "    table.wandb td:nth-child(1) { padding: 0 10px; text-align: left ; width: auto;} td:nth-child(2) {text-align: left ; width: 100%}\n",
              "    .wandb-row { display: flex; flex-direction: row; flex-wrap: wrap; justify-content: flex-start; width: 100% }\n",
              "    .wandb-col { display: flex; flex-direction: column; flex-basis: 100%; flex: 1; padding: 10px; }\n",
              "    </style>\n",
              "<div class=\"wandb-row\"><div class=\"wandb-col\"><h3>Run history:</h3><br/><table class=\"wandb\"><tr><td>branch_loss</td><td>▄▆▂▄▃▄█▇▄▄▃█▅▄▅▅▅▃▅▆▇▅▄▆▇█▃▃▅▃▅▃▁▄▇▁▃▃▄▂</td></tr><tr><td>kl</td><td>▄▄▃▃▆▂▅▄█▅▃▂▃▂▃▆▃▅▃▃▄▄▅▂█▄▃▆▄▅▃▅▆▃▄▁▅▃▅▅</td></tr><tr><td>loss</td><td>▄▄▃▃▆▂▅▄█▅▃▃▃▂▃▆▃▄▃▃▄▄▅▃█▄▃▆▄▄▄▅▆▃▄▁▅▃▅▅</td></tr><tr><td>recon_loss</td><td>█▃▂▂▁▁▁▁▁▁▂▁▂▂▁▁▁▁▁▁▂▁▁▁▃▁▁▁▁▁▁▁▁▁▂▂▁▁▁▁</td></tr></table><br/></div><div class=\"wandb-col\"><h3>Run summary:</h3><br/><table class=\"wandb\"><tr><td>branch_loss</td><td>0.08511</td></tr><tr><td>kl</td><td>93.13162</td></tr><tr><td>loss</td><td>15.35538</td></tr><tr><td>recon_loss</td><td>6e-05</td></tr><tr><td>vars</td><td>A+B+C+D</td></tr></table><br/></div></div>"
            ],
            "text/plain": [
              "<IPython.core.display.HTML object>"
            ]
          },
          "metadata": {},
          "output_type": "display_data"
        },
        {
          "data": {
            "text/html": [
              "Synced <strong style=\"color:#cdcd00\">crimson-sweep-20</strong>: <a href=\"https://wandb.ai/sophied/exponentials/runs/lbh5in2k\" target=\"_blank\">https://wandb.ai/sophied/exponentials/runs/lbh5in2k</a><br/>Synced 4 W&B file(s), 0 media file(s), 0 artifact file(s) and 0 other file(s)"
            ],
            "text/plain": [
              "<IPython.core.display.HTML object>"
            ]
          },
          "metadata": {},
          "output_type": "display_data"
        },
        {
          "data": {
            "text/html": [
              "Find logs at: <code>./wandb/run-20220528_225604-lbh5in2k/logs</code>"
            ],
            "text/plain": [
              "<IPython.core.display.HTML object>"
            ]
          },
          "metadata": {},
          "output_type": "display_data"
        },
        {
          "name": "stderr",
          "output_type": "stream",
          "text": [
            "\u001b[34m\u001b[1mwandb\u001b[0m: Agent Starting Run: 5tjclcbk with config:\n",
            "\u001b[34m\u001b[1mwandb\u001b[0m: \tae_layer: 12\n",
            "\u001b[34m\u001b[1mwandb\u001b[0m: \tbranch_layer: 8\n",
            "\u001b[34m\u001b[1mwandb\u001b[0m: \tbranch_weight: 92.20482784081165\n",
            "\u001b[34m\u001b[1mwandb\u001b[0m: \tkl_weight: 0.8011564936378843\n",
            "\u001b[34m\u001b[1mwandb\u001b[0m: \tlearning_rate: 0.004561361376211889\n"
          ]
        },
        {
          "data": {
            "text/html": [
              "Tracking run with wandb version 0.12.17"
            ],
            "text/plain": [
              "<IPython.core.display.HTML object>"
            ]
          },
          "metadata": {},
          "output_type": "display_data"
        },
        {
          "data": {
            "text/html": [
              "Run data is saved locally in <code>/content/wandb/run-20220528_225857-5tjclcbk</code>"
            ],
            "text/plain": [
              "<IPython.core.display.HTML object>"
            ]
          },
          "metadata": {},
          "output_type": "display_data"
        },
        {
          "data": {
            "text/html": [
              "Syncing run <strong><a href=\"https://wandb.ai/sophied/exponentials/runs/5tjclcbk\" target=\"_blank\">treasured-sweep-21</a></strong> to <a href=\"https://wandb.ai/sophied/exponentials\" target=\"_blank\">Weights & Biases</a> (<a href=\"https://wandb.me/run\" target=\"_blank\">docs</a>)<br/>Sweep page:  <a href=\"https://wandb.ai/sophied/exponentials/sweeps/5e99jgaj\" target=\"_blank\">https://wandb.ai/sophied/exponentials/sweeps/5e99jgaj</a>"
            ],
            "text/plain": [
              "<IPython.core.display.HTML object>"
            ]
          },
          "metadata": {},
          "output_type": "display_data"
        },
        {
          "data": {
            "text/html": [
              "Waiting for W&B process to finish... <strong style=\"color:green\">(success).</strong>"
            ],
            "text/plain": [
              "<IPython.core.display.HTML object>"
            ]
          },
          "metadata": {},
          "output_type": "display_data"
        },
        {
          "data": {
            "application/vnd.jupyter.widget-view+json": {
              "model_id": "db838510361c4acc90f116c7bf1222c1",
              "version_major": 2,
              "version_minor": 0
            },
            "text/plain": [
              "VBox(children=(Label(value='0.000 MB of 0.000 MB uploaded (0.000 MB deduped)\\r'), FloatProgress(value=1.0, max…"
            ]
          },
          "metadata": {},
          "output_type": "display_data"
        },
        {
          "data": {
            "text/html": [
              "<style>\n",
              "    table.wandb td:nth-child(1) { padding: 0 10px; text-align: left ; width: auto;} td:nth-child(2) {text-align: left ; width: 100%}\n",
              "    .wandb-row { display: flex; flex-direction: row; flex-wrap: wrap; justify-content: flex-start; width: 100% }\n",
              "    .wandb-col { display: flex; flex-direction: column; flex-basis: 100%; flex: 1; padding: 10px; }\n",
              "    </style>\n",
              "<div class=\"wandb-row\"><div class=\"wandb-col\"><h3>Run history:</h3><br/><table class=\"wandb\"><tr><td>branch_loss</td><td>▄▆▄▅▄▅▇▆▅▅▅▇▆▅▆▅▅▅▆▆▆▅▄▄██▄▂▄▃▄▃▂▃▃▁▂▃▂▆</td></tr><tr><td>kl</td><td>▅▄▄▃▆▂▆▅█▅▄▃▄▃▃▆▃▅▄▄▄▄▅▃█▄▃▆▄▅▃▅▆▃▃▁▅▃▄▆</td></tr><tr><td>loss</td><td>▅▅▄▄▆▃▆▅█▅▄▃▄▃▄▆▄▅▄▄▄▄▅▃█▅▃▅▄▄▃▄▆▃▃▁▅▃▄▆</td></tr><tr><td>recon_loss</td><td>█▂▂▃▂▃▃▃▂▃▄▁▅▃▁▃▃▂▄▃▅▂▁▁▁▁▂▁▁▁▁▁▁▁▁▁▁▁▁▁</td></tr></table><br/></div><div class=\"wandb-col\"><h3>Run summary:</h3><br/><table class=\"wandb\"><tr><td>branch_loss</td><td>0.07159</td></tr><tr><td>kl</td><td>90.58774</td></tr><tr><td>loss</td><td>79.17555</td></tr><tr><td>recon_loss</td><td>5e-05</td></tr><tr><td>vars</td><td>A+B+C+D</td></tr></table><br/></div></div>"
            ],
            "text/plain": [
              "<IPython.core.display.HTML object>"
            ]
          },
          "metadata": {},
          "output_type": "display_data"
        },
        {
          "data": {
            "text/html": [
              "Synced <strong style=\"color:#cdcd00\">treasured-sweep-21</strong>: <a href=\"https://wandb.ai/sophied/exponentials/runs/5tjclcbk\" target=\"_blank\">https://wandb.ai/sophied/exponentials/runs/5tjclcbk</a><br/>Synced 4 W&B file(s), 0 media file(s), 0 artifact file(s) and 0 other file(s)"
            ],
            "text/plain": [
              "<IPython.core.display.HTML object>"
            ]
          },
          "metadata": {},
          "output_type": "display_data"
        },
        {
          "data": {
            "text/html": [
              "Find logs at: <code>./wandb/run-20220528_225857-5tjclcbk/logs</code>"
            ],
            "text/plain": [
              "<IPython.core.display.HTML object>"
            ]
          },
          "metadata": {},
          "output_type": "display_data"
        },
        {
          "name": "stderr",
          "output_type": "stream",
          "text": [
            "\u001b[34m\u001b[1mwandb\u001b[0m: Agent Starting Run: ggeo1zps with config:\n",
            "\u001b[34m\u001b[1mwandb\u001b[0m: \tae_layer: 16\n",
            "\u001b[34m\u001b[1mwandb\u001b[0m: \tbranch_layer: 8\n",
            "\u001b[34m\u001b[1mwandb\u001b[0m: \tbranch_weight: 37.64139463147612\n",
            "\u001b[34m\u001b[1mwandb\u001b[0m: \tkl_weight: 0.9129766282551792\n",
            "\u001b[34m\u001b[1mwandb\u001b[0m: \tlearning_rate: 0.002575914743012861\n"
          ]
        },
        {
          "data": {
            "text/html": [
              "Tracking run with wandb version 0.12.17"
            ],
            "text/plain": [
              "<IPython.core.display.HTML object>"
            ]
          },
          "metadata": {},
          "output_type": "display_data"
        },
        {
          "data": {
            "text/html": [
              "Run data is saved locally in <code>/content/wandb/run-20220528_230201-ggeo1zps</code>"
            ],
            "text/plain": [
              "<IPython.core.display.HTML object>"
            ]
          },
          "metadata": {},
          "output_type": "display_data"
        },
        {
          "data": {
            "text/html": [
              "Syncing run <strong><a href=\"https://wandb.ai/sophied/exponentials/runs/ggeo1zps\" target=\"_blank\">wise-sweep-22</a></strong> to <a href=\"https://wandb.ai/sophied/exponentials\" target=\"_blank\">Weights & Biases</a> (<a href=\"https://wandb.me/run\" target=\"_blank\">docs</a>)<br/>Sweep page:  <a href=\"https://wandb.ai/sophied/exponentials/sweeps/5e99jgaj\" target=\"_blank\">https://wandb.ai/sophied/exponentials/sweeps/5e99jgaj</a>"
            ],
            "text/plain": [
              "<IPython.core.display.HTML object>"
            ]
          },
          "metadata": {},
          "output_type": "display_data"
        },
        {
          "data": {
            "text/html": [
              "Waiting for W&B process to finish... <strong style=\"color:green\">(success).</strong>"
            ],
            "text/plain": [
              "<IPython.core.display.HTML object>"
            ]
          },
          "metadata": {},
          "output_type": "display_data"
        },
        {
          "data": {
            "application/vnd.jupyter.widget-view+json": {
              "model_id": "6110ce97ae6547948b57affb008138a8",
              "version_major": 2,
              "version_minor": 0
            },
            "text/plain": [
              "VBox(children=(Label(value='0.000 MB of 0.000 MB uploaded (0.000 MB deduped)\\r'), FloatProgress(value=1.0, max…"
            ]
          },
          "metadata": {},
          "output_type": "display_data"
        },
        {
          "data": {
            "text/html": [
              "<style>\n",
              "    table.wandb td:nth-child(1) { padding: 0 10px; text-align: left ; width: auto;} td:nth-child(2) {text-align: left ; width: 100%}\n",
              "    .wandb-row { display: flex; flex-direction: row; flex-wrap: wrap; justify-content: flex-start; width: 100% }\n",
              "    .wandb-col { display: flex; flex-direction: column; flex-basis: 100%; flex: 1; padding: 10px; }\n",
              "    </style>\n",
              "<div class=\"wandb-row\"><div class=\"wandb-col\"><h3>Run history:</h3><br/><table class=\"wandb\"><tr><td>branch_loss</td><td>▅▇▅▆▅▆█▇▆▅▅█▇▆▆▆▆▅▇▇▇▆▅▇▅▆▃▃▅▃▃▄▂▂▃▁▂▃▂▃</td></tr><tr><td>kl</td><td>▅▄▄▃▆▂▆▅█▅▄▃▄▃▃▆▃▅▄▄▄▄▅▃█▄▃▆▄▅▃▅▆▃▄▁▅▃▄▅</td></tr><tr><td>loss</td><td>▅▅▄▃▆▂▆▅█▅▄▃▄▃▃▆▃▅▄▄▄▄▅▃█▄▃▆▄▅▃▅▆▃▄▁▅▃▄▅</td></tr><tr><td>recon_loss</td><td>█▂▂▂▂▂▂▂▁▂▃▁▃▂▁▂▂▂▂▂▃▁▁▂▂▁▂▁▁▁▁▁▁▁▁▁▁▁▁▁</td></tr></table><br/></div><div class=\"wandb-col\"><h3>Run summary:</h3><br/><table class=\"wandb\"><tr><td>branch_loss</td><td>0.07642</td></tr><tr><td>kl</td><td>90.95805</td></tr><tr><td>loss</td><td>85.91919</td></tr><tr><td>recon_loss</td><td>5e-05</td></tr><tr><td>vars</td><td>A+B+C+D</td></tr></table><br/></div></div>"
            ],
            "text/plain": [
              "<IPython.core.display.HTML object>"
            ]
          },
          "metadata": {},
          "output_type": "display_data"
        },
        {
          "data": {
            "text/html": [
              "Synced <strong style=\"color:#cdcd00\">wise-sweep-22</strong>: <a href=\"https://wandb.ai/sophied/exponentials/runs/ggeo1zps\" target=\"_blank\">https://wandb.ai/sophied/exponentials/runs/ggeo1zps</a><br/>Synced 4 W&B file(s), 0 media file(s), 0 artifact file(s) and 0 other file(s)"
            ],
            "text/plain": [
              "<IPython.core.display.HTML object>"
            ]
          },
          "metadata": {},
          "output_type": "display_data"
        },
        {
          "data": {
            "text/html": [
              "Find logs at: <code>./wandb/run-20220528_230201-ggeo1zps/logs</code>"
            ],
            "text/plain": [
              "<IPython.core.display.HTML object>"
            ]
          },
          "metadata": {},
          "output_type": "display_data"
        },
        {
          "name": "stderr",
          "output_type": "stream",
          "text": [
            "\u001b[34m\u001b[1mwandb\u001b[0m: Agent Starting Run: h9ay1for with config:\n",
            "\u001b[34m\u001b[1mwandb\u001b[0m: \tae_layer: 16\n",
            "\u001b[34m\u001b[1mwandb\u001b[0m: \tbranch_layer: 8\n",
            "\u001b[34m\u001b[1mwandb\u001b[0m: \tbranch_weight: 6.512304954416728\n",
            "\u001b[34m\u001b[1mwandb\u001b[0m: \tkl_weight: 0.6043000199157479\n",
            "\u001b[34m\u001b[1mwandb\u001b[0m: \tlearning_rate: 0.0037964076745272217\n"
          ]
        },
        {
          "data": {
            "text/html": [
              "Tracking run with wandb version 0.12.17"
            ],
            "text/plain": [
              "<IPython.core.display.HTML object>"
            ]
          },
          "metadata": {},
          "output_type": "display_data"
        },
        {
          "data": {
            "text/html": [
              "Run data is saved locally in <code>/content/wandb/run-20220528_230504-h9ay1for</code>"
            ],
            "text/plain": [
              "<IPython.core.display.HTML object>"
            ]
          },
          "metadata": {},
          "output_type": "display_data"
        },
        {
          "data": {
            "text/html": [
              "Syncing run <strong><a href=\"https://wandb.ai/sophied/exponentials/runs/h9ay1for\" target=\"_blank\">cosmic-sweep-23</a></strong> to <a href=\"https://wandb.ai/sophied/exponentials\" target=\"_blank\">Weights & Biases</a> (<a href=\"https://wandb.me/run\" target=\"_blank\">docs</a>)<br/>Sweep page:  <a href=\"https://wandb.ai/sophied/exponentials/sweeps/5e99jgaj\" target=\"_blank\">https://wandb.ai/sophied/exponentials/sweeps/5e99jgaj</a>"
            ],
            "text/plain": [
              "<IPython.core.display.HTML object>"
            ]
          },
          "metadata": {},
          "output_type": "display_data"
        },
        {
          "data": {
            "text/html": [
              "Waiting for W&B process to finish... <strong style=\"color:green\">(success).</strong>"
            ],
            "text/plain": [
              "<IPython.core.display.HTML object>"
            ]
          },
          "metadata": {},
          "output_type": "display_data"
        },
        {
          "data": {
            "application/vnd.jupyter.widget-view+json": {
              "model_id": "8a56ae7be7c3421399851d92f042557f",
              "version_major": 2,
              "version_minor": 0
            },
            "text/plain": [
              "VBox(children=(Label(value='0.000 MB of 0.000 MB uploaded (0.000 MB deduped)\\r'), FloatProgress(value=1.0, max…"
            ]
          },
          "metadata": {},
          "output_type": "display_data"
        },
        {
          "data": {
            "text/html": [
              "<style>\n",
              "    table.wandb td:nth-child(1) { padding: 0 10px; text-align: left ; width: auto;} td:nth-child(2) {text-align: left ; width: 100%}\n",
              "    .wandb-row { display: flex; flex-direction: row; flex-wrap: wrap; justify-content: flex-start; width: 100% }\n",
              "    .wandb-col { display: flex; flex-direction: column; flex-basis: 100%; flex: 1; padding: 10px; }\n",
              "    </style>\n",
              "<div class=\"wandb-row\"><div class=\"wandb-col\"><h3>Run history:</h3><br/><table class=\"wandb\"><tr><td>branch_loss</td><td>▄▇▂▄▃▄█▇▄▄▃█▅▄▅▅▅▃▅▆▇▅▄▆▇█▃▃▅▃▅▃▁▄▇▂▃▄▆▂</td></tr><tr><td>kl</td><td>▄▄▃▃▆▂▅▄█▅▃▂▃▂▃▆▃▄▃▃▄▄▅▂█▄▃▆▄▄▃▅▆▃▄▁▅▃▅▅</td></tr><tr><td>loss</td><td>▄▄▃▃▆▂▅▄█▅▃▂▃▂▃▆▃▄▃▃▄▄▅▂█▄▃▆▄▄▃▅▆▃▄▁▅▃▅▅</td></tr><tr><td>recon_loss</td><td>█▂▂▂▂▂▂▂▂▃▃▁▄▃▁▃▂▂▂▂▄▁▁▁█▃▂▂▂▁▃▁▁▂▄▂▁▁▁▂</td></tr></table><br/></div><div class=\"wandb-col\"><h3>Run summary:</h3><br/><table class=\"wandb\"><tr><td>branch_loss</td><td>0.08933</td></tr><tr><td>kl</td><td>93.51627</td></tr><tr><td>loss</td><td>57.0937</td></tr><tr><td>recon_loss</td><td>0.0001</td></tr><tr><td>vars</td><td>A+B+C+D</td></tr></table><br/></div></div>"
            ],
            "text/plain": [
              "<IPython.core.display.HTML object>"
            ]
          },
          "metadata": {},
          "output_type": "display_data"
        },
        {
          "data": {
            "text/html": [
              "Synced <strong style=\"color:#cdcd00\">cosmic-sweep-23</strong>: <a href=\"https://wandb.ai/sophied/exponentials/runs/h9ay1for\" target=\"_blank\">https://wandb.ai/sophied/exponentials/runs/h9ay1for</a><br/>Synced 4 W&B file(s), 0 media file(s), 0 artifact file(s) and 0 other file(s)"
            ],
            "text/plain": [
              "<IPython.core.display.HTML object>"
            ]
          },
          "metadata": {},
          "output_type": "display_data"
        },
        {
          "data": {
            "text/html": [
              "Find logs at: <code>./wandb/run-20220528_230504-h9ay1for/logs</code>"
            ],
            "text/plain": [
              "<IPython.core.display.HTML object>"
            ]
          },
          "metadata": {},
          "output_type": "display_data"
        },
        {
          "name": "stderr",
          "output_type": "stream",
          "text": [
            "\u001b[34m\u001b[1mwandb\u001b[0m: Agent Starting Run: gyaqsin3 with config:\n",
            "\u001b[34m\u001b[1mwandb\u001b[0m: \tae_layer: 12\n",
            "\u001b[34m\u001b[1mwandb\u001b[0m: \tbranch_layer: 8\n",
            "\u001b[34m\u001b[1mwandb\u001b[0m: \tbranch_weight: 80.44686826824496\n",
            "\u001b[34m\u001b[1mwandb\u001b[0m: \tkl_weight: 0.4943435688836882\n",
            "\u001b[34m\u001b[1mwandb\u001b[0m: \tlearning_rate: 0.004901223982880385\n"
          ]
        },
        {
          "data": {
            "text/html": [
              "Tracking run with wandb version 0.12.17"
            ],
            "text/plain": [
              "<IPython.core.display.HTML object>"
            ]
          },
          "metadata": {},
          "output_type": "display_data"
        },
        {
          "data": {
            "text/html": [
              "Run data is saved locally in <code>/content/wandb/run-20220528_230807-gyaqsin3</code>"
            ],
            "text/plain": [
              "<IPython.core.display.HTML object>"
            ]
          },
          "metadata": {},
          "output_type": "display_data"
        },
        {
          "data": {
            "text/html": [
              "Syncing run <strong><a href=\"https://wandb.ai/sophied/exponentials/runs/gyaqsin3\" target=\"_blank\">silver-sweep-24</a></strong> to <a href=\"https://wandb.ai/sophied/exponentials\" target=\"_blank\">Weights & Biases</a> (<a href=\"https://wandb.me/run\" target=\"_blank\">docs</a>)<br/>Sweep page:  <a href=\"https://wandb.ai/sophied/exponentials/sweeps/5e99jgaj\" target=\"_blank\">https://wandb.ai/sophied/exponentials/sweeps/5e99jgaj</a>"
            ],
            "text/plain": [
              "<IPython.core.display.HTML object>"
            ]
          },
          "metadata": {},
          "output_type": "display_data"
        },
        {
          "data": {
            "text/html": [
              "Waiting for W&B process to finish... <strong style=\"color:green\">(success).</strong>"
            ],
            "text/plain": [
              "<IPython.core.display.HTML object>"
            ]
          },
          "metadata": {},
          "output_type": "display_data"
        },
        {
          "data": {
            "application/vnd.jupyter.widget-view+json": {
              "model_id": "8ce4cc8b01244956958bb3a25f8d3c04",
              "version_major": 2,
              "version_minor": 0
            },
            "text/plain": [
              "VBox(children=(Label(value='0.000 MB of 0.000 MB uploaded (0.000 MB deduped)\\r'), FloatProgress(value=1.0, max…"
            ]
          },
          "metadata": {},
          "output_type": "display_data"
        },
        {
          "data": {
            "text/html": [
              "<style>\n",
              "    table.wandb td:nth-child(1) { padding: 0 10px; text-align: left ; width: auto;} td:nth-child(2) {text-align: left ; width: 100%}\n",
              "    .wandb-row { display: flex; flex-direction: row; flex-wrap: wrap; justify-content: flex-start; width: 100% }\n",
              "    .wandb-col { display: flex; flex-direction: column; flex-basis: 100%; flex: 1; padding: 10px; }\n",
              "    </style>\n",
              "<div class=\"wandb-row\"><div class=\"wandb-col\"><h3>Run history:</h3><br/><table class=\"wandb\"><tr><td>branch_loss</td><td>▃▇▂▄▃▄█▇▄▄▃█▆▄▅▅▅▃▅▇▇▅▄▆▇█▃▃▅▃▅▃▁▄▇▁▃▄▆▂</td></tr><tr><td>kl</td><td>▄▄▃▃▆▂▅▄█▅▃▂▃▂▃▆▃▄▃▃▄▄▅▂█▄▃▆▄▄▃▅▆▃▄▁▅▃▅▅</td></tr><tr><td>loss</td><td>▄▄▃▃▆▂▅▄▇▅▃▃▃▂▃▆▃▄▃▃▄▄▅▃█▄▃▆▄▄▄▅▆▃▄▁▅▃▅▅</td></tr><tr><td>recon_loss</td><td>█▂▂▂▂▂▂▂▁▂▃▁▄▃▁▃▂▂▂▂▄▁▁▁▇▂▂▁▂▁▃▂▁▂▃▂▁▁▁▂</td></tr></table><br/></div><div class=\"wandb-col\"><h3>Run summary:</h3><br/><table class=\"wandb\"><tr><td>branch_loss</td><td>0.08959</td></tr><tr><td>kl</td><td>93.5289</td></tr><tr><td>loss</td><td>53.44277</td></tr><tr><td>recon_loss</td><td>8e-05</td></tr><tr><td>vars</td><td>A+B+C+D</td></tr></table><br/></div></div>"
            ],
            "text/plain": [
              "<IPython.core.display.HTML object>"
            ]
          },
          "metadata": {},
          "output_type": "display_data"
        },
        {
          "data": {
            "text/html": [
              "Synced <strong style=\"color:#cdcd00\">silver-sweep-24</strong>: <a href=\"https://wandb.ai/sophied/exponentials/runs/gyaqsin3\" target=\"_blank\">https://wandb.ai/sophied/exponentials/runs/gyaqsin3</a><br/>Synced 4 W&B file(s), 0 media file(s), 0 artifact file(s) and 0 other file(s)"
            ],
            "text/plain": [
              "<IPython.core.display.HTML object>"
            ]
          },
          "metadata": {},
          "output_type": "display_data"
        },
        {
          "data": {
            "text/html": [
              "Find logs at: <code>./wandb/run-20220528_230807-gyaqsin3/logs</code>"
            ],
            "text/plain": [
              "<IPython.core.display.HTML object>"
            ]
          },
          "metadata": {},
          "output_type": "display_data"
        },
        {
          "name": "stderr",
          "output_type": "stream",
          "text": [
            "\u001b[34m\u001b[1mwandb\u001b[0m: Agent Starting Run: z78tf6gv with config:\n",
            "\u001b[34m\u001b[1mwandb\u001b[0m: \tae_layer: 9\n",
            "\u001b[34m\u001b[1mwandb\u001b[0m: \tbranch_layer: 5\n",
            "\u001b[34m\u001b[1mwandb\u001b[0m: \tbranch_weight: 2.454825449714396\n",
            "\u001b[34m\u001b[1mwandb\u001b[0m: \tkl_weight: 0.4837292310996009\n",
            "\u001b[34m\u001b[1mwandb\u001b[0m: \tlearning_rate: 0.0014517414596853296\n"
          ]
        },
        {
          "data": {
            "text/html": [
              "Tracking run with wandb version 0.12.17"
            ],
            "text/plain": [
              "<IPython.core.display.HTML object>"
            ]
          },
          "metadata": {},
          "output_type": "display_data"
        },
        {
          "data": {
            "text/html": [
              "Run data is saved locally in <code>/content/wandb/run-20220528_231106-z78tf6gv</code>"
            ],
            "text/plain": [
              "<IPython.core.display.HTML object>"
            ]
          },
          "metadata": {},
          "output_type": "display_data"
        },
        {
          "data": {
            "text/html": [
              "Syncing run <strong><a href=\"https://wandb.ai/sophied/exponentials/runs/z78tf6gv\" target=\"_blank\">different-sweep-25</a></strong> to <a href=\"https://wandb.ai/sophied/exponentials\" target=\"_blank\">Weights & Biases</a> (<a href=\"https://wandb.me/run\" target=\"_blank\">docs</a>)<br/>Sweep page:  <a href=\"https://wandb.ai/sophied/exponentials/sweeps/5e99jgaj\" target=\"_blank\">https://wandb.ai/sophied/exponentials/sweeps/5e99jgaj</a>"
            ],
            "text/plain": [
              "<IPython.core.display.HTML object>"
            ]
          },
          "metadata": {},
          "output_type": "display_data"
        },
        {
          "data": {
            "text/html": [
              "Waiting for W&B process to finish... <strong style=\"color:green\">(success).</strong>"
            ],
            "text/plain": [
              "<IPython.core.display.HTML object>"
            ]
          },
          "metadata": {},
          "output_type": "display_data"
        },
        {
          "data": {
            "application/vnd.jupyter.widget-view+json": {
              "model_id": "b1d4fa6248ca4ab9a2c69615528819ca",
              "version_major": 2,
              "version_minor": 0
            },
            "text/plain": [
              "VBox(children=(Label(value='0.000 MB of 0.000 MB uploaded (0.000 MB deduped)\\r'), FloatProgress(value=1.0, max…"
            ]
          },
          "metadata": {},
          "output_type": "display_data"
        },
        {
          "data": {
            "text/html": [
              "<style>\n",
              "    table.wandb td:nth-child(1) { padding: 0 10px; text-align: left ; width: auto;} td:nth-child(2) {text-align: left ; width: 100%}\n",
              "    .wandb-row { display: flex; flex-direction: row; flex-wrap: wrap; justify-content: flex-start; width: 100% }\n",
              "    .wandb-col { display: flex; flex-direction: column; flex-basis: 100%; flex: 1; padding: 10px; }\n",
              "    </style>\n",
              "<div class=\"wandb-row\"><div class=\"wandb-col\"><h3>Run history:</h3><br/><table class=\"wandb\"><tr><td>branch_loss</td><td>▄▆▃▄▃▄█▇▄▄▃▇▅▄▅▅▅▃▅▆▇▅▄▆▇█▃▃▅▃▄▃▁▄▆▂▃▄▆▂</td></tr><tr><td>kl</td><td>▄▄▃▃▆▂▅▄█▅▃▂▃▂▃▆▃▄▃▃▄▄▅▂█▄▃▆▄▄▃▅▆▃▄▁▅▃▅▅</td></tr><tr><td>loss</td><td>▄▄▃▃▆▂▅▄█▅▃▂▃▂▃▆▃▄▃▃▄▄▅▂█▄▃▆▄▄▃▅▆▃▄▁▅▃▅▅</td></tr><tr><td>recon_loss</td><td>█▃▂▁▁▁▁▁▁▁▁▁▂▁▁▁▁▁▁▁▁▁▁▁▂▁▁▁▁▁▁▁▁▁▁▁▁▁▁▁</td></tr></table><br/></div><div class=\"wandb-col\"><h3>Run summary:</h3><br/><table class=\"wandb\"><tr><td>branch_loss</td><td>0.08911</td></tr><tr><td>kl</td><td>93.51476</td></tr><tr><td>loss</td><td>45.45467</td></tr><tr><td>recon_loss</td><td>0.0001</td></tr><tr><td>vars</td><td>A+B+C+D</td></tr></table><br/></div></div>"
            ],
            "text/plain": [
              "<IPython.core.display.HTML object>"
            ]
          },
          "metadata": {},
          "output_type": "display_data"
        },
        {
          "data": {
            "text/html": [
              "Synced <strong style=\"color:#cdcd00\">different-sweep-25</strong>: <a href=\"https://wandb.ai/sophied/exponentials/runs/z78tf6gv\" target=\"_blank\">https://wandb.ai/sophied/exponentials/runs/z78tf6gv</a><br/>Synced 4 W&B file(s), 0 media file(s), 0 artifact file(s) and 0 other file(s)"
            ],
            "text/plain": [
              "<IPython.core.display.HTML object>"
            ]
          },
          "metadata": {},
          "output_type": "display_data"
        },
        {
          "data": {
            "text/html": [
              "Find logs at: <code>./wandb/run-20220528_231106-z78tf6gv/logs</code>"
            ],
            "text/plain": [
              "<IPython.core.display.HTML object>"
            ]
          },
          "metadata": {},
          "output_type": "display_data"
        },
        {
          "name": "stderr",
          "output_type": "stream",
          "text": [
            "\u001b[34m\u001b[1mwandb\u001b[0m: Agent Starting Run: c77b95y6 with config:\n",
            "\u001b[34m\u001b[1mwandb\u001b[0m: \tae_layer: 16\n",
            "\u001b[34m\u001b[1mwandb\u001b[0m: \tbranch_layer: 9\n",
            "\u001b[34m\u001b[1mwandb\u001b[0m: \tbranch_weight: 38.16030249042358\n",
            "\u001b[34m\u001b[1mwandb\u001b[0m: \tkl_weight: 0.32640057601309713\n",
            "\u001b[34m\u001b[1mwandb\u001b[0m: \tlearning_rate: 0.0009980353313068311\n"
          ]
        },
        {
          "data": {
            "text/html": [
              "Tracking run with wandb version 0.12.17"
            ],
            "text/plain": [
              "<IPython.core.display.HTML object>"
            ]
          },
          "metadata": {},
          "output_type": "display_data"
        },
        {
          "data": {
            "text/html": [
              "Run data is saved locally in <code>/content/wandb/run-20220528_231404-c77b95y6</code>"
            ],
            "text/plain": [
              "<IPython.core.display.HTML object>"
            ]
          },
          "metadata": {},
          "output_type": "display_data"
        },
        {
          "data": {
            "text/html": [
              "Syncing run <strong><a href=\"https://wandb.ai/sophied/exponentials/runs/c77b95y6\" target=\"_blank\">quiet-sweep-26</a></strong> to <a href=\"https://wandb.ai/sophied/exponentials\" target=\"_blank\">Weights & Biases</a> (<a href=\"https://wandb.me/run\" target=\"_blank\">docs</a>)<br/>Sweep page:  <a href=\"https://wandb.ai/sophied/exponentials/sweeps/5e99jgaj\" target=\"_blank\">https://wandb.ai/sophied/exponentials/sweeps/5e99jgaj</a>"
            ],
            "text/plain": [
              "<IPython.core.display.HTML object>"
            ]
          },
          "metadata": {},
          "output_type": "display_data"
        },
        {
          "data": {
            "text/html": [
              "Waiting for W&B process to finish... <strong style=\"color:green\">(success).</strong>"
            ],
            "text/plain": [
              "<IPython.core.display.HTML object>"
            ]
          },
          "metadata": {},
          "output_type": "display_data"
        },
        {
          "data": {
            "application/vnd.jupyter.widget-view+json": {
              "model_id": "32c0fd31ee6649788d3f42279d45f937",
              "version_major": 2,
              "version_minor": 0
            },
            "text/plain": [
              "VBox(children=(Label(value='0.000 MB of 0.000 MB uploaded (0.000 MB deduped)\\r'), FloatProgress(value=1.0, max…"
            ]
          },
          "metadata": {},
          "output_type": "display_data"
        },
        {
          "data": {
            "text/html": [
              "<style>\n",
              "    table.wandb td:nth-child(1) { padding: 0 10px; text-align: left ; width: auto;} td:nth-child(2) {text-align: left ; width: 100%}\n",
              "    .wandb-row { display: flex; flex-direction: row; flex-wrap: wrap; justify-content: flex-start; width: 100% }\n",
              "    .wandb-col { display: flex; flex-direction: column; flex-basis: 100%; flex: 1; padding: 10px; }\n",
              "    </style>\n",
              "<div class=\"wandb-row\"><div class=\"wandb-col\"><h3>Run history:</h3><br/><table class=\"wandb\"><tr><td>branch_loss</td><td>▆▇▅▆▅▆█▇▅▅▅█▆▆▆▆▆▅▆▇▇▆▅▇▇█▅▄▆▅▄▄▂▁▃▁▁▂▃▃</td></tr><tr><td>kl</td><td>▄▄▄▃▆▂▅▄█▅▃▃▃▃▃▆▃▅▄▃▄▄▅▃█▄▃▆▄▅▃▅▆▃▃▁▅▃▄▅</td></tr><tr><td>loss</td><td>▄▄▄▃▆▂▆▅█▅▄▃▄▃▃▆▃▅▄▄▄▄▅▃█▅▃▆▄▅▃▅▆▃▃▁▅▃▄▅</td></tr><tr><td>recon_loss</td><td>█▃▂▁▁▁▁▁▁▁▁▁▂▁▁▁▁▁▁▁▂▁▁▁▂▁▁▁▁▁▁▁▁▁▁▁▁▁▁▁</td></tr></table><br/></div><div class=\"wandb-col\"><h3>Run summary:</h3><br/><table class=\"wandb\"><tr><td>branch_loss</td><td>0.0744</td></tr><tr><td>kl</td><td>91.30063</td></tr><tr><td>loss</td><td>32.63976</td></tr><tr><td>recon_loss</td><td>5e-05</td></tr><tr><td>vars</td><td>A+B+C+D</td></tr></table><br/></div></div>"
            ],
            "text/plain": [
              "<IPython.core.display.HTML object>"
            ]
          },
          "metadata": {},
          "output_type": "display_data"
        },
        {
          "data": {
            "text/html": [
              "Synced <strong style=\"color:#cdcd00\">quiet-sweep-26</strong>: <a href=\"https://wandb.ai/sophied/exponentials/runs/c77b95y6\" target=\"_blank\">https://wandb.ai/sophied/exponentials/runs/c77b95y6</a><br/>Synced 4 W&B file(s), 0 media file(s), 0 artifact file(s) and 0 other file(s)"
            ],
            "text/plain": [
              "<IPython.core.display.HTML object>"
            ]
          },
          "metadata": {},
          "output_type": "display_data"
        },
        {
          "data": {
            "text/html": [
              "Find logs at: <code>./wandb/run-20220528_231404-c77b95y6/logs</code>"
            ],
            "text/plain": [
              "<IPython.core.display.HTML object>"
            ]
          },
          "metadata": {},
          "output_type": "display_data"
        },
        {
          "name": "stderr",
          "output_type": "stream",
          "text": [
            "\u001b[34m\u001b[1mwandb\u001b[0m: Sweep Agent: Waiting for job.\n",
            "\u001b[34m\u001b[1mwandb\u001b[0m: Job received.\n",
            "\u001b[34m\u001b[1mwandb\u001b[0m: Agent Starting Run: wwba0t4z with config:\n",
            "\u001b[34m\u001b[1mwandb\u001b[0m: \tae_layer: 8\n",
            "\u001b[34m\u001b[1mwandb\u001b[0m: \tbranch_layer: 5\n",
            "\u001b[34m\u001b[1mwandb\u001b[0m: \tbranch_weight: 79.34806357925646\n",
            "\u001b[34m\u001b[1mwandb\u001b[0m: \tkl_weight: 0.9771621527547012\n",
            "\u001b[34m\u001b[1mwandb\u001b[0m: \tlearning_rate: 0.003727544380086189\n"
          ]
        },
        {
          "data": {
            "text/html": [
              "Tracking run with wandb version 0.12.17"
            ],
            "text/plain": [
              "<IPython.core.display.HTML object>"
            ]
          },
          "metadata": {},
          "output_type": "display_data"
        },
        {
          "data": {
            "text/html": [
              "Run data is saved locally in <code>/content/wandb/run-20220528_231717-wwba0t4z</code>"
            ],
            "text/plain": [
              "<IPython.core.display.HTML object>"
            ]
          },
          "metadata": {},
          "output_type": "display_data"
        },
        {
          "data": {
            "text/html": [
              "Syncing run <strong><a href=\"https://wandb.ai/sophied/exponentials/runs/wwba0t4z\" target=\"_blank\">major-sweep-27</a></strong> to <a href=\"https://wandb.ai/sophied/exponentials\" target=\"_blank\">Weights & Biases</a> (<a href=\"https://wandb.me/run\" target=\"_blank\">docs</a>)<br/>Sweep page:  <a href=\"https://wandb.ai/sophied/exponentials/sweeps/5e99jgaj\" target=\"_blank\">https://wandb.ai/sophied/exponentials/sweeps/5e99jgaj</a>"
            ],
            "text/plain": [
              "<IPython.core.display.HTML object>"
            ]
          },
          "metadata": {},
          "output_type": "display_data"
        },
        {
          "data": {
            "text/html": [
              "Waiting for W&B process to finish... <strong style=\"color:green\">(success).</strong>"
            ],
            "text/plain": [
              "<IPython.core.display.HTML object>"
            ]
          },
          "metadata": {},
          "output_type": "display_data"
        },
        {
          "data": {
            "application/vnd.jupyter.widget-view+json": {
              "model_id": "e147d219277b40ec8ef907ad01c41e69",
              "version_major": 2,
              "version_minor": 0
            },
            "text/plain": [
              "VBox(children=(Label(value='0.000 MB of 0.000 MB uploaded (0.000 MB deduped)\\r'), FloatProgress(value=1.0, max…"
            ]
          },
          "metadata": {},
          "output_type": "display_data"
        },
        {
          "data": {
            "text/html": [
              "<style>\n",
              "    table.wandb td:nth-child(1) { padding: 0 10px; text-align: left ; width: auto;} td:nth-child(2) {text-align: left ; width: 100%}\n",
              "    .wandb-row { display: flex; flex-direction: row; flex-wrap: wrap; justify-content: flex-start; width: 100% }\n",
              "    .wandb-col { display: flex; flex-direction: column; flex-basis: 100%; flex: 1; padding: 10px; }\n",
              "    </style>\n",
              "<div class=\"wandb-row\"><div class=\"wandb-col\"><h3>Run history:</h3><br/><table class=\"wandb\"><tr><td>branch_loss</td><td>▄▆▂▄▃▄█▇▄▄▃█▆▄▅▅▅▃▆▇▇▆▄▆▇█▃▃▅▃▅▃▁▄▇▂▃▄▆▂</td></tr><tr><td>kl</td><td>▄▄▃▃▆▂▅▄█▅▃▂▃▂▃▆▃▄▃▃▄▄▅▂█▄▃▆▄▄▃▅▆▃▄▁▅▃▅▅</td></tr><tr><td>loss</td><td>▄▄▃▃▆▂▅▄█▅▃▂▃▂▃▆▃▄▃▃▄▄▅▂█▄▃▆▄▄▃▅▆▃▄▁▅▃▅▅</td></tr><tr><td>recon_loss</td><td>█▂▁▁▁▁▁▁▁▂▂▁▂▂▁▂▁▁▂▂▂▁▁▁▄▂▁▁▂▁▂▁▁▁▂▁▁▁▁▁</td></tr></table><br/></div><div class=\"wandb-col\"><h3>Run summary:</h3><br/><table class=\"wandb\"><tr><td>branch_loss</td><td>0.08944</td></tr><tr><td>kl</td><td>93.5206</td></tr><tr><td>loss</td><td>98.48155</td></tr><tr><td>recon_loss</td><td>0.0001</td></tr><tr><td>vars</td><td>A+B+C+D</td></tr></table><br/></div></div>"
            ],
            "text/plain": [
              "<IPython.core.display.HTML object>"
            ]
          },
          "metadata": {},
          "output_type": "display_data"
        },
        {
          "data": {
            "text/html": [
              "Synced <strong style=\"color:#cdcd00\">major-sweep-27</strong>: <a href=\"https://wandb.ai/sophied/exponentials/runs/wwba0t4z\" target=\"_blank\">https://wandb.ai/sophied/exponentials/runs/wwba0t4z</a><br/>Synced 4 W&B file(s), 0 media file(s), 0 artifact file(s) and 0 other file(s)"
            ],
            "text/plain": [
              "<IPython.core.display.HTML object>"
            ]
          },
          "metadata": {},
          "output_type": "display_data"
        },
        {
          "data": {
            "text/html": [
              "Find logs at: <code>./wandb/run-20220528_231717-wwba0t4z/logs</code>"
            ],
            "text/plain": [
              "<IPython.core.display.HTML object>"
            ]
          },
          "metadata": {},
          "output_type": "display_data"
        },
        {
          "name": "stderr",
          "output_type": "stream",
          "text": [
            "\u001b[34m\u001b[1mwandb\u001b[0m: Agent Starting Run: 5pjibq93 with config:\n",
            "\u001b[34m\u001b[1mwandb\u001b[0m: \tae_layer: 14\n",
            "\u001b[34m\u001b[1mwandb\u001b[0m: \tbranch_layer: 4\n",
            "\u001b[34m\u001b[1mwandb\u001b[0m: \tbranch_weight: 92.89862055258862\n",
            "\u001b[34m\u001b[1mwandb\u001b[0m: \tkl_weight: 0.7101716294463207\n",
            "\u001b[34m\u001b[1mwandb\u001b[0m: \tlearning_rate: 0.0015789754465418378\n"
          ]
        },
        {
          "data": {
            "text/html": [
              "Tracking run with wandb version 0.12.17"
            ],
            "text/plain": [
              "<IPython.core.display.HTML object>"
            ]
          },
          "metadata": {},
          "output_type": "display_data"
        },
        {
          "data": {
            "text/html": [
              "Run data is saved locally in <code>/content/wandb/run-20220528_232020-5pjibq93</code>"
            ],
            "text/plain": [
              "<IPython.core.display.HTML object>"
            ]
          },
          "metadata": {},
          "output_type": "display_data"
        },
        {
          "data": {
            "text/html": [
              "Syncing run <strong><a href=\"https://wandb.ai/sophied/exponentials/runs/5pjibq93\" target=\"_blank\">fine-sweep-28</a></strong> to <a href=\"https://wandb.ai/sophied/exponentials\" target=\"_blank\">Weights & Biases</a> (<a href=\"https://wandb.me/run\" target=\"_blank\">docs</a>)<br/>Sweep page:  <a href=\"https://wandb.ai/sophied/exponentials/sweeps/5e99jgaj\" target=\"_blank\">https://wandb.ai/sophied/exponentials/sweeps/5e99jgaj</a>"
            ],
            "text/plain": [
              "<IPython.core.display.HTML object>"
            ]
          },
          "metadata": {},
          "output_type": "display_data"
        },
        {
          "data": {
            "text/html": [
              "Waiting for W&B process to finish... <strong style=\"color:green\">(success).</strong>"
            ],
            "text/plain": [
              "<IPython.core.display.HTML object>"
            ]
          },
          "metadata": {},
          "output_type": "display_data"
        },
        {
          "data": {
            "application/vnd.jupyter.widget-view+json": {
              "model_id": "5d2d6a7dce344c7ba2b632ea2a2cff25",
              "version_major": 2,
              "version_minor": 0
            },
            "text/plain": [
              "VBox(children=(Label(value='0.000 MB of 0.000 MB uploaded (0.000 MB deduped)\\r'), FloatProgress(value=1.0, max…"
            ]
          },
          "metadata": {},
          "output_type": "display_data"
        },
        {
          "data": {
            "text/html": [
              "<style>\n",
              "    table.wandb td:nth-child(1) { padding: 0 10px; text-align: left ; width: auto;} td:nth-child(2) {text-align: left ; width: 100%}\n",
              "    .wandb-row { display: flex; flex-direction: row; flex-wrap: wrap; justify-content: flex-start; width: 100% }\n",
              "    .wandb-col { display: flex; flex-direction: column; flex-basis: 100%; flex: 1; padding: 10px; }\n",
              "    </style>\n",
              "<div class=\"wandb-row\"><div class=\"wandb-col\"><h3>Run history:</h3><br/><table class=\"wandb\"><tr><td>branch_loss</td><td>▃█▂▄▃▄█▇▄▄▃█▆▄▅▅▅▃▅▆▇▅▄▆▇█▃▃▅▃▄▃▁▄▇▁▃▃▄▂</td></tr><tr><td>kl</td><td>▄▄▃▃▆▂▅▄█▅▃▂▃▂▃▆▃▄▃▃▄▄▅▂█▄▃▆▄▅▃▅▆▃▄▁▅▃▅▅</td></tr><tr><td>loss</td><td>▄▄▃▃▆▂▅▄▇▅▃▃▃▂▃▆▃▄▃▃▄▄▅▃█▄▃▆▄▄▃▅▆▃▄▁▅▃▅▅</td></tr><tr><td>recon_loss</td><td>█▂▁▁▁▁▁▁▁▁▂▁▂▁▁▁▁▁▁▁▂▁▁▁▃▁▁▁▁▁▂▁▁▁▂▁▁▁▁▁</td></tr></table><br/></div><div class=\"wandb-col\"><h3>Run summary:</h3><br/><table class=\"wandb\"><tr><td>branch_loss</td><td>0.08716</td></tr><tr><td>kl</td><td>93.28718</td></tr><tr><td>loss</td><td>74.3472</td></tr><tr><td>recon_loss</td><td>6e-05</td></tr><tr><td>vars</td><td>A+B+C+D</td></tr></table><br/></div></div>"
            ],
            "text/plain": [
              "<IPython.core.display.HTML object>"
            ]
          },
          "metadata": {},
          "output_type": "display_data"
        },
        {
          "data": {
            "text/html": [
              "Synced <strong style=\"color:#cdcd00\">fine-sweep-28</strong>: <a href=\"https://wandb.ai/sophied/exponentials/runs/5pjibq93\" target=\"_blank\">https://wandb.ai/sophied/exponentials/runs/5pjibq93</a><br/>Synced 4 W&B file(s), 0 media file(s), 0 artifact file(s) and 0 other file(s)"
            ],
            "text/plain": [
              "<IPython.core.display.HTML object>"
            ]
          },
          "metadata": {},
          "output_type": "display_data"
        },
        {
          "data": {
            "text/html": [
              "Find logs at: <code>./wandb/run-20220528_232020-5pjibq93/logs</code>"
            ],
            "text/plain": [
              "<IPython.core.display.HTML object>"
            ]
          },
          "metadata": {},
          "output_type": "display_data"
        },
        {
          "name": "stderr",
          "output_type": "stream",
          "text": [
            "\u001b[34m\u001b[1mwandb\u001b[0m: Agent Starting Run: 75k8guxb with config:\n",
            "\u001b[34m\u001b[1mwandb\u001b[0m: \tae_layer: 18\n",
            "\u001b[34m\u001b[1mwandb\u001b[0m: \tbranch_layer: 9\n",
            "\u001b[34m\u001b[1mwandb\u001b[0m: \tbranch_weight: 53.429890729632795\n",
            "\u001b[34m\u001b[1mwandb\u001b[0m: \tkl_weight: 0.01702556789804263\n",
            "\u001b[34m\u001b[1mwandb\u001b[0m: \tlearning_rate: 0.0007213087651290448\n"
          ]
        },
        {
          "data": {
            "text/html": [
              "Tracking run with wandb version 0.12.17"
            ],
            "text/plain": [
              "<IPython.core.display.HTML object>"
            ]
          },
          "metadata": {},
          "output_type": "display_data"
        },
        {
          "data": {
            "text/html": [
              "Run data is saved locally in <code>/content/wandb/run-20220528_232329-75k8guxb</code>"
            ],
            "text/plain": [
              "<IPython.core.display.HTML object>"
            ]
          },
          "metadata": {},
          "output_type": "display_data"
        },
        {
          "data": {
            "text/html": [
              "Syncing run <strong><a href=\"https://wandb.ai/sophied/exponentials/runs/75k8guxb\" target=\"_blank\">autumn-sweep-29</a></strong> to <a href=\"https://wandb.ai/sophied/exponentials\" target=\"_blank\">Weights & Biases</a> (<a href=\"https://wandb.me/run\" target=\"_blank\">docs</a>)<br/>Sweep page:  <a href=\"https://wandb.ai/sophied/exponentials/sweeps/5e99jgaj\" target=\"_blank\">https://wandb.ai/sophied/exponentials/sweeps/5e99jgaj</a>"
            ],
            "text/plain": [
              "<IPython.core.display.HTML object>"
            ]
          },
          "metadata": {},
          "output_type": "display_data"
        },
        {
          "data": {
            "text/html": [
              "Waiting for W&B process to finish... <strong style=\"color:green\">(success).</strong>"
            ],
            "text/plain": [
              "<IPython.core.display.HTML object>"
            ]
          },
          "metadata": {},
          "output_type": "display_data"
        },
        {
          "data": {
            "application/vnd.jupyter.widget-view+json": {
              "model_id": "4df464a71d1a4ae7a477ab896f1267cd",
              "version_major": 2,
              "version_minor": 0
            },
            "text/plain": [
              "VBox(children=(Label(value='0.000 MB of 0.000 MB uploaded (0.000 MB deduped)\\r'), FloatProgress(value=1.0, max…"
            ]
          },
          "metadata": {},
          "output_type": "display_data"
        },
        {
          "data": {
            "text/html": [
              "<style>\n",
              "    table.wandb td:nth-child(1) { padding: 0 10px; text-align: left ; width: auto;} td:nth-child(2) {text-align: left ; width: 100%}\n",
              "    .wandb-row { display: flex; flex-direction: row; flex-wrap: wrap; justify-content: flex-start; width: 100% }\n",
              "    .wandb-col { display: flex; flex-direction: column; flex-basis: 100%; flex: 1; padding: 10px; }\n",
              "    </style>\n",
              "<div class=\"wandb-row\"><div class=\"wandb-col\"><h3>Run history:</h3><br/><table class=\"wandb\"><tr><td>branch_loss</td><td>▅▇▂▅▃▄█▇▄▄▃█▅▄▅▅▅▃▅▆▇▆▄▆▇█▃▃▅▃▅▃▁▄▇▁▃▄▅▂</td></tr><tr><td>kl</td><td>▄▄▃▃▆▂▅▄█▅▃▂▃▂▃▆▃▄▃▃▄▄▅▂█▄▃▆▄▄▃▅▆▃▄▁▅▃▅▅</td></tr><tr><td>loss</td><td>▅▆▂▄▄▃▇▆▅▄▃▆▄▃▄▅▄▃▅▅▆▅▄▅█▇▃▄▄▄▄▄▃▄▆▁▄▃▅▃</td></tr><tr><td>recon_loss</td><td>█▃▂▁▁▁▁▁▁▁▁▁▂▁▁▁▁▁▁▁▂▁▁▁▂▁▁▁▁▁▁▁▁▁▂▁▁▁▁▁</td></tr></table><br/></div><div class=\"wandb-col\"><h3>Run summary:</h3><br/><table class=\"wandb\"><tr><td>branch_loss</td><td>0.08937</td></tr><tr><td>kl</td><td>93.51929</td></tr><tr><td>loss</td><td>6.36723</td></tr><tr><td>recon_loss</td><td>0.0001</td></tr><tr><td>vars</td><td>A+B+C+D</td></tr></table><br/></div></div>"
            ],
            "text/plain": [
              "<IPython.core.display.HTML object>"
            ]
          },
          "metadata": {},
          "output_type": "display_data"
        },
        {
          "data": {
            "text/html": [
              "Synced <strong style=\"color:#cdcd00\">autumn-sweep-29</strong>: <a href=\"https://wandb.ai/sophied/exponentials/runs/75k8guxb\" target=\"_blank\">https://wandb.ai/sophied/exponentials/runs/75k8guxb</a><br/>Synced 4 W&B file(s), 0 media file(s), 0 artifact file(s) and 0 other file(s)"
            ],
            "text/plain": [
              "<IPython.core.display.HTML object>"
            ]
          },
          "metadata": {},
          "output_type": "display_data"
        },
        {
          "data": {
            "text/html": [
              "Find logs at: <code>./wandb/run-20220528_232329-75k8guxb/logs</code>"
            ],
            "text/plain": [
              "<IPython.core.display.HTML object>"
            ]
          },
          "metadata": {},
          "output_type": "display_data"
        },
        {
          "name": "stderr",
          "output_type": "stream",
          "text": [
            "\u001b[34m\u001b[1mwandb\u001b[0m: Sweep Agent: Waiting for job.\n",
            "\u001b[34m\u001b[1mwandb\u001b[0m: Job received.\n",
            "\u001b[34m\u001b[1mwandb\u001b[0m: Agent Starting Run: 54zrxvof with config:\n",
            "\u001b[34m\u001b[1mwandb\u001b[0m: \tae_layer: 9\n",
            "\u001b[34m\u001b[1mwandb\u001b[0m: \tbranch_layer: 5\n",
            "\u001b[34m\u001b[1mwandb\u001b[0m: \tbranch_weight: 70.80445698117113\n",
            "\u001b[34m\u001b[1mwandb\u001b[0m: \tkl_weight: 0.8425891675488595\n",
            "\u001b[34m\u001b[1mwandb\u001b[0m: \tlearning_rate: 0.004516742205957283\n"
          ]
        },
        {
          "data": {
            "text/html": [
              "Tracking run with wandb version 0.12.17"
            ],
            "text/plain": [
              "<IPython.core.display.HTML object>"
            ]
          },
          "metadata": {},
          "output_type": "display_data"
        },
        {
          "data": {
            "text/html": [
              "Run data is saved locally in <code>/content/wandb/run-20220528_232642-54zrxvof</code>"
            ],
            "text/plain": [
              "<IPython.core.display.HTML object>"
            ]
          },
          "metadata": {},
          "output_type": "display_data"
        },
        {
          "data": {
            "text/html": [
              "Syncing run <strong><a href=\"https://wandb.ai/sophied/exponentials/runs/54zrxvof\" target=\"_blank\">rosy-sweep-30</a></strong> to <a href=\"https://wandb.ai/sophied/exponentials\" target=\"_blank\">Weights & Biases</a> (<a href=\"https://wandb.me/run\" target=\"_blank\">docs</a>)<br/>Sweep page:  <a href=\"https://wandb.ai/sophied/exponentials/sweeps/5e99jgaj\" target=\"_blank\">https://wandb.ai/sophied/exponentials/sweeps/5e99jgaj</a>"
            ],
            "text/plain": [
              "<IPython.core.display.HTML object>"
            ]
          },
          "metadata": {},
          "output_type": "display_data"
        },
        {
          "data": {
            "text/html": [
              "Waiting for W&B process to finish... <strong style=\"color:green\">(success).</strong>"
            ],
            "text/plain": [
              "<IPython.core.display.HTML object>"
            ]
          },
          "metadata": {},
          "output_type": "display_data"
        },
        {
          "data": {
            "application/vnd.jupyter.widget-view+json": {
              "model_id": "0e33763c82c946a592058161b2146e76",
              "version_major": 2,
              "version_minor": 0
            },
            "text/plain": [
              "VBox(children=(Label(value='0.000 MB of 0.000 MB uploaded (0.000 MB deduped)\\r'), FloatProgress(value=1.0, max…"
            ]
          },
          "metadata": {},
          "output_type": "display_data"
        },
        {
          "data": {
            "text/html": [
              "<style>\n",
              "    table.wandb td:nth-child(1) { padding: 0 10px; text-align: left ; width: auto;} td:nth-child(2) {text-align: left ; width: 100%}\n",
              "    .wandb-row { display: flex; flex-direction: row; flex-wrap: wrap; justify-content: flex-start; width: 100% }\n",
              "    .wandb-col { display: flex; flex-direction: column; flex-basis: 100%; flex: 1; padding: 10px; }\n",
              "    </style>\n",
              "<div class=\"wandb-row\"><div class=\"wandb-col\"><h3>Run history:</h3><br/><table class=\"wandb\"><tr><td>branch_loss</td><td>▄▇▂▅▃▄█▇▄▄▃█▆▄▅▅▅▃▆▇▇▆▄▆▇█▃▃▅▃▅▃▁▄▇▂▃▄▆▂</td></tr><tr><td>kl</td><td>▄▄▃▃▆▂▅▄█▅▃▂▃▂▃▆▃▄▃▃▄▄▅▂█▄▃▆▄▄▃▅▆▃▄▁▅▃▅▅</td></tr><tr><td>loss</td><td>▄▄▃▃▆▂▅▄█▅▃▂▃▂▃▆▃▄▃▃▄▄▅▂█▄▃▆▄▄▃▅▆▃▄▁▅▃▅▅</td></tr><tr><td>recon_loss</td><td>█▂▂▂▂▂▂▂▁▂▃▁▃▂▁▂▂▁▂▂▃▁▁▁▅▂▂▁▂▁▃▁▁▁▃▂▁▁▁▁</td></tr></table><br/></div><div class=\"wandb-col\"><h3>Run summary:</h3><br/><table class=\"wandb\"><tr><td>branch_loss</td><td>0.08951</td></tr><tr><td>kl</td><td>93.52527</td></tr><tr><td>loss</td><td>85.14098</td></tr><tr><td>recon_loss</td><td>0.0001</td></tr><tr><td>vars</td><td>A+B+C+D</td></tr></table><br/></div></div>"
            ],
            "text/plain": [
              "<IPython.core.display.HTML object>"
            ]
          },
          "metadata": {},
          "output_type": "display_data"
        },
        {
          "data": {
            "text/html": [
              "Synced <strong style=\"color:#cdcd00\">rosy-sweep-30</strong>: <a href=\"https://wandb.ai/sophied/exponentials/runs/54zrxvof\" target=\"_blank\">https://wandb.ai/sophied/exponentials/runs/54zrxvof</a><br/>Synced 4 W&B file(s), 0 media file(s), 0 artifact file(s) and 0 other file(s)"
            ],
            "text/plain": [
              "<IPython.core.display.HTML object>"
            ]
          },
          "metadata": {},
          "output_type": "display_data"
        },
        {
          "data": {
            "text/html": [
              "Find logs at: <code>./wandb/run-20220528_232642-54zrxvof/logs</code>"
            ],
            "text/plain": [
              "<IPython.core.display.HTML object>"
            ]
          },
          "metadata": {},
          "output_type": "display_data"
        },
        {
          "name": "stderr",
          "output_type": "stream",
          "text": [
            "\u001b[34m\u001b[1mwandb\u001b[0m: Agent Starting Run: veq53y9l with config:\n",
            "\u001b[34m\u001b[1mwandb\u001b[0m: \tae_layer: 14\n",
            "\u001b[34m\u001b[1mwandb\u001b[0m: \tbranch_layer: 6\n",
            "\u001b[34m\u001b[1mwandb\u001b[0m: \tbranch_weight: 50.51183619124833\n",
            "\u001b[34m\u001b[1mwandb\u001b[0m: \tkl_weight: 0.38106344584950547\n",
            "\u001b[34m\u001b[1mwandb\u001b[0m: \tlearning_rate: 0.0048398979374616995\n"
          ]
        },
        {
          "data": {
            "text/html": [
              "Tracking run with wandb version 0.12.17"
            ],
            "text/plain": [
              "<IPython.core.display.HTML object>"
            ]
          },
          "metadata": {},
          "output_type": "display_data"
        },
        {
          "data": {
            "text/html": [
              "Run data is saved locally in <code>/content/wandb/run-20220528_232946-veq53y9l</code>"
            ],
            "text/plain": [
              "<IPython.core.display.HTML object>"
            ]
          },
          "metadata": {},
          "output_type": "display_data"
        },
        {
          "data": {
            "text/html": [
              "Syncing run <strong><a href=\"https://wandb.ai/sophied/exponentials/runs/veq53y9l\" target=\"_blank\">morning-sweep-31</a></strong> to <a href=\"https://wandb.ai/sophied/exponentials\" target=\"_blank\">Weights & Biases</a> (<a href=\"https://wandb.me/run\" target=\"_blank\">docs</a>)<br/>Sweep page:  <a href=\"https://wandb.ai/sophied/exponentials/sweeps/5e99jgaj\" target=\"_blank\">https://wandb.ai/sophied/exponentials/sweeps/5e99jgaj</a>"
            ],
            "text/plain": [
              "<IPython.core.display.HTML object>"
            ]
          },
          "metadata": {},
          "output_type": "display_data"
        },
        {
          "data": {
            "text/html": [
              "Waiting for W&B process to finish... <strong style=\"color:green\">(success).</strong>"
            ],
            "text/plain": [
              "<IPython.core.display.HTML object>"
            ]
          },
          "metadata": {},
          "output_type": "display_data"
        },
        {
          "data": {
            "application/vnd.jupyter.widget-view+json": {
              "model_id": "285a32e8ce0c40dc8c089560040e8c50",
              "version_major": 2,
              "version_minor": 0
            },
            "text/plain": [
              "VBox(children=(Label(value='0.000 MB of 0.000 MB uploaded (0.000 MB deduped)\\r'), FloatProgress(value=1.0, max…"
            ]
          },
          "metadata": {},
          "output_type": "display_data"
        },
        {
          "data": {
            "text/html": [
              "<style>\n",
              "    table.wandb td:nth-child(1) { padding: 0 10px; text-align: left ; width: auto;} td:nth-child(2) {text-align: left ; width: 100%}\n",
              "    .wandb-row { display: flex; flex-direction: row; flex-wrap: wrap; justify-content: flex-start; width: 100% }\n",
              "    .wandb-col { display: flex; flex-direction: column; flex-basis: 100%; flex: 1; padding: 10px; }\n",
              "    </style>\n",
              "<div class=\"wandb-row\"><div class=\"wandb-col\"><h3>Run history:</h3><br/><table class=\"wandb\"><tr><td>branch_loss</td><td>▄▆▃▅▄▅█▇▅▅▄█▆▅▆▆▆▄▆▇▇▆▅▇██▄▄▅▄▄▄▃▅▅▂▆▅▃▁</td></tr><tr><td>kl</td><td>▄▄▃▃▆▂▅▄█▅▃▂▃▂▃▆▃▅▃▃▄▄▅▂█▄▃▆▄▅▃▅▆▃▄▁▅▃▄▅</td></tr><tr><td>loss</td><td>▄▄▃▃▆▂▅▅▇▅▃▃▃▃▃▆▃▅▄▃▄▄▅▃█▄▃▆▄▅▃▅▆▃▄▁▆▃▄▅</td></tr><tr><td>recon_loss</td><td>█▂▂▂▂▂▂▃▂▃▄▁▅▃▁▃▂▂▃▃▄▁▂▂█▂▂▁▃▂▂▁▁▁▂▁▁▁▁▁</td></tr></table><br/></div><div class=\"wandb-col\"><h3>Run summary:</h3><br/><table class=\"wandb\"><tr><td>branch_loss</td><td>0.08545</td></tr><tr><td>kl</td><td>92.93277</td></tr><tr><td>loss</td><td>39.72952</td></tr><tr><td>recon_loss</td><td>0.0001</td></tr><tr><td>vars</td><td>A+B+C+D</td></tr></table><br/></div></div>"
            ],
            "text/plain": [
              "<IPython.core.display.HTML object>"
            ]
          },
          "metadata": {},
          "output_type": "display_data"
        },
        {
          "data": {
            "text/html": [
              "Synced <strong style=\"color:#cdcd00\">morning-sweep-31</strong>: <a href=\"https://wandb.ai/sophied/exponentials/runs/veq53y9l\" target=\"_blank\">https://wandb.ai/sophied/exponentials/runs/veq53y9l</a><br/>Synced 4 W&B file(s), 0 media file(s), 0 artifact file(s) and 0 other file(s)"
            ],
            "text/plain": [
              "<IPython.core.display.HTML object>"
            ]
          },
          "metadata": {},
          "output_type": "display_data"
        },
        {
          "data": {
            "text/html": [
              "Find logs at: <code>./wandb/run-20220528_232946-veq53y9l/logs</code>"
            ],
            "text/plain": [
              "<IPython.core.display.HTML object>"
            ]
          },
          "metadata": {},
          "output_type": "display_data"
        },
        {
          "name": "stderr",
          "output_type": "stream",
          "text": [
            "\u001b[34m\u001b[1mwandb\u001b[0m: Agent Starting Run: 9aq1e57w with config:\n",
            "\u001b[34m\u001b[1mwandb\u001b[0m: \tae_layer: 10\n",
            "\u001b[34m\u001b[1mwandb\u001b[0m: \tbranch_layer: 5\n",
            "\u001b[34m\u001b[1mwandb\u001b[0m: \tbranch_weight: 50.20887078909337\n",
            "\u001b[34m\u001b[1mwandb\u001b[0m: \tkl_weight: 0.029703345077393185\n",
            "\u001b[34m\u001b[1mwandb\u001b[0m: \tlearning_rate: 0.0027993462578067415\n"
          ]
        },
        {
          "data": {
            "text/html": [
              "Tracking run with wandb version 0.12.17"
            ],
            "text/plain": [
              "<IPython.core.display.HTML object>"
            ]
          },
          "metadata": {},
          "output_type": "display_data"
        },
        {
          "data": {
            "text/html": [
              "Run data is saved locally in <code>/content/wandb/run-20220528_233254-9aq1e57w</code>"
            ],
            "text/plain": [
              "<IPython.core.display.HTML object>"
            ]
          },
          "metadata": {},
          "output_type": "display_data"
        },
        {
          "data": {
            "text/html": [
              "Syncing run <strong><a href=\"https://wandb.ai/sophied/exponentials/runs/9aq1e57w\" target=\"_blank\">lilac-sweep-32</a></strong> to <a href=\"https://wandb.ai/sophied/exponentials\" target=\"_blank\">Weights & Biases</a> (<a href=\"https://wandb.me/run\" target=\"_blank\">docs</a>)<br/>Sweep page:  <a href=\"https://wandb.ai/sophied/exponentials/sweeps/5e99jgaj\" target=\"_blank\">https://wandb.ai/sophied/exponentials/sweeps/5e99jgaj</a>"
            ],
            "text/plain": [
              "<IPython.core.display.HTML object>"
            ]
          },
          "metadata": {},
          "output_type": "display_data"
        },
        {
          "data": {
            "text/html": [
              "Waiting for W&B process to finish... <strong style=\"color:green\">(success).</strong>"
            ],
            "text/plain": [
              "<IPython.core.display.HTML object>"
            ]
          },
          "metadata": {},
          "output_type": "display_data"
        },
        {
          "data": {
            "application/vnd.jupyter.widget-view+json": {
              "model_id": "cfe0ee53f9d5481ab3883528698da27a",
              "version_major": 2,
              "version_minor": 0
            },
            "text/plain": [
              "VBox(children=(Label(value='0.000 MB of 0.000 MB uploaded (0.000 MB deduped)\\r'), FloatProgress(value=1.0, max…"
            ]
          },
          "metadata": {},
          "output_type": "display_data"
        },
        {
          "data": {
            "text/html": [
              "<style>\n",
              "    table.wandb td:nth-child(1) { padding: 0 10px; text-align: left ; width: auto;} td:nth-child(2) {text-align: left ; width: 100%}\n",
              "    .wandb-row { display: flex; flex-direction: row; flex-wrap: wrap; justify-content: flex-start; width: 100% }\n",
              "    .wandb-col { display: flex; flex-direction: column; flex-basis: 100%; flex: 1; padding: 10px; }\n",
              "    </style>\n",
              "<div class=\"wandb-row\"><div class=\"wandb-col\"><h3>Run history:</h3><br/><table class=\"wandb\"><tr><td>branch_loss</td><td>▅▇▄▆▄▆█▇▅▅▅█▆▅▆▆▆▅▆▇▇▆▅▇▇█▅▅▆▅▅▅▄▄▄▁▁▂▁▂</td></tr><tr><td>kl</td><td>▄▄▄▃▆▂▅▄█▅▃▃▃▃▃▆▃▅▄▃▄▄▅▃█▄▃▆▄▅▄▅▆▃▄▁▅▃▄▅</td></tr><tr><td>loss</td><td>▅▆▄▅▅▄▇▆▇▅▄▆▅▄▅▆▅▅▅▆▆▆▆▅█▇▄▆▅▅▅▅▅▄▄▁▃▂▃▃</td></tr><tr><td>recon_loss</td><td>█▂▂▂▁▂▂▂▁▂▂▁▂▂▁▂▁▁▂▂▂▁▁▁▂▁▂▂▂▁▁▁▁▁▁▁▁▁▁▁</td></tr></table><br/></div><div class=\"wandb-col\"><h3>Run summary:</h3><br/><table class=\"wandb\"><tr><td>branch_loss</td><td>0.07274</td></tr><tr><td>kl</td><td>91.30663</td></tr><tr><td>loss</td><td>6.36425</td></tr><tr><td>recon_loss</td><td>5e-05</td></tr><tr><td>vars</td><td>A+B+C+D</td></tr></table><br/></div></div>"
            ],
            "text/plain": [
              "<IPython.core.display.HTML object>"
            ]
          },
          "metadata": {},
          "output_type": "display_data"
        },
        {
          "data": {
            "text/html": [
              "Synced <strong style=\"color:#cdcd00\">lilac-sweep-32</strong>: <a href=\"https://wandb.ai/sophied/exponentials/runs/9aq1e57w\" target=\"_blank\">https://wandb.ai/sophied/exponentials/runs/9aq1e57w</a><br/>Synced 4 W&B file(s), 0 media file(s), 0 artifact file(s) and 0 other file(s)"
            ],
            "text/plain": [
              "<IPython.core.display.HTML object>"
            ]
          },
          "metadata": {},
          "output_type": "display_data"
        },
        {
          "data": {
            "text/html": [
              "Find logs at: <code>./wandb/run-20220528_233254-9aq1e57w/logs</code>"
            ],
            "text/plain": [
              "<IPython.core.display.HTML object>"
            ]
          },
          "metadata": {},
          "output_type": "display_data"
        },
        {
          "name": "stderr",
          "output_type": "stream",
          "text": [
            "\u001b[34m\u001b[1mwandb\u001b[0m: Agent Starting Run: j5sa9plb with config:\n",
            "\u001b[34m\u001b[1mwandb\u001b[0m: \tae_layer: 14\n",
            "\u001b[34m\u001b[1mwandb\u001b[0m: \tbranch_layer: 9\n",
            "\u001b[34m\u001b[1mwandb\u001b[0m: \tbranch_weight: 43.24175150536241\n",
            "\u001b[34m\u001b[1mwandb\u001b[0m: \tkl_weight: 0.5004284627713145\n",
            "\u001b[34m\u001b[1mwandb\u001b[0m: \tlearning_rate: 0.00117162150696272\n"
          ]
        },
        {
          "data": {
            "text/html": [
              "Tracking run with wandb version 0.12.17"
            ],
            "text/plain": [
              "<IPython.core.display.HTML object>"
            ]
          },
          "metadata": {},
          "output_type": "display_data"
        },
        {
          "data": {
            "text/html": [
              "Run data is saved locally in <code>/content/wandb/run-20220528_233557-j5sa9plb</code>"
            ],
            "text/plain": [
              "<IPython.core.display.HTML object>"
            ]
          },
          "metadata": {},
          "output_type": "display_data"
        },
        {
          "data": {
            "text/html": [
              "Syncing run <strong><a href=\"https://wandb.ai/sophied/exponentials/runs/j5sa9plb\" target=\"_blank\">smooth-sweep-33</a></strong> to <a href=\"https://wandb.ai/sophied/exponentials\" target=\"_blank\">Weights & Biases</a> (<a href=\"https://wandb.me/run\" target=\"_blank\">docs</a>)<br/>Sweep page:  <a href=\"https://wandb.ai/sophied/exponentials/sweeps/5e99jgaj\" target=\"_blank\">https://wandb.ai/sophied/exponentials/sweeps/5e99jgaj</a>"
            ],
            "text/plain": [
              "<IPython.core.display.HTML object>"
            ]
          },
          "metadata": {},
          "output_type": "display_data"
        },
        {
          "data": {
            "text/html": [
              "Waiting for W&B process to finish... <strong style=\"color:green\">(success).</strong>"
            ],
            "text/plain": [
              "<IPython.core.display.HTML object>"
            ]
          },
          "metadata": {},
          "output_type": "display_data"
        },
        {
          "data": {
            "application/vnd.jupyter.widget-view+json": {
              "model_id": "ed0331e8bf2f4a9e98e3357720156760",
              "version_major": 2,
              "version_minor": 0
            },
            "text/plain": [
              "VBox(children=(Label(value='0.000 MB of 0.000 MB uploaded (0.000 MB deduped)\\r'), FloatProgress(value=1.0, max…"
            ]
          },
          "metadata": {},
          "output_type": "display_data"
        },
        {
          "data": {
            "text/html": [
              "<style>\n",
              "    table.wandb td:nth-child(1) { padding: 0 10px; text-align: left ; width: auto;} td:nth-child(2) {text-align: left ; width: 100%}\n",
              "    .wandb-row { display: flex; flex-direction: row; flex-wrap: wrap; justify-content: flex-start; width: 100% }\n",
              "    .wandb-col { display: flex; flex-direction: column; flex-basis: 100%; flex: 1; padding: 10px; }\n",
              "    </style>\n",
              "<div class=\"wandb-row\"><div class=\"wandb-col\"><h3>Run history:</h3><br/><table class=\"wandb\"><tr><td>branch_loss</td><td>▂▇▃▅▃▄█▇▄▄▃█▆▄▅▅▅▃▅▇▇▅▄▆▇█▃▃▅▃▅▃▁▄▇▁▃▄▅▂</td></tr><tr><td>kl</td><td>▄▄▃▃▆▂▅▄█▅▃▂▃▂▃▆▃▄▃▃▄▄▅▂█▄▃▆▄▄▃▅▆▃▄▁▅▃▅▅</td></tr><tr><td>loss</td><td>▄▄▃▃▆▂▅▄█▅▃▃▃▂▃▆▃▄▃▃▄▄▅▂█▄▃▆▄▄▃▅▆▃▄▁▅▃▅▅</td></tr><tr><td>recon_loss</td><td>█▃▁▁▁▁▁▁▁▁▂▁▂▁▁▁▁▁▁▁▂▁▁▁▃▁▁▁▁▁▂▁▁▁▁▁▁▁▁▁</td></tr></table><br/></div><div class=\"wandb-col\"><h3>Run summary:</h3><br/><table class=\"wandb\"><tr><td>branch_loss</td><td>0.08893</td></tr><tr><td>kl</td><td>93.50268</td></tr><tr><td>loss</td><td>50.63692</td></tr><tr><td>recon_loss</td><td>8e-05</td></tr><tr><td>vars</td><td>A+B+C+D</td></tr></table><br/></div></div>"
            ],
            "text/plain": [
              "<IPython.core.display.HTML object>"
            ]
          },
          "metadata": {},
          "output_type": "display_data"
        },
        {
          "data": {
            "text/html": [
              "Synced <strong style=\"color:#cdcd00\">smooth-sweep-33</strong>: <a href=\"https://wandb.ai/sophied/exponentials/runs/j5sa9plb\" target=\"_blank\">https://wandb.ai/sophied/exponentials/runs/j5sa9plb</a><br/>Synced 4 W&B file(s), 0 media file(s), 0 artifact file(s) and 0 other file(s)"
            ],
            "text/plain": [
              "<IPython.core.display.HTML object>"
            ]
          },
          "metadata": {},
          "output_type": "display_data"
        },
        {
          "data": {
            "text/html": [
              "Find logs at: <code>./wandb/run-20220528_233557-j5sa9plb/logs</code>"
            ],
            "text/plain": [
              "<IPython.core.display.HTML object>"
            ]
          },
          "metadata": {},
          "output_type": "display_data"
        },
        {
          "name": "stderr",
          "output_type": "stream",
          "text": [
            "\u001b[34m\u001b[1mwandb\u001b[0m: Agent Starting Run: wsu43rk9 with config:\n",
            "\u001b[34m\u001b[1mwandb\u001b[0m: \tae_layer: 8\n",
            "\u001b[34m\u001b[1mwandb\u001b[0m: \tbranch_layer: 4\n",
            "\u001b[34m\u001b[1mwandb\u001b[0m: \tbranch_weight: 72.21210345603203\n",
            "\u001b[34m\u001b[1mwandb\u001b[0m: \tkl_weight: 0.5528461349276544\n",
            "\u001b[34m\u001b[1mwandb\u001b[0m: \tlearning_rate: 0.00269109997363099\n"
          ]
        },
        {
          "data": {
            "text/html": [
              "Tracking run with wandb version 0.12.17"
            ],
            "text/plain": [
              "<IPython.core.display.HTML object>"
            ]
          },
          "metadata": {},
          "output_type": "display_data"
        },
        {
          "data": {
            "text/html": [
              "Run data is saved locally in <code>/content/wandb/run-20220528_233900-wsu43rk9</code>"
            ],
            "text/plain": [
              "<IPython.core.display.HTML object>"
            ]
          },
          "metadata": {},
          "output_type": "display_data"
        },
        {
          "data": {
            "text/html": [
              "Syncing run <strong><a href=\"https://wandb.ai/sophied/exponentials/runs/wsu43rk9\" target=\"_blank\">major-sweep-34</a></strong> to <a href=\"https://wandb.ai/sophied/exponentials\" target=\"_blank\">Weights & Biases</a> (<a href=\"https://wandb.me/run\" target=\"_blank\">docs</a>)<br/>Sweep page:  <a href=\"https://wandb.ai/sophied/exponentials/sweeps/5e99jgaj\" target=\"_blank\">https://wandb.ai/sophied/exponentials/sweeps/5e99jgaj</a>"
            ],
            "text/plain": [
              "<IPython.core.display.HTML object>"
            ]
          },
          "metadata": {},
          "output_type": "display_data"
        },
        {
          "data": {
            "text/html": [
              "Waiting for W&B process to finish... <strong style=\"color:green\">(success).</strong>"
            ],
            "text/plain": [
              "<IPython.core.display.HTML object>"
            ]
          },
          "metadata": {},
          "output_type": "display_data"
        },
        {
          "data": {
            "application/vnd.jupyter.widget-view+json": {
              "model_id": "f9b55732d73042ac8b5788a7ba7fd13b",
              "version_major": 2,
              "version_minor": 0
            },
            "text/plain": [
              "VBox(children=(Label(value='0.000 MB of 0.000 MB uploaded (0.000 MB deduped)\\r'), FloatProgress(value=1.0, max…"
            ]
          },
          "metadata": {},
          "output_type": "display_data"
        },
        {
          "data": {
            "text/html": [
              "<style>\n",
              "    table.wandb td:nth-child(1) { padding: 0 10px; text-align: left ; width: auto;} td:nth-child(2) {text-align: left ; width: 100%}\n",
              "    .wandb-row { display: flex; flex-direction: row; flex-wrap: wrap; justify-content: flex-start; width: 100% }\n",
              "    .wandb-col { display: flex; flex-direction: column; flex-basis: 100%; flex: 1; padding: 10px; }\n",
              "    </style>\n",
              "<div class=\"wandb-row\"><div class=\"wandb-col\"><h3>Run history:</h3><br/><table class=\"wandb\"><tr><td>branch_loss</td><td>▆▇▅▆▅▆█▇▆▆▅█▇▆▇▆▆▅▇▇▇▇▅▇▇▆▄▄▄▄▃▃▂▃▃▁▁▂▂▃</td></tr><tr><td>kl</td><td>▄▄▄▃▆▂▅▅█▅▄▃▃▃▃▆▃▅▄▃▄▄▅▃█▄▃▆▄▅▃▅▆▃▃▁▅▃▄▅</td></tr><tr><td>loss</td><td>▅▅▄▄▆▃▆▅█▅▄▃▄▃▄▆▄▅▄▄▄▄▅▃█▄▃▆▄▅▃▅▆▃▄▁▅▃▄▅</td></tr><tr><td>recon_loss</td><td>█▂▁▁▁▁▁▂▁▂▂▁▂▂▁▂▁▁▁▁▂▁▁▁▂▁▁▁▁▁▁▁▁▁▁▁▁▁▁▁</td></tr></table><br/></div><div class=\"wandb-col\"><h3>Run summary:</h3><br/><table class=\"wandb\"><tr><td>branch_loss</td><td>0.07396</td></tr><tr><td>kl</td><td>90.86884</td></tr><tr><td>loss</td><td>55.57706</td></tr><tr><td>recon_loss</td><td>5e-05</td></tr><tr><td>vars</td><td>A+B+C+D</td></tr></table><br/></div></div>"
            ],
            "text/plain": [
              "<IPython.core.display.HTML object>"
            ]
          },
          "metadata": {},
          "output_type": "display_data"
        },
        {
          "data": {
            "text/html": [
              "Synced <strong style=\"color:#cdcd00\">major-sweep-34</strong>: <a href=\"https://wandb.ai/sophied/exponentials/runs/wsu43rk9\" target=\"_blank\">https://wandb.ai/sophied/exponentials/runs/wsu43rk9</a><br/>Synced 4 W&B file(s), 0 media file(s), 0 artifact file(s) and 0 other file(s)"
            ],
            "text/plain": [
              "<IPython.core.display.HTML object>"
            ]
          },
          "metadata": {},
          "output_type": "display_data"
        },
        {
          "data": {
            "text/html": [
              "Find logs at: <code>./wandb/run-20220528_233900-wsu43rk9/logs</code>"
            ],
            "text/plain": [
              "<IPython.core.display.HTML object>"
            ]
          },
          "metadata": {},
          "output_type": "display_data"
        },
        {
          "name": "stderr",
          "output_type": "stream",
          "text": [
            "\u001b[34m\u001b[1mwandb\u001b[0m: Sweep Agent: Waiting for job.\n",
            "\u001b[34m\u001b[1mwandb\u001b[0m: Job received.\n",
            "\u001b[34m\u001b[1mwandb\u001b[0m: Agent Starting Run: vpx2cbk5 with config:\n",
            "\u001b[34m\u001b[1mwandb\u001b[0m: \tae_layer: 7\n",
            "\u001b[34m\u001b[1mwandb\u001b[0m: \tbranch_layer: 6\n",
            "\u001b[34m\u001b[1mwandb\u001b[0m: \tbranch_weight: 69.40708749174983\n",
            "\u001b[34m\u001b[1mwandb\u001b[0m: \tkl_weight: 0.06733153805265099\n",
            "\u001b[34m\u001b[1mwandb\u001b[0m: \tlearning_rate: 0.002426919681144511\n"
          ]
        },
        {
          "data": {
            "text/html": [
              "Tracking run with wandb version 0.12.17"
            ],
            "text/plain": [
              "<IPython.core.display.HTML object>"
            ]
          },
          "metadata": {},
          "output_type": "display_data"
        },
        {
          "data": {
            "text/html": [
              "Run data is saved locally in <code>/content/wandb/run-20220528_234208-vpx2cbk5</code>"
            ],
            "text/plain": [
              "<IPython.core.display.HTML object>"
            ]
          },
          "metadata": {},
          "output_type": "display_data"
        },
        {
          "data": {
            "text/html": [
              "Syncing run <strong><a href=\"https://wandb.ai/sophied/exponentials/runs/vpx2cbk5\" target=\"_blank\">jolly-sweep-35</a></strong> to <a href=\"https://wandb.ai/sophied/exponentials\" target=\"_blank\">Weights & Biases</a> (<a href=\"https://wandb.me/run\" target=\"_blank\">docs</a>)<br/>Sweep page:  <a href=\"https://wandb.ai/sophied/exponentials/sweeps/5e99jgaj\" target=\"_blank\">https://wandb.ai/sophied/exponentials/sweeps/5e99jgaj</a>"
            ],
            "text/plain": [
              "<IPython.core.display.HTML object>"
            ]
          },
          "metadata": {},
          "output_type": "display_data"
        },
        {
          "data": {
            "text/html": [
              "Waiting for W&B process to finish... <strong style=\"color:green\">(success).</strong>"
            ],
            "text/plain": [
              "<IPython.core.display.HTML object>"
            ]
          },
          "metadata": {},
          "output_type": "display_data"
        },
        {
          "data": {
            "application/vnd.jupyter.widget-view+json": {
              "model_id": "0f4aff97265c43ffb7111f8f8ce4adb5",
              "version_major": 2,
              "version_minor": 0
            },
            "text/plain": [
              "VBox(children=(Label(value='0.000 MB of 0.000 MB uploaded (0.000 MB deduped)\\r'), FloatProgress(value=1.0, max…"
            ]
          },
          "metadata": {},
          "output_type": "display_data"
        },
        {
          "data": {
            "text/html": [
              "<style>\n",
              "    table.wandb td:nth-child(1) { padding: 0 10px; text-align: left ; width: auto;} td:nth-child(2) {text-align: left ; width: 100%}\n",
              "    .wandb-row { display: flex; flex-direction: row; flex-wrap: wrap; justify-content: flex-start; width: 100% }\n",
              "    .wandb-col { display: flex; flex-direction: column; flex-basis: 100%; flex: 1; padding: 10px; }\n",
              "    </style>\n",
              "<div class=\"wandb-row\"><div class=\"wandb-col\"><h3>Run history:</h3><br/><table class=\"wandb\"><tr><td>branch_loss</td><td>▄▆▄▅▄▅█▇▅▄▄█▆▅▆▆▆▄▆▇▇▆▅▇▇█▄▄▅▄▅▄▂▄▆▂▃▃▅▁</td></tr><tr><td>kl</td><td>▄▄▃▃▆▂▅▄█▅▃▂▃▂▃▆▃▄▃▃▄▄▅▂█▄▃▆▄▄▃▅▆▃▄▁▅▃▅▅</td></tr><tr><td>loss</td><td>▄▅▃▃▅▂▆▅▇▅▃▄▄▃▄▆▄▄▄▄▅▄▅▄█▅▃▅▄▄▄▄▄▃▅▁▄▂▅▃</td></tr><tr><td>recon_loss</td><td>█▃▁▁▁▁▁▁▁▁▁▁▂▁▁▁▁▁▁▁▂▁▁▁▂▁▁▁▁▁▁▁▁▁▂▁▁▁▁▁</td></tr></table><br/></div><div class=\"wandb-col\"><h3>Run summary:</h3><br/><table class=\"wandb\"><tr><td>branch_loss</td><td>0.07876</td></tr><tr><td>kl</td><td>92.20067</td></tr><tr><td>loss</td><td>11.67484</td></tr><tr><td>recon_loss</td><td>5e-05</td></tr><tr><td>vars</td><td>A+B+C+D</td></tr></table><br/></div></div>"
            ],
            "text/plain": [
              "<IPython.core.display.HTML object>"
            ]
          },
          "metadata": {},
          "output_type": "display_data"
        },
        {
          "data": {
            "text/html": [
              "Synced <strong style=\"color:#cdcd00\">jolly-sweep-35</strong>: <a href=\"https://wandb.ai/sophied/exponentials/runs/vpx2cbk5\" target=\"_blank\">https://wandb.ai/sophied/exponentials/runs/vpx2cbk5</a><br/>Synced 4 W&B file(s), 0 media file(s), 0 artifact file(s) and 0 other file(s)"
            ],
            "text/plain": [
              "<IPython.core.display.HTML object>"
            ]
          },
          "metadata": {},
          "output_type": "display_data"
        },
        {
          "data": {
            "text/html": [
              "Find logs at: <code>./wandb/run-20220528_234208-vpx2cbk5/logs</code>"
            ],
            "text/plain": [
              "<IPython.core.display.HTML object>"
            ]
          },
          "metadata": {},
          "output_type": "display_data"
        },
        {
          "name": "stderr",
          "output_type": "stream",
          "text": [
            "\u001b[34m\u001b[1mwandb\u001b[0m: Agent Starting Run: avncq5za with config:\n",
            "\u001b[34m\u001b[1mwandb\u001b[0m: \tae_layer: 9\n",
            "\u001b[34m\u001b[1mwandb\u001b[0m: \tbranch_layer: 8\n",
            "\u001b[34m\u001b[1mwandb\u001b[0m: \tbranch_weight: 29.919900404187477\n",
            "\u001b[34m\u001b[1mwandb\u001b[0m: \tkl_weight: 0.8036385255029747\n",
            "\u001b[34m\u001b[1mwandb\u001b[0m: \tlearning_rate: 0.0008355182432151574\n"
          ]
        },
        {
          "data": {
            "text/html": [
              "Tracking run with wandb version 0.12.17"
            ],
            "text/plain": [
              "<IPython.core.display.HTML object>"
            ]
          },
          "metadata": {},
          "output_type": "display_data"
        },
        {
          "data": {
            "text/html": [
              "Run data is saved locally in <code>/content/wandb/run-20220528_234512-avncq5za</code>"
            ],
            "text/plain": [
              "<IPython.core.display.HTML object>"
            ]
          },
          "metadata": {},
          "output_type": "display_data"
        },
        {
          "data": {
            "text/html": [
              "Syncing run <strong><a href=\"https://wandb.ai/sophied/exponentials/runs/avncq5za\" target=\"_blank\">balmy-sweep-36</a></strong> to <a href=\"https://wandb.ai/sophied/exponentials\" target=\"_blank\">Weights & Biases</a> (<a href=\"https://wandb.me/run\" target=\"_blank\">docs</a>)<br/>Sweep page:  <a href=\"https://wandb.ai/sophied/exponentials/sweeps/5e99jgaj\" target=\"_blank\">https://wandb.ai/sophied/exponentials/sweeps/5e99jgaj</a>"
            ],
            "text/plain": [
              "<IPython.core.display.HTML object>"
            ]
          },
          "metadata": {},
          "output_type": "display_data"
        },
        {
          "data": {
            "text/html": [
              "Waiting for W&B process to finish... <strong style=\"color:green\">(success).</strong>"
            ],
            "text/plain": [
              "<IPython.core.display.HTML object>"
            ]
          },
          "metadata": {},
          "output_type": "display_data"
        },
        {
          "data": {
            "application/vnd.jupyter.widget-view+json": {
              "model_id": "8f44516f17684e9ba9c6689a627a6797",
              "version_major": 2,
              "version_minor": 0
            },
            "text/plain": [
              "VBox(children=(Label(value='0.000 MB of 0.000 MB uploaded (0.000 MB deduped)\\r'), FloatProgress(value=1.0, max…"
            ]
          },
          "metadata": {},
          "output_type": "display_data"
        },
        {
          "data": {
            "text/html": [
              "<style>\n",
              "    table.wandb td:nth-child(1) { padding: 0 10px; text-align: left ; width: auto;} td:nth-child(2) {text-align: left ; width: 100%}\n",
              "    .wandb-row { display: flex; flex-direction: row; flex-wrap: wrap; justify-content: flex-start; width: 100% }\n",
              "    .wandb-col { display: flex; flex-direction: column; flex-basis: 100%; flex: 1; padding: 10px; }\n",
              "    </style>\n",
              "<div class=\"wandb-row\"><div class=\"wandb-col\"><h3>Run history:</h3><br/><table class=\"wandb\"><tr><td>branch_loss</td><td>▃▇▃▄▃▄█▇▄▄▃▇▅▄▅▅▅▃▅▆▆▅▄▆▇█▃▃▅▃▄▃▁▄▆▁▃▃▅▂</td></tr><tr><td>kl</td><td>▄▄▃▃▆▂▅▄█▅▃▂▃▂▃▆▃▄▃▃▄▄▅▂█▄▃▆▄▄▃▅▆▃▄▁▅▃▅▅</td></tr><tr><td>loss</td><td>▄▄▃▃▆▂▅▄█▅▃▂▃▂▃▆▃▄▃▃▄▄▅▂█▄▃▆▄▄▃▅▆▃▄▁▅▃▅▅</td></tr><tr><td>recon_loss</td><td>█▄▂▂▁▁▁▁▁▁▁▁▁▁▁▁▁▁▁▁▁▁▁▁▂▁▁▁▁▁▁▁▁▁▁▁▁▁▁▁</td></tr></table><br/></div><div class=\"wandb-col\"><h3>Run summary:</h3><br/><table class=\"wandb\"><tr><td>branch_loss</td><td>0.08918</td></tr><tr><td>kl</td><td>93.51428</td></tr><tr><td>loss</td><td>77.82</td></tr><tr><td>recon_loss</td><td>0.00011</td></tr><tr><td>vars</td><td>A+B+C+D</td></tr></table><br/></div></div>"
            ],
            "text/plain": [
              "<IPython.core.display.HTML object>"
            ]
          },
          "metadata": {},
          "output_type": "display_data"
        },
        {
          "data": {
            "text/html": [
              "Synced <strong style=\"color:#cdcd00\">balmy-sweep-36</strong>: <a href=\"https://wandb.ai/sophied/exponentials/runs/avncq5za\" target=\"_blank\">https://wandb.ai/sophied/exponentials/runs/avncq5za</a><br/>Synced 4 W&B file(s), 0 media file(s), 0 artifact file(s) and 0 other file(s)"
            ],
            "text/plain": [
              "<IPython.core.display.HTML object>"
            ]
          },
          "metadata": {},
          "output_type": "display_data"
        },
        {
          "data": {
            "text/html": [
              "Find logs at: <code>./wandb/run-20220528_234512-avncq5za/logs</code>"
            ],
            "text/plain": [
              "<IPython.core.display.HTML object>"
            ]
          },
          "metadata": {},
          "output_type": "display_data"
        },
        {
          "name": "stderr",
          "output_type": "stream",
          "text": [
            "\u001b[34m\u001b[1mwandb\u001b[0m: Sweep Agent: Waiting for job.\n",
            "\u001b[34m\u001b[1mwandb\u001b[0m: Job received.\n",
            "\u001b[34m\u001b[1mwandb\u001b[0m: Agent Starting Run: 9gjowkmx with config:\n",
            "\u001b[34m\u001b[1mwandb\u001b[0m: \tae_layer: 17\n",
            "\u001b[34m\u001b[1mwandb\u001b[0m: \tbranch_layer: 9\n",
            "\u001b[34m\u001b[1mwandb\u001b[0m: \tbranch_weight: 76.8265423594638\n",
            "\u001b[34m\u001b[1mwandb\u001b[0m: \tkl_weight: 0.4664715760772131\n",
            "\u001b[34m\u001b[1mwandb\u001b[0m: \tlearning_rate: 0.0010551207015520917\n"
          ]
        },
        {
          "data": {
            "text/html": [
              "Tracking run with wandb version 0.12.17"
            ],
            "text/plain": [
              "<IPython.core.display.HTML object>"
            ]
          },
          "metadata": {},
          "output_type": "display_data"
        },
        {
          "data": {
            "text/html": [
              "Run data is saved locally in <code>/content/wandb/run-20220528_234820-9gjowkmx</code>"
            ],
            "text/plain": [
              "<IPython.core.display.HTML object>"
            ]
          },
          "metadata": {},
          "output_type": "display_data"
        },
        {
          "data": {
            "text/html": [
              "Syncing run <strong><a href=\"https://wandb.ai/sophied/exponentials/runs/9gjowkmx\" target=\"_blank\">bumbling-sweep-37</a></strong> to <a href=\"https://wandb.ai/sophied/exponentials\" target=\"_blank\">Weights & Biases</a> (<a href=\"https://wandb.me/run\" target=\"_blank\">docs</a>)<br/>Sweep page:  <a href=\"https://wandb.ai/sophied/exponentials/sweeps/5e99jgaj\" target=\"_blank\">https://wandb.ai/sophied/exponentials/sweeps/5e99jgaj</a>"
            ],
            "text/plain": [
              "<IPython.core.display.HTML object>"
            ]
          },
          "metadata": {},
          "output_type": "display_data"
        },
        {
          "data": {
            "text/html": [
              "Waiting for W&B process to finish... <strong style=\"color:green\">(success).</strong>"
            ],
            "text/plain": [
              "<IPython.core.display.HTML object>"
            ]
          },
          "metadata": {},
          "output_type": "display_data"
        },
        {
          "data": {
            "application/vnd.jupyter.widget-view+json": {
              "model_id": "ee8aeec87f1b4a2ab76ab488a11da223",
              "version_major": 2,
              "version_minor": 0
            },
            "text/plain": [
              "VBox(children=(Label(value='0.000 MB of 0.000 MB uploaded (0.000 MB deduped)\\r'), FloatProgress(value=1.0, max…"
            ]
          },
          "metadata": {},
          "output_type": "display_data"
        },
        {
          "data": {
            "text/html": [
              "<style>\n",
              "    table.wandb td:nth-child(1) { padding: 0 10px; text-align: left ; width: auto;} td:nth-child(2) {text-align: left ; width: 100%}\n",
              "    .wandb-row { display: flex; flex-direction: row; flex-wrap: wrap; justify-content: flex-start; width: 100% }\n",
              "    .wandb-col { display: flex; flex-direction: column; flex-basis: 100%; flex: 1; padding: 10px; }\n",
              "    </style>\n",
              "<div class=\"wandb-row\"><div class=\"wandb-col\"><h3>Run history:</h3><br/><table class=\"wandb\"><tr><td>branch_loss</td><td>▃▆▃▅▃▄█▇▄▃▃█▅▄▅▅▅▃▅▆▇▅▄▆▇█▃▃▅▃▅▃▁▄▆▂▃▄▆▂</td></tr><tr><td>kl</td><td>▄▄▃▃▆▂▅▄█▅▃▂▃▂▃▆▃▄▃▃▄▄▅▂█▄▃▆▄▄▃▅▆▃▄▁▅▃▅▅</td></tr><tr><td>loss</td><td>▄▄▃▃▆▂▅▄▇▅▃▃▃▂▃▆▃▄▃▃▄▄▅▃█▄▃▆▄▄▄▄▆▃▄▁▅▃▅▅</td></tr><tr><td>recon_loss</td><td>█▃▂▁▁▁▁▁▁▁▁▁▂▁▁▁▁▁▁▁▂▁▁▁▂▁▁▁▁▁▁▁▁▁▁▁▁▁▁▁</td></tr></table><br/></div><div class=\"wandb-col\"><h3>Run summary:</h3><br/><table class=\"wandb\"><tr><td>branch_loss</td><td>0.08929</td></tr><tr><td>kl</td><td>93.49931</td></tr><tr><td>loss</td><td>50.47463</td></tr><tr><td>recon_loss</td><td>0.00011</td></tr><tr><td>vars</td><td>A+B+C+D</td></tr></table><br/></div></div>"
            ],
            "text/plain": [
              "<IPython.core.display.HTML object>"
            ]
          },
          "metadata": {},
          "output_type": "display_data"
        },
        {
          "data": {
            "text/html": [
              "Synced <strong style=\"color:#cdcd00\">bumbling-sweep-37</strong>: <a href=\"https://wandb.ai/sophied/exponentials/runs/9gjowkmx\" target=\"_blank\">https://wandb.ai/sophied/exponentials/runs/9gjowkmx</a><br/>Synced 4 W&B file(s), 0 media file(s), 0 artifact file(s) and 0 other file(s)"
            ],
            "text/plain": [
              "<IPython.core.display.HTML object>"
            ]
          },
          "metadata": {},
          "output_type": "display_data"
        },
        {
          "data": {
            "text/html": [
              "Find logs at: <code>./wandb/run-20220528_234820-9gjowkmx/logs</code>"
            ],
            "text/plain": [
              "<IPython.core.display.HTML object>"
            ]
          },
          "metadata": {},
          "output_type": "display_data"
        },
        {
          "name": "stderr",
          "output_type": "stream",
          "text": [
            "\u001b[34m\u001b[1mwandb\u001b[0m: Agent Starting Run: p5n4q8x2 with config:\n",
            "\u001b[34m\u001b[1mwandb\u001b[0m: \tae_layer: 14\n",
            "\u001b[34m\u001b[1mwandb\u001b[0m: \tbranch_layer: 7\n",
            "\u001b[34m\u001b[1mwandb\u001b[0m: \tbranch_weight: 96.98214693371202\n",
            "\u001b[34m\u001b[1mwandb\u001b[0m: \tkl_weight: 0.5145698936688361\n",
            "\u001b[34m\u001b[1mwandb\u001b[0m: \tlearning_rate: 0.0006735121313525582\n"
          ]
        },
        {
          "data": {
            "text/html": [
              "Tracking run with wandb version 0.12.17"
            ],
            "text/plain": [
              "<IPython.core.display.HTML object>"
            ]
          },
          "metadata": {},
          "output_type": "display_data"
        },
        {
          "data": {
            "text/html": [
              "Run data is saved locally in <code>/content/wandb/run-20220528_235119-p5n4q8x2</code>"
            ],
            "text/plain": [
              "<IPython.core.display.HTML object>"
            ]
          },
          "metadata": {},
          "output_type": "display_data"
        },
        {
          "data": {
            "text/html": [
              "Syncing run <strong><a href=\"https://wandb.ai/sophied/exponentials/runs/p5n4q8x2\" target=\"_blank\">wise-sweep-38</a></strong> to <a href=\"https://wandb.ai/sophied/exponentials\" target=\"_blank\">Weights & Biases</a> (<a href=\"https://wandb.me/run\" target=\"_blank\">docs</a>)<br/>Sweep page:  <a href=\"https://wandb.ai/sophied/exponentials/sweeps/5e99jgaj\" target=\"_blank\">https://wandb.ai/sophied/exponentials/sweeps/5e99jgaj</a>"
            ],
            "text/plain": [
              "<IPython.core.display.HTML object>"
            ]
          },
          "metadata": {},
          "output_type": "display_data"
        },
        {
          "data": {
            "text/html": [
              "Waiting for W&B process to finish... <strong style=\"color:green\">(success).</strong>"
            ],
            "text/plain": [
              "<IPython.core.display.HTML object>"
            ]
          },
          "metadata": {},
          "output_type": "display_data"
        },
        {
          "data": {
            "application/vnd.jupyter.widget-view+json": {
              "model_id": "effc6e31da2d4968973cbf9ce48af9b0",
              "version_major": 2,
              "version_minor": 0
            },
            "text/plain": [
              "VBox(children=(Label(value='0.000 MB of 0.000 MB uploaded (0.000 MB deduped)\\r'), FloatProgress(value=1.0, max…"
            ]
          },
          "metadata": {},
          "output_type": "display_data"
        },
        {
          "data": {
            "text/html": [
              "<style>\n",
              "    table.wandb td:nth-child(1) { padding: 0 10px; text-align: left ; width: auto;} td:nth-child(2) {text-align: left ; width: 100%}\n",
              "    .wandb-row { display: flex; flex-direction: row; flex-wrap: wrap; justify-content: flex-start; width: 100% }\n",
              "    .wandb-col { display: flex; flex-direction: column; flex-basis: 100%; flex: 1; padding: 10px; }\n",
              "    </style>\n",
              "<div class=\"wandb-row\"><div class=\"wandb-col\"><h3>Run history:</h3><br/><table class=\"wandb\"><tr><td>branch_loss</td><td>▅▅▂▄▃▄█▇▄▄▃█▆▄▅▅▅▃▅▆▇▅▄▆▇█▃▃▅▃▅▃▁▄▇▂▃▄▅▂</td></tr><tr><td>kl</td><td>▄▄▃▃▆▂▅▄█▅▃▂▃▂▃▆▃▄▃▃▄▄▅▂█▄▃▆▄▄▃▅▆▃▄▁▅▃▅▅</td></tr><tr><td>loss</td><td>▄▄▃▃▆▂▅▄▇▅▃▃▃▂▃▆▃▄▃▃▄▄▅▃█▄▃▆▄▄▄▄▆▃▄▁▅▃▅▅</td></tr><tr><td>recon_loss</td><td>█▄▂▁▁▁▁▁▁▁▁▁▁▁▁▁▁▁▁▁▁▁▁▁▂▁▁▁▁▁▁▁▁▁▁▁▁▁▁▁</td></tr></table><br/></div><div class=\"wandb-col\"><h3>Run summary:</h3><br/><table class=\"wandb\"><tr><td>branch_loss</td><td>0.08954</td></tr><tr><td>kl</td><td>93.54311</td></tr><tr><td>loss</td><td>56.81804</td></tr><tr><td>recon_loss</td><td>0.00011</td></tr><tr><td>vars</td><td>A+B+C+D</td></tr></table><br/></div></div>"
            ],
            "text/plain": [
              "<IPython.core.display.HTML object>"
            ]
          },
          "metadata": {},
          "output_type": "display_data"
        },
        {
          "data": {
            "text/html": [
              "Synced <strong style=\"color:#cdcd00\">wise-sweep-38</strong>: <a href=\"https://wandb.ai/sophied/exponentials/runs/p5n4q8x2\" target=\"_blank\">https://wandb.ai/sophied/exponentials/runs/p5n4q8x2</a><br/>Synced 4 W&B file(s), 0 media file(s), 0 artifact file(s) and 0 other file(s)"
            ],
            "text/plain": [
              "<IPython.core.display.HTML object>"
            ]
          },
          "metadata": {},
          "output_type": "display_data"
        },
        {
          "data": {
            "text/html": [
              "Find logs at: <code>./wandb/run-20220528_235119-p5n4q8x2/logs</code>"
            ],
            "text/plain": [
              "<IPython.core.display.HTML object>"
            ]
          },
          "metadata": {},
          "output_type": "display_data"
        },
        {
          "name": "stderr",
          "output_type": "stream",
          "text": [
            "\u001b[34m\u001b[1mwandb\u001b[0m: Agent Starting Run: t44n7hhj with config:\n",
            "\u001b[34m\u001b[1mwandb\u001b[0m: \tae_layer: 10\n",
            "\u001b[34m\u001b[1mwandb\u001b[0m: \tbranch_layer: 6\n",
            "\u001b[34m\u001b[1mwandb\u001b[0m: \tbranch_weight: 4.503164984079085\n",
            "\u001b[34m\u001b[1mwandb\u001b[0m: \tkl_weight: 0.13898691416010778\n",
            "\u001b[34m\u001b[1mwandb\u001b[0m: \tlearning_rate: 0.0010856060951695383\n"
          ]
        },
        {
          "data": {
            "text/html": [
              "Tracking run with wandb version 0.12.17"
            ],
            "text/plain": [
              "<IPython.core.display.HTML object>"
            ]
          },
          "metadata": {},
          "output_type": "display_data"
        },
        {
          "data": {
            "text/html": [
              "Run data is saved locally in <code>/content/wandb/run-20220528_235422-t44n7hhj</code>"
            ],
            "text/plain": [
              "<IPython.core.display.HTML object>"
            ]
          },
          "metadata": {},
          "output_type": "display_data"
        },
        {
          "data": {
            "text/html": [
              "Syncing run <strong><a href=\"https://wandb.ai/sophied/exponentials/runs/t44n7hhj\" target=\"_blank\">fresh-sweep-39</a></strong> to <a href=\"https://wandb.ai/sophied/exponentials\" target=\"_blank\">Weights & Biases</a> (<a href=\"https://wandb.me/run\" target=\"_blank\">docs</a>)<br/>Sweep page:  <a href=\"https://wandb.ai/sophied/exponentials/sweeps/5e99jgaj\" target=\"_blank\">https://wandb.ai/sophied/exponentials/sweeps/5e99jgaj</a>"
            ],
            "text/plain": [
              "<IPython.core.display.HTML object>"
            ]
          },
          "metadata": {},
          "output_type": "display_data"
        },
        {
          "data": {
            "text/html": [
              "Waiting for W&B process to finish... <strong style=\"color:green\">(success).</strong>"
            ],
            "text/plain": [
              "<IPython.core.display.HTML object>"
            ]
          },
          "metadata": {},
          "output_type": "display_data"
        },
        {
          "data": {
            "application/vnd.jupyter.widget-view+json": {
              "model_id": "f1f1f57b2e374ead822775f6bbf7b06b",
              "version_major": 2,
              "version_minor": 0
            },
            "text/plain": [
              "VBox(children=(Label(value='0.000 MB of 0.000 MB uploaded (0.000 MB deduped)\\r'), FloatProgress(value=1.0, max…"
            ]
          },
          "metadata": {},
          "output_type": "display_data"
        },
        {
          "data": {
            "text/html": [
              "<style>\n",
              "    table.wandb td:nth-child(1) { padding: 0 10px; text-align: left ; width: auto;} td:nth-child(2) {text-align: left ; width: 100%}\n",
              "    .wandb-row { display: flex; flex-direction: row; flex-wrap: wrap; justify-content: flex-start; width: 100% }\n",
              "    .wandb-col { display: flex; flex-direction: column; flex-basis: 100%; flex: 1; padding: 10px; }\n",
              "    </style>\n",
              "<div class=\"wandb-row\"><div class=\"wandb-col\"><h3>Run history:</h3><br/><table class=\"wandb\"><tr><td>branch_loss</td><td>▇█▃▅▃▅█▇▄▄▄█▆▄▅▅▅▃▆▇▇▅▄▆▇█▃▃▅▃▅▃▁▄▇▂▃▄▆▂</td></tr><tr><td>kl</td><td>▄▄▃▃▆▂▅▄█▅▃▂▃▂▃▆▃▄▃▃▄▄▅▂█▄▃▆▄▄▃▅▆▃▄▁▅▃▅▅</td></tr><tr><td>loss</td><td>▄▄▃▃▆▂▅▄█▅▃▂▃▂▃▆▃▄▃▃▄▄▅▂█▄▃▆▄▄▃▅▆▃▄▁▅▃▅▅</td></tr><tr><td>recon_loss</td><td>█▃▂▁▁▁▁▁▁▁▁▁▂▁▁▁▁▁▁▁▂▁▁▁▂▁▁▁▁▁▁▁▁▁▂▁▁▁▁▁</td></tr></table><br/></div><div class=\"wandb-col\"><h3>Run summary:</h3><br/><table class=\"wandb\"><tr><td>branch_loss</td><td>0.08947</td></tr><tr><td>kl</td><td>93.53114</td></tr><tr><td>loss</td><td>13.40259</td></tr><tr><td>recon_loss</td><td>0.00011</td></tr><tr><td>vars</td><td>A+B+C+D</td></tr></table><br/></div></div>"
            ],
            "text/plain": [
              "<IPython.core.display.HTML object>"
            ]
          },
          "metadata": {},
          "output_type": "display_data"
        },
        {
          "data": {
            "text/html": [
              "Synced <strong style=\"color:#cdcd00\">fresh-sweep-39</strong>: <a href=\"https://wandb.ai/sophied/exponentials/runs/t44n7hhj\" target=\"_blank\">https://wandb.ai/sophied/exponentials/runs/t44n7hhj</a><br/>Synced 4 W&B file(s), 0 media file(s), 0 artifact file(s) and 0 other file(s)"
            ],
            "text/plain": [
              "<IPython.core.display.HTML object>"
            ]
          },
          "metadata": {},
          "output_type": "display_data"
        },
        {
          "data": {
            "text/html": [
              "Find logs at: <code>./wandb/run-20220528_235422-t44n7hhj/logs</code>"
            ],
            "text/plain": [
              "<IPython.core.display.HTML object>"
            ]
          },
          "metadata": {},
          "output_type": "display_data"
        },
        {
          "name": "stderr",
          "output_type": "stream",
          "text": [
            "\u001b[34m\u001b[1mwandb\u001b[0m: Agent Starting Run: mwe6jry2 with config:\n",
            "\u001b[34m\u001b[1mwandb\u001b[0m: \tae_layer: 7\n",
            "\u001b[34m\u001b[1mwandb\u001b[0m: \tbranch_layer: 9\n",
            "\u001b[34m\u001b[1mwandb\u001b[0m: \tbranch_weight: 58.560087467677455\n",
            "\u001b[34m\u001b[1mwandb\u001b[0m: \tkl_weight: 0.6447067420104188\n",
            "\u001b[34m\u001b[1mwandb\u001b[0m: \tlearning_rate: 0.003123379327761572\n"
          ]
        },
        {
          "data": {
            "text/html": [
              "Tracking run with wandb version 0.12.17"
            ],
            "text/plain": [
              "<IPython.core.display.HTML object>"
            ]
          },
          "metadata": {},
          "output_type": "display_data"
        },
        {
          "data": {
            "text/html": [
              "Run data is saved locally in <code>/content/wandb/run-20220528_235725-mwe6jry2</code>"
            ],
            "text/plain": [
              "<IPython.core.display.HTML object>"
            ]
          },
          "metadata": {},
          "output_type": "display_data"
        },
        {
          "data": {
            "text/html": [
              "Syncing run <strong><a href=\"https://wandb.ai/sophied/exponentials/runs/mwe6jry2\" target=\"_blank\">denim-sweep-40</a></strong> to <a href=\"https://wandb.ai/sophied/exponentials\" target=\"_blank\">Weights & Biases</a> (<a href=\"https://wandb.me/run\" target=\"_blank\">docs</a>)<br/>Sweep page:  <a href=\"https://wandb.ai/sophied/exponentials/sweeps/5e99jgaj\" target=\"_blank\">https://wandb.ai/sophied/exponentials/sweeps/5e99jgaj</a>"
            ],
            "text/plain": [
              "<IPython.core.display.HTML object>"
            ]
          },
          "metadata": {},
          "output_type": "display_data"
        },
        {
          "data": {
            "text/html": [
              "Waiting for W&B process to finish... <strong style=\"color:green\">(success).</strong>"
            ],
            "text/plain": [
              "<IPython.core.display.HTML object>"
            ]
          },
          "metadata": {},
          "output_type": "display_data"
        },
        {
          "data": {
            "application/vnd.jupyter.widget-view+json": {
              "model_id": "8b1602365e77495490718cd18c060a94",
              "version_major": 2,
              "version_minor": 0
            },
            "text/plain": [
              "VBox(children=(Label(value='0.000 MB of 0.000 MB uploaded (0.000 MB deduped)\\r'), FloatProgress(value=1.0, max…"
            ]
          },
          "metadata": {},
          "output_type": "display_data"
        },
        {
          "data": {
            "text/html": [
              "<style>\n",
              "    table.wandb td:nth-child(1) { padding: 0 10px; text-align: left ; width: auto;} td:nth-child(2) {text-align: left ; width: 100%}\n",
              "    .wandb-row { display: flex; flex-direction: row; flex-wrap: wrap; justify-content: flex-start; width: 100% }\n",
              "    .wandb-col { display: flex; flex-direction: column; flex-basis: 100%; flex: 1; padding: 10px; }\n",
              "    </style>\n",
              "<div class=\"wandb-row\"><div class=\"wandb-col\"><h3>Run history:</h3><br/><table class=\"wandb\"><tr><td>branch_loss</td><td>▄▇▄▅▄▅█▇▅▅▅█▆▅▆▆▆▄▆▇▇▆▅▇▇█▅▄▆▅▆▅▃▃▅▁▂▂▃▁</td></tr><tr><td>kl</td><td>▄▄▄▃▆▂▅▄█▅▃▂▃▂▃▆▃▅▃▃▄▄▅▂█▄▃▆▄▅▄▅▆▃▄▁▅▂▄▅</td></tr><tr><td>loss</td><td>▄▄▄▃▆▂▅▅█▅▃▃▃▃▃▆▃▅▄▃▄▄▅▃█▄▃▆▄▅▄▅▆▃▄▁▅▂▄▅</td></tr><tr><td>recon_loss</td><td>█▂▁▁▁▁▁▁▁▁▂▁▂▂▁▂▁▁▁▁▂▁▁▁▃▁▁▁▁▁▂▁▁▁▁▁▁▁▁▁</td></tr></table><br/></div><div class=\"wandb-col\"><h3>Run summary:</h3><br/><table class=\"wandb\"><tr><td>branch_loss</td><td>0.08286</td></tr><tr><td>kl</td><td>91.5825</td></tr><tr><td>loss</td><td>63.89648</td></tr><tr><td>recon_loss</td><td>6e-05</td></tr><tr><td>vars</td><td>A+B+C+D</td></tr></table><br/></div></div>"
            ],
            "text/plain": [
              "<IPython.core.display.HTML object>"
            ]
          },
          "metadata": {},
          "output_type": "display_data"
        },
        {
          "data": {
            "text/html": [
              "Synced <strong style=\"color:#cdcd00\">denim-sweep-40</strong>: <a href=\"https://wandb.ai/sophied/exponentials/runs/mwe6jry2\" target=\"_blank\">https://wandb.ai/sophied/exponentials/runs/mwe6jry2</a><br/>Synced 4 W&B file(s), 0 media file(s), 0 artifact file(s) and 0 other file(s)"
            ],
            "text/plain": [
              "<IPython.core.display.HTML object>"
            ]
          },
          "metadata": {},
          "output_type": "display_data"
        },
        {
          "data": {
            "text/html": [
              "Find logs at: <code>./wandb/run-20220528_235725-mwe6jry2/logs</code>"
            ],
            "text/plain": [
              "<IPython.core.display.HTML object>"
            ]
          },
          "metadata": {},
          "output_type": "display_data"
        },
        {
          "name": "stderr",
          "output_type": "stream",
          "text": [
            "\u001b[34m\u001b[1mwandb\u001b[0m: Agent Starting Run: 7is7hjrv with config:\n",
            "\u001b[34m\u001b[1mwandb\u001b[0m: \tae_layer: 10\n",
            "\u001b[34m\u001b[1mwandb\u001b[0m: \tbranch_layer: 9\n",
            "\u001b[34m\u001b[1mwandb\u001b[0m: \tbranch_weight: 1.489761581523677\n",
            "\u001b[34m\u001b[1mwandb\u001b[0m: \tkl_weight: 0.040829295149926795\n",
            "\u001b[34m\u001b[1mwandb\u001b[0m: \tlearning_rate: 0.0014481319821347046\n"
          ]
        },
        {
          "data": {
            "text/html": [
              "Tracking run with wandb version 0.12.17"
            ],
            "text/plain": [
              "<IPython.core.display.HTML object>"
            ]
          },
          "metadata": {},
          "output_type": "display_data"
        },
        {
          "data": {
            "text/html": [
              "Run data is saved locally in <code>/content/wandb/run-20220529_000029-7is7hjrv</code>"
            ],
            "text/plain": [
              "<IPython.core.display.HTML object>"
            ]
          },
          "metadata": {},
          "output_type": "display_data"
        },
        {
          "data": {
            "text/html": [
              "Syncing run <strong><a href=\"https://wandb.ai/sophied/exponentials/runs/7is7hjrv\" target=\"_blank\">brisk-sweep-41</a></strong> to <a href=\"https://wandb.ai/sophied/exponentials\" target=\"_blank\">Weights & Biases</a> (<a href=\"https://wandb.me/run\" target=\"_blank\">docs</a>)<br/>Sweep page:  <a href=\"https://wandb.ai/sophied/exponentials/sweeps/5e99jgaj\" target=\"_blank\">https://wandb.ai/sophied/exponentials/sweeps/5e99jgaj</a>"
            ],
            "text/plain": [
              "<IPython.core.display.HTML object>"
            ]
          },
          "metadata": {},
          "output_type": "display_data"
        },
        {
          "data": {
            "text/html": [
              "Waiting for W&B process to finish... <strong style=\"color:green\">(success).</strong>"
            ],
            "text/plain": [
              "<IPython.core.display.HTML object>"
            ]
          },
          "metadata": {},
          "output_type": "display_data"
        },
        {
          "data": {
            "application/vnd.jupyter.widget-view+json": {
              "model_id": "c6862e17e15c42cf9165c87e9db4a6a1",
              "version_major": 2,
              "version_minor": 0
            },
            "text/plain": [
              "VBox(children=(Label(value='0.000 MB of 0.000 MB uploaded (0.000 MB deduped)\\r'), FloatProgress(value=1.0, max…"
            ]
          },
          "metadata": {},
          "output_type": "display_data"
        },
        {
          "data": {
            "text/html": [
              "<style>\n",
              "    table.wandb td:nth-child(1) { padding: 0 10px; text-align: left ; width: auto;} td:nth-child(2) {text-align: left ; width: 100%}\n",
              "    .wandb-row { display: flex; flex-direction: row; flex-wrap: wrap; justify-content: flex-start; width: 100% }\n",
              "    .wandb-col { display: flex; flex-direction: column; flex-basis: 100%; flex: 1; padding: 10px; }\n",
              "    </style>\n",
              "<div class=\"wandb-row\"><div class=\"wandb-col\"><h3>Run history:</h3><br/><table class=\"wandb\"><tr><td>branch_loss</td><td>▆▇▄▆▄▅█▇▅▅▅█▆▅▆▆▆▅▆▇▇▆▅▇▇█▅▄▅▅▅▅▃▄▅▁▁▂▂▂</td></tr><tr><td>kl</td><td>▄▄▄▃▆▂▅▄█▅▃▂▃▃▃▆▃▅▃▃▄▄▅▃█▄▃▆▄▅▄▅▆▃▄▁▅▃▄▅</td></tr><tr><td>loss</td><td>▄▄▄▃▆▂▅▄█▅▃▃▃▃▃▆▃▅▄▃▄▄▅▃█▄▃▆▄▅▄▅▆▃▄▁▅▃▄▅</td></tr><tr><td>recon_loss</td><td>█▄▂▁▁▁▁▁▁▁▂▁▂▁▁▁▁▁▁▁▂▁▁▁▃▂▁▁▁▁▁▁▁▁▁▁▁▁▁▁</td></tr></table><br/></div><div class=\"wandb-col\"><h3>Run summary:</h3><br/><table class=\"wandb\"><tr><td>branch_loss</td><td>0.07832</td></tr><tr><td>kl</td><td>91.93116</td></tr><tr><td>loss</td><td>3.87021</td></tr><tr><td>recon_loss</td><td>5e-05</td></tr><tr><td>vars</td><td>A+B+C+D</td></tr></table><br/></div></div>"
            ],
            "text/plain": [
              "<IPython.core.display.HTML object>"
            ]
          },
          "metadata": {},
          "output_type": "display_data"
        },
        {
          "data": {
            "text/html": [
              "Synced <strong style=\"color:#cdcd00\">brisk-sweep-41</strong>: <a href=\"https://wandb.ai/sophied/exponentials/runs/7is7hjrv\" target=\"_blank\">https://wandb.ai/sophied/exponentials/runs/7is7hjrv</a><br/>Synced 4 W&B file(s), 0 media file(s), 0 artifact file(s) and 0 other file(s)"
            ],
            "text/plain": [
              "<IPython.core.display.HTML object>"
            ]
          },
          "metadata": {},
          "output_type": "display_data"
        },
        {
          "data": {
            "text/html": [
              "Find logs at: <code>./wandb/run-20220529_000029-7is7hjrv/logs</code>"
            ],
            "text/plain": [
              "<IPython.core.display.HTML object>"
            ]
          },
          "metadata": {},
          "output_type": "display_data"
        },
        {
          "name": "stderr",
          "output_type": "stream",
          "text": [
            "\u001b[34m\u001b[1mwandb\u001b[0m: Agent Starting Run: q4ph1vcs with config:\n",
            "\u001b[34m\u001b[1mwandb\u001b[0m: \tae_layer: 15\n",
            "\u001b[34m\u001b[1mwandb\u001b[0m: \tbranch_layer: 8\n",
            "\u001b[34m\u001b[1mwandb\u001b[0m: \tbranch_weight: 74.61914126117239\n",
            "\u001b[34m\u001b[1mwandb\u001b[0m: \tkl_weight: 0.7424210593791427\n",
            "\u001b[34m\u001b[1mwandb\u001b[0m: \tlearning_rate: 0.004107851563918931\n"
          ]
        },
        {
          "data": {
            "text/html": [
              "Tracking run with wandb version 0.12.17"
            ],
            "text/plain": [
              "<IPython.core.display.HTML object>"
            ]
          },
          "metadata": {},
          "output_type": "display_data"
        },
        {
          "data": {
            "text/html": [
              "Run data is saved locally in <code>/content/wandb/run-20220529_000342-q4ph1vcs</code>"
            ],
            "text/plain": [
              "<IPython.core.display.HTML object>"
            ]
          },
          "metadata": {},
          "output_type": "display_data"
        },
        {
          "data": {
            "text/html": [
              "Syncing run <strong><a href=\"https://wandb.ai/sophied/exponentials/runs/q4ph1vcs\" target=\"_blank\">sweet-sweep-42</a></strong> to <a href=\"https://wandb.ai/sophied/exponentials\" target=\"_blank\">Weights & Biases</a> (<a href=\"https://wandb.me/run\" target=\"_blank\">docs</a>)<br/>Sweep page:  <a href=\"https://wandb.ai/sophied/exponentials/sweeps/5e99jgaj\" target=\"_blank\">https://wandb.ai/sophied/exponentials/sweeps/5e99jgaj</a>"
            ],
            "text/plain": [
              "<IPython.core.display.HTML object>"
            ]
          },
          "metadata": {},
          "output_type": "display_data"
        },
        {
          "data": {
            "text/html": [
              "Waiting for W&B process to finish... <strong style=\"color:green\">(success).</strong>"
            ],
            "text/plain": [
              "<IPython.core.display.HTML object>"
            ]
          },
          "metadata": {},
          "output_type": "display_data"
        },
        {
          "data": {
            "application/vnd.jupyter.widget-view+json": {
              "model_id": "3dd4d2ded31a4c33bd79f9a87e307578",
              "version_major": 2,
              "version_minor": 0
            },
            "text/plain": [
              "VBox(children=(Label(value='0.000 MB of 0.000 MB uploaded (0.000 MB deduped)\\r'), FloatProgress(value=1.0, max…"
            ]
          },
          "metadata": {},
          "output_type": "display_data"
        },
        {
          "data": {
            "text/html": [
              "<style>\n",
              "    table.wandb td:nth-child(1) { padding: 0 10px; text-align: left ; width: auto;} td:nth-child(2) {text-align: left ; width: 100%}\n",
              "    .wandb-row { display: flex; flex-direction: row; flex-wrap: wrap; justify-content: flex-start; width: 100% }\n",
              "    .wandb-col { display: flex; flex-direction: column; flex-basis: 100%; flex: 1; padding: 10px; }\n",
              "    </style>\n",
              "<div class=\"wandb-row\"><div class=\"wandb-col\"><h3>Run history:</h3><br/><table class=\"wandb\"><tr><td>branch_loss</td><td>▂▆▂▄▃▄█▇▄▄▃█▆▄▅▅▅▃▅▇▇▆▄▆▇█▃▃▅▃▅▃▁▄▇▂▃▄▆▂</td></tr><tr><td>kl</td><td>▄▄▃▃▆▂▅▄█▅▃▂▃▂▃▆▃▄▃▃▄▄▅▂█▄▃▆▄▄▃▅▆▃▄▁▅▃▅▅</td></tr><tr><td>loss</td><td>▄▄▃▃▆▂▅▄▇▅▃▃▃▂▃▆▃▄▃▃▄▄▅▂█▄▃▆▄▄▃▅▆▃▄▁▅▃▅▅</td></tr><tr><td>recon_loss</td><td>█▂▂▂▂▂▂▂▁▂▃▁▄▂▁▂▂▂▂▂▃▁▁▁▇▂▂▁▂▁▃▁▁▂▃▂▁▁▁▁</td></tr></table><br/></div><div class=\"wandb-col\"><h3>Run summary:</h3><br/><table class=\"wandb\"><tr><td>branch_loss</td><td>0.08976</td></tr><tr><td>kl</td><td>93.54408</td></tr><tr><td>loss</td><td>76.14718</td></tr><tr><td>recon_loss</td><td>0.0001</td></tr><tr><td>vars</td><td>A+B+C+D</td></tr></table><br/></div></div>"
            ],
            "text/plain": [
              "<IPython.core.display.HTML object>"
            ]
          },
          "metadata": {},
          "output_type": "display_data"
        },
        {
          "data": {
            "text/html": [
              "Synced <strong style=\"color:#cdcd00\">sweet-sweep-42</strong>: <a href=\"https://wandb.ai/sophied/exponentials/runs/q4ph1vcs\" target=\"_blank\">https://wandb.ai/sophied/exponentials/runs/q4ph1vcs</a><br/>Synced 4 W&B file(s), 0 media file(s), 0 artifact file(s) and 0 other file(s)"
            ],
            "text/plain": [
              "<IPython.core.display.HTML object>"
            ]
          },
          "metadata": {},
          "output_type": "display_data"
        },
        {
          "data": {
            "text/html": [
              "Find logs at: <code>./wandb/run-20220529_000342-q4ph1vcs/logs</code>"
            ],
            "text/plain": [
              "<IPython.core.display.HTML object>"
            ]
          },
          "metadata": {},
          "output_type": "display_data"
        },
        {
          "name": "stderr",
          "output_type": "stream",
          "text": [
            "\u001b[34m\u001b[1mwandb\u001b[0m: Agent Starting Run: xcdv2e1b with config:\n",
            "\u001b[34m\u001b[1mwandb\u001b[0m: \tae_layer: 9\n",
            "\u001b[34m\u001b[1mwandb\u001b[0m: \tbranch_layer: 10\n",
            "\u001b[34m\u001b[1mwandb\u001b[0m: \tbranch_weight: 95.71359839589702\n",
            "\u001b[34m\u001b[1mwandb\u001b[0m: \tkl_weight: 0.5001037981765097\n",
            "\u001b[34m\u001b[1mwandb\u001b[0m: \tlearning_rate: 0.0018018040460391189\n"
          ]
        },
        {
          "data": {
            "text/html": [
              "Tracking run with wandb version 0.12.17"
            ],
            "text/plain": [
              "<IPython.core.display.HTML object>"
            ]
          },
          "metadata": {},
          "output_type": "display_data"
        },
        {
          "data": {
            "text/html": [
              "Run data is saved locally in <code>/content/wandb/run-20220529_000651-xcdv2e1b</code>"
            ],
            "text/plain": [
              "<IPython.core.display.HTML object>"
            ]
          },
          "metadata": {},
          "output_type": "display_data"
        },
        {
          "data": {
            "text/html": [
              "Syncing run <strong><a href=\"https://wandb.ai/sophied/exponentials/runs/xcdv2e1b\" target=\"_blank\">honest-sweep-43</a></strong> to <a href=\"https://wandb.ai/sophied/exponentials\" target=\"_blank\">Weights & Biases</a> (<a href=\"https://wandb.me/run\" target=\"_blank\">docs</a>)<br/>Sweep page:  <a href=\"https://wandb.ai/sophied/exponentials/sweeps/5e99jgaj\" target=\"_blank\">https://wandb.ai/sophied/exponentials/sweeps/5e99jgaj</a>"
            ],
            "text/plain": [
              "<IPython.core.display.HTML object>"
            ]
          },
          "metadata": {},
          "output_type": "display_data"
        },
        {
          "data": {
            "text/html": [
              "Waiting for W&B process to finish... <strong style=\"color:green\">(success).</strong>"
            ],
            "text/plain": [
              "<IPython.core.display.HTML object>"
            ]
          },
          "metadata": {},
          "output_type": "display_data"
        },
        {
          "data": {
            "application/vnd.jupyter.widget-view+json": {
              "model_id": "8d278945055e4c3e94635fa5dc38f63f",
              "version_major": 2,
              "version_minor": 0
            },
            "text/plain": [
              "VBox(children=(Label(value='0.000 MB of 0.000 MB uploaded (0.000 MB deduped)\\r'), FloatProgress(value=1.0, max…"
            ]
          },
          "metadata": {},
          "output_type": "display_data"
        },
        {
          "data": {
            "text/html": [
              "<style>\n",
              "    table.wandb td:nth-child(1) { padding: 0 10px; text-align: left ; width: auto;} td:nth-child(2) {text-align: left ; width: 100%}\n",
              "    .wandb-row { display: flex; flex-direction: row; flex-wrap: wrap; justify-content: flex-start; width: 100% }\n",
              "    .wandb-col { display: flex; flex-direction: column; flex-basis: 100%; flex: 1; padding: 10px; }\n",
              "    </style>\n",
              "<div class=\"wandb-row\"><div class=\"wandb-col\"><h3>Run history:</h3><br/><table class=\"wandb\"><tr><td>branch_loss</td><td>▃▇▃▅▃▄█▇▄▄▃█▆▄▅▅▅▃▆▇▇▆▄▆▇█▃▃▅▃▅▃▁▄▇▂▃▄▆▂</td></tr><tr><td>kl</td><td>▄▄▃▃▆▂▅▄█▅▃▂▃▂▃▆▃▄▃▃▄▄▅▂█▄▃▆▄▄▃▅▆▃▄▁▅▃▅▅</td></tr><tr><td>loss</td><td>▄▄▃▃▆▂▅▄▇▅▃▃▃▂▃▆▃▄▃▃▄▄▅▃█▄▃▆▄▄▄▄▆▃▄▁▅▃▅▅</td></tr><tr><td>recon_loss</td><td>█▃▂▁▁▁▁▁▁▁▂▁▂▁▁▁▁▁▁▁▂▁▁▁▃▁▁▁▁▁▂▁▁▁▂▁▁▁▁▁</td></tr></table><br/></div><div class=\"wandb-col\"><h3>Run summary:</h3><br/><table class=\"wandb\"><tr><td>branch_loss</td><td>0.08914</td></tr><tr><td>kl</td><td>93.50609</td></tr><tr><td>loss</td><td>55.29503</td></tr><tr><td>recon_loss</td><td>0.0001</td></tr><tr><td>vars</td><td>A+B+C+D</td></tr></table><br/></div></div>"
            ],
            "text/plain": [
              "<IPython.core.display.HTML object>"
            ]
          },
          "metadata": {},
          "output_type": "display_data"
        },
        {
          "data": {
            "text/html": [
              "Synced <strong style=\"color:#cdcd00\">honest-sweep-43</strong>: <a href=\"https://wandb.ai/sophied/exponentials/runs/xcdv2e1b\" target=\"_blank\">https://wandb.ai/sophied/exponentials/runs/xcdv2e1b</a><br/>Synced 4 W&B file(s), 0 media file(s), 0 artifact file(s) and 0 other file(s)"
            ],
            "text/plain": [
              "<IPython.core.display.HTML object>"
            ]
          },
          "metadata": {},
          "output_type": "display_data"
        },
        {
          "data": {
            "text/html": [
              "Find logs at: <code>./wandb/run-20220529_000651-xcdv2e1b/logs</code>"
            ],
            "text/plain": [
              "<IPython.core.display.HTML object>"
            ]
          },
          "metadata": {},
          "output_type": "display_data"
        },
        {
          "name": "stderr",
          "output_type": "stream",
          "text": [
            "\u001b[34m\u001b[1mwandb\u001b[0m: Agent Starting Run: rl3u04o5 with config:\n",
            "\u001b[34m\u001b[1mwandb\u001b[0m: \tae_layer: 17\n",
            "\u001b[34m\u001b[1mwandb\u001b[0m: \tbranch_layer: 7\n",
            "\u001b[34m\u001b[1mwandb\u001b[0m: \tbranch_weight: 28.15380023058362\n",
            "\u001b[34m\u001b[1mwandb\u001b[0m: \tkl_weight: 0.7874495716238799\n",
            "\u001b[34m\u001b[1mwandb\u001b[0m: \tlearning_rate: 0.002772288880373043\n"
          ]
        },
        {
          "data": {
            "text/html": [
              "Tracking run with wandb version 0.12.17"
            ],
            "text/plain": [
              "<IPython.core.display.HTML object>"
            ]
          },
          "metadata": {},
          "output_type": "display_data"
        },
        {
          "data": {
            "text/html": [
              "Run data is saved locally in <code>/content/wandb/run-20220529_000955-rl3u04o5</code>"
            ],
            "text/plain": [
              "<IPython.core.display.HTML object>"
            ]
          },
          "metadata": {},
          "output_type": "display_data"
        },
        {
          "data": {
            "text/html": [
              "Syncing run <strong><a href=\"https://wandb.ai/sophied/exponentials/runs/rl3u04o5\" target=\"_blank\">wise-sweep-44</a></strong> to <a href=\"https://wandb.ai/sophied/exponentials\" target=\"_blank\">Weights & Biases</a> (<a href=\"https://wandb.me/run\" target=\"_blank\">docs</a>)<br/>Sweep page:  <a href=\"https://wandb.ai/sophied/exponentials/sweeps/5e99jgaj\" target=\"_blank\">https://wandb.ai/sophied/exponentials/sweeps/5e99jgaj</a>"
            ],
            "text/plain": [
              "<IPython.core.display.HTML object>"
            ]
          },
          "metadata": {},
          "output_type": "display_data"
        },
        {
          "data": {
            "text/html": [
              "Waiting for W&B process to finish... <strong style=\"color:green\">(success).</strong>"
            ],
            "text/plain": [
              "<IPython.core.display.HTML object>"
            ]
          },
          "metadata": {},
          "output_type": "display_data"
        },
        {
          "data": {
            "application/vnd.jupyter.widget-view+json": {
              "model_id": "341732dda8b844899348382c64c7707a",
              "version_major": 2,
              "version_minor": 0
            },
            "text/plain": [
              "VBox(children=(Label(value='0.000 MB of 0.000 MB uploaded (0.000 MB deduped)\\r'), FloatProgress(value=1.0, max…"
            ]
          },
          "metadata": {},
          "output_type": "display_data"
        },
        {
          "data": {
            "text/html": [
              "<style>\n",
              "    table.wandb td:nth-child(1) { padding: 0 10px; text-align: left ; width: auto;} td:nth-child(2) {text-align: left ; width: 100%}\n",
              "    .wandb-row { display: flex; flex-direction: row; flex-wrap: wrap; justify-content: flex-start; width: 100% }\n",
              "    .wandb-col { display: flex; flex-direction: column; flex-basis: 100%; flex: 1; padding: 10px; }\n",
              "    </style>\n",
              "<div class=\"wandb-row\"><div class=\"wandb-col\"><h3>Run history:</h3><br/><table class=\"wandb\"><tr><td>branch_loss</td><td>▃▆▂▄▃▄█▇▄▄▃█▆▄▅▅▅▃▆▇▇▆▄▆▇█▃▃▅▃▅▃▁▄▇▂▃▄▆▂</td></tr><tr><td>kl</td><td>▄▄▃▃▆▂▅▄█▅▃▂▃▂▃▆▃▄▃▃▄▄▅▂█▄▃▆▄▄▃▅▆▃▄▁▅▃▅▅</td></tr><tr><td>loss</td><td>▄▄▃▃▆▂▅▄█▅▃▂▃▂▃▆▃▄▃▃▄▄▅▂█▄▃▆▄▄▃▅▆▃▄▁▅▃▅▅</td></tr><tr><td>recon_loss</td><td>█▂▂▂▂▂▂▂▁▂▃▁▄▃▁▃▂▂▂▂▃▁▁▁▇▂▂▂▂▁▃▁▁▂▃▂▁▁▂▂</td></tr></table><br/></div><div class=\"wandb-col\"><h3>Run summary:</h3><br/><table class=\"wandb\"><tr><td>branch_loss</td><td>0.08931</td></tr><tr><td>kl</td><td>93.51312</td></tr><tr><td>loss</td><td>76.15134</td></tr><tr><td>recon_loss</td><td>0.0001</td></tr><tr><td>vars</td><td>A+B+C+D</td></tr></table><br/></div></div>"
            ],
            "text/plain": [
              "<IPython.core.display.HTML object>"
            ]
          },
          "metadata": {},
          "output_type": "display_data"
        },
        {
          "data": {
            "text/html": [
              "Synced <strong style=\"color:#cdcd00\">wise-sweep-44</strong>: <a href=\"https://wandb.ai/sophied/exponentials/runs/rl3u04o5\" target=\"_blank\">https://wandb.ai/sophied/exponentials/runs/rl3u04o5</a><br/>Synced 4 W&B file(s), 0 media file(s), 0 artifact file(s) and 0 other file(s)"
            ],
            "text/plain": [
              "<IPython.core.display.HTML object>"
            ]
          },
          "metadata": {},
          "output_type": "display_data"
        },
        {
          "data": {
            "text/html": [
              "Find logs at: <code>./wandb/run-20220529_000955-rl3u04o5/logs</code>"
            ],
            "text/plain": [
              "<IPython.core.display.HTML object>"
            ]
          },
          "metadata": {},
          "output_type": "display_data"
        },
        {
          "name": "stderr",
          "output_type": "stream",
          "text": [
            "\u001b[34m\u001b[1mwandb\u001b[0m: Agent Starting Run: 1acx9gx3 with config:\n",
            "\u001b[34m\u001b[1mwandb\u001b[0m: \tae_layer: 9\n",
            "\u001b[34m\u001b[1mwandb\u001b[0m: \tbranch_layer: 7\n",
            "\u001b[34m\u001b[1mwandb\u001b[0m: \tbranch_weight: 95.13167345392152\n",
            "\u001b[34m\u001b[1mwandb\u001b[0m: \tkl_weight: 0.11136500801339008\n",
            "\u001b[34m\u001b[1mwandb\u001b[0m: \tlearning_rate: 0.0003833999100680829\n"
          ]
        },
        {
          "data": {
            "text/html": [
              "Tracking run with wandb version 0.12.17"
            ],
            "text/plain": [
              "<IPython.core.display.HTML object>"
            ]
          },
          "metadata": {},
          "output_type": "display_data"
        },
        {
          "data": {
            "text/html": [
              "Run data is saved locally in <code>/content/wandb/run-20220529_001254-1acx9gx3</code>"
            ],
            "text/plain": [
              "<IPython.core.display.HTML object>"
            ]
          },
          "metadata": {},
          "output_type": "display_data"
        },
        {
          "data": {
            "text/html": [
              "Syncing run <strong><a href=\"https://wandb.ai/sophied/exponentials/runs/1acx9gx3\" target=\"_blank\">electric-sweep-45</a></strong> to <a href=\"https://wandb.ai/sophied/exponentials\" target=\"_blank\">Weights & Biases</a> (<a href=\"https://wandb.me/run\" target=\"_blank\">docs</a>)<br/>Sweep page:  <a href=\"https://wandb.ai/sophied/exponentials/sweeps/5e99jgaj\" target=\"_blank\">https://wandb.ai/sophied/exponentials/sweeps/5e99jgaj</a>"
            ],
            "text/plain": [
              "<IPython.core.display.HTML object>"
            ]
          },
          "metadata": {},
          "output_type": "display_data"
        },
        {
          "data": {
            "text/html": [
              "Waiting for W&B process to finish... <strong style=\"color:green\">(success).</strong>"
            ],
            "text/plain": [
              "<IPython.core.display.HTML object>"
            ]
          },
          "metadata": {},
          "output_type": "display_data"
        },
        {
          "data": {
            "application/vnd.jupyter.widget-view+json": {
              "model_id": "0abeca5156734c7283fb061749d442fc",
              "version_major": 2,
              "version_minor": 0
            },
            "text/plain": [
              "VBox(children=(Label(value='0.000 MB of 0.000 MB uploaded (0.000 MB deduped)\\r'), FloatProgress(value=1.0, max…"
            ]
          },
          "metadata": {},
          "output_type": "display_data"
        },
        {
          "data": {
            "text/html": [
              "<style>\n",
              "    table.wandb td:nth-child(1) { padding: 0 10px; text-align: left ; width: auto;} td:nth-child(2) {text-align: left ; width: 100%}\n",
              "    .wandb-row { display: flex; flex-direction: row; flex-wrap: wrap; justify-content: flex-start; width: 100% }\n",
              "    .wandb-col { display: flex; flex-direction: column; flex-basis: 100%; flex: 1; padding: 10px; }\n",
              "    </style>\n",
              "<div class=\"wandb-row\"><div class=\"wandb-col\"><h3>Run history:</h3><br/><table class=\"wandb\"><tr><td>branch_loss</td><td>▅▇▂▅▂▄█▆▄▄▃▇▆▄▅▅▅▃▅▆▆▅▄▆▇█▃▃▄▃▅▃▁▄▆▁▃▄▅▂</td></tr><tr><td>kl</td><td>▄▄▃▃▆▂▅▄█▅▃▂▃▂▃▆▃▄▃▃▄▄▅▂█▄▃▆▄▄▃▅▆▃▄▁▅▃▅▅</td></tr><tr><td>loss</td><td>▄▅▃▄▅▂▆▅▇▅▃▄▄▃▃▆▃▄▄▄▅▄▅▄█▅▃▅▄▄▄▄▅▃▅▁▅▃▅▄</td></tr><tr><td>recon_loss</td><td>█▆▄▃▂▂▁▁▁▁▁▁▁▁▁▁▁▁▁▁▁▁▁▁▂▁▁▁▁▁▁▁▁▁▁▁▁▁▁▁</td></tr></table><br/></div><div class=\"wandb-col\"><h3>Run summary:</h3><br/><table class=\"wandb\"><tr><td>branch_loss</td><td>0.0894</td></tr><tr><td>kl</td><td>93.52702</td></tr><tr><td>loss</td><td>18.92052</td></tr><tr><td>recon_loss</td><td>0.00011</td></tr><tr><td>vars</td><td>A+B+C+D</td></tr></table><br/></div></div>"
            ],
            "text/plain": [
              "<IPython.core.display.HTML object>"
            ]
          },
          "metadata": {},
          "output_type": "display_data"
        },
        {
          "data": {
            "text/html": [
              "Synced <strong style=\"color:#cdcd00\">electric-sweep-45</strong>: <a href=\"https://wandb.ai/sophied/exponentials/runs/1acx9gx3\" target=\"_blank\">https://wandb.ai/sophied/exponentials/runs/1acx9gx3</a><br/>Synced 4 W&B file(s), 0 media file(s), 0 artifact file(s) and 0 other file(s)"
            ],
            "text/plain": [
              "<IPython.core.display.HTML object>"
            ]
          },
          "metadata": {},
          "output_type": "display_data"
        },
        {
          "data": {
            "text/html": [
              "Find logs at: <code>./wandb/run-20220529_001254-1acx9gx3/logs</code>"
            ],
            "text/plain": [
              "<IPython.core.display.HTML object>"
            ]
          },
          "metadata": {},
          "output_type": "display_data"
        },
        {
          "name": "stderr",
          "output_type": "stream",
          "text": [
            "\u001b[34m\u001b[1mwandb\u001b[0m: Agent Starting Run: qqrq1os5 with config:\n",
            "\u001b[34m\u001b[1mwandb\u001b[0m: \tae_layer: 12\n",
            "\u001b[34m\u001b[1mwandb\u001b[0m: \tbranch_layer: 7\n",
            "\u001b[34m\u001b[1mwandb\u001b[0m: \tbranch_weight: 77.85223169889697\n",
            "\u001b[34m\u001b[1mwandb\u001b[0m: \tkl_weight: 0.9008865611549384\n",
            "\u001b[34m\u001b[1mwandb\u001b[0m: \tlearning_rate: 0.0014136421890132184\n"
          ]
        },
        {
          "data": {
            "text/html": [
              "Tracking run with wandb version 0.12.17"
            ],
            "text/plain": [
              "<IPython.core.display.HTML object>"
            ]
          },
          "metadata": {},
          "output_type": "display_data"
        },
        {
          "data": {
            "text/html": [
              "Run data is saved locally in <code>/content/wandb/run-20220529_001556-qqrq1os5</code>"
            ],
            "text/plain": [
              "<IPython.core.display.HTML object>"
            ]
          },
          "metadata": {},
          "output_type": "display_data"
        },
        {
          "data": {
            "text/html": [
              "Syncing run <strong><a href=\"https://wandb.ai/sophied/exponentials/runs/qqrq1os5\" target=\"_blank\">wild-sweep-46</a></strong> to <a href=\"https://wandb.ai/sophied/exponentials\" target=\"_blank\">Weights & Biases</a> (<a href=\"https://wandb.me/run\" target=\"_blank\">docs</a>)<br/>Sweep page:  <a href=\"https://wandb.ai/sophied/exponentials/sweeps/5e99jgaj\" target=\"_blank\">https://wandb.ai/sophied/exponentials/sweeps/5e99jgaj</a>"
            ],
            "text/plain": [
              "<IPython.core.display.HTML object>"
            ]
          },
          "metadata": {},
          "output_type": "display_data"
        },
        {
          "data": {
            "text/html": [
              "Waiting for W&B process to finish... <strong style=\"color:green\">(success).</strong>"
            ],
            "text/plain": [
              "<IPython.core.display.HTML object>"
            ]
          },
          "metadata": {},
          "output_type": "display_data"
        },
        {
          "data": {
            "application/vnd.jupyter.widget-view+json": {
              "model_id": "12e390794cea442b85294e425032ebe8",
              "version_major": 2,
              "version_minor": 0
            },
            "text/plain": [
              "VBox(children=(Label(value='0.000 MB of 0.000 MB uploaded (0.000 MB deduped)\\r'), FloatProgress(value=1.0, max…"
            ]
          },
          "metadata": {},
          "output_type": "display_data"
        },
        {
          "data": {
            "text/html": [
              "<style>\n",
              "    table.wandb td:nth-child(1) { padding: 0 10px; text-align: left ; width: auto;} td:nth-child(2) {text-align: left ; width: 100%}\n",
              "    .wandb-row { display: flex; flex-direction: row; flex-wrap: wrap; justify-content: flex-start; width: 100% }\n",
              "    .wandb-col { display: flex; flex-direction: column; flex-basis: 100%; flex: 1; padding: 10px; }\n",
              "    </style>\n",
              "<div class=\"wandb-row\"><div class=\"wandb-col\"><h3>Run history:</h3><br/><table class=\"wandb\"><tr><td>branch_loss</td><td>▃▇▂▅▃▄█▇▄▄▃█▆▄▅▅▅▃▆▆▇▆▄▆▇█▃▃▅▃▅▃▁▄▇▂▃▄▆▂</td></tr><tr><td>kl</td><td>▄▄▃▃▆▂▅▄█▅▃▂▃▂▃▆▃▄▃▃▄▄▅▂█▄▃▆▄▄▃▅▆▃▄▁▅▃▅▅</td></tr><tr><td>loss</td><td>▄▄▃▃▆▂▅▄█▅▃▂▃▂▃▆▃▄▃▃▄▄▅▂█▄▃▆▄▄▃▅▆▃▄▁▅▃▅▅</td></tr><tr><td>recon_loss</td><td>█▂▁▁▁▁▁▁▁▁▁▁▂▁▁▁▁▁▁▁▂▁▁▁▂▁▁▁▁▁▁▁▁▁▁▁▁▁▁▁</td></tr></table><br/></div><div class=\"wandb-col\"><h3>Run summary:</h3><br/><table class=\"wandb\"><tr><td>branch_loss</td><td>0.08925</td></tr><tr><td>kl</td><td>93.50851</td></tr><tr><td>loss</td><td>91.18929</td></tr><tr><td>recon_loss</td><td>0.0001</td></tr><tr><td>vars</td><td>A+B+C+D</td></tr></table><br/></div></div>"
            ],
            "text/plain": [
              "<IPython.core.display.HTML object>"
            ]
          },
          "metadata": {},
          "output_type": "display_data"
        },
        {
          "data": {
            "text/html": [
              "Synced <strong style=\"color:#cdcd00\">wild-sweep-46</strong>: <a href=\"https://wandb.ai/sophied/exponentials/runs/qqrq1os5\" target=\"_blank\">https://wandb.ai/sophied/exponentials/runs/qqrq1os5</a><br/>Synced 4 W&B file(s), 0 media file(s), 0 artifact file(s) and 0 other file(s)"
            ],
            "text/plain": [
              "<IPython.core.display.HTML object>"
            ]
          },
          "metadata": {},
          "output_type": "display_data"
        },
        {
          "data": {
            "text/html": [
              "Find logs at: <code>./wandb/run-20220529_001556-qqrq1os5/logs</code>"
            ],
            "text/plain": [
              "<IPython.core.display.HTML object>"
            ]
          },
          "metadata": {},
          "output_type": "display_data"
        },
        {
          "name": "stderr",
          "output_type": "stream",
          "text": [
            "\u001b[34m\u001b[1mwandb\u001b[0m: Agent Starting Run: rwttmn0x with config:\n",
            "\u001b[34m\u001b[1mwandb\u001b[0m: \tae_layer: 12\n",
            "\u001b[34m\u001b[1mwandb\u001b[0m: \tbranch_layer: 5\n",
            "\u001b[34m\u001b[1mwandb\u001b[0m: \tbranch_weight: 57.17980301987836\n",
            "\u001b[34m\u001b[1mwandb\u001b[0m: \tkl_weight: 0.6890637152010586\n",
            "\u001b[34m\u001b[1mwandb\u001b[0m: \tlearning_rate: 0.003616512585374143\n"
          ]
        },
        {
          "data": {
            "text/html": [
              "Tracking run with wandb version 0.12.17"
            ],
            "text/plain": [
              "<IPython.core.display.HTML object>"
            ]
          },
          "metadata": {},
          "output_type": "display_data"
        },
        {
          "data": {
            "text/html": [
              "Run data is saved locally in <code>/content/wandb/run-20220529_001855-rwttmn0x</code>"
            ],
            "text/plain": [
              "<IPython.core.display.HTML object>"
            ]
          },
          "metadata": {},
          "output_type": "display_data"
        },
        {
          "data": {
            "text/html": [
              "Syncing run <strong><a href=\"https://wandb.ai/sophied/exponentials/runs/rwttmn0x\" target=\"_blank\">decent-sweep-47</a></strong> to <a href=\"https://wandb.ai/sophied/exponentials\" target=\"_blank\">Weights & Biases</a> (<a href=\"https://wandb.me/run\" target=\"_blank\">docs</a>)<br/>Sweep page:  <a href=\"https://wandb.ai/sophied/exponentials/sweeps/5e99jgaj\" target=\"_blank\">https://wandb.ai/sophied/exponentials/sweeps/5e99jgaj</a>"
            ],
            "text/plain": [
              "<IPython.core.display.HTML object>"
            ]
          },
          "metadata": {},
          "output_type": "display_data"
        },
        {
          "data": {
            "text/html": [
              "Waiting for W&B process to finish... <strong style=\"color:green\">(success).</strong>"
            ],
            "text/plain": [
              "<IPython.core.display.HTML object>"
            ]
          },
          "metadata": {},
          "output_type": "display_data"
        },
        {
          "data": {
            "application/vnd.jupyter.widget-view+json": {
              "model_id": "41632cd365034637a802c0c9c85c47b4",
              "version_major": 2,
              "version_minor": 0
            },
            "text/plain": [
              "VBox(children=(Label(value='0.000 MB of 0.000 MB uploaded (0.000 MB deduped)\\r'), FloatProgress(value=1.0, max…"
            ]
          },
          "metadata": {},
          "output_type": "display_data"
        },
        {
          "data": {
            "text/html": [
              "<style>\n",
              "    table.wandb td:nth-child(1) { padding: 0 10px; text-align: left ; width: auto;} td:nth-child(2) {text-align: left ; width: 100%}\n",
              "    .wandb-row { display: flex; flex-direction: row; flex-wrap: wrap; justify-content: flex-start; width: 100% }\n",
              "    .wandb-col { display: flex; flex-direction: column; flex-basis: 100%; flex: 1; padding: 10px; }\n",
              "    </style>\n",
              "<div class=\"wandb-row\"><div class=\"wandb-col\"><h3>Run history:</h3><br/><table class=\"wandb\"><tr><td>branch_loss</td><td>▅▇▅▆▅▆█▇▆▆▅█▆▆▆▆▆▅▇▇▇▆▆▇▇█▅▅▆▅▅▄▂▃▃▁▁▂▃▂</td></tr><tr><td>kl</td><td>▄▄▄▃▆▂▅▅█▅▄▃▃▃▃▆▃▅▄▃▄▄▅▃█▄▃▆▄▅▃▅▆▃▃▁▅▃▄▅</td></tr><tr><td>loss</td><td>▄▄▄▃▆▂▆▅█▅▄▃▄▃▃▆▃▅▄▄▄▄▅▃█▄▃▆▄▅▄▅▆▃▃▁▅▃▄▅</td></tr><tr><td>recon_loss</td><td>█▂▂▂▂▂▂▂▁▂▂▁▃▂▁▂▂▁▂▂▃▁▁▁▄▂▂▂▂▁▁▁▁▁▁▁▁▁▁▁</td></tr></table><br/></div><div class=\"wandb-col\"><h3>Run summary:</h3><br/><table class=\"wandb\"><tr><td>branch_loss</td><td>0.0809</td></tr><tr><td>kl</td><td>91.25353</td></tr><tr><td>loss</td><td>67.50555</td></tr><tr><td>recon_loss</td><td>5e-05</td></tr><tr><td>vars</td><td>A+B+C+D</td></tr></table><br/></div></div>"
            ],
            "text/plain": [
              "<IPython.core.display.HTML object>"
            ]
          },
          "metadata": {},
          "output_type": "display_data"
        },
        {
          "data": {
            "text/html": [
              "Synced <strong style=\"color:#cdcd00\">decent-sweep-47</strong>: <a href=\"https://wandb.ai/sophied/exponentials/runs/rwttmn0x\" target=\"_blank\">https://wandb.ai/sophied/exponentials/runs/rwttmn0x</a><br/>Synced 4 W&B file(s), 0 media file(s), 0 artifact file(s) and 0 other file(s)"
            ],
            "text/plain": [
              "<IPython.core.display.HTML object>"
            ]
          },
          "metadata": {},
          "output_type": "display_data"
        },
        {
          "data": {
            "text/html": [
              "Find logs at: <code>./wandb/run-20220529_001855-rwttmn0x/logs</code>"
            ],
            "text/plain": [
              "<IPython.core.display.HTML object>"
            ]
          },
          "metadata": {},
          "output_type": "display_data"
        },
        {
          "name": "stderr",
          "output_type": "stream",
          "text": [
            "\u001b[34m\u001b[1mwandb\u001b[0m: Agent Starting Run: 9ljbu27o with config:\n",
            "\u001b[34m\u001b[1mwandb\u001b[0m: \tae_layer: 9\n",
            "\u001b[34m\u001b[1mwandb\u001b[0m: \tbranch_layer: 5\n",
            "\u001b[34m\u001b[1mwandb\u001b[0m: \tbranch_weight: 16.26547697612222\n",
            "\u001b[34m\u001b[1mwandb\u001b[0m: \tkl_weight: 0.1385940759117286\n",
            "\u001b[34m\u001b[1mwandb\u001b[0m: \tlearning_rate: 0.0018406498094040952\n"
          ]
        },
        {
          "data": {
            "text/html": [
              "Tracking run with wandb version 0.12.17"
            ],
            "text/plain": [
              "<IPython.core.display.HTML object>"
            ]
          },
          "metadata": {},
          "output_type": "display_data"
        },
        {
          "data": {
            "text/html": [
              "Run data is saved locally in <code>/content/wandb/run-20220529_002154-9ljbu27o</code>"
            ],
            "text/plain": [
              "<IPython.core.display.HTML object>"
            ]
          },
          "metadata": {},
          "output_type": "display_data"
        },
        {
          "data": {
            "text/html": [
              "Syncing run <strong><a href=\"https://wandb.ai/sophied/exponentials/runs/9ljbu27o\" target=\"_blank\">glowing-sweep-48</a></strong> to <a href=\"https://wandb.ai/sophied/exponentials\" target=\"_blank\">Weights & Biases</a> (<a href=\"https://wandb.me/run\" target=\"_blank\">docs</a>)<br/>Sweep page:  <a href=\"https://wandb.ai/sophied/exponentials/sweeps/5e99jgaj\" target=\"_blank\">https://wandb.ai/sophied/exponentials/sweeps/5e99jgaj</a>"
            ],
            "text/plain": [
              "<IPython.core.display.HTML object>"
            ]
          },
          "metadata": {},
          "output_type": "display_data"
        },
        {
          "data": {
            "text/html": [
              "Waiting for W&B process to finish... <strong style=\"color:green\">(success).</strong>"
            ],
            "text/plain": [
              "<IPython.core.display.HTML object>"
            ]
          },
          "metadata": {},
          "output_type": "display_data"
        },
        {
          "data": {
            "application/vnd.jupyter.widget-view+json": {
              "model_id": "6745d5cb2c314c30b065638d08b84344",
              "version_major": 2,
              "version_minor": 0
            },
            "text/plain": [
              "VBox(children=(Label(value='0.000 MB of 0.000 MB uploaded (0.000 MB deduped)\\r'), FloatProgress(value=1.0, max…"
            ]
          },
          "metadata": {},
          "output_type": "display_data"
        },
        {
          "data": {
            "text/html": [
              "<style>\n",
              "    table.wandb td:nth-child(1) { padding: 0 10px; text-align: left ; width: auto;} td:nth-child(2) {text-align: left ; width: 100%}\n",
              "    .wandb-row { display: flex; flex-direction: row; flex-wrap: wrap; justify-content: flex-start; width: 100% }\n",
              "    .wandb-col { display: flex; flex-direction: column; flex-basis: 100%; flex: 1; padding: 10px; }\n",
              "    </style>\n",
              "<div class=\"wandb-row\"><div class=\"wandb-col\"><h3>Run history:</h3><br/><table class=\"wandb\"><tr><td>branch_loss</td><td>▄▆▂▅▂▄█▇▄▄▃█▅▄▅▅▅▃▆▇▇▅▄▆▇█▃▃▅▃▅▃▁▄▇▁▃▄▅▂</td></tr><tr><td>kl</td><td>▄▄▃▃▆▂▅▄█▅▃▂▃▂▃▆▃▄▃▃▄▄▅▂█▄▃▆▄▄▃▅▆▃▄▁▅▃▅▅</td></tr><tr><td>loss</td><td>▄▄▃▃▆▂▅▄▇▅▃▃▃▂▃▆▃▄▃▃▄▄▅▂█▄▃▆▄▄▃▅▆▃▄▁▅▃▅▅</td></tr><tr><td>recon_loss</td><td>█▂▁▁▁▁▁▁▁▁▂▁▂▁▁▁▁▁▁▁▂▁▁▁▂▁▁▁▁▁▁▁▁▁▁▁▁▁▁▁</td></tr></table><br/></div><div class=\"wandb-col\"><h3>Run summary:</h3><br/><table class=\"wandb\"><tr><td>branch_loss</td><td>0.08958</td></tr><tr><td>kl</td><td>93.5141</td></tr><tr><td>loss</td><td>14.41771</td></tr><tr><td>recon_loss</td><td>0.00015</td></tr><tr><td>vars</td><td>A+B+C+D</td></tr></table><br/></div></div>"
            ],
            "text/plain": [
              "<IPython.core.display.HTML object>"
            ]
          },
          "metadata": {},
          "output_type": "display_data"
        },
        {
          "data": {
            "text/html": [
              "Synced <strong style=\"color:#cdcd00\">glowing-sweep-48</strong>: <a href=\"https://wandb.ai/sophied/exponentials/runs/9ljbu27o\" target=\"_blank\">https://wandb.ai/sophied/exponentials/runs/9ljbu27o</a><br/>Synced 4 W&B file(s), 0 media file(s), 0 artifact file(s) and 0 other file(s)"
            ],
            "text/plain": [
              "<IPython.core.display.HTML object>"
            ]
          },
          "metadata": {},
          "output_type": "display_data"
        },
        {
          "data": {
            "text/html": [
              "Find logs at: <code>./wandb/run-20220529_002154-9ljbu27o/logs</code>"
            ],
            "text/plain": [
              "<IPython.core.display.HTML object>"
            ]
          },
          "metadata": {},
          "output_type": "display_data"
        },
        {
          "name": "stderr",
          "output_type": "stream",
          "text": [
            "\u001b[34m\u001b[1mwandb\u001b[0m: Agent Starting Run: meo239mb with config:\n",
            "\u001b[34m\u001b[1mwandb\u001b[0m: \tae_layer: 17\n",
            "\u001b[34m\u001b[1mwandb\u001b[0m: \tbranch_layer: 4\n",
            "\u001b[34m\u001b[1mwandb\u001b[0m: \tbranch_weight: 58.45862808359212\n",
            "\u001b[34m\u001b[1mwandb\u001b[0m: \tkl_weight: 0.17950958910598974\n",
            "\u001b[34m\u001b[1mwandb\u001b[0m: \tlearning_rate: 0.0025491417156134296\n"
          ]
        },
        {
          "data": {
            "text/html": [
              "Tracking run with wandb version 0.12.17"
            ],
            "text/plain": [
              "<IPython.core.display.HTML object>"
            ]
          },
          "metadata": {},
          "output_type": "display_data"
        },
        {
          "data": {
            "text/html": [
              "Run data is saved locally in <code>/content/wandb/run-20220529_002452-meo239mb</code>"
            ],
            "text/plain": [
              "<IPython.core.display.HTML object>"
            ]
          },
          "metadata": {},
          "output_type": "display_data"
        },
        {
          "data": {
            "text/html": [
              "Syncing run <strong><a href=\"https://wandb.ai/sophied/exponentials/runs/meo239mb\" target=\"_blank\">rose-sweep-49</a></strong> to <a href=\"https://wandb.ai/sophied/exponentials\" target=\"_blank\">Weights & Biases</a> (<a href=\"https://wandb.me/run\" target=\"_blank\">docs</a>)<br/>Sweep page:  <a href=\"https://wandb.ai/sophied/exponentials/sweeps/5e99jgaj\" target=\"_blank\">https://wandb.ai/sophied/exponentials/sweeps/5e99jgaj</a>"
            ],
            "text/plain": [
              "<IPython.core.display.HTML object>"
            ]
          },
          "metadata": {},
          "output_type": "display_data"
        },
        {
          "data": {
            "text/html": [
              "Waiting for W&B process to finish... <strong style=\"color:green\">(success).</strong>"
            ],
            "text/plain": [
              "<IPython.core.display.HTML object>"
            ]
          },
          "metadata": {},
          "output_type": "display_data"
        },
        {
          "data": {
            "application/vnd.jupyter.widget-view+json": {
              "model_id": "a630b998f05a4093aa443de4e004d883",
              "version_major": 2,
              "version_minor": 0
            },
            "text/plain": [
              "VBox(children=(Label(value='0.000 MB of 0.000 MB uploaded (0.000 MB deduped)\\r'), FloatProgress(value=1.0, max…"
            ]
          },
          "metadata": {},
          "output_type": "display_data"
        },
        {
          "data": {
            "text/html": [
              "<style>\n",
              "    table.wandb td:nth-child(1) { padding: 0 10px; text-align: left ; width: auto;} td:nth-child(2) {text-align: left ; width: 100%}\n",
              "    .wandb-row { display: flex; flex-direction: row; flex-wrap: wrap; justify-content: flex-start; width: 100% }\n",
              "    .wandb-col { display: flex; flex-direction: column; flex-basis: 100%; flex: 1; padding: 10px; }\n",
              "    </style>\n",
              "<div class=\"wandb-row\"><div class=\"wandb-col\"><h3>Run history:</h3><br/><table class=\"wandb\"><tr><td>branch_loss</td><td>▄▆▃▅▄▅█▇▅▄▄█▆▅▆▆▆▄▆▇▇▆▅▇██▄▄▅▄▅▄▂▄▆▂▂▃▂▁</td></tr><tr><td>kl</td><td>▄▄▃▃▆▂▅▄█▅▃▂▃▂▃▆▃▅▃▃▄▄▅▂█▄▃▆▄▅▃▅▆▃▄▁▅▃▄▅</td></tr><tr><td>loss</td><td>▄▄▃▃▅▂▆▅▇▅▃▃▄▃▃▆▃▄▄▄▄▄▅▃█▅▃▅▄▄▄▅▆▃▄▁▅▃▄▄</td></tr><tr><td>recon_loss</td><td>█▂▂▂▁▂▂▂▁▂▂▁▃▂▁▂▂▁▂▂▂▁▁▁▄▂▂▁▂▂▂▁▁▁▂▁▁▁▁▁</td></tr></table><br/></div><div class=\"wandb-col\"><h3>Run summary:</h3><br/><table class=\"wandb\"><tr><td>branch_loss</td><td>0.07596</td></tr><tr><td>kl</td><td>91.93737</td></tr><tr><td>loss</td><td>20.94427</td></tr><tr><td>recon_loss</td><td>5e-05</td></tr><tr><td>vars</td><td>A+B+C+D</td></tr></table><br/></div></div>"
            ],
            "text/plain": [
              "<IPython.core.display.HTML object>"
            ]
          },
          "metadata": {},
          "output_type": "display_data"
        },
        {
          "data": {
            "text/html": [
              "Synced <strong style=\"color:#cdcd00\">rose-sweep-49</strong>: <a href=\"https://wandb.ai/sophied/exponentials/runs/meo239mb\" target=\"_blank\">https://wandb.ai/sophied/exponentials/runs/meo239mb</a><br/>Synced 4 W&B file(s), 0 media file(s), 0 artifact file(s) and 0 other file(s)"
            ],
            "text/plain": [
              "<IPython.core.display.HTML object>"
            ]
          },
          "metadata": {},
          "output_type": "display_data"
        },
        {
          "data": {
            "text/html": [
              "Find logs at: <code>./wandb/run-20220529_002452-meo239mb/logs</code>"
            ],
            "text/plain": [
              "<IPython.core.display.HTML object>"
            ]
          },
          "metadata": {},
          "output_type": "display_data"
        },
        {
          "name": "stderr",
          "output_type": "stream",
          "text": [
            "\u001b[34m\u001b[1mwandb\u001b[0m: Agent Starting Run: 5j1bj32b with config:\n",
            "\u001b[34m\u001b[1mwandb\u001b[0m: \tae_layer: 12\n",
            "\u001b[34m\u001b[1mwandb\u001b[0m: \tbranch_layer: 6\n",
            "\u001b[34m\u001b[1mwandb\u001b[0m: \tbranch_weight: 24.239858408640114\n",
            "\u001b[34m\u001b[1mwandb\u001b[0m: \tkl_weight: 0.615341529603167\n",
            "\u001b[34m\u001b[1mwandb\u001b[0m: \tlearning_rate: 0.00011505296093629544\n"
          ]
        },
        {
          "data": {
            "text/html": [
              "Tracking run with wandb version 0.12.17"
            ],
            "text/plain": [
              "<IPython.core.display.HTML object>"
            ]
          },
          "metadata": {},
          "output_type": "display_data"
        },
        {
          "data": {
            "text/html": [
              "Run data is saved locally in <code>/content/wandb/run-20220529_002751-5j1bj32b</code>"
            ],
            "text/plain": [
              "<IPython.core.display.HTML object>"
            ]
          },
          "metadata": {},
          "output_type": "display_data"
        },
        {
          "data": {
            "text/html": [
              "Syncing run <strong><a href=\"https://wandb.ai/sophied/exponentials/runs/5j1bj32b\" target=\"_blank\">celestial-sweep-50</a></strong> to <a href=\"https://wandb.ai/sophied/exponentials\" target=\"_blank\">Weights & Biases</a> (<a href=\"https://wandb.me/run\" target=\"_blank\">docs</a>)<br/>Sweep page:  <a href=\"https://wandb.ai/sophied/exponentials/sweeps/5e99jgaj\" target=\"_blank\">https://wandb.ai/sophied/exponentials/sweeps/5e99jgaj</a>"
            ],
            "text/plain": [
              "<IPython.core.display.HTML object>"
            ]
          },
          "metadata": {},
          "output_type": "display_data"
        },
        {
          "data": {
            "text/html": [
              "Waiting for W&B process to finish... <strong style=\"color:green\">(success).</strong>"
            ],
            "text/plain": [
              "<IPython.core.display.HTML object>"
            ]
          },
          "metadata": {},
          "output_type": "display_data"
        },
        {
          "data": {
            "application/vnd.jupyter.widget-view+json": {
              "model_id": "faa5e01da3494fc3b7dcecfd91fb124f",
              "version_major": 2,
              "version_minor": 0
            },
            "text/plain": [
              "VBox(children=(Label(value='0.000 MB of 0.000 MB uploaded (0.000 MB deduped)\\r'), FloatProgress(value=1.0, max…"
            ]
          },
          "metadata": {},
          "output_type": "display_data"
        },
        {
          "data": {
            "text/html": [
              "<style>\n",
              "    table.wandb td:nth-child(1) { padding: 0 10px; text-align: left ; width: auto;} td:nth-child(2) {text-align: left ; width: 100%}\n",
              "    .wandb-row { display: flex; flex-direction: row; flex-wrap: wrap; justify-content: flex-start; width: 100% }\n",
              "    .wandb-col { display: flex; flex-direction: column; flex-basis: 100%; flex: 1; padding: 10px; }\n",
              "    </style>\n",
              "<div class=\"wandb-row\"><div class=\"wandb-col\"><h3>Run history:</h3><br/><table class=\"wandb\"><tr><td>branch_loss</td><td>▄▆▃▄▄▃█▆▅▃▃█▅▅▅▅▅▃▅▆▆▅▄▆▇▇▃▂▄▃▄▃▁▄▆▂▃▄▅▂</td></tr><tr><td>kl</td><td>▄▄▃▃▆▂▅▄█▅▃▂▃▂▃▆▃▄▃▃▄▄▅▂█▄▃▆▄▄▃▅▆▃▄▁▅▃▅▅</td></tr><tr><td>loss</td><td>▄▄▃▃▆▂▅▄█▅▃▂▃▂▃▆▃▄▃▃▄▄▅▂█▄▃▆▄▄▃▅▆▃▄▁▅▃▅▅</td></tr><tr><td>recon_loss</td><td>█▇▆▅▄▄▃▃▃▃▂▂▂▂▂▂▂▁▁▁▁▁▁▁▂▁▁▁▁▁▁▁▁▁▁▁▁▁▁▁</td></tr></table><br/></div><div class=\"wandb-col\"><h3>Run summary:</h3><br/><table class=\"wandb\"><tr><td>branch_loss</td><td>0.08983</td></tr><tr><td>kl</td><td>93.57342</td></tr><tr><td>loss</td><td>59.75711</td></tr><tr><td>recon_loss</td><td>0.00012</td></tr><tr><td>vars</td><td>A+B+C+D</td></tr></table><br/></div></div>"
            ],
            "text/plain": [
              "<IPython.core.display.HTML object>"
            ]
          },
          "metadata": {},
          "output_type": "display_data"
        },
        {
          "data": {
            "text/html": [
              "Synced <strong style=\"color:#cdcd00\">celestial-sweep-50</strong>: <a href=\"https://wandb.ai/sophied/exponentials/runs/5j1bj32b\" target=\"_blank\">https://wandb.ai/sophied/exponentials/runs/5j1bj32b</a><br/>Synced 4 W&B file(s), 0 media file(s), 0 artifact file(s) and 0 other file(s)"
            ],
            "text/plain": [
              "<IPython.core.display.HTML object>"
            ]
          },
          "metadata": {},
          "output_type": "display_data"
        },
        {
          "data": {
            "text/html": [
              "Find logs at: <code>./wandb/run-20220529_002751-5j1bj32b/logs</code>"
            ],
            "text/plain": [
              "<IPython.core.display.HTML object>"
            ]
          },
          "metadata": {},
          "output_type": "display_data"
        },
        {
          "name": "stderr",
          "output_type": "stream",
          "text": [
            "\u001b[34m\u001b[1mwandb\u001b[0m: Agent Starting Run: 1bmz23q5 with config:\n",
            "\u001b[34m\u001b[1mwandb\u001b[0m: \tae_layer: 19\n",
            "\u001b[34m\u001b[1mwandb\u001b[0m: \tbranch_layer: 8\n",
            "\u001b[34m\u001b[1mwandb\u001b[0m: \tbranch_weight: 23.157104425062673\n",
            "\u001b[34m\u001b[1mwandb\u001b[0m: \tkl_weight: 0.9434356153339112\n",
            "\u001b[34m\u001b[1mwandb\u001b[0m: \tlearning_rate: 0.0020037331143063614\n",
            "\u001b[34m\u001b[1mwandb\u001b[0m: W&B API key is configured. Use \u001b[1m`wandb login --relogin`\u001b[0m to force relogin\n"
          ]
        },
        {
          "data": {
            "text/html": [
              "Tracking run with wandb version 0.12.17"
            ],
            "text/plain": [
              "<IPython.core.display.HTML object>"
            ]
          },
          "metadata": {},
          "output_type": "display_data"
        },
        {
          "data": {
            "text/html": [
              "Run data is saved locally in <code>/content/wandb/run-20220529_003054-1bmz23q5</code>"
            ],
            "text/plain": [
              "<IPython.core.display.HTML object>"
            ]
          },
          "metadata": {},
          "output_type": "display_data"
        },
        {
          "data": {
            "text/html": [
              "Syncing run <strong><a href=\"https://wandb.ai/sophied/exponentials/runs/1bmz23q5\" target=\"_blank\">different-sweep-51</a></strong> to <a href=\"https://wandb.ai/sophied/exponentials\" target=\"_blank\">Weights & Biases</a> (<a href=\"https://wandb.me/run\" target=\"_blank\">docs</a>)<br/>Sweep page:  <a href=\"https://wandb.ai/sophied/exponentials/sweeps/5e99jgaj\" target=\"_blank\">https://wandb.ai/sophied/exponentials/sweeps/5e99jgaj</a>"
            ],
            "text/plain": [
              "<IPython.core.display.HTML object>"
            ]
          },
          "metadata": {},
          "output_type": "display_data"
        },
        {
          "data": {
            "text/html": [
              "Waiting for W&B process to finish... <strong style=\"color:green\">(success).</strong>"
            ],
            "text/plain": [
              "<IPython.core.display.HTML object>"
            ]
          },
          "metadata": {},
          "output_type": "display_data"
        },
        {
          "data": {
            "application/vnd.jupyter.widget-view+json": {
              "model_id": "98977b5d30e54703b9b81a1e47252371",
              "version_major": 2,
              "version_minor": 0
            },
            "text/plain": [
              "VBox(children=(Label(value='0.000 MB of 0.000 MB uploaded (0.000 MB deduped)\\r'), FloatProgress(value=1.0, max…"
            ]
          },
          "metadata": {},
          "output_type": "display_data"
        },
        {
          "data": {
            "text/html": [
              "<style>\n",
              "    table.wandb td:nth-child(1) { padding: 0 10px; text-align: left ; width: auto;} td:nth-child(2) {text-align: left ; width: 100%}\n",
              "    .wandb-row { display: flex; flex-direction: row; flex-wrap: wrap; justify-content: flex-start; width: 100% }\n",
              "    .wandb-col { display: flex; flex-direction: column; flex-basis: 100%; flex: 1; padding: 10px; }\n",
              "    </style>\n",
              "<div class=\"wandb-row\"><div class=\"wandb-col\"><h3>Run history:</h3><br/><table class=\"wandb\"><tr><td>branch_loss</td><td>▅█▄▆▅▆█▇▅▅▅█▆▅▆▆▆▅▆▇▇▆▅▇▇█▅▄▆▅▄▅▁▁▃▁▃▂▂▃</td></tr><tr><td>kl</td><td>▄▄▄▃▆▂▅▅█▅▄▃▃▃▃▆▃▅▄▃▄▄▅▃█▄▃▆▄▅▄▅▆▃▃▁▅▃▄▅</td></tr><tr><td>loss</td><td>▄▄▄▃▆▂▅▅█▅▄▃▃▃▃▆▃▅▄▃▄▄▅▃█▄▃▆▄▅▄▅▆▃▃▁▅▃▄▅</td></tr><tr><td>recon_loss</td><td>█▂▂▂▂▂▂▂▁▂▂▁▃▂▁▂▂▁▂▂▂▁▁▁▄▂▂▁▂▁▁▁▁▁▁▁▁▁▁▁</td></tr></table><br/></div><div class=\"wandb-col\"><h3>Run summary:</h3><br/><table class=\"wandb\"><tr><td>branch_loss</td><td>0.07511</td></tr><tr><td>kl</td><td>90.77225</td></tr><tr><td>loss</td><td>87.37708</td></tr><tr><td>recon_loss</td><td>5e-05</td></tr><tr><td>vars</td><td>A+B+C+D</td></tr></table><br/></div></div>"
            ],
            "text/plain": [
              "<IPython.core.display.HTML object>"
            ]
          },
          "metadata": {},
          "output_type": "display_data"
        },
        {
          "data": {
            "text/html": [
              "Synced <strong style=\"color:#cdcd00\">different-sweep-51</strong>: <a href=\"https://wandb.ai/sophied/exponentials/runs/1bmz23q5\" target=\"_blank\">https://wandb.ai/sophied/exponentials/runs/1bmz23q5</a><br/>Synced 4 W&B file(s), 0 media file(s), 0 artifact file(s) and 0 other file(s)"
            ],
            "text/plain": [
              "<IPython.core.display.HTML object>"
            ]
          },
          "metadata": {},
          "output_type": "display_data"
        },
        {
          "data": {
            "text/html": [
              "Find logs at: <code>./wandb/run-20220529_003054-1bmz23q5/logs</code>"
            ],
            "text/plain": [
              "<IPython.core.display.HTML object>"
            ]
          },
          "metadata": {},
          "output_type": "display_data"
        },
        {
          "name": "stderr",
          "output_type": "stream",
          "text": [
            "\u001b[34m\u001b[1mwandb\u001b[0m: Agent Starting Run: qu8djjwc with config:\n",
            "\u001b[34m\u001b[1mwandb\u001b[0m: \tae_layer: 15\n",
            "\u001b[34m\u001b[1mwandb\u001b[0m: \tbranch_layer: 5\n",
            "\u001b[34m\u001b[1mwandb\u001b[0m: \tbranch_weight: 75.502201796592\n",
            "\u001b[34m\u001b[1mwandb\u001b[0m: \tkl_weight: 0.2871899797227307\n",
            "\u001b[34m\u001b[1mwandb\u001b[0m: \tlearning_rate: 0.0043288890174117845\n"
          ]
        },
        {
          "data": {
            "text/html": [
              "Tracking run with wandb version 0.12.17"
            ],
            "text/plain": [
              "<IPython.core.display.HTML object>"
            ]
          },
          "metadata": {},
          "output_type": "display_data"
        },
        {
          "data": {
            "text/html": [
              "Run data is saved locally in <code>/content/wandb/run-20220529_003357-qu8djjwc</code>"
            ],
            "text/plain": [
              "<IPython.core.display.HTML object>"
            ]
          },
          "metadata": {},
          "output_type": "display_data"
        },
        {
          "data": {
            "text/html": [
              "Syncing run <strong><a href=\"https://wandb.ai/sophied/exponentials/runs/qu8djjwc\" target=\"_blank\">ruby-sweep-52</a></strong> to <a href=\"https://wandb.ai/sophied/exponentials\" target=\"_blank\">Weights & Biases</a> (<a href=\"https://wandb.me/run\" target=\"_blank\">docs</a>)<br/>Sweep page:  <a href=\"https://wandb.ai/sophied/exponentials/sweeps/5e99jgaj\" target=\"_blank\">https://wandb.ai/sophied/exponentials/sweeps/5e99jgaj</a>"
            ],
            "text/plain": [
              "<IPython.core.display.HTML object>"
            ]
          },
          "metadata": {},
          "output_type": "display_data"
        },
        {
          "data": {
            "text/html": [
              "Waiting for W&B process to finish... <strong style=\"color:green\">(success).</strong>"
            ],
            "text/plain": [
              "<IPython.core.display.HTML object>"
            ]
          },
          "metadata": {},
          "output_type": "display_data"
        },
        {
          "data": {
            "application/vnd.jupyter.widget-view+json": {
              "model_id": "169f12547321482ba34dec3654629ec3",
              "version_major": 2,
              "version_minor": 0
            },
            "text/plain": [
              "VBox(children=(Label(value='0.000 MB of 0.000 MB uploaded (0.000 MB deduped)\\r'), FloatProgress(value=1.0, max…"
            ]
          },
          "metadata": {},
          "output_type": "display_data"
        },
        {
          "data": {
            "text/html": [
              "<style>\n",
              "    table.wandb td:nth-child(1) { padding: 0 10px; text-align: left ; width: auto;} td:nth-child(2) {text-align: left ; width: 100%}\n",
              "    .wandb-row { display: flex; flex-direction: row; flex-wrap: wrap; justify-content: flex-start; width: 100% }\n",
              "    .wandb-col { display: flex; flex-direction: column; flex-basis: 100%; flex: 1; padding: 10px; }\n",
              "    </style>\n",
              "<div class=\"wandb-row\"><div class=\"wandb-col\"><h3>Run history:</h3><br/><table class=\"wandb\"><tr><td>branch_loss</td><td>▆▇▅▆▅▆█▇▆▆▅█▇▆▇▆▆▄▄▅▅▅▃▄▅▅▄▃▄▃▃▄▂▁▃▁▁▄▂▂</td></tr><tr><td>kl</td><td>▅▄▄▃▆▂▆▅█▅▄▃▄▃▃▆▃▅▃▃▄▄▅▂█▄▃▆▄▅▃▅▆▃▄▁▅▃▄▅</td></tr><tr><td>loss</td><td>▅▅▄▄▆▃▆▅█▆▄▄▄▄▄▆▄▅▄▄▄▄▅▃█▄▃▅▄▄▃▅▅▃▄▁▄▃▄▅</td></tr><tr><td>recon_loss</td><td>█▂▃▃▃▃▃▄▂▄▅▂▇▄▂▄▂▂▂▂▄▁▁▁▂▁▂▁▂▁▂▁▁▁▁▁▁▁▁▂</td></tr></table><br/></div><div class=\"wandb-col\"><h3>Run summary:</h3><br/><table class=\"wandb\"><tr><td>branch_loss</td><td>0.07934</td></tr><tr><td>kl</td><td>91.15936</td></tr><tr><td>loss</td><td>32.17077</td></tr><tr><td>recon_loss</td><td>5e-05</td></tr><tr><td>vars</td><td>A+B+C+D</td></tr></table><br/></div></div>"
            ],
            "text/plain": [
              "<IPython.core.display.HTML object>"
            ]
          },
          "metadata": {},
          "output_type": "display_data"
        },
        {
          "data": {
            "text/html": [
              "Synced <strong style=\"color:#cdcd00\">ruby-sweep-52</strong>: <a href=\"https://wandb.ai/sophied/exponentials/runs/qu8djjwc\" target=\"_blank\">https://wandb.ai/sophied/exponentials/runs/qu8djjwc</a><br/>Synced 4 W&B file(s), 0 media file(s), 0 artifact file(s) and 0 other file(s)"
            ],
            "text/plain": [
              "<IPython.core.display.HTML object>"
            ]
          },
          "metadata": {},
          "output_type": "display_data"
        },
        {
          "data": {
            "text/html": [
              "Find logs at: <code>./wandb/run-20220529_003357-qu8djjwc/logs</code>"
            ],
            "text/plain": [
              "<IPython.core.display.HTML object>"
            ]
          },
          "metadata": {},
          "output_type": "display_data"
        },
        {
          "name": "stderr",
          "output_type": "stream",
          "text": [
            "\u001b[34m\u001b[1mwandb\u001b[0m: Agent Starting Run: 6htuoghl with config:\n",
            "\u001b[34m\u001b[1mwandb\u001b[0m: \tae_layer: 12\n",
            "\u001b[34m\u001b[1mwandb\u001b[0m: \tbranch_layer: 10\n",
            "\u001b[34m\u001b[1mwandb\u001b[0m: \tbranch_weight: 4.77050557986668\n",
            "\u001b[34m\u001b[1mwandb\u001b[0m: \tkl_weight: 0.8656633698830258\n",
            "\u001b[34m\u001b[1mwandb\u001b[0m: \tlearning_rate: 0.0015654463851595176\n"
          ]
        },
        {
          "data": {
            "text/html": [
              "Tracking run with wandb version 0.12.17"
            ],
            "text/plain": [
              "<IPython.core.display.HTML object>"
            ]
          },
          "metadata": {},
          "output_type": "display_data"
        },
        {
          "data": {
            "text/html": [
              "Run data is saved locally in <code>/content/wandb/run-20220529_003656-6htuoghl</code>"
            ],
            "text/plain": [
              "<IPython.core.display.HTML object>"
            ]
          },
          "metadata": {},
          "output_type": "display_data"
        },
        {
          "data": {
            "text/html": [
              "Syncing run <strong><a href=\"https://wandb.ai/sophied/exponentials/runs/6htuoghl\" target=\"_blank\">wild-sweep-53</a></strong> to <a href=\"https://wandb.ai/sophied/exponentials\" target=\"_blank\">Weights & Biases</a> (<a href=\"https://wandb.me/run\" target=\"_blank\">docs</a>)<br/>Sweep page:  <a href=\"https://wandb.ai/sophied/exponentials/sweeps/5e99jgaj\" target=\"_blank\">https://wandb.ai/sophied/exponentials/sweeps/5e99jgaj</a>"
            ],
            "text/plain": [
              "<IPython.core.display.HTML object>"
            ]
          },
          "metadata": {},
          "output_type": "display_data"
        },
        {
          "data": {
            "text/html": [
              "Waiting for W&B process to finish... <strong style=\"color:green\">(success).</strong>"
            ],
            "text/plain": [
              "<IPython.core.display.HTML object>"
            ]
          },
          "metadata": {},
          "output_type": "display_data"
        },
        {
          "data": {
            "application/vnd.jupyter.widget-view+json": {
              "model_id": "11675dd0249944ca9fd9bd9477e7b0e4",
              "version_major": 2,
              "version_minor": 0
            },
            "text/plain": [
              "VBox(children=(Label(value='0.000 MB of 0.000 MB uploaded (0.000 MB deduped)\\r'), FloatProgress(value=1.0, max…"
            ]
          },
          "metadata": {},
          "output_type": "display_data"
        },
        {
          "data": {
            "text/html": [
              "<style>\n",
              "    table.wandb td:nth-child(1) { padding: 0 10px; text-align: left ; width: auto;} td:nth-child(2) {text-align: left ; width: 100%}\n",
              "    .wandb-row { display: flex; flex-direction: row; flex-wrap: wrap; justify-content: flex-start; width: 100% }\n",
              "    .wandb-col { display: flex; flex-direction: column; flex-basis: 100%; flex: 1; padding: 10px; }\n",
              "    </style>\n",
              "<div class=\"wandb-row\"><div class=\"wandb-col\"><h3>Run history:</h3><br/><table class=\"wandb\"><tr><td>branch_loss</td><td>▄▇▃▄▃▄█▇▄▄▃█▅▄▅▅▅▃▅▆▇▅▄▆▇█▃▃▅▃▅▃▁▄▇▁▃▄▅▃</td></tr><tr><td>kl</td><td>▄▄▃▃▆▂▅▄█▅▃▂▃▂▃▆▃▄▃▃▄▄▅▂█▄▃▆▄▄▃▅▆▃▄▁▅▃▅▅</td></tr><tr><td>loss</td><td>▄▄▃▃▆▂▅▄█▅▃▂▃▂▃▆▃▄▃▃▄▄▅▂█▄▃▆▄▄▃▅▆▃▄▁▅▃▅▅</td></tr><tr><td>recon_loss</td><td>█▃▁▁▁▁▁▁▁▁▂▁▂▂▁▂▁▁▁▁▂▁▁▁▃▁▁▁▁▁▂▁▁▁▂▁▁▁▁▁</td></tr></table><br/></div><div class=\"wandb-col\"><h3>Run summary:</h3><br/><table class=\"wandb\"><tr><td>branch_loss</td><td>0.08947</td></tr><tr><td>kl</td><td>93.47845</td></tr><tr><td>loss</td><td>81.34779</td></tr><tr><td>recon_loss</td><td>9e-05</td></tr><tr><td>vars</td><td>A+B+C+D</td></tr></table><br/></div></div>"
            ],
            "text/plain": [
              "<IPython.core.display.HTML object>"
            ]
          },
          "metadata": {},
          "output_type": "display_data"
        },
        {
          "data": {
            "text/html": [
              "Synced <strong style=\"color:#cdcd00\">wild-sweep-53</strong>: <a href=\"https://wandb.ai/sophied/exponentials/runs/6htuoghl\" target=\"_blank\">https://wandb.ai/sophied/exponentials/runs/6htuoghl</a><br/>Synced 4 W&B file(s), 0 media file(s), 0 artifact file(s) and 0 other file(s)"
            ],
            "text/plain": [
              "<IPython.core.display.HTML object>"
            ]
          },
          "metadata": {},
          "output_type": "display_data"
        },
        {
          "data": {
            "text/html": [
              "Find logs at: <code>./wandb/run-20220529_003656-6htuoghl/logs</code>"
            ],
            "text/plain": [
              "<IPython.core.display.HTML object>"
            ]
          },
          "metadata": {},
          "output_type": "display_data"
        },
        {
          "name": "stderr",
          "output_type": "stream",
          "text": [
            "\u001b[34m\u001b[1mwandb\u001b[0m: Sweep Agent: Waiting for job.\n",
            "\u001b[34m\u001b[1mwandb\u001b[0m: Job received.\n",
            "\u001b[34m\u001b[1mwandb\u001b[0m: Agent Starting Run: d3uiljbs with config:\n",
            "\u001b[34m\u001b[1mwandb\u001b[0m: \tae_layer: 7\n",
            "\u001b[34m\u001b[1mwandb\u001b[0m: \tbranch_layer: 4\n",
            "\u001b[34m\u001b[1mwandb\u001b[0m: \tbranch_weight: 30.759479976359685\n",
            "\u001b[34m\u001b[1mwandb\u001b[0m: \tkl_weight: 0.9466331565432275\n",
            "\u001b[34m\u001b[1mwandb\u001b[0m: \tlearning_rate: 0.0040582824746052334\n"
          ]
        },
        {
          "data": {
            "text/html": [
              "Tracking run with wandb version 0.12.17"
            ],
            "text/plain": [
              "<IPython.core.display.HTML object>"
            ]
          },
          "metadata": {},
          "output_type": "display_data"
        },
        {
          "data": {
            "text/html": [
              "Run data is saved locally in <code>/content/wandb/run-20220529_004004-d3uiljbs</code>"
            ],
            "text/plain": [
              "<IPython.core.display.HTML object>"
            ]
          },
          "metadata": {},
          "output_type": "display_data"
        },
        {
          "data": {
            "text/html": [
              "Syncing run <strong><a href=\"https://wandb.ai/sophied/exponentials/runs/d3uiljbs\" target=\"_blank\">celestial-sweep-54</a></strong> to <a href=\"https://wandb.ai/sophied/exponentials\" target=\"_blank\">Weights & Biases</a> (<a href=\"https://wandb.me/run\" target=\"_blank\">docs</a>)<br/>Sweep page:  <a href=\"https://wandb.ai/sophied/exponentials/sweeps/5e99jgaj\" target=\"_blank\">https://wandb.ai/sophied/exponentials/sweeps/5e99jgaj</a>"
            ],
            "text/plain": [
              "<IPython.core.display.HTML object>"
            ]
          },
          "metadata": {},
          "output_type": "display_data"
        },
        {
          "data": {
            "text/html": [
              "Waiting for W&B process to finish... <strong style=\"color:green\">(success).</strong>"
            ],
            "text/plain": [
              "<IPython.core.display.HTML object>"
            ]
          },
          "metadata": {},
          "output_type": "display_data"
        },
        {
          "data": {
            "application/vnd.jupyter.widget-view+json": {
              "model_id": "03ed2d547a7e42abb7adcf07e3c5f769",
              "version_major": 2,
              "version_minor": 0
            },
            "text/plain": [
              "VBox(children=(Label(value='0.000 MB of 0.000 MB uploaded (0.000 MB deduped)\\r'), FloatProgress(value=1.0, max…"
            ]
          },
          "metadata": {},
          "output_type": "display_data"
        },
        {
          "data": {
            "text/html": [
              "<style>\n",
              "    table.wandb td:nth-child(1) { padding: 0 10px; text-align: left ; width: auto;} td:nth-child(2) {text-align: left ; width: 100%}\n",
              "    .wandb-row { display: flex; flex-direction: row; flex-wrap: wrap; justify-content: flex-start; width: 100% }\n",
              "    .wandb-col { display: flex; flex-direction: column; flex-basis: 100%; flex: 1; padding: 10px; }\n",
              "    </style>\n",
              "<div class=\"wandb-row\"><div class=\"wandb-col\"><h3>Run history:</h3><br/><table class=\"wandb\"><tr><td>branch_loss</td><td>▄▆▂▅▃▄█▇▄▄▃█▆▄▅▅▅▃▆▇▇▆▄▆▇█▃▃▅▃▅▃▁▄▇▂▃▄▆▂</td></tr><tr><td>kl</td><td>▄▄▃▃▆▂▅▄█▅▃▂▃▂▃▆▃▄▃▃▄▄▅▂█▄▃▆▄▄▃▅▆▃▄▁▅▃▅▅</td></tr><tr><td>loss</td><td>▄▄▃▃▆▂▅▄█▅▃▂▃▂▃▆▃▄▃▃▄▄▅▂█▄▃▆▄▄▃▅▆▃▄▁▅▃▅▅</td></tr><tr><td>recon_loss</td><td>█▂▁▁▁▁▁▁▁▂▂▁▂▂▁▂▁▁▂▂▂▁▁▁▄▂▁▁▂▁▂▁▁▁▂▁▁▁▁▁</td></tr></table><br/></div><div class=\"wandb-col\"><h3>Run summary:</h3><br/><table class=\"wandb\"><tr><td>branch_loss</td><td>0.0894</td></tr><tr><td>kl</td><td>93.52004</td></tr><tr><td>loss</td><td>91.27907</td></tr><tr><td>recon_loss</td><td>0.00011</td></tr><tr><td>vars</td><td>A+B+C+D</td></tr></table><br/></div></div>"
            ],
            "text/plain": [
              "<IPython.core.display.HTML object>"
            ]
          },
          "metadata": {},
          "output_type": "display_data"
        },
        {
          "data": {
            "text/html": [
              "Synced <strong style=\"color:#cdcd00\">celestial-sweep-54</strong>: <a href=\"https://wandb.ai/sophied/exponentials/runs/d3uiljbs\" target=\"_blank\">https://wandb.ai/sophied/exponentials/runs/d3uiljbs</a><br/>Synced 4 W&B file(s), 0 media file(s), 0 artifact file(s) and 0 other file(s)"
            ],
            "text/plain": [
              "<IPython.core.display.HTML object>"
            ]
          },
          "metadata": {},
          "output_type": "display_data"
        },
        {
          "data": {
            "text/html": [
              "Find logs at: <code>./wandb/run-20220529_004004-d3uiljbs/logs</code>"
            ],
            "text/plain": [
              "<IPython.core.display.HTML object>"
            ]
          },
          "metadata": {},
          "output_type": "display_data"
        },
        {
          "name": "stderr",
          "output_type": "stream",
          "text": [
            "\u001b[34m\u001b[1mwandb\u001b[0m: Agent Starting Run: 79pvzddd with config:\n",
            "\u001b[34m\u001b[1mwandb\u001b[0m: \tae_layer: 18\n",
            "\u001b[34m\u001b[1mwandb\u001b[0m: \tbranch_layer: 10\n",
            "\u001b[34m\u001b[1mwandb\u001b[0m: \tbranch_weight: 84.86378519672296\n",
            "\u001b[34m\u001b[1mwandb\u001b[0m: \tkl_weight: 0.3072421410168543\n",
            "\u001b[34m\u001b[1mwandb\u001b[0m: \tlearning_rate: 0.0007564468259355253\n"
          ]
        },
        {
          "data": {
            "text/html": [
              "Tracking run with wandb version 0.12.17"
            ],
            "text/plain": [
              "<IPython.core.display.HTML object>"
            ]
          },
          "metadata": {},
          "output_type": "display_data"
        },
        {
          "data": {
            "text/html": [
              "Run data is saved locally in <code>/content/wandb/run-20220529_004308-79pvzddd</code>"
            ],
            "text/plain": [
              "<IPython.core.display.HTML object>"
            ]
          },
          "metadata": {},
          "output_type": "display_data"
        },
        {
          "data": {
            "text/html": [
              "Syncing run <strong><a href=\"https://wandb.ai/sophied/exponentials/runs/79pvzddd\" target=\"_blank\">earthy-sweep-55</a></strong> to <a href=\"https://wandb.ai/sophied/exponentials\" target=\"_blank\">Weights & Biases</a> (<a href=\"https://wandb.me/run\" target=\"_blank\">docs</a>)<br/>Sweep page:  <a href=\"https://wandb.ai/sophied/exponentials/sweeps/5e99jgaj\" target=\"_blank\">https://wandb.ai/sophied/exponentials/sweeps/5e99jgaj</a>"
            ],
            "text/plain": [
              "<IPython.core.display.HTML object>"
            ]
          },
          "metadata": {},
          "output_type": "display_data"
        },
        {
          "data": {
            "text/html": [
              "Waiting for W&B process to finish... <strong style=\"color:green\">(success).</strong>"
            ],
            "text/plain": [
              "<IPython.core.display.HTML object>"
            ]
          },
          "metadata": {},
          "output_type": "display_data"
        },
        {
          "data": {
            "application/vnd.jupyter.widget-view+json": {
              "model_id": "c4430b82c8a94bb59d8549de89bf8df5",
              "version_major": 2,
              "version_minor": 0
            },
            "text/plain": [
              "VBox(children=(Label(value='0.000 MB of 0.000 MB uploaded (0.000 MB deduped)\\r'), FloatProgress(value=1.0, max…"
            ]
          },
          "metadata": {},
          "output_type": "display_data"
        },
        {
          "data": {
            "text/html": [
              "<style>\n",
              "    table.wandb td:nth-child(1) { padding: 0 10px; text-align: left ; width: auto;} td:nth-child(2) {text-align: left ; width: 100%}\n",
              "    .wandb-row { display: flex; flex-direction: row; flex-wrap: wrap; justify-content: flex-start; width: 100% }\n",
              "    .wandb-col { display: flex; flex-direction: column; flex-basis: 100%; flex: 1; padding: 10px; }\n",
              "    </style>\n",
              "<div class=\"wandb-row\"><div class=\"wandb-col\"><h3>Run history:</h3><br/><table class=\"wandb\"><tr><td>branch_loss</td><td>▄▆▂▅▃▄█▇▄▄▃█▆▄▅▅▅▃▅▆▇▅▄▆▇█▃▃▅▃▅▃▁▄▇▁▃▄▅▂</td></tr><tr><td>kl</td><td>▄▄▃▃▆▂▅▄█▅▃▂▃▂▃▆▃▄▃▃▄▄▅▂█▄▃▆▄▄▃▅▆▃▄▁▅▃▅▅</td></tr><tr><td>loss</td><td>▄▄▃▃▆▂▆▅▇▅▃▃▃▃▃▆▃▄▄▃▄▄▅▃█▄▃▅▄▄▄▄▆▃▄▁▅▃▅▅</td></tr><tr><td>recon_loss</td><td>█▃▂▁▁▁▁▁▁▁▁▁▂▁▁▁▁▁▁▁▁▁▁▁▂▁▁▁▁▁▁▁▁▁▁▁▁▁▁▁</td></tr></table><br/></div><div class=\"wandb-col\"><h3>Run summary:</h3><br/><table class=\"wandb\"><tr><td>branch_loss</td><td>0.08765</td></tr><tr><td>kl</td><td>93.35468</td></tr><tr><td>loss</td><td>36.12085</td></tr><tr><td>recon_loss</td><td>7e-05</td></tr><tr><td>vars</td><td>A+B+C+D</td></tr></table><br/></div></div>"
            ],
            "text/plain": [
              "<IPython.core.display.HTML object>"
            ]
          },
          "metadata": {},
          "output_type": "display_data"
        },
        {
          "data": {
            "text/html": [
              "Synced <strong style=\"color:#cdcd00\">earthy-sweep-55</strong>: <a href=\"https://wandb.ai/sophied/exponentials/runs/79pvzddd\" target=\"_blank\">https://wandb.ai/sophied/exponentials/runs/79pvzddd</a><br/>Synced 4 W&B file(s), 0 media file(s), 0 artifact file(s) and 0 other file(s)"
            ],
            "text/plain": [
              "<IPython.core.display.HTML object>"
            ]
          },
          "metadata": {},
          "output_type": "display_data"
        },
        {
          "data": {
            "text/html": [
              "Find logs at: <code>./wandb/run-20220529_004308-79pvzddd/logs</code>"
            ],
            "text/plain": [
              "<IPython.core.display.HTML object>"
            ]
          },
          "metadata": {},
          "output_type": "display_data"
        },
        {
          "name": "stderr",
          "output_type": "stream",
          "text": [
            "\u001b[34m\u001b[1mwandb\u001b[0m: Sweep Agent: Waiting for job.\n",
            "\u001b[34m\u001b[1mwandb\u001b[0m: Job received.\n",
            "\u001b[34m\u001b[1mwandb\u001b[0m: Agent Starting Run: fqspglic with config:\n",
            "\u001b[34m\u001b[1mwandb\u001b[0m: \tae_layer: 17\n",
            "\u001b[34m\u001b[1mwandb\u001b[0m: \tbranch_layer: 10\n",
            "\u001b[34m\u001b[1mwandb\u001b[0m: \tbranch_weight: 88.92637311758962\n",
            "\u001b[34m\u001b[1mwandb\u001b[0m: \tkl_weight: 0.46922201661617424\n",
            "\u001b[34m\u001b[1mwandb\u001b[0m: \tlearning_rate: 0.0026698682895037427\n"
          ]
        },
        {
          "data": {
            "text/html": [
              "Tracking run with wandb version 0.12.17"
            ],
            "text/plain": [
              "<IPython.core.display.HTML object>"
            ]
          },
          "metadata": {},
          "output_type": "display_data"
        },
        {
          "data": {
            "text/html": [
              "Run data is saved locally in <code>/content/wandb/run-20220529_004611-fqspglic</code>"
            ],
            "text/plain": [
              "<IPython.core.display.HTML object>"
            ]
          },
          "metadata": {},
          "output_type": "display_data"
        },
        {
          "data": {
            "text/html": [
              "Syncing run <strong><a href=\"https://wandb.ai/sophied/exponentials/runs/fqspglic\" target=\"_blank\">graceful-sweep-56</a></strong> to <a href=\"https://wandb.ai/sophied/exponentials\" target=\"_blank\">Weights & Biases</a> (<a href=\"https://wandb.me/run\" target=\"_blank\">docs</a>)<br/>Sweep page:  <a href=\"https://wandb.ai/sophied/exponentials/sweeps/5e99jgaj\" target=\"_blank\">https://wandb.ai/sophied/exponentials/sweeps/5e99jgaj</a>"
            ],
            "text/plain": [
              "<IPython.core.display.HTML object>"
            ]
          },
          "metadata": {},
          "output_type": "display_data"
        },
        {
          "data": {
            "text/html": [
              "Waiting for W&B process to finish... <strong style=\"color:green\">(success).</strong>"
            ],
            "text/plain": [
              "<IPython.core.display.HTML object>"
            ]
          },
          "metadata": {},
          "output_type": "display_data"
        },
        {
          "data": {
            "application/vnd.jupyter.widget-view+json": {
              "model_id": "bfccc26f41364c5fad924d68f0684888",
              "version_major": 2,
              "version_minor": 0
            },
            "text/plain": [
              "VBox(children=(Label(value='0.000 MB of 0.000 MB uploaded (0.000 MB deduped)\\r'), FloatProgress(value=1.0, max…"
            ]
          },
          "metadata": {},
          "output_type": "display_data"
        },
        {
          "data": {
            "text/html": [
              "<style>\n",
              "    table.wandb td:nth-child(1) { padding: 0 10px; text-align: left ; width: auto;} td:nth-child(2) {text-align: left ; width: 100%}\n",
              "    .wandb-row { display: flex; flex-direction: row; flex-wrap: wrap; justify-content: flex-start; width: 100% }\n",
              "    .wandb-col { display: flex; flex-direction: column; flex-basis: 100%; flex: 1; padding: 10px; }\n",
              "    </style>\n",
              "<div class=\"wandb-row\"><div class=\"wandb-col\"><h3>Run history:</h3><br/><table class=\"wandb\"><tr><td>branch_loss</td><td>▃▇▂▅▃▄█▇▄▄▃█▆▄▅▅▅▃▆▇▇▆▄▆▇█▃▃▅▃▅▃▁▄▇▁▃▄▅▂</td></tr><tr><td>kl</td><td>▄▄▃▃▆▂▅▄█▅▃▂▃▂▃▆▃▄▃▃▄▄▅▂█▄▃▆▄▄▃▅▆▃▄▁▅▃▅▅</td></tr><tr><td>loss</td><td>▄▄▃▃▆▂▅▄▇▅▃▃▃▂▃▆▃▄▃▃▄▄▅▃█▄▃▆▄▄▄▄▆▃▄▁▅▃▅▅</td></tr><tr><td>recon_loss</td><td>█▂▂▂▂▂▂▂▁▂▃▁▄▂▁▂▂▂▂▂▃▁▁▁▆▂▂▁▂▁▃▁▁▁▃▂▁▁▁▁</td></tr></table><br/></div><div class=\"wandb-col\"><h3>Run summary:</h3><br/><table class=\"wandb\"><tr><td>branch_loss</td><td>0.08795</td></tr><tr><td>kl</td><td>93.41609</td></tr><tr><td>loss</td><td>51.65446</td></tr><tr><td>recon_loss</td><td>9e-05</td></tr><tr><td>vars</td><td>A+B+C+D</td></tr></table><br/></div></div>"
            ],
            "text/plain": [
              "<IPython.core.display.HTML object>"
            ]
          },
          "metadata": {},
          "output_type": "display_data"
        },
        {
          "data": {
            "text/html": [
              "Synced <strong style=\"color:#cdcd00\">graceful-sweep-56</strong>: <a href=\"https://wandb.ai/sophied/exponentials/runs/fqspglic\" target=\"_blank\">https://wandb.ai/sophied/exponentials/runs/fqspglic</a><br/>Synced 4 W&B file(s), 0 media file(s), 0 artifact file(s) and 0 other file(s)"
            ],
            "text/plain": [
              "<IPython.core.display.HTML object>"
            ]
          },
          "metadata": {},
          "output_type": "display_data"
        },
        {
          "data": {
            "text/html": [
              "Find logs at: <code>./wandb/run-20220529_004611-fqspglic/logs</code>"
            ],
            "text/plain": [
              "<IPython.core.display.HTML object>"
            ]
          },
          "metadata": {},
          "output_type": "display_data"
        },
        {
          "name": "stderr",
          "output_type": "stream",
          "text": [
            "\u001b[34m\u001b[1mwandb\u001b[0m: Agent Starting Run: r41uaadb with config:\n",
            "\u001b[34m\u001b[1mwandb\u001b[0m: \tae_layer: 17\n",
            "\u001b[34m\u001b[1mwandb\u001b[0m: \tbranch_layer: 9\n",
            "\u001b[34m\u001b[1mwandb\u001b[0m: \tbranch_weight: 89.8193797699365\n",
            "\u001b[34m\u001b[1mwandb\u001b[0m: \tkl_weight: 0.43060369558139433\n",
            "\u001b[34m\u001b[1mwandb\u001b[0m: \tlearning_rate: 0.0027353590520144606\n"
          ]
        },
        {
          "data": {
            "text/html": [
              "Tracking run with wandb version 0.12.17"
            ],
            "text/plain": [
              "<IPython.core.display.HTML object>"
            ]
          },
          "metadata": {},
          "output_type": "display_data"
        },
        {
          "data": {
            "text/html": [
              "Run data is saved locally in <code>/content/wandb/run-20220529_004905-r41uaadb</code>"
            ],
            "text/plain": [
              "<IPython.core.display.HTML object>"
            ]
          },
          "metadata": {},
          "output_type": "display_data"
        },
        {
          "data": {
            "text/html": [
              "Syncing run <strong><a href=\"https://wandb.ai/sophied/exponentials/runs/r41uaadb\" target=\"_blank\">super-sweep-57</a></strong> to <a href=\"https://wandb.ai/sophied/exponentials\" target=\"_blank\">Weights & Biases</a> (<a href=\"https://wandb.me/run\" target=\"_blank\">docs</a>)<br/>Sweep page:  <a href=\"https://wandb.ai/sophied/exponentials/sweeps/5e99jgaj\" target=\"_blank\">https://wandb.ai/sophied/exponentials/sweeps/5e99jgaj</a>"
            ],
            "text/plain": [
              "<IPython.core.display.HTML object>"
            ]
          },
          "metadata": {},
          "output_type": "display_data"
        },
        {
          "data": {
            "text/html": [
              "Waiting for W&B process to finish... <strong style=\"color:green\">(success).</strong>"
            ],
            "text/plain": [
              "<IPython.core.display.HTML object>"
            ]
          },
          "metadata": {},
          "output_type": "display_data"
        },
        {
          "data": {
            "application/vnd.jupyter.widget-view+json": {
              "model_id": "a8c91b4bdfbd434195811164739b826a",
              "version_major": 2,
              "version_minor": 0
            },
            "text/plain": [
              "VBox(children=(Label(value='0.000 MB of 0.000 MB uploaded (0.000 MB deduped)\\r'), FloatProgress(value=1.0, max…"
            ]
          },
          "metadata": {},
          "output_type": "display_data"
        },
        {
          "data": {
            "text/html": [
              "<style>\n",
              "    table.wandb td:nth-child(1) { padding: 0 10px; text-align: left ; width: auto;} td:nth-child(2) {text-align: left ; width: 100%}\n",
              "    .wandb-row { display: flex; flex-direction: row; flex-wrap: wrap; justify-content: flex-start; width: 100% }\n",
              "    .wandb-col { display: flex; flex-direction: column; flex-basis: 100%; flex: 1; padding: 10px; }\n",
              "    </style>\n",
              "<div class=\"wandb-row\"><div class=\"wandb-col\"><h3>Run history:</h3><br/><table class=\"wandb\"><tr><td>branch_loss</td><td>▄▆▄▅▄▅▇▇▄▄▄▇▆▅▆▅▅▄▆▆▆▆▅▆█▇▂▄▅▄▄▃▃▃▄▁▁▃▄▁</td></tr><tr><td>kl</td><td>▄▄▄▃▆▂▅▄█▅▃▂▃▃▃▆▃▅▃▃▄▄▅▂█▄▃▆▄▅▃▅▆▃▄▁▅▃▅▅</td></tr><tr><td>loss</td><td>▄▄▄▃▆▂▆▅▇▅▃▃▄▃▃▆▃▅▄▄▄▄▅▃█▄▃▆▄▄▃▄▆▃▄▁▅▃▅▄</td></tr><tr><td>recon_loss</td><td>█▂▂▂▂▂▂▂▁▂▃▁▄▂▁▂▂▂▂▂▃▁▁▁▆▂▂▁▃▁▂▁▁▁▁▁▁▁▁▁</td></tr></table><br/></div><div class=\"wandb-col\"><h3>Run summary:</h3><br/><table class=\"wandb\"><tr><td>branch_loss</td><td>0.07924</td></tr><tr><td>kl</td><td>92.00909</td></tr><tr><td>loss</td><td>46.73715</td></tr><tr><td>recon_loss</td><td>5e-05</td></tr><tr><td>vars</td><td>A+B+C+D</td></tr></table><br/></div></div>"
            ],
            "text/plain": [
              "<IPython.core.display.HTML object>"
            ]
          },
          "metadata": {},
          "output_type": "display_data"
        },
        {
          "data": {
            "text/html": [
              "Synced <strong style=\"color:#cdcd00\">super-sweep-57</strong>: <a href=\"https://wandb.ai/sophied/exponentials/runs/r41uaadb\" target=\"_blank\">https://wandb.ai/sophied/exponentials/runs/r41uaadb</a><br/>Synced 4 W&B file(s), 0 media file(s), 0 artifact file(s) and 0 other file(s)"
            ],
            "text/plain": [
              "<IPython.core.display.HTML object>"
            ]
          },
          "metadata": {},
          "output_type": "display_data"
        },
        {
          "data": {
            "text/html": [
              "Find logs at: <code>./wandb/run-20220529_004905-r41uaadb/logs</code>"
            ],
            "text/plain": [
              "<IPython.core.display.HTML object>"
            ]
          },
          "metadata": {},
          "output_type": "display_data"
        },
        {
          "name": "stderr",
          "output_type": "stream",
          "text": [
            "\u001b[34m\u001b[1mwandb\u001b[0m: Agent Starting Run: k5jgo91v with config:\n",
            "\u001b[34m\u001b[1mwandb\u001b[0m: \tae_layer: 13\n",
            "\u001b[34m\u001b[1mwandb\u001b[0m: \tbranch_layer: 4\n",
            "\u001b[34m\u001b[1mwandb\u001b[0m: \tbranch_weight: 52.38362692059868\n",
            "\u001b[34m\u001b[1mwandb\u001b[0m: \tkl_weight: 0.9353459797477796\n",
            "\u001b[34m\u001b[1mwandb\u001b[0m: \tlearning_rate: 0.0012853983587454514\n"
          ]
        },
        {
          "data": {
            "text/html": [
              "Tracking run with wandb version 0.12.17"
            ],
            "text/plain": [
              "<IPython.core.display.HTML object>"
            ]
          },
          "metadata": {},
          "output_type": "display_data"
        },
        {
          "data": {
            "text/html": [
              "Run data is saved locally in <code>/content/wandb/run-20220529_005158-k5jgo91v</code>"
            ],
            "text/plain": [
              "<IPython.core.display.HTML object>"
            ]
          },
          "metadata": {},
          "output_type": "display_data"
        },
        {
          "data": {
            "text/html": [
              "Syncing run <strong><a href=\"https://wandb.ai/sophied/exponentials/runs/k5jgo91v\" target=\"_blank\">electric-sweep-58</a></strong> to <a href=\"https://wandb.ai/sophied/exponentials\" target=\"_blank\">Weights & Biases</a> (<a href=\"https://wandb.me/run\" target=\"_blank\">docs</a>)<br/>Sweep page:  <a href=\"https://wandb.ai/sophied/exponentials/sweeps/5e99jgaj\" target=\"_blank\">https://wandb.ai/sophied/exponentials/sweeps/5e99jgaj</a>"
            ],
            "text/plain": [
              "<IPython.core.display.HTML object>"
            ]
          },
          "metadata": {},
          "output_type": "display_data"
        },
        {
          "data": {
            "text/html": [
              "Waiting for W&B process to finish... <strong style=\"color:green\">(success).</strong>"
            ],
            "text/plain": [
              "<IPython.core.display.HTML object>"
            ]
          },
          "metadata": {},
          "output_type": "display_data"
        },
        {
          "data": {
            "application/vnd.jupyter.widget-view+json": {
              "model_id": "7e6a3091a3e4435285c54b5e1fcae8e3",
              "version_major": 2,
              "version_minor": 0
            },
            "text/plain": [
              "VBox(children=(Label(value='0.000 MB of 0.000 MB uploaded (0.000 MB deduped)\\r'), FloatProgress(value=1.0, max…"
            ]
          },
          "metadata": {},
          "output_type": "display_data"
        },
        {
          "data": {
            "text/html": [
              "<style>\n",
              "    table.wandb td:nth-child(1) { padding: 0 10px; text-align: left ; width: auto;} td:nth-child(2) {text-align: left ; width: 100%}\n",
              "    .wandb-row { display: flex; flex-direction: row; flex-wrap: wrap; justify-content: flex-start; width: 100% }\n",
              "    .wandb-col { display: flex; flex-direction: column; flex-basis: 100%; flex: 1; padding: 10px; }\n",
              "    </style>\n",
              "<div class=\"wandb-row\"><div class=\"wandb-col\"><h3>Run history:</h3><br/><table class=\"wandb\"><tr><td>branch_loss</td><td>▅▆▂▅▃▄█▇▄▄▃█▅▄▅▅▅▃▆▆▇▆▄▆▇█▃▃▅▃▅▃▁▄▇▂▃▄▆▂</td></tr><tr><td>kl</td><td>▄▄▃▃▆▂▅▄█▅▃▂▃▂▃▆▃▄▃▃▄▄▅▂█▄▃▆▄▄▃▅▆▃▄▁▅▃▅▅</td></tr><tr><td>loss</td><td>▄▄▃▃▆▂▅▄█▅▃▂▃▂▃▆▃▄▃▃▄▄▅▂█▄▃▆▄▄▃▅▆▃▄▁▅▃▅▅</td></tr><tr><td>recon_loss</td><td>█▃▁▁▁▁▁▁▁▁▁▁▂▁▁▁▁▁▁▁▂▁▁▁▂▁▁▁▁▁▁▁▁▁▂▁▁▁▁▁</td></tr></table><br/></div><div class=\"wandb-col\"><h3>Run summary:</h3><br/><table class=\"wandb\"><tr><td>branch_loss</td><td>0.08955</td></tr><tr><td>kl</td><td>93.51774</td></tr><tr><td>loss</td><td>92.16247</td></tr><tr><td>recon_loss</td><td>0.00011</td></tr><tr><td>vars</td><td>A+B+C+D</td></tr></table><br/></div></div>"
            ],
            "text/plain": [
              "<IPython.core.display.HTML object>"
            ]
          },
          "metadata": {},
          "output_type": "display_data"
        },
        {
          "data": {
            "text/html": [
              "Synced <strong style=\"color:#cdcd00\">electric-sweep-58</strong>: <a href=\"https://wandb.ai/sophied/exponentials/runs/k5jgo91v\" target=\"_blank\">https://wandb.ai/sophied/exponentials/runs/k5jgo91v</a><br/>Synced 4 W&B file(s), 0 media file(s), 0 artifact file(s) and 0 other file(s)"
            ],
            "text/plain": [
              "<IPython.core.display.HTML object>"
            ]
          },
          "metadata": {},
          "output_type": "display_data"
        },
        {
          "data": {
            "text/html": [
              "Find logs at: <code>./wandb/run-20220529_005158-k5jgo91v/logs</code>"
            ],
            "text/plain": [
              "<IPython.core.display.HTML object>"
            ]
          },
          "metadata": {},
          "output_type": "display_data"
        },
        {
          "name": "stderr",
          "output_type": "stream",
          "text": [
            "\u001b[34m\u001b[1mwandb\u001b[0m: Agent Starting Run: 9wl4u319 with config:\n",
            "\u001b[34m\u001b[1mwandb\u001b[0m: \tae_layer: 10\n",
            "\u001b[34m\u001b[1mwandb\u001b[0m: \tbranch_layer: 8\n",
            "\u001b[34m\u001b[1mwandb\u001b[0m: \tbranch_weight: 64.6439938842883\n",
            "\u001b[34m\u001b[1mwandb\u001b[0m: \tkl_weight: 0.3541063931402676\n",
            "\u001b[34m\u001b[1mwandb\u001b[0m: \tlearning_rate: 0.0013994337329766102\n"
          ]
        },
        {
          "data": {
            "text/html": [
              "Tracking run with wandb version 0.12.17"
            ],
            "text/plain": [
              "<IPython.core.display.HTML object>"
            ]
          },
          "metadata": {},
          "output_type": "display_data"
        },
        {
          "data": {
            "text/html": [
              "Run data is saved locally in <code>/content/wandb/run-20220529_005456-9wl4u319</code>"
            ],
            "text/plain": [
              "<IPython.core.display.HTML object>"
            ]
          },
          "metadata": {},
          "output_type": "display_data"
        },
        {
          "data": {
            "text/html": [
              "Syncing run <strong><a href=\"https://wandb.ai/sophied/exponentials/runs/9wl4u319\" target=\"_blank\">quiet-sweep-59</a></strong> to <a href=\"https://wandb.ai/sophied/exponentials\" target=\"_blank\">Weights & Biases</a> (<a href=\"https://wandb.me/run\" target=\"_blank\">docs</a>)<br/>Sweep page:  <a href=\"https://wandb.ai/sophied/exponentials/sweeps/5e99jgaj\" target=\"_blank\">https://wandb.ai/sophied/exponentials/sweeps/5e99jgaj</a>"
            ],
            "text/plain": [
              "<IPython.core.display.HTML object>"
            ]
          },
          "metadata": {},
          "output_type": "display_data"
        },
        {
          "data": {
            "text/html": [
              "Waiting for W&B process to finish... <strong style=\"color:green\">(success).</strong>"
            ],
            "text/plain": [
              "<IPython.core.display.HTML object>"
            ]
          },
          "metadata": {},
          "output_type": "display_data"
        },
        {
          "data": {
            "application/vnd.jupyter.widget-view+json": {
              "model_id": "fd7e4eceb879476683ac0b8f8f5a36d0",
              "version_major": 2,
              "version_minor": 0
            },
            "text/plain": [
              "VBox(children=(Label(value='0.000 MB of 0.000 MB uploaded (0.000 MB deduped)\\r'), FloatProgress(value=1.0, max…"
            ]
          },
          "metadata": {},
          "output_type": "display_data"
        },
        {
          "data": {
            "text/html": [
              "<style>\n",
              "    table.wandb td:nth-child(1) { padding: 0 10px; text-align: left ; width: auto;} td:nth-child(2) {text-align: left ; width: 100%}\n",
              "    .wandb-row { display: flex; flex-direction: row; flex-wrap: wrap; justify-content: flex-start; width: 100% }\n",
              "    .wandb-col { display: flex; flex-direction: column; flex-basis: 100%; flex: 1; padding: 10px; }\n",
              "    </style>\n",
              "<div class=\"wandb-row\"><div class=\"wandb-col\"><h3>Run history:</h3><br/><table class=\"wandb\"><tr><td>branch_loss</td><td>▅▇▅▆▅▆█▇▆▅▅█▇▆▆▆▆▅▆▇▇▆▅▇▇▇▄▄▄▄▃▅▁▂▃▁▁▂▂▂</td></tr><tr><td>kl</td><td>▄▄▄▃▆▂▅▅█▅▄▃▃▃▃▆▃▅▄▃▄▄▅▃█▄▃▆▄▅▃▅▆▃▃▁▅▃▄▅</td></tr><tr><td>loss</td><td>▅▅▄▄▆▃▆▅█▅▄▃▄▃▄▆▄▅▄▄▅▄▅▃█▅▃▆▄▅▃▅▆▃▃▁▅▃▄▅</td></tr><tr><td>recon_loss</td><td>█▃▂▁▁▁▁▁▁▁▂▁▂▁▁▁▁▁▁▁▂▁▁▁▂▁▁▁▁▁▁▁▁▁▁▁▁▁▁▁</td></tr></table><br/></div><div class=\"wandb-col\"><h3>Run summary:</h3><br/><table class=\"wandb\"><tr><td>branch_loss</td><td>0.07385</td></tr><tr><td>kl</td><td>91.18539</td></tr><tr><td>loss</td><td>37.06337</td></tr><tr><td>recon_loss</td><td>5e-05</td></tr><tr><td>vars</td><td>A+B+C+D</td></tr></table><br/></div></div>"
            ],
            "text/plain": [
              "<IPython.core.display.HTML object>"
            ]
          },
          "metadata": {},
          "output_type": "display_data"
        },
        {
          "data": {
            "text/html": [
              "Synced <strong style=\"color:#cdcd00\">quiet-sweep-59</strong>: <a href=\"https://wandb.ai/sophied/exponentials/runs/9wl4u319\" target=\"_blank\">https://wandb.ai/sophied/exponentials/runs/9wl4u319</a><br/>Synced 4 W&B file(s), 0 media file(s), 0 artifact file(s) and 0 other file(s)"
            ],
            "text/plain": [
              "<IPython.core.display.HTML object>"
            ]
          },
          "metadata": {},
          "output_type": "display_data"
        },
        {
          "data": {
            "text/html": [
              "Find logs at: <code>./wandb/run-20220529_005456-9wl4u319/logs</code>"
            ],
            "text/plain": [
              "<IPython.core.display.HTML object>"
            ]
          },
          "metadata": {},
          "output_type": "display_data"
        },
        {
          "name": "stderr",
          "output_type": "stream",
          "text": [
            "\u001b[34m\u001b[1mwandb\u001b[0m: Agent Starting Run: illd80y8 with config:\n",
            "\u001b[34m\u001b[1mwandb\u001b[0m: \tae_layer: 12\n",
            "\u001b[34m\u001b[1mwandb\u001b[0m: \tbranch_layer: 7\n",
            "\u001b[34m\u001b[1mwandb\u001b[0m: \tbranch_weight: 93.66523272916068\n",
            "\u001b[34m\u001b[1mwandb\u001b[0m: \tkl_weight: 0.47677316958196697\n",
            "\u001b[34m\u001b[1mwandb\u001b[0m: \tlearning_rate: 0.0048555054722138075\n"
          ]
        },
        {
          "data": {
            "text/html": [
              "Tracking run with wandb version 0.12.17"
            ],
            "text/plain": [
              "<IPython.core.display.HTML object>"
            ]
          },
          "metadata": {},
          "output_type": "display_data"
        },
        {
          "data": {
            "text/html": [
              "Run data is saved locally in <code>/content/wandb/run-20220529_005754-illd80y8</code>"
            ],
            "text/plain": [
              "<IPython.core.display.HTML object>"
            ]
          },
          "metadata": {},
          "output_type": "display_data"
        },
        {
          "data": {
            "text/html": [
              "Syncing run <strong><a href=\"https://wandb.ai/sophied/exponentials/runs/illd80y8\" target=\"_blank\">olive-sweep-60</a></strong> to <a href=\"https://wandb.ai/sophied/exponentials\" target=\"_blank\">Weights & Biases</a> (<a href=\"https://wandb.me/run\" target=\"_blank\">docs</a>)<br/>Sweep page:  <a href=\"https://wandb.ai/sophied/exponentials/sweeps/5e99jgaj\" target=\"_blank\">https://wandb.ai/sophied/exponentials/sweeps/5e99jgaj</a>"
            ],
            "text/plain": [
              "<IPython.core.display.HTML object>"
            ]
          },
          "metadata": {},
          "output_type": "display_data"
        },
        {
          "data": {
            "text/html": [
              "Waiting for W&B process to finish... <strong style=\"color:green\">(success).</strong>"
            ],
            "text/plain": [
              "<IPython.core.display.HTML object>"
            ]
          },
          "metadata": {},
          "output_type": "display_data"
        },
        {
          "data": {
            "application/vnd.jupyter.widget-view+json": {
              "model_id": "5c2c9e5bfb8c4995845fcd82a6271c01",
              "version_major": 2,
              "version_minor": 0
            },
            "text/plain": [
              "VBox(children=(Label(value='0.000 MB of 0.000 MB uploaded (0.000 MB deduped)\\r'), FloatProgress(value=1.0, max…"
            ]
          },
          "metadata": {},
          "output_type": "display_data"
        },
        {
          "data": {
            "text/html": [
              "<style>\n",
              "    table.wandb td:nth-child(1) { padding: 0 10px; text-align: left ; width: auto;} td:nth-child(2) {text-align: left ; width: 100%}\n",
              "    .wandb-row { display: flex; flex-direction: row; flex-wrap: wrap; justify-content: flex-start; width: 100% }\n",
              "    .wandb-col { display: flex; flex-direction: column; flex-basis: 100%; flex: 1; padding: 10px; }\n",
              "    </style>\n",
              "<div class=\"wandb-row\"><div class=\"wandb-col\"><h3>Run history:</h3><br/><table class=\"wandb\"><tr><td>branch_loss</td><td>▂▆▂▄▃▄█▇▄▄▃█▆▄▅▅▅▃▅▆▇▅▄▆▇█▃▃▅▃▅▃▁▄▇▂▃▄▆▂</td></tr><tr><td>kl</td><td>▄▄▃▃▆▂▅▄█▅▃▂▃▂▃▆▃▄▃▃▄▄▅▂█▄▃▆▄▄▃▅▆▃▄▁▅▃▅▅</td></tr><tr><td>loss</td><td>▄▄▃▃▆▂▅▄▇▅▃▃▃▂▃▆▃▄▃▃▄▄▅▃█▄▃▆▄▄▄▄▆▃▄▁▅▃▅▅</td></tr><tr><td>recon_loss</td><td>█▂▂▂▂▂▂▂▁▂▃▁▄▃▁▃▂▂▂▂▃▁▁▁▇▂▂▁▂▁▃▁▁▂▃▂▁▁▁▂</td></tr></table><br/></div><div class=\"wandb-col\"><h3>Run summary:</h3><br/><table class=\"wandb\"><tr><td>branch_loss</td><td>0.0896</td></tr><tr><td>kl</td><td>93.52894</td></tr><tr><td>loss</td><td>52.98444</td></tr><tr><td>recon_loss</td><td>0.00011</td></tr><tr><td>vars</td><td>A+B+C+D</td></tr></table><br/></div></div>"
            ],
            "text/plain": [
              "<IPython.core.display.HTML object>"
            ]
          },
          "metadata": {},
          "output_type": "display_data"
        },
        {
          "data": {
            "text/html": [
              "Synced <strong style=\"color:#cdcd00\">olive-sweep-60</strong>: <a href=\"https://wandb.ai/sophied/exponentials/runs/illd80y8\" target=\"_blank\">https://wandb.ai/sophied/exponentials/runs/illd80y8</a><br/>Synced 4 W&B file(s), 0 media file(s), 0 artifact file(s) and 0 other file(s)"
            ],
            "text/plain": [
              "<IPython.core.display.HTML object>"
            ]
          },
          "metadata": {},
          "output_type": "display_data"
        },
        {
          "data": {
            "text/html": [
              "Find logs at: <code>./wandb/run-20220529_005754-illd80y8/logs</code>"
            ],
            "text/plain": [
              "<IPython.core.display.HTML object>"
            ]
          },
          "metadata": {},
          "output_type": "display_data"
        },
        {
          "name": "stderr",
          "output_type": "stream",
          "text": [
            "\u001b[34m\u001b[1mwandb\u001b[0m: Agent Starting Run: lpmb7j9m with config:\n",
            "\u001b[34m\u001b[1mwandb\u001b[0m: \tae_layer: 18\n",
            "\u001b[34m\u001b[1mwandb\u001b[0m: \tbranch_layer: 9\n",
            "\u001b[34m\u001b[1mwandb\u001b[0m: \tbranch_weight: 27.182600782418305\n",
            "\u001b[34m\u001b[1mwandb\u001b[0m: \tkl_weight: 0.6726074488517334\n",
            "\u001b[34m\u001b[1mwandb\u001b[0m: \tlearning_rate: 0.0026709539216110433\n"
          ]
        },
        {
          "data": {
            "text/html": [
              "Tracking run with wandb version 0.12.17"
            ],
            "text/plain": [
              "<IPython.core.display.HTML object>"
            ]
          },
          "metadata": {},
          "output_type": "display_data"
        },
        {
          "data": {
            "text/html": [
              "Run data is saved locally in <code>/content/wandb/run-20220529_010052-lpmb7j9m</code>"
            ],
            "text/plain": [
              "<IPython.core.display.HTML object>"
            ]
          },
          "metadata": {},
          "output_type": "display_data"
        },
        {
          "data": {
            "text/html": [
              "Syncing run <strong><a href=\"https://wandb.ai/sophied/exponentials/runs/lpmb7j9m\" target=\"_blank\">genial-sweep-61</a></strong> to <a href=\"https://wandb.ai/sophied/exponentials\" target=\"_blank\">Weights & Biases</a> (<a href=\"https://wandb.me/run\" target=\"_blank\">docs</a>)<br/>Sweep page:  <a href=\"https://wandb.ai/sophied/exponentials/sweeps/5e99jgaj\" target=\"_blank\">https://wandb.ai/sophied/exponentials/sweeps/5e99jgaj</a>"
            ],
            "text/plain": [
              "<IPython.core.display.HTML object>"
            ]
          },
          "metadata": {},
          "output_type": "display_data"
        },
        {
          "data": {
            "text/html": [
              "Waiting for W&B process to finish... <strong style=\"color:green\">(success).</strong>"
            ],
            "text/plain": [
              "<IPython.core.display.HTML object>"
            ]
          },
          "metadata": {},
          "output_type": "display_data"
        },
        {
          "data": {
            "application/vnd.jupyter.widget-view+json": {
              "model_id": "787cfccdf5ad44b7acdb20b3d75927a6",
              "version_major": 2,
              "version_minor": 0
            },
            "text/plain": [
              "VBox(children=(Label(value='0.000 MB of 0.000 MB uploaded (0.000 MB deduped)\\r'), FloatProgress(value=1.0, max…"
            ]
          },
          "metadata": {},
          "output_type": "display_data"
        },
        {
          "data": {
            "text/html": [
              "<style>\n",
              "    table.wandb td:nth-child(1) { padding: 0 10px; text-align: left ; width: auto;} td:nth-child(2) {text-align: left ; width: 100%}\n",
              "    .wandb-row { display: flex; flex-direction: row; flex-wrap: wrap; justify-content: flex-start; width: 100% }\n",
              "    .wandb-col { display: flex; flex-direction: column; flex-basis: 100%; flex: 1; padding: 10px; }\n",
              "    </style>\n",
              "<div class=\"wandb-row\"><div class=\"wandb-col\"><h3>Run history:</h3><br/><table class=\"wandb\"><tr><td>branch_loss</td><td>▅▇▄▆▄▆█▇▅▅▅█▆▆▆▆▆▅▆▇▇▆▅▇▇█▅▅▆▅▅▅▃▄▅▂▁▃▂▂</td></tr><tr><td>kl</td><td>▄▄▄▃▆▂▅▄█▅▃▂▃▂▃▆▃▅▃▃▄▄▅▂█▄▃▆▄▅▄▅▆▃▄▁▅▃▄▅</td></tr><tr><td>loss</td><td>▄▄▄▃▆▂▅▄█▅▃▃▃▃▃▆▃▅▄▃▄▄▅▃█▄▃▆▄▅▄▅▆▃▄▁▅▃▄▅</td></tr><tr><td>recon_loss</td><td>█▂▂▂▁▂▂▂▁▂▂▁▃▂▁▂▂▁▂▂▂▁▁▁▄▂▂▁▂▁▂▁▁▁▂▁▁▁▁▁</td></tr></table><br/></div><div class=\"wandb-col\"><h3>Run summary:</h3><br/><table class=\"wandb\"><tr><td>branch_loss</td><td>0.07606</td></tr><tr><td>kl</td><td>91.41254</td></tr><tr><td>loss</td><td>63.55243</td></tr><tr><td>recon_loss</td><td>5e-05</td></tr><tr><td>vars</td><td>A+B+C+D</td></tr></table><br/></div></div>"
            ],
            "text/plain": [
              "<IPython.core.display.HTML object>"
            ]
          },
          "metadata": {},
          "output_type": "display_data"
        },
        {
          "data": {
            "text/html": [
              "Synced <strong style=\"color:#cdcd00\">genial-sweep-61</strong>: <a href=\"https://wandb.ai/sophied/exponentials/runs/lpmb7j9m\" target=\"_blank\">https://wandb.ai/sophied/exponentials/runs/lpmb7j9m</a><br/>Synced 4 W&B file(s), 0 media file(s), 0 artifact file(s) and 0 other file(s)"
            ],
            "text/plain": [
              "<IPython.core.display.HTML object>"
            ]
          },
          "metadata": {},
          "output_type": "display_data"
        },
        {
          "data": {
            "text/html": [
              "Find logs at: <code>./wandb/run-20220529_010052-lpmb7j9m/logs</code>"
            ],
            "text/plain": [
              "<IPython.core.display.HTML object>"
            ]
          },
          "metadata": {},
          "output_type": "display_data"
        },
        {
          "name": "stderr",
          "output_type": "stream",
          "text": [
            "\u001b[34m\u001b[1mwandb\u001b[0m: Agent Starting Run: y73xwkl2 with config:\n",
            "\u001b[34m\u001b[1mwandb\u001b[0m: \tae_layer: 9\n",
            "\u001b[34m\u001b[1mwandb\u001b[0m: \tbranch_layer: 7\n",
            "\u001b[34m\u001b[1mwandb\u001b[0m: \tbranch_weight: 37.27682481720277\n",
            "\u001b[34m\u001b[1mwandb\u001b[0m: \tkl_weight: 0.6828320272680355\n",
            "\u001b[34m\u001b[1mwandb\u001b[0m: \tlearning_rate: 0.0018413383823187009\n"
          ]
        },
        {
          "data": {
            "text/html": [
              "Tracking run with wandb version 0.12.17"
            ],
            "text/plain": [
              "<IPython.core.display.HTML object>"
            ]
          },
          "metadata": {},
          "output_type": "display_data"
        },
        {
          "data": {
            "text/html": [
              "Run data is saved locally in <code>/content/wandb/run-20220529_010350-y73xwkl2</code>"
            ],
            "text/plain": [
              "<IPython.core.display.HTML object>"
            ]
          },
          "metadata": {},
          "output_type": "display_data"
        },
        {
          "data": {
            "text/html": [
              "Syncing run <strong><a href=\"https://wandb.ai/sophied/exponentials/runs/y73xwkl2\" target=\"_blank\">expert-sweep-62</a></strong> to <a href=\"https://wandb.ai/sophied/exponentials\" target=\"_blank\">Weights & Biases</a> (<a href=\"https://wandb.me/run\" target=\"_blank\">docs</a>)<br/>Sweep page:  <a href=\"https://wandb.ai/sophied/exponentials/sweeps/5e99jgaj\" target=\"_blank\">https://wandb.ai/sophied/exponentials/sweeps/5e99jgaj</a>"
            ],
            "text/plain": [
              "<IPython.core.display.HTML object>"
            ]
          },
          "metadata": {},
          "output_type": "display_data"
        },
        {
          "data": {
            "text/html": [
              "Waiting for W&B process to finish... <strong style=\"color:green\">(success).</strong>"
            ],
            "text/plain": [
              "<IPython.core.display.HTML object>"
            ]
          },
          "metadata": {},
          "output_type": "display_data"
        },
        {
          "data": {
            "application/vnd.jupyter.widget-view+json": {
              "model_id": "4865a457c34a4f62890c549de4aa83d4",
              "version_major": 2,
              "version_minor": 0
            },
            "text/plain": [
              "VBox(children=(Label(value='0.000 MB of 0.000 MB uploaded (0.000 MB deduped)\\r'), FloatProgress(value=1.0, max…"
            ]
          },
          "metadata": {},
          "output_type": "display_data"
        },
        {
          "data": {
            "text/html": [
              "<style>\n",
              "    table.wandb td:nth-child(1) { padding: 0 10px; text-align: left ; width: auto;} td:nth-child(2) {text-align: left ; width: 100%}\n",
              "    .wandb-row { display: flex; flex-direction: row; flex-wrap: wrap; justify-content: flex-start; width: 100% }\n",
              "    .wandb-col { display: flex; flex-direction: column; flex-basis: 100%; flex: 1; padding: 10px; }\n",
              "    </style>\n",
              "<div class=\"wandb-row\"><div class=\"wandb-col\"><h3>Run history:</h3><br/><table class=\"wandb\"><tr><td>branch_loss</td><td>▄▇▃▅▃▅█▇▅▄▄█▆▅▆▅▅▄▆▇▇▆▅▆▇█▄▄▅▄▅▄▂▄▆▂▁▃▂▁</td></tr><tr><td>kl</td><td>▄▄▃▃▆▂▅▄█▅▃▂▃▂▃▆▃▅▃▃▄▄▅▂█▄▃▆▄▅▃▅▆▃▄▁▅▃▄▅</td></tr><tr><td>loss</td><td>▄▄▃▃▆▂▅▄█▅▃▂▃▂▃▆▃▄▃▃▄▄▅▂█▄▃▆▄▅▃▅▆▃▄▁▅▃▄▅</td></tr><tr><td>recon_loss</td><td>█▃▂▁▁▁▁▁▁▁▂▁▂▁▁▁▁▁▁▁▂▁▁▁▂▁▁▁▁▁▁▁▁▁▁▁▁▁▁▁</td></tr></table><br/></div><div class=\"wandb-col\"><h3>Run summary:</h3><br/><table class=\"wandb\"><tr><td>branch_loss</td><td>0.07643</td></tr><tr><td>kl</td><td>91.65125</td></tr><tr><td>loss</td><td>65.43167</td></tr><tr><td>recon_loss</td><td>5e-05</td></tr><tr><td>vars</td><td>A+B+C+D</td></tr></table><br/></div></div>"
            ],
            "text/plain": [
              "<IPython.core.display.HTML object>"
            ]
          },
          "metadata": {},
          "output_type": "display_data"
        },
        {
          "data": {
            "text/html": [
              "Synced <strong style=\"color:#cdcd00\">expert-sweep-62</strong>: <a href=\"https://wandb.ai/sophied/exponentials/runs/y73xwkl2\" target=\"_blank\">https://wandb.ai/sophied/exponentials/runs/y73xwkl2</a><br/>Synced 4 W&B file(s), 0 media file(s), 0 artifact file(s) and 0 other file(s)"
            ],
            "text/plain": [
              "<IPython.core.display.HTML object>"
            ]
          },
          "metadata": {},
          "output_type": "display_data"
        },
        {
          "data": {
            "text/html": [
              "Find logs at: <code>./wandb/run-20220529_010350-y73xwkl2/logs</code>"
            ],
            "text/plain": [
              "<IPython.core.display.HTML object>"
            ]
          },
          "metadata": {},
          "output_type": "display_data"
        },
        {
          "name": "stderr",
          "output_type": "stream",
          "text": [
            "\u001b[34m\u001b[1mwandb\u001b[0m: Agent Starting Run: y2xkha47 with config:\n",
            "\u001b[34m\u001b[1mwandb\u001b[0m: \tae_layer: 8\n",
            "\u001b[34m\u001b[1mwandb\u001b[0m: \tbranch_layer: 7\n",
            "\u001b[34m\u001b[1mwandb\u001b[0m: \tbranch_weight: 85.01114231324354\n",
            "\u001b[34m\u001b[1mwandb\u001b[0m: \tkl_weight: 0.029603979794256375\n",
            "\u001b[34m\u001b[1mwandb\u001b[0m: \tlearning_rate: 0.0027796073966888895\n"
          ]
        },
        {
          "data": {
            "text/html": [
              "Tracking run with wandb version 0.12.17"
            ],
            "text/plain": [
              "<IPython.core.display.HTML object>"
            ]
          },
          "metadata": {},
          "output_type": "display_data"
        },
        {
          "data": {
            "text/html": [
              "Run data is saved locally in <code>/content/wandb/run-20220529_010648-y2xkha47</code>"
            ],
            "text/plain": [
              "<IPython.core.display.HTML object>"
            ]
          },
          "metadata": {},
          "output_type": "display_data"
        },
        {
          "data": {
            "text/html": [
              "Syncing run <strong><a href=\"https://wandb.ai/sophied/exponentials/runs/y2xkha47\" target=\"_blank\">dandy-sweep-63</a></strong> to <a href=\"https://wandb.ai/sophied/exponentials\" target=\"_blank\">Weights & Biases</a> (<a href=\"https://wandb.me/run\" target=\"_blank\">docs</a>)<br/>Sweep page:  <a href=\"https://wandb.ai/sophied/exponentials/sweeps/5e99jgaj\" target=\"_blank\">https://wandb.ai/sophied/exponentials/sweeps/5e99jgaj</a>"
            ],
            "text/plain": [
              "<IPython.core.display.HTML object>"
            ]
          },
          "metadata": {},
          "output_type": "display_data"
        },
        {
          "data": {
            "text/html": [
              "Waiting for W&B process to finish... <strong style=\"color:green\">(success).</strong>"
            ],
            "text/plain": [
              "<IPython.core.display.HTML object>"
            ]
          },
          "metadata": {},
          "output_type": "display_data"
        },
        {
          "data": {
            "application/vnd.jupyter.widget-view+json": {
              "model_id": "cbea1319eea54b37ad12f19090a91c60",
              "version_major": 2,
              "version_minor": 0
            },
            "text/plain": [
              "VBox(children=(Label(value='0.000 MB of 0.000 MB uploaded (0.000 MB deduped)\\r'), FloatProgress(value=1.0, max…"
            ]
          },
          "metadata": {},
          "output_type": "display_data"
        },
        {
          "data": {
            "text/html": [
              "<style>\n",
              "    table.wandb td:nth-child(1) { padding: 0 10px; text-align: left ; width: auto;} td:nth-child(2) {text-align: left ; width: 100%}\n",
              "    .wandb-row { display: flex; flex-direction: row; flex-wrap: wrap; justify-content: flex-start; width: 100% }\n",
              "    .wandb-col { display: flex; flex-direction: column; flex-basis: 100%; flex: 1; padding: 10px; }\n",
              "    </style>\n",
              "<div class=\"wandb-row\"><div class=\"wandb-col\"><h3>Run history:</h3><br/><table class=\"wandb\"><tr><td>branch_loss</td><td>▆█▅▆▅▆█▇▆▆▅█▇▆▇▆▆▅▆▇▇▇▆▇▇▇▅▃▅▄▃▃▂▂▃▁▁▂▂▃</td></tr><tr><td>kl</td><td>▄▄▄▃▆▂▅▅█▅▄▃▃▃▃▆▃▅▄▃▄▄▅▃█▄▃▆▄▅▃▅▆▃▃▁▅▃▄▅</td></tr><tr><td>loss</td><td>▅▇▅▆▆▅█▇▇▆▅▇▆▅▆▇▆▅▆▆▇▆▆▆█▆▄▄▅▄▃▄▄▂▃▁▂▂▃▄</td></tr><tr><td>recon_loss</td><td>█▂▁▁▁▁▁▁▁▂▂▁▂▂▁▂▁▁▁▁▂▁▁▁▃▁▁▁▁▁▁▁▁▁▁▁▁▁▁▁</td></tr></table><br/></div><div class=\"wandb-col\"><h3>Run summary:</h3><br/><table class=\"wandb\"><tr><td>branch_loss</td><td>0.07895</td></tr><tr><td>kl</td><td>91.76576</td></tr><tr><td>loss</td><td>9.42809</td></tr><tr><td>recon_loss</td><td>5e-05</td></tr><tr><td>vars</td><td>A+B+C+D</td></tr></table><br/></div></div>"
            ],
            "text/plain": [
              "<IPython.core.display.HTML object>"
            ]
          },
          "metadata": {},
          "output_type": "display_data"
        },
        {
          "data": {
            "text/html": [
              "Synced <strong style=\"color:#cdcd00\">dandy-sweep-63</strong>: <a href=\"https://wandb.ai/sophied/exponentials/runs/y2xkha47\" target=\"_blank\">https://wandb.ai/sophied/exponentials/runs/y2xkha47</a><br/>Synced 4 W&B file(s), 0 media file(s), 0 artifact file(s) and 0 other file(s)"
            ],
            "text/plain": [
              "<IPython.core.display.HTML object>"
            ]
          },
          "metadata": {},
          "output_type": "display_data"
        },
        {
          "data": {
            "text/html": [
              "Find logs at: <code>./wandb/run-20220529_010648-y2xkha47/logs</code>"
            ],
            "text/plain": [
              "<IPython.core.display.HTML object>"
            ]
          },
          "metadata": {},
          "output_type": "display_data"
        },
        {
          "name": "stderr",
          "output_type": "stream",
          "text": [
            "\u001b[34m\u001b[1mwandb\u001b[0m: Agent Starting Run: 3e5931yp with config:\n",
            "\u001b[34m\u001b[1mwandb\u001b[0m: \tae_layer: 14\n",
            "\u001b[34m\u001b[1mwandb\u001b[0m: \tbranch_layer: 4\n",
            "\u001b[34m\u001b[1mwandb\u001b[0m: \tbranch_weight: 63.750225341916575\n",
            "\u001b[34m\u001b[1mwandb\u001b[0m: \tkl_weight: 0.942291147094482\n",
            "\u001b[34m\u001b[1mwandb\u001b[0m: \tlearning_rate: 0.003771677868327958\n"
          ]
        },
        {
          "data": {
            "text/html": [
              "Tracking run with wandb version 0.12.17"
            ],
            "text/plain": [
              "<IPython.core.display.HTML object>"
            ]
          },
          "metadata": {},
          "output_type": "display_data"
        },
        {
          "data": {
            "text/html": [
              "Run data is saved locally in <code>/content/wandb/run-20220529_010947-3e5931yp</code>"
            ],
            "text/plain": [
              "<IPython.core.display.HTML object>"
            ]
          },
          "metadata": {},
          "output_type": "display_data"
        },
        {
          "data": {
            "text/html": [
              "Syncing run <strong><a href=\"https://wandb.ai/sophied/exponentials/runs/3e5931yp\" target=\"_blank\">wobbly-sweep-64</a></strong> to <a href=\"https://wandb.ai/sophied/exponentials\" target=\"_blank\">Weights & Biases</a> (<a href=\"https://wandb.me/run\" target=\"_blank\">docs</a>)<br/>Sweep page:  <a href=\"https://wandb.ai/sophied/exponentials/sweeps/5e99jgaj\" target=\"_blank\">https://wandb.ai/sophied/exponentials/sweeps/5e99jgaj</a>"
            ],
            "text/plain": [
              "<IPython.core.display.HTML object>"
            ]
          },
          "metadata": {},
          "output_type": "display_data"
        },
        {
          "data": {
            "text/html": [
              "Waiting for W&B process to finish... <strong style=\"color:green\">(success).</strong>"
            ],
            "text/plain": [
              "<IPython.core.display.HTML object>"
            ]
          },
          "metadata": {},
          "output_type": "display_data"
        },
        {
          "data": {
            "application/vnd.jupyter.widget-view+json": {
              "model_id": "be8abc5950db4ca084c5a8baef1d4f26",
              "version_major": 2,
              "version_minor": 0
            },
            "text/plain": [
              "VBox(children=(Label(value='0.000 MB of 0.000 MB uploaded (0.000 MB deduped)\\r'), FloatProgress(value=1.0, max…"
            ]
          },
          "metadata": {},
          "output_type": "display_data"
        },
        {
          "data": {
            "text/html": [
              "<style>\n",
              "    table.wandb td:nth-child(1) { padding: 0 10px; text-align: left ; width: auto;} td:nth-child(2) {text-align: left ; width: 100%}\n",
              "    .wandb-row { display: flex; flex-direction: row; flex-wrap: wrap; justify-content: flex-start; width: 100% }\n",
              "    .wandb-col { display: flex; flex-direction: column; flex-basis: 100%; flex: 1; padding: 10px; }\n",
              "    </style>\n",
              "<div class=\"wandb-row\"><div class=\"wandb-col\"><h3>Run history:</h3><br/><table class=\"wandb\"><tr><td>branch_loss</td><td>▆▆▂▄▃▄█▇▄▄▃█▆▄▅▅▅▃▆▇▇▆▄▆▇█▃▃▅▃▅▃▁▄▇▂▃▄▆▂</td></tr><tr><td>kl</td><td>▄▄▃▃▆▂▅▄█▅▃▂▃▂▃▆▃▄▃▃▄▄▅▂█▄▃▆▄▄▃▅▆▃▄▁▅▃▅▅</td></tr><tr><td>loss</td><td>▄▄▃▃▆▂▅▄█▅▃▂▃▂▃▆▃▄▃▃▄▄▅▂█▄▃▆▄▄▃▅▆▃▄▁▅▃▅▅</td></tr><tr><td>recon_loss</td><td>█▂▂▂▂▂▂▂▂▃▃▁▄▃▁▃▂▂▃▃▄▁▁▁█▃▂▂▂▁▃▁▁▂▄▂▁▁▁▂</td></tr></table><br/></div><div class=\"wandb-col\"><h3>Run summary:</h3><br/><table class=\"wandb\"><tr><td>branch_loss</td><td>0.08943</td></tr><tr><td>kl</td><td>93.52034</td></tr><tr><td>loss</td><td>93.82446</td></tr><tr><td>recon_loss</td><td>0.0001</td></tr><tr><td>vars</td><td>A+B+C+D</td></tr></table><br/></div></div>"
            ],
            "text/plain": [
              "<IPython.core.display.HTML object>"
            ]
          },
          "metadata": {},
          "output_type": "display_data"
        },
        {
          "data": {
            "text/html": [
              "Synced <strong style=\"color:#cdcd00\">wobbly-sweep-64</strong>: <a href=\"https://wandb.ai/sophied/exponentials/runs/3e5931yp\" target=\"_blank\">https://wandb.ai/sophied/exponentials/runs/3e5931yp</a><br/>Synced 4 W&B file(s), 0 media file(s), 0 artifact file(s) and 0 other file(s)"
            ],
            "text/plain": [
              "<IPython.core.display.HTML object>"
            ]
          },
          "metadata": {},
          "output_type": "display_data"
        },
        {
          "data": {
            "text/html": [
              "Find logs at: <code>./wandb/run-20220529_010947-3e5931yp/logs</code>"
            ],
            "text/plain": [
              "<IPython.core.display.HTML object>"
            ]
          },
          "metadata": {},
          "output_type": "display_data"
        },
        {
          "name": "stderr",
          "output_type": "stream",
          "text": [
            "\u001b[34m\u001b[1mwandb\u001b[0m: Agent Starting Run: z5nuy496 with config:\n",
            "\u001b[34m\u001b[1mwandb\u001b[0m: \tae_layer: 11\n",
            "\u001b[34m\u001b[1mwandb\u001b[0m: \tbranch_layer: 9\n",
            "\u001b[34m\u001b[1mwandb\u001b[0m: \tbranch_weight: 40.04608519834575\n",
            "\u001b[34m\u001b[1mwandb\u001b[0m: \tkl_weight: 0.7670970400567021\n",
            "\u001b[34m\u001b[1mwandb\u001b[0m: \tlearning_rate: 0.0038343154847711703\n"
          ]
        },
        {
          "data": {
            "text/html": [
              "Tracking run with wandb version 0.12.17"
            ],
            "text/plain": [
              "<IPython.core.display.HTML object>"
            ]
          },
          "metadata": {},
          "output_type": "display_data"
        },
        {
          "data": {
            "text/html": [
              "Run data is saved locally in <code>/content/wandb/run-20220529_011245-z5nuy496</code>"
            ],
            "text/plain": [
              "<IPython.core.display.HTML object>"
            ]
          },
          "metadata": {},
          "output_type": "display_data"
        },
        {
          "data": {
            "text/html": [
              "Syncing run <strong><a href=\"https://wandb.ai/sophied/exponentials/runs/z5nuy496\" target=\"_blank\">hearty-sweep-65</a></strong> to <a href=\"https://wandb.ai/sophied/exponentials\" target=\"_blank\">Weights & Biases</a> (<a href=\"https://wandb.me/run\" target=\"_blank\">docs</a>)<br/>Sweep page:  <a href=\"https://wandb.ai/sophied/exponentials/sweeps/5e99jgaj\" target=\"_blank\">https://wandb.ai/sophied/exponentials/sweeps/5e99jgaj</a>"
            ],
            "text/plain": [
              "<IPython.core.display.HTML object>"
            ]
          },
          "metadata": {},
          "output_type": "display_data"
        },
        {
          "data": {
            "text/html": [
              "Waiting for W&B process to finish... <strong style=\"color:green\">(success).</strong>"
            ],
            "text/plain": [
              "<IPython.core.display.HTML object>"
            ]
          },
          "metadata": {},
          "output_type": "display_data"
        },
        {
          "data": {
            "application/vnd.jupyter.widget-view+json": {
              "model_id": "ae803c257fcf494dad415e25ac058e06",
              "version_major": 2,
              "version_minor": 0
            },
            "text/plain": [
              "VBox(children=(Label(value='0.000 MB of 0.000 MB uploaded (0.000 MB deduped)\\r'), FloatProgress(value=1.0, max…"
            ]
          },
          "metadata": {},
          "output_type": "display_data"
        },
        {
          "data": {
            "text/html": [
              "<style>\n",
              "    table.wandb td:nth-child(1) { padding: 0 10px; text-align: left ; width: auto;} td:nth-child(2) {text-align: left ; width: 100%}\n",
              "    .wandb-row { display: flex; flex-direction: row; flex-wrap: wrap; justify-content: flex-start; width: 100% }\n",
              "    .wandb-col { display: flex; flex-direction: column; flex-basis: 100%; flex: 1; padding: 10px; }\n",
              "    </style>\n",
              "<div class=\"wandb-row\"><div class=\"wandb-col\"><h3>Run history:</h3><br/><table class=\"wandb\"><tr><td>branch_loss</td><td>▅▇▅▆▅▆█▇▆▆▅█▇▆▇▆▆▅▇▇▇▇▆▇▇█▅▅▅▅▄▄▂▂▄▂▁▃▂▄</td></tr><tr><td>kl</td><td>▄▄▄▃▆▂▅▅█▅▄▃▃▃▃▆▃▅▄▃▄▄▅▃█▄▃▆▄▅▃▅▆▃▃▁▅▃▄▅</td></tr><tr><td>loss</td><td>▄▄▄▃▆▂▅▅█▅▄▃▄▃▃▆▃▅▄▄▄▄▅▃█▄▃▆▄▅▃▄▆▃▃▁▅▃▄▅</td></tr><tr><td>recon_loss</td><td>█▂▂▂▂▂▂▂▁▂▃▁▃▂▁▂▂▂▂▂▃▁▁▂▆▂▂▂▂▁▁▁▁▁▁▁▁▁▁▁</td></tr></table><br/></div><div class=\"wandb-col\"><h3>Run summary:</h3><br/><table class=\"wandb\"><tr><td>branch_loss</td><td>0.08539</td></tr><tr><td>kl</td><td>91.46428</td></tr><tr><td>loss</td><td>73.58173</td></tr><tr><td>recon_loss</td><td>6e-05</td></tr><tr><td>vars</td><td>A+B+C+D</td></tr></table><br/></div></div>"
            ],
            "text/plain": [
              "<IPython.core.display.HTML object>"
            ]
          },
          "metadata": {},
          "output_type": "display_data"
        },
        {
          "data": {
            "text/html": [
              "Synced <strong style=\"color:#cdcd00\">hearty-sweep-65</strong>: <a href=\"https://wandb.ai/sophied/exponentials/runs/z5nuy496\" target=\"_blank\">https://wandb.ai/sophied/exponentials/runs/z5nuy496</a><br/>Synced 4 W&B file(s), 0 media file(s), 0 artifact file(s) and 0 other file(s)"
            ],
            "text/plain": [
              "<IPython.core.display.HTML object>"
            ]
          },
          "metadata": {},
          "output_type": "display_data"
        },
        {
          "data": {
            "text/html": [
              "Find logs at: <code>./wandb/run-20220529_011245-z5nuy496/logs</code>"
            ],
            "text/plain": [
              "<IPython.core.display.HTML object>"
            ]
          },
          "metadata": {},
          "output_type": "display_data"
        },
        {
          "name": "stderr",
          "output_type": "stream",
          "text": [
            "\u001b[34m\u001b[1mwandb\u001b[0m: Sweep Agent: Waiting for job.\n",
            "\u001b[34m\u001b[1mwandb\u001b[0m: Job received.\n",
            "\u001b[34m\u001b[1mwandb\u001b[0m: Agent Starting Run: g372bdyl with config:\n",
            "\u001b[34m\u001b[1mwandb\u001b[0m: \tae_layer: 13\n",
            "\u001b[34m\u001b[1mwandb\u001b[0m: \tbranch_layer: 7\n",
            "\u001b[34m\u001b[1mwandb\u001b[0m: \tbranch_weight: 1.8784352807848377\n",
            "\u001b[34m\u001b[1mwandb\u001b[0m: \tkl_weight: 0.007447608827332322\n",
            "\u001b[34m\u001b[1mwandb\u001b[0m: \tlearning_rate: 0.0027666643676176658\n"
          ]
        },
        {
          "data": {
            "text/html": [
              "Tracking run with wandb version 0.12.17"
            ],
            "text/plain": [
              "<IPython.core.display.HTML object>"
            ]
          },
          "metadata": {},
          "output_type": "display_data"
        },
        {
          "data": {
            "text/html": [
              "Run data is saved locally in <code>/content/wandb/run-20220529_011549-g372bdyl</code>"
            ],
            "text/plain": [
              "<IPython.core.display.HTML object>"
            ]
          },
          "metadata": {},
          "output_type": "display_data"
        },
        {
          "data": {
            "text/html": [
              "Syncing run <strong><a href=\"https://wandb.ai/sophied/exponentials/runs/g372bdyl\" target=\"_blank\">vibrant-sweep-66</a></strong> to <a href=\"https://wandb.ai/sophied/exponentials\" target=\"_blank\">Weights & Biases</a> (<a href=\"https://wandb.me/run\" target=\"_blank\">docs</a>)<br/>Sweep page:  <a href=\"https://wandb.ai/sophied/exponentials/sweeps/5e99jgaj\" target=\"_blank\">https://wandb.ai/sophied/exponentials/sweeps/5e99jgaj</a>"
            ],
            "text/plain": [
              "<IPython.core.display.HTML object>"
            ]
          },
          "metadata": {},
          "output_type": "display_data"
        },
        {
          "data": {
            "text/html": [
              "Waiting for W&B process to finish... <strong style=\"color:green\">(success).</strong>"
            ],
            "text/plain": [
              "<IPython.core.display.HTML object>"
            ]
          },
          "metadata": {},
          "output_type": "display_data"
        },
        {
          "data": {
            "application/vnd.jupyter.widget-view+json": {
              "model_id": "2fd45689864c4df0a55c5db6592c6a04",
              "version_major": 2,
              "version_minor": 0
            },
            "text/plain": [
              "VBox(children=(Label(value='0.000 MB of 0.000 MB uploaded (0.000 MB deduped)\\r'), FloatProgress(value=1.0, max…"
            ]
          },
          "metadata": {},
          "output_type": "display_data"
        },
        {
          "data": {
            "text/html": [
              "<style>\n",
              "    table.wandb td:nth-child(1) { padding: 0 10px; text-align: left ; width: auto;} td:nth-child(2) {text-align: left ; width: 100%}\n",
              "    .wandb-row { display: flex; flex-direction: row; flex-wrap: wrap; justify-content: flex-start; width: 100% }\n",
              "    .wandb-col { display: flex; flex-direction: column; flex-basis: 100%; flex: 1; padding: 10px; }\n",
              "    </style>\n",
              "<div class=\"wandb-row\"><div class=\"wandb-col\"><h3>Run history:</h3><br/><table class=\"wandb\"><tr><td>branch_loss</td><td>▅▇▃▅▃▅█▇▅▄▄█▆▅▆▅▅▄▆▇▇▆▅▇▇█▄▄▅▄▅▄▂▄▆▂▃▂▄▁</td></tr><tr><td>kl</td><td>▄▄▃▃▆▂▅▄█▅▃▂▃▂▃▆▃▄▃▃▄▄▅▂█▄▃▆▄▄▃▅▆▃▄▁▅▃▅▅</td></tr><tr><td>loss</td><td>▄▄▃▃▆▂▆▅▇▅▃▃▃▃▃▆▃▄▄▃▄▄▅▃█▄▃▅▄▄▄▄▆▃▄▁▅▂▄▄</td></tr><tr><td>recon_loss</td><td>█▂▂▂▁▂▂▂▁▂▂▁▃▂▁▂▂▁▂▂▂▁▁▁▄▂▂▁▂▁▂▁▁▁▂▁▁▁▁▁</td></tr></table><br/></div><div class=\"wandb-col\"><h3>Run summary:</h3><br/><table class=\"wandb\"><tr><td>branch_loss</td><td>0.07684</td></tr><tr><td>kl</td><td>91.83673</td></tr><tr><td>loss</td><td>0.82835</td></tr><tr><td>recon_loss</td><td>5e-05</td></tr><tr><td>vars</td><td>A+B+C+D</td></tr></table><br/></div></div>"
            ],
            "text/plain": [
              "<IPython.core.display.HTML object>"
            ]
          },
          "metadata": {},
          "output_type": "display_data"
        },
        {
          "data": {
            "text/html": [
              "Synced <strong style=\"color:#cdcd00\">vibrant-sweep-66</strong>: <a href=\"https://wandb.ai/sophied/exponentials/runs/g372bdyl\" target=\"_blank\">https://wandb.ai/sophied/exponentials/runs/g372bdyl</a><br/>Synced 4 W&B file(s), 0 media file(s), 0 artifact file(s) and 0 other file(s)"
            ],
            "text/plain": [
              "<IPython.core.display.HTML object>"
            ]
          },
          "metadata": {},
          "output_type": "display_data"
        },
        {
          "data": {
            "text/html": [
              "Find logs at: <code>./wandb/run-20220529_011549-g372bdyl/logs</code>"
            ],
            "text/plain": [
              "<IPython.core.display.HTML object>"
            ]
          },
          "metadata": {},
          "output_type": "display_data"
        },
        {
          "name": "stderr",
          "output_type": "stream",
          "text": [
            "\u001b[34m\u001b[1mwandb\u001b[0m: Agent Starting Run: k3nbfoue with config:\n",
            "\u001b[34m\u001b[1mwandb\u001b[0m: \tae_layer: 15\n",
            "\u001b[34m\u001b[1mwandb\u001b[0m: \tbranch_layer: 4\n",
            "\u001b[34m\u001b[1mwandb\u001b[0m: \tbranch_weight: 33.98971324530625\n",
            "\u001b[34m\u001b[1mwandb\u001b[0m: \tkl_weight: 0.08451336399522356\n",
            "\u001b[34m\u001b[1mwandb\u001b[0m: \tlearning_rate: 0.003926758491222688\n"
          ]
        },
        {
          "data": {
            "text/html": [
              "Tracking run with wandb version 0.12.17"
            ],
            "text/plain": [
              "<IPython.core.display.HTML object>"
            ]
          },
          "metadata": {},
          "output_type": "display_data"
        },
        {
          "data": {
            "text/html": [
              "Run data is saved locally in <code>/content/wandb/run-20220529_011848-k3nbfoue</code>"
            ],
            "text/plain": [
              "<IPython.core.display.HTML object>"
            ]
          },
          "metadata": {},
          "output_type": "display_data"
        },
        {
          "data": {
            "text/html": [
              "Syncing run <strong><a href=\"https://wandb.ai/sophied/exponentials/runs/k3nbfoue\" target=\"_blank\">eager-sweep-67</a></strong> to <a href=\"https://wandb.ai/sophied/exponentials\" target=\"_blank\">Weights & Biases</a> (<a href=\"https://wandb.me/run\" target=\"_blank\">docs</a>)<br/>Sweep page:  <a href=\"https://wandb.ai/sophied/exponentials/sweeps/5e99jgaj\" target=\"_blank\">https://wandb.ai/sophied/exponentials/sweeps/5e99jgaj</a>"
            ],
            "text/plain": [
              "<IPython.core.display.HTML object>"
            ]
          },
          "metadata": {},
          "output_type": "display_data"
        },
        {
          "data": {
            "text/html": [
              "Waiting for W&B process to finish... <strong style=\"color:green\">(success).</strong>"
            ],
            "text/plain": [
              "<IPython.core.display.HTML object>"
            ]
          },
          "metadata": {},
          "output_type": "display_data"
        },
        {
          "data": {
            "application/vnd.jupyter.widget-view+json": {
              "model_id": "99dd46b15cb147bba5d2d228aa521791",
              "version_major": 2,
              "version_minor": 0
            },
            "text/plain": [
              "VBox(children=(Label(value='0.000 MB of 0.000 MB uploaded (0.000 MB deduped)\\r'), FloatProgress(value=1.0, max…"
            ]
          },
          "metadata": {},
          "output_type": "display_data"
        },
        {
          "data": {
            "text/html": [
              "<style>\n",
              "    table.wandb td:nth-child(1) { padding: 0 10px; text-align: left ; width: auto;} td:nth-child(2) {text-align: left ; width: 100%}\n",
              "    .wandb-row { display: flex; flex-direction: row; flex-wrap: wrap; justify-content: flex-start; width: 100% }\n",
              "    .wandb-col { display: flex; flex-direction: column; flex-basis: 100%; flex: 1; padding: 10px; }\n",
              "    </style>\n",
              "<div class=\"wandb-row\"><div class=\"wandb-col\"><h3>Run history:</h3><br/><table class=\"wandb\"><tr><td>branch_loss</td><td>▃▇▃▅▃▅█▇▄▄▄█▆▄▆▅▅▄▅▇▇▆▄▆▇█▄▃▅▄▅▄▂▄▇▂▃▄▅▁</td></tr><tr><td>kl</td><td>▄▄▃▃▆▂▅▄█▅▃▂▃▂▃▆▃▄▃▃▄▄▅▂█▄▃▆▄▄▃▅▆▃▄▁▅▃▅▅</td></tr><tr><td>loss</td><td>▄▄▃▃▅▂▆▅▇▅▃▃▄▃▃▆▃▄▄▄▄▄▅▃█▅▃▅▄▄▄▄▅▃▄▁▅▃▅▄</td></tr><tr><td>recon_loss</td><td>▇▂▂▂▂▂▂▂▂▃▃▁▄▃▁▃▂▂▃▃▄▁▁▁█▂▂▁▂▁▃▁▁▂▄▂▁▁▁▁</td></tr></table><br/></div><div class=\"wandb-col\"><h3>Run summary:</h3><br/><table class=\"wandb\"><tr><td>branch_loss</td><td>0.08592</td></tr><tr><td>kl</td><td>93.23302</td></tr><tr><td>loss</td><td>10.80001</td></tr><tr><td>recon_loss</td><td>9e-05</td></tr><tr><td>vars</td><td>A+B+C+D</td></tr></table><br/></div></div>"
            ],
            "text/plain": [
              "<IPython.core.display.HTML object>"
            ]
          },
          "metadata": {},
          "output_type": "display_data"
        },
        {
          "data": {
            "text/html": [
              "Synced <strong style=\"color:#cdcd00\">eager-sweep-67</strong>: <a href=\"https://wandb.ai/sophied/exponentials/runs/k3nbfoue\" target=\"_blank\">https://wandb.ai/sophied/exponentials/runs/k3nbfoue</a><br/>Synced 4 W&B file(s), 0 media file(s), 0 artifact file(s) and 0 other file(s)"
            ],
            "text/plain": [
              "<IPython.core.display.HTML object>"
            ]
          },
          "metadata": {},
          "output_type": "display_data"
        },
        {
          "data": {
            "text/html": [
              "Find logs at: <code>./wandb/run-20220529_011848-k3nbfoue/logs</code>"
            ],
            "text/plain": [
              "<IPython.core.display.HTML object>"
            ]
          },
          "metadata": {},
          "output_type": "display_data"
        },
        {
          "name": "stderr",
          "output_type": "stream",
          "text": [
            "\u001b[34m\u001b[1mwandb\u001b[0m: Agent Starting Run: rb2auux3 with config:\n",
            "\u001b[34m\u001b[1mwandb\u001b[0m: \tae_layer: 16\n",
            "\u001b[34m\u001b[1mwandb\u001b[0m: \tbranch_layer: 5\n",
            "\u001b[34m\u001b[1mwandb\u001b[0m: \tbranch_weight: 85.52202256596154\n",
            "\u001b[34m\u001b[1mwandb\u001b[0m: \tkl_weight: 0.1997629123613771\n",
            "\u001b[34m\u001b[1mwandb\u001b[0m: \tlearning_rate: 0.0010654798625948506\n"
          ]
        },
        {
          "data": {
            "text/html": [
              "Tracking run with wandb version 0.12.17"
            ],
            "text/plain": [
              "<IPython.core.display.HTML object>"
            ]
          },
          "metadata": {},
          "output_type": "display_data"
        },
        {
          "data": {
            "text/html": [
              "Run data is saved locally in <code>/content/wandb/run-20220529_012147-rb2auux3</code>"
            ],
            "text/plain": [
              "<IPython.core.display.HTML object>"
            ]
          },
          "metadata": {},
          "output_type": "display_data"
        },
        {
          "data": {
            "text/html": [
              "Syncing run <strong><a href=\"https://wandb.ai/sophied/exponentials/runs/rb2auux3\" target=\"_blank\">dauntless-sweep-68</a></strong> to <a href=\"https://wandb.ai/sophied/exponentials\" target=\"_blank\">Weights & Biases</a> (<a href=\"https://wandb.me/run\" target=\"_blank\">docs</a>)<br/>Sweep page:  <a href=\"https://wandb.ai/sophied/exponentials/sweeps/5e99jgaj\" target=\"_blank\">https://wandb.ai/sophied/exponentials/sweeps/5e99jgaj</a>"
            ],
            "text/plain": [
              "<IPython.core.display.HTML object>"
            ]
          },
          "metadata": {},
          "output_type": "display_data"
        },
        {
          "data": {
            "text/html": [
              "Waiting for W&B process to finish... <strong style=\"color:green\">(success).</strong>"
            ],
            "text/plain": [
              "<IPython.core.display.HTML object>"
            ]
          },
          "metadata": {},
          "output_type": "display_data"
        },
        {
          "data": {
            "application/vnd.jupyter.widget-view+json": {
              "model_id": "310fbcaf7f784de79f2f678490cb101a",
              "version_major": 2,
              "version_minor": 0
            },
            "text/plain": [
              "VBox(children=(Label(value='0.000 MB of 0.000 MB uploaded (0.000 MB deduped)\\r'), FloatProgress(value=1.0, max…"
            ]
          },
          "metadata": {},
          "output_type": "display_data"
        },
        {
          "data": {
            "text/html": [
              "<style>\n",
              "    table.wandb td:nth-child(1) { padding: 0 10px; text-align: left ; width: auto;} td:nth-child(2) {text-align: left ; width: 100%}\n",
              "    .wandb-row { display: flex; flex-direction: row; flex-wrap: wrap; justify-content: flex-start; width: 100% }\n",
              "    .wandb-col { display: flex; flex-direction: column; flex-basis: 100%; flex: 1; padding: 10px; }\n",
              "    </style>\n",
              "<div class=\"wandb-row\"><div class=\"wandb-col\"><h3>Run history:</h3><br/><table class=\"wandb\"><tr><td>branch_loss</td><td>▆▆▂▄▃▄█▇▄▄▃█▅▄▅▅▅▃▅▆▇▅▄▆▇█▃▃▅▃▅▃▁▄▇▁▃▄▅▂</td></tr><tr><td>kl</td><td>▄▄▃▃▆▂▅▄█▅▃▂▃▂▃▆▃▄▃▃▄▄▅▂█▄▃▆▄▄▃▅▆▃▄▁▅▃▅▅</td></tr><tr><td>loss</td><td>▄▄▃▃▅▂▆▅▇▅▃▃▄▃▃▆▃▄▄▄▄▄▅▃█▅▃▅▄▄▄▄▅▃▄▁▅▃▅▅</td></tr><tr><td>recon_loss</td><td>█▂▁▁▁▁▁▁▁▁▁▁▂▁▁▁▁▁▁▁▂▁▁▁▂▁▁▁▁▁▁▁▁▁▁▁▁▁▁▁</td></tr></table><br/></div><div class=\"wandb-col\"><h3>Run summary:</h3><br/><table class=\"wandb\"><tr><td>branch_loss</td><td>0.08925</td></tr><tr><td>kl</td><td>93.50427</td></tr><tr><td>loss</td><td>26.31157</td></tr><tr><td>recon_loss</td><td>0.0001</td></tr><tr><td>vars</td><td>A+B+C+D</td></tr></table><br/></div></div>"
            ],
            "text/plain": [
              "<IPython.core.display.HTML object>"
            ]
          },
          "metadata": {},
          "output_type": "display_data"
        },
        {
          "data": {
            "text/html": [
              "Synced <strong style=\"color:#cdcd00\">dauntless-sweep-68</strong>: <a href=\"https://wandb.ai/sophied/exponentials/runs/rb2auux3\" target=\"_blank\">https://wandb.ai/sophied/exponentials/runs/rb2auux3</a><br/>Synced 4 W&B file(s), 0 media file(s), 0 artifact file(s) and 0 other file(s)"
            ],
            "text/plain": [
              "<IPython.core.display.HTML object>"
            ]
          },
          "metadata": {},
          "output_type": "display_data"
        },
        {
          "data": {
            "text/html": [
              "Find logs at: <code>./wandb/run-20220529_012147-rb2auux3/logs</code>"
            ],
            "text/plain": [
              "<IPython.core.display.HTML object>"
            ]
          },
          "metadata": {},
          "output_type": "display_data"
        },
        {
          "name": "stderr",
          "output_type": "stream",
          "text": [
            "\u001b[34m\u001b[1mwandb\u001b[0m: Agent Starting Run: vjyd8rhi with config:\n",
            "\u001b[34m\u001b[1mwandb\u001b[0m: \tae_layer: 7\n",
            "\u001b[34m\u001b[1mwandb\u001b[0m: \tbranch_layer: 10\n",
            "\u001b[34m\u001b[1mwandb\u001b[0m: \tbranch_weight: 31.506316396515317\n",
            "\u001b[34m\u001b[1mwandb\u001b[0m: \tkl_weight: 0.300112818813232\n",
            "\u001b[34m\u001b[1mwandb\u001b[0m: \tlearning_rate: 0.0022199193483089185\n"
          ]
        },
        {
          "data": {
            "text/html": [
              "Tracking run with wandb version 0.12.17"
            ],
            "text/plain": [
              "<IPython.core.display.HTML object>"
            ]
          },
          "metadata": {},
          "output_type": "display_data"
        },
        {
          "data": {
            "text/html": [
              "Run data is saved locally in <code>/content/wandb/run-20220529_012446-vjyd8rhi</code>"
            ],
            "text/plain": [
              "<IPython.core.display.HTML object>"
            ]
          },
          "metadata": {},
          "output_type": "display_data"
        },
        {
          "data": {
            "text/html": [
              "Syncing run <strong><a href=\"https://wandb.ai/sophied/exponentials/runs/vjyd8rhi\" target=\"_blank\">hearty-sweep-69</a></strong> to <a href=\"https://wandb.ai/sophied/exponentials\" target=\"_blank\">Weights & Biases</a> (<a href=\"https://wandb.me/run\" target=\"_blank\">docs</a>)<br/>Sweep page:  <a href=\"https://wandb.ai/sophied/exponentials/sweeps/5e99jgaj\" target=\"_blank\">https://wandb.ai/sophied/exponentials/sweeps/5e99jgaj</a>"
            ],
            "text/plain": [
              "<IPython.core.display.HTML object>"
            ]
          },
          "metadata": {},
          "output_type": "display_data"
        },
        {
          "data": {
            "text/html": [
              "Waiting for W&B process to finish... <strong style=\"color:green\">(success).</strong>"
            ],
            "text/plain": [
              "<IPython.core.display.HTML object>"
            ]
          },
          "metadata": {},
          "output_type": "display_data"
        },
        {
          "data": {
            "application/vnd.jupyter.widget-view+json": {
              "model_id": "81a24d0370314977beb8d4bcd5f43dda",
              "version_major": 2,
              "version_minor": 0
            },
            "text/plain": [
              "VBox(children=(Label(value='0.000 MB of 0.000 MB uploaded (0.000 MB deduped)\\r'), FloatProgress(value=1.0, max…"
            ]
          },
          "metadata": {},
          "output_type": "display_data"
        },
        {
          "data": {
            "text/html": [
              "<style>\n",
              "    table.wandb td:nth-child(1) { padding: 0 10px; text-align: left ; width: auto;} td:nth-child(2) {text-align: left ; width: 100%}\n",
              "    .wandb-row { display: flex; flex-direction: row; flex-wrap: wrap; justify-content: flex-start; width: 100% }\n",
              "    .wandb-col { display: flex; flex-direction: column; flex-basis: 100%; flex: 1; padding: 10px; }\n",
              "    </style>\n",
              "<div class=\"wandb-row\"><div class=\"wandb-col\"><h3>Run history:</h3><br/><table class=\"wandb\"><tr><td>branch_loss</td><td>▄▆▃▅▂▄█▇▄▄▃█▆▄▅▅▅▃▅▇▇▅▄▆▇█▃▃▅▃▅▃▁▄▇▂▃▄▆▂</td></tr><tr><td>kl</td><td>▄▄▃▃▆▂▅▄█▅▃▂▃▂▃▆▃▄▃▃▄▄▅▂█▄▃▆▄▄▃▅▆▃▄▁▅▃▅▅</td></tr><tr><td>loss</td><td>▄▄▃▃▆▂▅▄█▅▃▃▃▂▃▆▃▄▃▃▄▄▅▂█▄▃▆▄▄▃▅▆▃▄▁▅▃▅▅</td></tr><tr><td>recon_loss</td><td>█▃▁▁▁▁▁▁▁▁▁▁▂▁▁▁▁▁▁▁▂▁▁▁▂▁▁▁▁▁▁▁▁▁▂▁▁▁▁▁</td></tr></table><br/></div><div class=\"wandb-col\"><h3>Run summary:</h3><br/><table class=\"wandb\"><tr><td>branch_loss</td><td>0.08942</td></tr><tr><td>kl</td><td>93.51017</td></tr><tr><td>loss</td><td>30.88087</td></tr><tr><td>recon_loss</td><td>0.00011</td></tr><tr><td>vars</td><td>A+B+C+D</td></tr></table><br/></div></div>"
            ],
            "text/plain": [
              "<IPython.core.display.HTML object>"
            ]
          },
          "metadata": {},
          "output_type": "display_data"
        },
        {
          "data": {
            "text/html": [
              "Synced <strong style=\"color:#cdcd00\">hearty-sweep-69</strong>: <a href=\"https://wandb.ai/sophied/exponentials/runs/vjyd8rhi\" target=\"_blank\">https://wandb.ai/sophied/exponentials/runs/vjyd8rhi</a><br/>Synced 4 W&B file(s), 0 media file(s), 0 artifact file(s) and 0 other file(s)"
            ],
            "text/plain": [
              "<IPython.core.display.HTML object>"
            ]
          },
          "metadata": {},
          "output_type": "display_data"
        },
        {
          "data": {
            "text/html": [
              "Find logs at: <code>./wandb/run-20220529_012446-vjyd8rhi/logs</code>"
            ],
            "text/plain": [
              "<IPython.core.display.HTML object>"
            ]
          },
          "metadata": {},
          "output_type": "display_data"
        },
        {
          "name": "stderr",
          "output_type": "stream",
          "text": [
            "\u001b[34m\u001b[1mwandb\u001b[0m: Agent Starting Run: 5jm3hnna with config:\n",
            "\u001b[34m\u001b[1mwandb\u001b[0m: \tae_layer: 9\n",
            "\u001b[34m\u001b[1mwandb\u001b[0m: \tbranch_layer: 7\n",
            "\u001b[34m\u001b[1mwandb\u001b[0m: \tbranch_weight: 28.432775653818673\n",
            "\u001b[34m\u001b[1mwandb\u001b[0m: \tkl_weight: 0.7587151514813134\n",
            "\u001b[34m\u001b[1mwandb\u001b[0m: \tlearning_rate: 0.0008350566653953125\n"
          ]
        },
        {
          "data": {
            "text/html": [
              "Tracking run with wandb version 0.12.17"
            ],
            "text/plain": [
              "<IPython.core.display.HTML object>"
            ]
          },
          "metadata": {},
          "output_type": "display_data"
        },
        {
          "data": {
            "text/html": [
              "Run data is saved locally in <code>/content/wandb/run-20220529_012744-5jm3hnna</code>"
            ],
            "text/plain": [
              "<IPython.core.display.HTML object>"
            ]
          },
          "metadata": {},
          "output_type": "display_data"
        },
        {
          "data": {
            "text/html": [
              "Syncing run <strong><a href=\"https://wandb.ai/sophied/exponentials/runs/5jm3hnna\" target=\"_blank\">snowy-sweep-70</a></strong> to <a href=\"https://wandb.ai/sophied/exponentials\" target=\"_blank\">Weights & Biases</a> (<a href=\"https://wandb.me/run\" target=\"_blank\">docs</a>)<br/>Sweep page:  <a href=\"https://wandb.ai/sophied/exponentials/sweeps/5e99jgaj\" target=\"_blank\">https://wandb.ai/sophied/exponentials/sweeps/5e99jgaj</a>"
            ],
            "text/plain": [
              "<IPython.core.display.HTML object>"
            ]
          },
          "metadata": {},
          "output_type": "display_data"
        }
      ],
      "source": [
        "wandb.agent(sweep_id, train, count=1000)"
      ]
    }
  ],
  "metadata": {
    "colab": {
      "collapsed_sections": [],
      "name": "sweeps_exponentials.ipynb",
      "provenance": []
    },
    "kernelspec": {
      "display_name": "Python 3",
      "name": "python3"
    },
    "language_info": {
      "name": "python"
    },
    "widgets": {
      "application/vnd.jupyter.widget-state+json": {
        "004da51d715041848df6bd161334ffcc": {
          "model_module": "@jupyter-widgets/base",
          "model_module_version": "1.2.0",
          "model_name": "LayoutModel",
          "state": {
            "_model_module": "@jupyter-widgets/base",
            "_model_module_version": "1.2.0",
            "_model_name": "LayoutModel",
            "_view_count": null,
            "_view_module": "@jupyter-widgets/base",
            "_view_module_version": "1.2.0",
            "_view_name": "LayoutView",
            "align_content": null,
            "align_items": null,
            "align_self": null,
            "border": null,
            "bottom": null,
            "display": null,
            "flex": null,
            "flex_flow": null,
            "grid_area": null,
            "grid_auto_columns": null,
            "grid_auto_flow": null,
            "grid_auto_rows": null,
            "grid_column": null,
            "grid_gap": null,
            "grid_row": null,
            "grid_template_areas": null,
            "grid_template_columns": null,
            "grid_template_rows": null,
            "height": null,
            "justify_content": null,
            "justify_items": null,
            "left": null,
            "margin": null,
            "max_height": null,
            "max_width": null,
            "min_height": null,
            "min_width": null,
            "object_fit": null,
            "object_position": null,
            "order": null,
            "overflow": null,
            "overflow_x": null,
            "overflow_y": null,
            "padding": null,
            "right": null,
            "top": null,
            "visibility": null,
            "width": null
          }
        },
        "00a3f652fff74b2399809c1794b3a950": {
          "model_module": "@jupyter-widgets/controls",
          "model_module_version": "1.5.0",
          "model_name": "LabelModel",
          "state": {
            "_dom_classes": [],
            "_model_module": "@jupyter-widgets/controls",
            "_model_module_version": "1.5.0",
            "_model_name": "LabelModel",
            "_view_count": null,
            "_view_module": "@jupyter-widgets/controls",
            "_view_module_version": "1.5.0",
            "_view_name": "LabelView",
            "description": "",
            "description_tooltip": null,
            "layout": "IPY_MODEL_8d5a6e628a3b4b3b82ffbf1d55d9c7c4",
            "placeholder": "​",
            "style": "IPY_MODEL_47f0f504647f4ebdab261028f1a2bf5e",
            "value": "0.008 MB of 0.008 MB uploaded (0.000 MB deduped)\r"
          }
        },
        "00c62bfffb5e4532a30eced70c5c07f9": {
          "model_module": "@jupyter-widgets/base",
          "model_module_version": "1.2.0",
          "model_name": "LayoutModel",
          "state": {
            "_model_module": "@jupyter-widgets/base",
            "_model_module_version": "1.2.0",
            "_model_name": "LayoutModel",
            "_view_count": null,
            "_view_module": "@jupyter-widgets/base",
            "_view_module_version": "1.2.0",
            "_view_name": "LayoutView",
            "align_content": null,
            "align_items": null,
            "align_self": null,
            "border": null,
            "bottom": null,
            "display": null,
            "flex": null,
            "flex_flow": null,
            "grid_area": null,
            "grid_auto_columns": null,
            "grid_auto_flow": null,
            "grid_auto_rows": null,
            "grid_column": null,
            "grid_gap": null,
            "grid_row": null,
            "grid_template_areas": null,
            "grid_template_columns": null,
            "grid_template_rows": null,
            "height": null,
            "justify_content": null,
            "justify_items": null,
            "left": null,
            "margin": null,
            "max_height": null,
            "max_width": null,
            "min_height": null,
            "min_width": null,
            "object_fit": null,
            "object_position": null,
            "order": null,
            "overflow": null,
            "overflow_x": null,
            "overflow_y": null,
            "padding": null,
            "right": null,
            "top": null,
            "visibility": null,
            "width": null
          }
        },
        "04f004d28c684b669844abb548c08c22": {
          "model_module": "@jupyter-widgets/controls",
          "model_module_version": "1.5.0",
          "model_name": "DescriptionStyleModel",
          "state": {
            "_model_module": "@jupyter-widgets/controls",
            "_model_module_version": "1.5.0",
            "_model_name": "DescriptionStyleModel",
            "_view_count": null,
            "_view_module": "@jupyter-widgets/base",
            "_view_module_version": "1.2.0",
            "_view_name": "StyleView",
            "description_width": ""
          }
        },
        "063e57135d984dd08fb83315e4ef6a6e": {
          "model_module": "@jupyter-widgets/controls",
          "model_module_version": "1.5.0",
          "model_name": "ProgressStyleModel",
          "state": {
            "_model_module": "@jupyter-widgets/controls",
            "_model_module_version": "1.5.0",
            "_model_name": "ProgressStyleModel",
            "_view_count": null,
            "_view_module": "@jupyter-widgets/base",
            "_view_module_version": "1.2.0",
            "_view_name": "StyleView",
            "bar_color": null,
            "description_width": ""
          }
        },
        "0aab280feae246178b404973f3533c28": {
          "model_module": "@jupyter-widgets/base",
          "model_module_version": "1.2.0",
          "model_name": "LayoutModel",
          "state": {
            "_model_module": "@jupyter-widgets/base",
            "_model_module_version": "1.2.0",
            "_model_name": "LayoutModel",
            "_view_count": null,
            "_view_module": "@jupyter-widgets/base",
            "_view_module_version": "1.2.0",
            "_view_name": "LayoutView",
            "align_content": null,
            "align_items": null,
            "align_self": null,
            "border": null,
            "bottom": null,
            "display": null,
            "flex": null,
            "flex_flow": null,
            "grid_area": null,
            "grid_auto_columns": null,
            "grid_auto_flow": null,
            "grid_auto_rows": null,
            "grid_column": null,
            "grid_gap": null,
            "grid_row": null,
            "grid_template_areas": null,
            "grid_template_columns": null,
            "grid_template_rows": null,
            "height": null,
            "justify_content": null,
            "justify_items": null,
            "left": null,
            "margin": null,
            "max_height": null,
            "max_width": null,
            "min_height": null,
            "min_width": null,
            "object_fit": null,
            "object_position": null,
            "order": null,
            "overflow": null,
            "overflow_x": null,
            "overflow_y": null,
            "padding": null,
            "right": null,
            "top": null,
            "visibility": null,
            "width": null
          }
        },
        "0abeca5156734c7283fb061749d442fc": {
          "model_module": "@jupyter-widgets/controls",
          "model_module_version": "1.5.0",
          "model_name": "VBoxModel",
          "state": {
            "_dom_classes": [],
            "_model_module": "@jupyter-widgets/controls",
            "_model_module_version": "1.5.0",
            "_model_name": "VBoxModel",
            "_view_count": null,
            "_view_module": "@jupyter-widgets/controls",
            "_view_module_version": "1.5.0",
            "_view_name": "VBoxView",
            "box_style": "",
            "children": [
              "IPY_MODEL_94e1872c085b4a50a8941f360d0383cd",
              "IPY_MODEL_58b47451faa54f3dbdfb07dcb6f43f71"
            ],
            "layout": "IPY_MODEL_eee23941d9674b05b737b8305aeb4b13"
          }
        },
        "0e33763c82c946a592058161b2146e76": {
          "model_module": "@jupyter-widgets/controls",
          "model_module_version": "1.5.0",
          "model_name": "VBoxModel",
          "state": {
            "_dom_classes": [],
            "_model_module": "@jupyter-widgets/controls",
            "_model_module_version": "1.5.0",
            "_model_name": "VBoxModel",
            "_view_count": null,
            "_view_module": "@jupyter-widgets/controls",
            "_view_module_version": "1.5.0",
            "_view_name": "VBoxView",
            "box_style": "",
            "children": [
              "IPY_MODEL_00a3f652fff74b2399809c1794b3a950",
              "IPY_MODEL_51246c1b6b4c4c8cbb160abc599f9eb7"
            ],
            "layout": "IPY_MODEL_f2bdc7112b234a1cb49b9768c7753855"
          }
        },
        "0e7d15bee15d415b941be878cc305369": {
          "model_module": "@jupyter-widgets/base",
          "model_module_version": "1.2.0",
          "model_name": "LayoutModel",
          "state": {
            "_model_module": "@jupyter-widgets/base",
            "_model_module_version": "1.2.0",
            "_model_name": "LayoutModel",
            "_view_count": null,
            "_view_module": "@jupyter-widgets/base",
            "_view_module_version": "1.2.0",
            "_view_name": "LayoutView",
            "align_content": null,
            "align_items": null,
            "align_self": null,
            "border": null,
            "bottom": null,
            "display": null,
            "flex": null,
            "flex_flow": null,
            "grid_area": null,
            "grid_auto_columns": null,
            "grid_auto_flow": null,
            "grid_auto_rows": null,
            "grid_column": null,
            "grid_gap": null,
            "grid_row": null,
            "grid_template_areas": null,
            "grid_template_columns": null,
            "grid_template_rows": null,
            "height": null,
            "justify_content": null,
            "justify_items": null,
            "left": null,
            "margin": null,
            "max_height": null,
            "max_width": null,
            "min_height": null,
            "min_width": null,
            "object_fit": null,
            "object_position": null,
            "order": null,
            "overflow": null,
            "overflow_x": null,
            "overflow_y": null,
            "padding": null,
            "right": null,
            "top": null,
            "visibility": null,
            "width": null
          }
        },
        "0e8d0369675845c58f34dfa438adf1f4": {
          "model_module": "@jupyter-widgets/controls",
          "model_module_version": "1.5.0",
          "model_name": "FloatProgressModel",
          "state": {
            "_dom_classes": [],
            "_model_module": "@jupyter-widgets/controls",
            "_model_module_version": "1.5.0",
            "_model_name": "FloatProgressModel",
            "_view_count": null,
            "_view_module": "@jupyter-widgets/controls",
            "_view_module_version": "1.5.0",
            "_view_name": "ProgressView",
            "bar_style": "",
            "description": "",
            "description_tooltip": null,
            "layout": "IPY_MODEL_6325acc936c44b3b8c1bc06a9dfd63b7",
            "max": 1,
            "min": 0,
            "orientation": "horizontal",
            "style": "IPY_MODEL_c704154a2d2647c1afabb9a1e74bf868",
            "value": 1
          }
        },
        "0efb3656d0eb46f39fc2bdbbf0e84175": {
          "model_module": "@jupyter-widgets/base",
          "model_module_version": "1.2.0",
          "model_name": "LayoutModel",
          "state": {
            "_model_module": "@jupyter-widgets/base",
            "_model_module_version": "1.2.0",
            "_model_name": "LayoutModel",
            "_view_count": null,
            "_view_module": "@jupyter-widgets/base",
            "_view_module_version": "1.2.0",
            "_view_name": "LayoutView",
            "align_content": null,
            "align_items": null,
            "align_self": null,
            "border": null,
            "bottom": null,
            "display": null,
            "flex": null,
            "flex_flow": null,
            "grid_area": null,
            "grid_auto_columns": null,
            "grid_auto_flow": null,
            "grid_auto_rows": null,
            "grid_column": null,
            "grid_gap": null,
            "grid_row": null,
            "grid_template_areas": null,
            "grid_template_columns": null,
            "grid_template_rows": null,
            "height": null,
            "justify_content": null,
            "justify_items": null,
            "left": null,
            "margin": null,
            "max_height": null,
            "max_width": null,
            "min_height": null,
            "min_width": null,
            "object_fit": null,
            "object_position": null,
            "order": null,
            "overflow": null,
            "overflow_x": null,
            "overflow_y": null,
            "padding": null,
            "right": null,
            "top": null,
            "visibility": null,
            "width": null
          }
        },
        "0f4aff97265c43ffb7111f8f8ce4adb5": {
          "model_module": "@jupyter-widgets/controls",
          "model_module_version": "1.5.0",
          "model_name": "VBoxModel",
          "state": {
            "_dom_classes": [],
            "_model_module": "@jupyter-widgets/controls",
            "_model_module_version": "1.5.0",
            "_model_name": "VBoxModel",
            "_view_count": null,
            "_view_module": "@jupyter-widgets/controls",
            "_view_module_version": "1.5.0",
            "_view_name": "VBoxView",
            "box_style": "",
            "children": [
              "IPY_MODEL_4a1125c9b8294969ad4b67ee21f7a32c",
              "IPY_MODEL_249a6e63581c4aaaa248f88ef1750a14"
            ],
            "layout": "IPY_MODEL_00c62bfffb5e4532a30eced70c5c07f9"
          }
        },
        "0fe76597c25c4532a33452ca07abdfee": {
          "model_module": "@jupyter-widgets/controls",
          "model_module_version": "1.5.0",
          "model_name": "ProgressStyleModel",
          "state": {
            "_model_module": "@jupyter-widgets/controls",
            "_model_module_version": "1.5.0",
            "_model_name": "ProgressStyleModel",
            "_view_count": null,
            "_view_module": "@jupyter-widgets/base",
            "_view_module_version": "1.2.0",
            "_view_name": "StyleView",
            "bar_color": null,
            "description_width": ""
          }
        },
        "103941d55de34ca4821f6a3d866ef143": {
          "model_module": "@jupyter-widgets/controls",
          "model_module_version": "1.5.0",
          "model_name": "FloatProgressModel",
          "state": {
            "_dom_classes": [],
            "_model_module": "@jupyter-widgets/controls",
            "_model_module_version": "1.5.0",
            "_model_name": "FloatProgressModel",
            "_view_count": null,
            "_view_module": "@jupyter-widgets/controls",
            "_view_module_version": "1.5.0",
            "_view_name": "ProgressView",
            "bar_style": "",
            "description": "",
            "description_tooltip": null,
            "layout": "IPY_MODEL_36e6d1e68f844e1ebec6ead02266a5ee",
            "max": 1,
            "min": 0,
            "orientation": "horizontal",
            "style": "IPY_MODEL_30e920c235f04e4188c46763c2c99e1b",
            "value": 1
          }
        },
        "108723e43abb4da18a8659a434cfc9c7": {
          "model_module": "@jupyter-widgets/controls",
          "model_module_version": "1.5.0",
          "model_name": "ProgressStyleModel",
          "state": {
            "_model_module": "@jupyter-widgets/controls",
            "_model_module_version": "1.5.0",
            "_model_name": "ProgressStyleModel",
            "_view_count": null,
            "_view_module": "@jupyter-widgets/base",
            "_view_module_version": "1.2.0",
            "_view_name": "StyleView",
            "bar_color": null,
            "description_width": ""
          }
        },
        "12e390794cea442b85294e425032ebe8": {
          "model_module": "@jupyter-widgets/controls",
          "model_module_version": "1.5.0",
          "model_name": "VBoxModel",
          "state": {
            "_dom_classes": [],
            "_model_module": "@jupyter-widgets/controls",
            "_model_module_version": "1.5.0",
            "_model_name": "VBoxModel",
            "_view_count": null,
            "_view_module": "@jupyter-widgets/controls",
            "_view_module_version": "1.5.0",
            "_view_name": "VBoxView",
            "box_style": "",
            "children": [
              "IPY_MODEL_c8ead56d5cbf44c3804c8dba501cd667",
              "IPY_MODEL_a571918b972e45ffb19d2cc722cbd2a0"
            ],
            "layout": "IPY_MODEL_813021519aa74fcb8c73e8b537af6f9f"
          }
        },
        "14914c80f4a24ae5aebd18bc651edc6c": {
          "model_module": "@jupyter-widgets/controls",
          "model_module_version": "1.5.0",
          "model_name": "LabelModel",
          "state": {
            "_dom_classes": [],
            "_model_module": "@jupyter-widgets/controls",
            "_model_module_version": "1.5.0",
            "_model_name": "LabelModel",
            "_view_count": null,
            "_view_module": "@jupyter-widgets/controls",
            "_view_module_version": "1.5.0",
            "_view_name": "LabelView",
            "description": "",
            "description_tooltip": null,
            "layout": "IPY_MODEL_4f9ad66584794f5296650ee19f066374",
            "placeholder": "​",
            "style": "IPY_MODEL_a435164101124af885bcfad8c1c41a73",
            "value": "0.008 MB of 0.008 MB uploaded (0.000 MB deduped)\r"
          }
        },
        "1681e50db5f54d18956483ae2fb012b1": {
          "model_module": "@jupyter-widgets/controls",
          "model_module_version": "1.5.0",
          "model_name": "LabelModel",
          "state": {
            "_dom_classes": [],
            "_model_module": "@jupyter-widgets/controls",
            "_model_module_version": "1.5.0",
            "_model_name": "LabelModel",
            "_view_count": null,
            "_view_module": "@jupyter-widgets/controls",
            "_view_module_version": "1.5.0",
            "_view_name": "LabelView",
            "description": "",
            "description_tooltip": null,
            "layout": "IPY_MODEL_7d32bc35434f433793b3791bf7320f74",
            "placeholder": "​",
            "style": "IPY_MODEL_ad9547688cb84f7cb81e9e7868991baf",
            "value": "0.008 MB of 0.008 MB uploaded (0.000 MB deduped)\r"
          }
        },
        "183d6131e4af46b0b4b0d9984b72e572": {
          "model_module": "@jupyter-widgets/base",
          "model_module_version": "1.2.0",
          "model_name": "LayoutModel",
          "state": {
            "_model_module": "@jupyter-widgets/base",
            "_model_module_version": "1.2.0",
            "_model_name": "LayoutModel",
            "_view_count": null,
            "_view_module": "@jupyter-widgets/base",
            "_view_module_version": "1.2.0",
            "_view_name": "LayoutView",
            "align_content": null,
            "align_items": null,
            "align_self": null,
            "border": null,
            "bottom": null,
            "display": null,
            "flex": null,
            "flex_flow": null,
            "grid_area": null,
            "grid_auto_columns": null,
            "grid_auto_flow": null,
            "grid_auto_rows": null,
            "grid_column": null,
            "grid_gap": null,
            "grid_row": null,
            "grid_template_areas": null,
            "grid_template_columns": null,
            "grid_template_rows": null,
            "height": null,
            "justify_content": null,
            "justify_items": null,
            "left": null,
            "margin": null,
            "max_height": null,
            "max_width": null,
            "min_height": null,
            "min_width": null,
            "object_fit": null,
            "object_position": null,
            "order": null,
            "overflow": null,
            "overflow_x": null,
            "overflow_y": null,
            "padding": null,
            "right": null,
            "top": null,
            "visibility": null,
            "width": null
          }
        },
        "19182e31e50b403f9648da4cd3c7ad45": {
          "model_module": "@jupyter-widgets/controls",
          "model_module_version": "1.5.0",
          "model_name": "LabelModel",
          "state": {
            "_dom_classes": [],
            "_model_module": "@jupyter-widgets/controls",
            "_model_module_version": "1.5.0",
            "_model_name": "LabelModel",
            "_view_count": null,
            "_view_module": "@jupyter-widgets/controls",
            "_view_module_version": "1.5.0",
            "_view_name": "LabelView",
            "description": "",
            "description_tooltip": null,
            "layout": "IPY_MODEL_a18b09bce6b34368befcc6d439eb2968",
            "placeholder": "​",
            "style": "IPY_MODEL_b801ab4350784c0098daeb80330272a7",
            "value": "0.008 MB of 0.008 MB uploaded (0.000 MB deduped)\r"
          }
        },
        "1919a3a7a54a4572a3a16698bcec7853": {
          "model_module": "@jupyter-widgets/controls",
          "model_module_version": "1.5.0",
          "model_name": "LabelModel",
          "state": {
            "_dom_classes": [],
            "_model_module": "@jupyter-widgets/controls",
            "_model_module_version": "1.5.0",
            "_model_name": "LabelModel",
            "_view_count": null,
            "_view_module": "@jupyter-widgets/controls",
            "_view_module_version": "1.5.0",
            "_view_name": "LabelView",
            "description": "",
            "description_tooltip": null,
            "layout": "IPY_MODEL_c137a47624804cad90f8bd2021e52a78",
            "placeholder": "​",
            "style": "IPY_MODEL_d55496cf687241c284e205fded47d95a",
            "value": "0.008 MB of 0.008 MB uploaded (0.000 MB deduped)\r"
          }
        },
        "1a42418b343448339c037b6f5cd9b509": {
          "model_module": "@jupyter-widgets/controls",
          "model_module_version": "1.5.0",
          "model_name": "FloatProgressModel",
          "state": {
            "_dom_classes": [],
            "_model_module": "@jupyter-widgets/controls",
            "_model_module_version": "1.5.0",
            "_model_name": "FloatProgressModel",
            "_view_count": null,
            "_view_module": "@jupyter-widgets/controls",
            "_view_module_version": "1.5.0",
            "_view_name": "ProgressView",
            "bar_style": "",
            "description": "",
            "description_tooltip": null,
            "layout": "IPY_MODEL_7c4bcc9a6bd74c56b99268f8c6e65f14",
            "max": 1,
            "min": 0,
            "orientation": "horizontal",
            "style": "IPY_MODEL_cdb0bca521e341f99c2f428601cae0c6",
            "value": 1
          }
        },
        "1b10fc2580a74aeba1e71c277e434159": {
          "model_module": "@jupyter-widgets/base",
          "model_module_version": "1.2.0",
          "model_name": "LayoutModel",
          "state": {
            "_model_module": "@jupyter-widgets/base",
            "_model_module_version": "1.2.0",
            "_model_name": "LayoutModel",
            "_view_count": null,
            "_view_module": "@jupyter-widgets/base",
            "_view_module_version": "1.2.0",
            "_view_name": "LayoutView",
            "align_content": null,
            "align_items": null,
            "align_self": null,
            "border": null,
            "bottom": null,
            "display": null,
            "flex": null,
            "flex_flow": null,
            "grid_area": null,
            "grid_auto_columns": null,
            "grid_auto_flow": null,
            "grid_auto_rows": null,
            "grid_column": null,
            "grid_gap": null,
            "grid_row": null,
            "grid_template_areas": null,
            "grid_template_columns": null,
            "grid_template_rows": null,
            "height": null,
            "justify_content": null,
            "justify_items": null,
            "left": null,
            "margin": null,
            "max_height": null,
            "max_width": null,
            "min_height": null,
            "min_width": null,
            "object_fit": null,
            "object_position": null,
            "order": null,
            "overflow": null,
            "overflow_x": null,
            "overflow_y": null,
            "padding": null,
            "right": null,
            "top": null,
            "visibility": null,
            "width": null
          }
        },
        "20e9b221af5143d7b5f1843edb913fbd": {
          "model_module": "@jupyter-widgets/controls",
          "model_module_version": "1.5.0",
          "model_name": "LabelModel",
          "state": {
            "_dom_classes": [],
            "_model_module": "@jupyter-widgets/controls",
            "_model_module_version": "1.5.0",
            "_model_name": "LabelModel",
            "_view_count": null,
            "_view_module": "@jupyter-widgets/controls",
            "_view_module_version": "1.5.0",
            "_view_name": "LabelView",
            "description": "",
            "description_tooltip": null,
            "layout": "IPY_MODEL_d182ac116e1e43a1bf0d1115c23da5c6",
            "placeholder": "​",
            "style": "IPY_MODEL_7d0bd7bd596e46759a5b2c4c7972083f",
            "value": "0.008 MB of 0.008 MB uploaded (0.000 MB deduped)\r"
          }
        },
        "2107f5d3081f4011ae7e62ef837ba681": {
          "model_module": "@jupyter-widgets/controls",
          "model_module_version": "1.5.0",
          "model_name": "FloatProgressModel",
          "state": {
            "_dom_classes": [],
            "_model_module": "@jupyter-widgets/controls",
            "_model_module_version": "1.5.0",
            "_model_name": "FloatProgressModel",
            "_view_count": null,
            "_view_module": "@jupyter-widgets/controls",
            "_view_module_version": "1.5.0",
            "_view_name": "ProgressView",
            "bar_style": "",
            "description": "",
            "description_tooltip": null,
            "layout": "IPY_MODEL_497f187a61a24b0f985327f7f3784877",
            "max": 1,
            "min": 0,
            "orientation": "horizontal",
            "style": "IPY_MODEL_063e57135d984dd08fb83315e4ef6a6e",
            "value": 0
          }
        },
        "22c0682b12fd483785b5fb220bc3c109": {
          "model_module": "@jupyter-widgets/base",
          "model_module_version": "1.2.0",
          "model_name": "LayoutModel",
          "state": {
            "_model_module": "@jupyter-widgets/base",
            "_model_module_version": "1.2.0",
            "_model_name": "LayoutModel",
            "_view_count": null,
            "_view_module": "@jupyter-widgets/base",
            "_view_module_version": "1.2.0",
            "_view_name": "LayoutView",
            "align_content": null,
            "align_items": null,
            "align_self": null,
            "border": null,
            "bottom": null,
            "display": null,
            "flex": null,
            "flex_flow": null,
            "grid_area": null,
            "grid_auto_columns": null,
            "grid_auto_flow": null,
            "grid_auto_rows": null,
            "grid_column": null,
            "grid_gap": null,
            "grid_row": null,
            "grid_template_areas": null,
            "grid_template_columns": null,
            "grid_template_rows": null,
            "height": null,
            "justify_content": null,
            "justify_items": null,
            "left": null,
            "margin": null,
            "max_height": null,
            "max_width": null,
            "min_height": null,
            "min_width": null,
            "object_fit": null,
            "object_position": null,
            "order": null,
            "overflow": null,
            "overflow_x": null,
            "overflow_y": null,
            "padding": null,
            "right": null,
            "top": null,
            "visibility": null,
            "width": null
          }
        },
        "2384a0ae6db94eebb5996889c4f906ac": {
          "model_module": "@jupyter-widgets/controls",
          "model_module_version": "1.5.0",
          "model_name": "LabelModel",
          "state": {
            "_dom_classes": [],
            "_model_module": "@jupyter-widgets/controls",
            "_model_module_version": "1.5.0",
            "_model_name": "LabelModel",
            "_view_count": null,
            "_view_module": "@jupyter-widgets/controls",
            "_view_module_version": "1.5.0",
            "_view_name": "LabelView",
            "description": "",
            "description_tooltip": null,
            "layout": "IPY_MODEL_59ef3cafc3c4489f9634ec14977146b1",
            "placeholder": "​",
            "style": "IPY_MODEL_b9aa70d3b05c4fbca060f32328cba164",
            "value": "0.008 MB of 0.008 MB uploaded (0.000 MB deduped)\r"
          }
        },
        "23fd72373ac14d86ba2932392f516405": {
          "model_module": "@jupyter-widgets/controls",
          "model_module_version": "1.5.0",
          "model_name": "VBoxModel",
          "state": {
            "_dom_classes": [],
            "_model_module": "@jupyter-widgets/controls",
            "_model_module_version": "1.5.0",
            "_model_name": "VBoxModel",
            "_view_count": null,
            "_view_module": "@jupyter-widgets/controls",
            "_view_module_version": "1.5.0",
            "_view_name": "VBoxView",
            "box_style": "",
            "children": [
              "IPY_MODEL_ee96d074356e4370ab83b0963f4d9dc2",
              "IPY_MODEL_ab090e7051d24e99b718b7882e0a6994"
            ],
            "layout": "IPY_MODEL_ee0c89f7b3304f489c2a06ede4550075"
          }
        },
        "249a6e63581c4aaaa248f88ef1750a14": {
          "model_module": "@jupyter-widgets/controls",
          "model_module_version": "1.5.0",
          "model_name": "FloatProgressModel",
          "state": {
            "_dom_classes": [],
            "_model_module": "@jupyter-widgets/controls",
            "_model_module_version": "1.5.0",
            "_model_name": "FloatProgressModel",
            "_view_count": null,
            "_view_module": "@jupyter-widgets/controls",
            "_view_module_version": "1.5.0",
            "_view_name": "ProgressView",
            "bar_style": "",
            "description": "",
            "description_tooltip": null,
            "layout": "IPY_MODEL_43e5707e5db04f868cdf197a3adbb7dd",
            "max": 1,
            "min": 0,
            "orientation": "horizontal",
            "style": "IPY_MODEL_8dfc78e14cf84ea3a9b1234f26b278c7",
            "value": 1
          }
        },
        "24e3356080b64ab1be16438ff008ec86": {
          "model_module": "@jupyter-widgets/base",
          "model_module_version": "1.2.0",
          "model_name": "LayoutModel",
          "state": {
            "_model_module": "@jupyter-widgets/base",
            "_model_module_version": "1.2.0",
            "_model_name": "LayoutModel",
            "_view_count": null,
            "_view_module": "@jupyter-widgets/base",
            "_view_module_version": "1.2.0",
            "_view_name": "LayoutView",
            "align_content": null,
            "align_items": null,
            "align_self": null,
            "border": null,
            "bottom": null,
            "display": null,
            "flex": null,
            "flex_flow": null,
            "grid_area": null,
            "grid_auto_columns": null,
            "grid_auto_flow": null,
            "grid_auto_rows": null,
            "grid_column": null,
            "grid_gap": null,
            "grid_row": null,
            "grid_template_areas": null,
            "grid_template_columns": null,
            "grid_template_rows": null,
            "height": null,
            "justify_content": null,
            "justify_items": null,
            "left": null,
            "margin": null,
            "max_height": null,
            "max_width": null,
            "min_height": null,
            "min_width": null,
            "object_fit": null,
            "object_position": null,
            "order": null,
            "overflow": null,
            "overflow_x": null,
            "overflow_y": null,
            "padding": null,
            "right": null,
            "top": null,
            "visibility": null,
            "width": null
          }
        },
        "2664b14d06194da2b7e2e64f470e4e42": {
          "model_module": "@jupyter-widgets/base",
          "model_module_version": "1.2.0",
          "model_name": "LayoutModel",
          "state": {
            "_model_module": "@jupyter-widgets/base",
            "_model_module_version": "1.2.0",
            "_model_name": "LayoutModel",
            "_view_count": null,
            "_view_module": "@jupyter-widgets/base",
            "_view_module_version": "1.2.0",
            "_view_name": "LayoutView",
            "align_content": null,
            "align_items": null,
            "align_self": null,
            "border": null,
            "bottom": null,
            "display": null,
            "flex": null,
            "flex_flow": null,
            "grid_area": null,
            "grid_auto_columns": null,
            "grid_auto_flow": null,
            "grid_auto_rows": null,
            "grid_column": null,
            "grid_gap": null,
            "grid_row": null,
            "grid_template_areas": null,
            "grid_template_columns": null,
            "grid_template_rows": null,
            "height": null,
            "justify_content": null,
            "justify_items": null,
            "left": null,
            "margin": null,
            "max_height": null,
            "max_width": null,
            "min_height": null,
            "min_width": null,
            "object_fit": null,
            "object_position": null,
            "order": null,
            "overflow": null,
            "overflow_x": null,
            "overflow_y": null,
            "padding": null,
            "right": null,
            "top": null,
            "visibility": null,
            "width": null
          }
        },
        "285a32e8ce0c40dc8c089560040e8c50": {
          "model_module": "@jupyter-widgets/controls",
          "model_module_version": "1.5.0",
          "model_name": "VBoxModel",
          "state": {
            "_dom_classes": [],
            "_model_module": "@jupyter-widgets/controls",
            "_model_module_version": "1.5.0",
            "_model_name": "VBoxModel",
            "_view_count": null,
            "_view_module": "@jupyter-widgets/controls",
            "_view_module_version": "1.5.0",
            "_view_name": "VBoxView",
            "box_style": "",
            "children": [
              "IPY_MODEL_b8d4c651035944c88c74b77ad2480c2b",
              "IPY_MODEL_503e2e2d48e04062ab68473558d75ad3"
            ],
            "layout": "IPY_MODEL_430d3caf51c140269e5a051d41f4b0fc"
          }
        },
        "2967348e60c946eda75f3fdde40630a0": {
          "model_module": "@jupyter-widgets/base",
          "model_module_version": "1.2.0",
          "model_name": "LayoutModel",
          "state": {
            "_model_module": "@jupyter-widgets/base",
            "_model_module_version": "1.2.0",
            "_model_name": "LayoutModel",
            "_view_count": null,
            "_view_module": "@jupyter-widgets/base",
            "_view_module_version": "1.2.0",
            "_view_name": "LayoutView",
            "align_content": null,
            "align_items": null,
            "align_self": null,
            "border": null,
            "bottom": null,
            "display": null,
            "flex": null,
            "flex_flow": null,
            "grid_area": null,
            "grid_auto_columns": null,
            "grid_auto_flow": null,
            "grid_auto_rows": null,
            "grid_column": null,
            "grid_gap": null,
            "grid_row": null,
            "grid_template_areas": null,
            "grid_template_columns": null,
            "grid_template_rows": null,
            "height": null,
            "justify_content": null,
            "justify_items": null,
            "left": null,
            "margin": null,
            "max_height": null,
            "max_width": null,
            "min_height": null,
            "min_width": null,
            "object_fit": null,
            "object_position": null,
            "order": null,
            "overflow": null,
            "overflow_x": null,
            "overflow_y": null,
            "padding": null,
            "right": null,
            "top": null,
            "visibility": null,
            "width": null
          }
        },
        "2b45aa962d3f4081abaa3e9400d96517": {
          "model_module": "@jupyter-widgets/controls",
          "model_module_version": "1.5.0",
          "model_name": "FloatProgressModel",
          "state": {
            "_dom_classes": [],
            "_model_module": "@jupyter-widgets/controls",
            "_model_module_version": "1.5.0",
            "_model_name": "FloatProgressModel",
            "_view_count": null,
            "_view_module": "@jupyter-widgets/controls",
            "_view_module_version": "1.5.0",
            "_view_name": "ProgressView",
            "bar_style": "",
            "description": "",
            "description_tooltip": null,
            "layout": "IPY_MODEL_86e82a1bb9c44d23a46d20b71740c6df",
            "max": 1,
            "min": 0,
            "orientation": "horizontal",
            "style": "IPY_MODEL_916245db3e7246f1afe6e96172502e4a",
            "value": 1
          }
        },
        "2bf7e2cb20194a9d91d0a2c025dd4a58": {
          "model_module": "@jupyter-widgets/controls",
          "model_module_version": "1.5.0",
          "model_name": "FloatProgressModel",
          "state": {
            "_dom_classes": [],
            "_model_module": "@jupyter-widgets/controls",
            "_model_module_version": "1.5.0",
            "_model_name": "FloatProgressModel",
            "_view_count": null,
            "_view_module": "@jupyter-widgets/controls",
            "_view_module_version": "1.5.0",
            "_view_name": "ProgressView",
            "bar_style": "",
            "description": "",
            "description_tooltip": null,
            "layout": "IPY_MODEL_f606c45c789d4a84907a1532e0808cca",
            "max": 1,
            "min": 0,
            "orientation": "horizontal",
            "style": "IPY_MODEL_448b534c75ee4a7f870096c751bcf4a4",
            "value": 1
          }
        },
        "2ccf31cf61eb491fa0b5c9426d2ef241": {
          "model_module": "@jupyter-widgets/controls",
          "model_module_version": "1.5.0",
          "model_name": "DescriptionStyleModel",
          "state": {
            "_model_module": "@jupyter-widgets/controls",
            "_model_module_version": "1.5.0",
            "_model_name": "DescriptionStyleModel",
            "_view_count": null,
            "_view_module": "@jupyter-widgets/base",
            "_view_module_version": "1.2.0",
            "_view_name": "StyleView",
            "description_width": ""
          }
        },
        "2cf68ef5507a48d494e5eacae4fb01d4": {
          "model_module": "@jupyter-widgets/controls",
          "model_module_version": "1.5.0",
          "model_name": "DescriptionStyleModel",
          "state": {
            "_model_module": "@jupyter-widgets/controls",
            "_model_module_version": "1.5.0",
            "_model_name": "DescriptionStyleModel",
            "_view_count": null,
            "_view_module": "@jupyter-widgets/base",
            "_view_module_version": "1.2.0",
            "_view_name": "StyleView",
            "description_width": ""
          }
        },
        "2d79bde4308044f5b655f870fd9cc823": {
          "model_module": "@jupyter-widgets/controls",
          "model_module_version": "1.5.0",
          "model_name": "FloatProgressModel",
          "state": {
            "_dom_classes": [],
            "_model_module": "@jupyter-widgets/controls",
            "_model_module_version": "1.5.0",
            "_model_name": "FloatProgressModel",
            "_view_count": null,
            "_view_module": "@jupyter-widgets/controls",
            "_view_module_version": "1.5.0",
            "_view_name": "ProgressView",
            "bar_style": "",
            "description": "",
            "description_tooltip": null,
            "layout": "IPY_MODEL_e928d662fd734dde9303edfafc131000",
            "max": 1,
            "min": 0,
            "orientation": "horizontal",
            "style": "IPY_MODEL_f511e7f6d277488ea67eaa15536079e6",
            "value": 1
          }
        },
        "30e920c235f04e4188c46763c2c99e1b": {
          "model_module": "@jupyter-widgets/controls",
          "model_module_version": "1.5.0",
          "model_name": "ProgressStyleModel",
          "state": {
            "_model_module": "@jupyter-widgets/controls",
            "_model_module_version": "1.5.0",
            "_model_name": "ProgressStyleModel",
            "_view_count": null,
            "_view_module": "@jupyter-widgets/base",
            "_view_module_version": "1.2.0",
            "_view_name": "StyleView",
            "bar_color": null,
            "description_width": ""
          }
        },
        "321ffe9f3dbf491f9b51fb933bb5a2f0": {
          "model_module": "@jupyter-widgets/base",
          "model_module_version": "1.2.0",
          "model_name": "LayoutModel",
          "state": {
            "_model_module": "@jupyter-widgets/base",
            "_model_module_version": "1.2.0",
            "_model_name": "LayoutModel",
            "_view_count": null,
            "_view_module": "@jupyter-widgets/base",
            "_view_module_version": "1.2.0",
            "_view_name": "LayoutView",
            "align_content": null,
            "align_items": null,
            "align_self": null,
            "border": null,
            "bottom": null,
            "display": null,
            "flex": null,
            "flex_flow": null,
            "grid_area": null,
            "grid_auto_columns": null,
            "grid_auto_flow": null,
            "grid_auto_rows": null,
            "grid_column": null,
            "grid_gap": null,
            "grid_row": null,
            "grid_template_areas": null,
            "grid_template_columns": null,
            "grid_template_rows": null,
            "height": null,
            "justify_content": null,
            "justify_items": null,
            "left": null,
            "margin": null,
            "max_height": null,
            "max_width": null,
            "min_height": null,
            "min_width": null,
            "object_fit": null,
            "object_position": null,
            "order": null,
            "overflow": null,
            "overflow_x": null,
            "overflow_y": null,
            "padding": null,
            "right": null,
            "top": null,
            "visibility": null,
            "width": null
          }
        },
        "32c0fd31ee6649788d3f42279d45f937": {
          "model_module": "@jupyter-widgets/controls",
          "model_module_version": "1.5.0",
          "model_name": "VBoxModel",
          "state": {
            "_dom_classes": [],
            "_model_module": "@jupyter-widgets/controls",
            "_model_module_version": "1.5.0",
            "_model_name": "VBoxModel",
            "_view_count": null,
            "_view_module": "@jupyter-widgets/controls",
            "_view_module_version": "1.5.0",
            "_view_name": "VBoxView",
            "box_style": "",
            "children": [
              "IPY_MODEL_9cbe280d97414106a069d684cd96b205",
              "IPY_MODEL_1a42418b343448339c037b6f5cd9b509"
            ],
            "layout": "IPY_MODEL_811b6896d326492296def400203eb8d4"
          }
        },
        "33bc36a6661242b19f0a4183a8a69196": {
          "model_module": "@jupyter-widgets/controls",
          "model_module_version": "1.5.0",
          "model_name": "ProgressStyleModel",
          "state": {
            "_model_module": "@jupyter-widgets/controls",
            "_model_module_version": "1.5.0",
            "_model_name": "ProgressStyleModel",
            "_view_count": null,
            "_view_module": "@jupyter-widgets/base",
            "_view_module_version": "1.2.0",
            "_view_name": "StyleView",
            "bar_color": null,
            "description_width": ""
          }
        },
        "341732dda8b844899348382c64c7707a": {
          "model_module": "@jupyter-widgets/controls",
          "model_module_version": "1.5.0",
          "model_name": "VBoxModel",
          "state": {
            "_dom_classes": [],
            "_model_module": "@jupyter-widgets/controls",
            "_model_module_version": "1.5.0",
            "_model_name": "VBoxModel",
            "_view_count": null,
            "_view_module": "@jupyter-widgets/controls",
            "_view_module_version": "1.5.0",
            "_view_name": "VBoxView",
            "box_style": "",
            "children": [
              "IPY_MODEL_a84df2021ef54e79b901d4cb8f1142b2",
              "IPY_MODEL_650f88ef032d416ab8604aa31c12f91b"
            ],
            "layout": "IPY_MODEL_8bf93ab1c5284d60af65c9d8d5f1a546"
          }
        },
        "34b99805b93e474aa118e9f9a205fd70": {
          "model_module": "@jupyter-widgets/controls",
          "model_module_version": "1.5.0",
          "model_name": "DescriptionStyleModel",
          "state": {
            "_model_module": "@jupyter-widgets/controls",
            "_model_module_version": "1.5.0",
            "_model_name": "DescriptionStyleModel",
            "_view_count": null,
            "_view_module": "@jupyter-widgets/base",
            "_view_module_version": "1.2.0",
            "_view_name": "StyleView",
            "description_width": ""
          }
        },
        "3653042f67714efb9035b280418cea6a": {
          "model_module": "@jupyter-widgets/controls",
          "model_module_version": "1.5.0",
          "model_name": "ProgressStyleModel",
          "state": {
            "_model_module": "@jupyter-widgets/controls",
            "_model_module_version": "1.5.0",
            "_model_name": "ProgressStyleModel",
            "_view_count": null,
            "_view_module": "@jupyter-widgets/base",
            "_view_module_version": "1.2.0",
            "_view_name": "StyleView",
            "bar_color": null,
            "description_width": ""
          }
        },
        "36e6d1e68f844e1ebec6ead02266a5ee": {
          "model_module": "@jupyter-widgets/base",
          "model_module_version": "1.2.0",
          "model_name": "LayoutModel",
          "state": {
            "_model_module": "@jupyter-widgets/base",
            "_model_module_version": "1.2.0",
            "_model_name": "LayoutModel",
            "_view_count": null,
            "_view_module": "@jupyter-widgets/base",
            "_view_module_version": "1.2.0",
            "_view_name": "LayoutView",
            "align_content": null,
            "align_items": null,
            "align_self": null,
            "border": null,
            "bottom": null,
            "display": null,
            "flex": null,
            "flex_flow": null,
            "grid_area": null,
            "grid_auto_columns": null,
            "grid_auto_flow": null,
            "grid_auto_rows": null,
            "grid_column": null,
            "grid_gap": null,
            "grid_row": null,
            "grid_template_areas": null,
            "grid_template_columns": null,
            "grid_template_rows": null,
            "height": null,
            "justify_content": null,
            "justify_items": null,
            "left": null,
            "margin": null,
            "max_height": null,
            "max_width": null,
            "min_height": null,
            "min_width": null,
            "object_fit": null,
            "object_position": null,
            "order": null,
            "overflow": null,
            "overflow_x": null,
            "overflow_y": null,
            "padding": null,
            "right": null,
            "top": null,
            "visibility": null,
            "width": null
          }
        },
        "3a2fdf5217134439a33b8d38a93d99c8": {
          "model_module": "@jupyter-widgets/base",
          "model_module_version": "1.2.0",
          "model_name": "LayoutModel",
          "state": {
            "_model_module": "@jupyter-widgets/base",
            "_model_module_version": "1.2.0",
            "_model_name": "LayoutModel",
            "_view_count": null,
            "_view_module": "@jupyter-widgets/base",
            "_view_module_version": "1.2.0",
            "_view_name": "LayoutView",
            "align_content": null,
            "align_items": null,
            "align_self": null,
            "border": null,
            "bottom": null,
            "display": null,
            "flex": null,
            "flex_flow": null,
            "grid_area": null,
            "grid_auto_columns": null,
            "grid_auto_flow": null,
            "grid_auto_rows": null,
            "grid_column": null,
            "grid_gap": null,
            "grid_row": null,
            "grid_template_areas": null,
            "grid_template_columns": null,
            "grid_template_rows": null,
            "height": null,
            "justify_content": null,
            "justify_items": null,
            "left": null,
            "margin": null,
            "max_height": null,
            "max_width": null,
            "min_height": null,
            "min_width": null,
            "object_fit": null,
            "object_position": null,
            "order": null,
            "overflow": null,
            "overflow_x": null,
            "overflow_y": null,
            "padding": null,
            "right": null,
            "top": null,
            "visibility": null,
            "width": null
          }
        },
        "3a4f05d58c794108bfd3129a20977010": {
          "model_module": "@jupyter-widgets/base",
          "model_module_version": "1.2.0",
          "model_name": "LayoutModel",
          "state": {
            "_model_module": "@jupyter-widgets/base",
            "_model_module_version": "1.2.0",
            "_model_name": "LayoutModel",
            "_view_count": null,
            "_view_module": "@jupyter-widgets/base",
            "_view_module_version": "1.2.0",
            "_view_name": "LayoutView",
            "align_content": null,
            "align_items": null,
            "align_self": null,
            "border": null,
            "bottom": null,
            "display": null,
            "flex": null,
            "flex_flow": null,
            "grid_area": null,
            "grid_auto_columns": null,
            "grid_auto_flow": null,
            "grid_auto_rows": null,
            "grid_column": null,
            "grid_gap": null,
            "grid_row": null,
            "grid_template_areas": null,
            "grid_template_columns": null,
            "grid_template_rows": null,
            "height": null,
            "justify_content": null,
            "justify_items": null,
            "left": null,
            "margin": null,
            "max_height": null,
            "max_width": null,
            "min_height": null,
            "min_width": null,
            "object_fit": null,
            "object_position": null,
            "order": null,
            "overflow": null,
            "overflow_x": null,
            "overflow_y": null,
            "padding": null,
            "right": null,
            "top": null,
            "visibility": null,
            "width": null
          }
        },
        "3d5a257b1db9411c8d5728352ba36178": {
          "model_module": "@jupyter-widgets/controls",
          "model_module_version": "1.5.0",
          "model_name": "ProgressStyleModel",
          "state": {
            "_model_module": "@jupyter-widgets/controls",
            "_model_module_version": "1.5.0",
            "_model_name": "ProgressStyleModel",
            "_view_count": null,
            "_view_module": "@jupyter-widgets/base",
            "_view_module_version": "1.2.0",
            "_view_name": "StyleView",
            "bar_color": null,
            "description_width": ""
          }
        },
        "3dd4d2ded31a4c33bd79f9a87e307578": {
          "model_module": "@jupyter-widgets/controls",
          "model_module_version": "1.5.0",
          "model_name": "VBoxModel",
          "state": {
            "_dom_classes": [],
            "_model_module": "@jupyter-widgets/controls",
            "_model_module_version": "1.5.0",
            "_model_name": "VBoxModel",
            "_view_count": null,
            "_view_module": "@jupyter-widgets/controls",
            "_view_module_version": "1.5.0",
            "_view_name": "VBoxView",
            "box_style": "",
            "children": [
              "IPY_MODEL_1681e50db5f54d18956483ae2fb012b1",
              "IPY_MODEL_c8167a8507524b1d9356a94496400ce5"
            ],
            "layout": "IPY_MODEL_d36db851d01043178e4f80467050af26"
          }
        },
        "3eb68411a5364caebcf715a82451929b": {
          "model_module": "@jupyter-widgets/controls",
          "model_module_version": "1.5.0",
          "model_name": "ProgressStyleModel",
          "state": {
            "_model_module": "@jupyter-widgets/controls",
            "_model_module_version": "1.5.0",
            "_model_name": "ProgressStyleModel",
            "_view_count": null,
            "_view_module": "@jupyter-widgets/base",
            "_view_module_version": "1.2.0",
            "_view_name": "StyleView",
            "bar_color": null,
            "description_width": ""
          }
        },
        "41632cd365034637a802c0c9c85c47b4": {
          "model_module": "@jupyter-widgets/controls",
          "model_module_version": "1.5.0",
          "model_name": "VBoxModel",
          "state": {
            "_dom_classes": [],
            "_model_module": "@jupyter-widgets/controls",
            "_model_module_version": "1.5.0",
            "_model_name": "VBoxModel",
            "_view_count": null,
            "_view_module": "@jupyter-widgets/controls",
            "_view_module_version": "1.5.0",
            "_view_name": "VBoxView",
            "box_style": "",
            "children": [
              "IPY_MODEL_f4201bcc83d14dbd8e5c958c169e454e",
              "IPY_MODEL_2bf7e2cb20194a9d91d0a2c025dd4a58"
            ],
            "layout": "IPY_MODEL_f618e6c2c0c94ff6bdcbba46a46d32f6"
          }
        },
        "430d3caf51c140269e5a051d41f4b0fc": {
          "model_module": "@jupyter-widgets/base",
          "model_module_version": "1.2.0",
          "model_name": "LayoutModel",
          "state": {
            "_model_module": "@jupyter-widgets/base",
            "_model_module_version": "1.2.0",
            "_model_name": "LayoutModel",
            "_view_count": null,
            "_view_module": "@jupyter-widgets/base",
            "_view_module_version": "1.2.0",
            "_view_name": "LayoutView",
            "align_content": null,
            "align_items": null,
            "align_self": null,
            "border": null,
            "bottom": null,
            "display": null,
            "flex": null,
            "flex_flow": null,
            "grid_area": null,
            "grid_auto_columns": null,
            "grid_auto_flow": null,
            "grid_auto_rows": null,
            "grid_column": null,
            "grid_gap": null,
            "grid_row": null,
            "grid_template_areas": null,
            "grid_template_columns": null,
            "grid_template_rows": null,
            "height": null,
            "justify_content": null,
            "justify_items": null,
            "left": null,
            "margin": null,
            "max_height": null,
            "max_width": null,
            "min_height": null,
            "min_width": null,
            "object_fit": null,
            "object_position": null,
            "order": null,
            "overflow": null,
            "overflow_x": null,
            "overflow_y": null,
            "padding": null,
            "right": null,
            "top": null,
            "visibility": null,
            "width": null
          }
        },
        "43e5707e5db04f868cdf197a3adbb7dd": {
          "model_module": "@jupyter-widgets/base",
          "model_module_version": "1.2.0",
          "model_name": "LayoutModel",
          "state": {
            "_model_module": "@jupyter-widgets/base",
            "_model_module_version": "1.2.0",
            "_model_name": "LayoutModel",
            "_view_count": null,
            "_view_module": "@jupyter-widgets/base",
            "_view_module_version": "1.2.0",
            "_view_name": "LayoutView",
            "align_content": null,
            "align_items": null,
            "align_self": null,
            "border": null,
            "bottom": null,
            "display": null,
            "flex": null,
            "flex_flow": null,
            "grid_area": null,
            "grid_auto_columns": null,
            "grid_auto_flow": null,
            "grid_auto_rows": null,
            "grid_column": null,
            "grid_gap": null,
            "grid_row": null,
            "grid_template_areas": null,
            "grid_template_columns": null,
            "grid_template_rows": null,
            "height": null,
            "justify_content": null,
            "justify_items": null,
            "left": null,
            "margin": null,
            "max_height": null,
            "max_width": null,
            "min_height": null,
            "min_width": null,
            "object_fit": null,
            "object_position": null,
            "order": null,
            "overflow": null,
            "overflow_x": null,
            "overflow_y": null,
            "padding": null,
            "right": null,
            "top": null,
            "visibility": null,
            "width": null
          }
        },
        "448b534c75ee4a7f870096c751bcf4a4": {
          "model_module": "@jupyter-widgets/controls",
          "model_module_version": "1.5.0",
          "model_name": "ProgressStyleModel",
          "state": {
            "_model_module": "@jupyter-widgets/controls",
            "_model_module_version": "1.5.0",
            "_model_name": "ProgressStyleModel",
            "_view_count": null,
            "_view_module": "@jupyter-widgets/base",
            "_view_module_version": "1.2.0",
            "_view_name": "StyleView",
            "bar_color": null,
            "description_width": ""
          }
        },
        "463c4a2e877f44a6b424f6a128f789e2": {
          "model_module": "@jupyter-widgets/base",
          "model_module_version": "1.2.0",
          "model_name": "LayoutModel",
          "state": {
            "_model_module": "@jupyter-widgets/base",
            "_model_module_version": "1.2.0",
            "_model_name": "LayoutModel",
            "_view_count": null,
            "_view_module": "@jupyter-widgets/base",
            "_view_module_version": "1.2.0",
            "_view_name": "LayoutView",
            "align_content": null,
            "align_items": null,
            "align_self": null,
            "border": null,
            "bottom": null,
            "display": null,
            "flex": null,
            "flex_flow": null,
            "grid_area": null,
            "grid_auto_columns": null,
            "grid_auto_flow": null,
            "grid_auto_rows": null,
            "grid_column": null,
            "grid_gap": null,
            "grid_row": null,
            "grid_template_areas": null,
            "grid_template_columns": null,
            "grid_template_rows": null,
            "height": null,
            "justify_content": null,
            "justify_items": null,
            "left": null,
            "margin": null,
            "max_height": null,
            "max_width": null,
            "min_height": null,
            "min_width": null,
            "object_fit": null,
            "object_position": null,
            "order": null,
            "overflow": null,
            "overflow_x": null,
            "overflow_y": null,
            "padding": null,
            "right": null,
            "top": null,
            "visibility": null,
            "width": null
          }
        },
        "46c10c2bc0a44d1f8015aff07610eceb": {
          "model_module": "@jupyter-widgets/controls",
          "model_module_version": "1.5.0",
          "model_name": "DescriptionStyleModel",
          "state": {
            "_model_module": "@jupyter-widgets/controls",
            "_model_module_version": "1.5.0",
            "_model_name": "DescriptionStyleModel",
            "_view_count": null,
            "_view_module": "@jupyter-widgets/base",
            "_view_module_version": "1.2.0",
            "_view_name": "StyleView",
            "description_width": ""
          }
        },
        "475f5e4e54dd430a97112106881c24d4": {
          "model_module": "@jupyter-widgets/controls",
          "model_module_version": "1.5.0",
          "model_name": "DescriptionStyleModel",
          "state": {
            "_model_module": "@jupyter-widgets/controls",
            "_model_module_version": "1.5.0",
            "_model_name": "DescriptionStyleModel",
            "_view_count": null,
            "_view_module": "@jupyter-widgets/base",
            "_view_module_version": "1.2.0",
            "_view_name": "StyleView",
            "description_width": ""
          }
        },
        "47e91d54b62541a7b1f96db8a429bd03": {
          "model_module": "@jupyter-widgets/controls",
          "model_module_version": "1.5.0",
          "model_name": "LabelModel",
          "state": {
            "_dom_classes": [],
            "_model_module": "@jupyter-widgets/controls",
            "_model_module_version": "1.5.0",
            "_model_name": "LabelModel",
            "_view_count": null,
            "_view_module": "@jupyter-widgets/controls",
            "_view_module_version": "1.5.0",
            "_view_name": "LabelView",
            "description": "",
            "description_tooltip": null,
            "layout": "IPY_MODEL_80b293c34b86413a8a18c1b1b8214903",
            "placeholder": "​",
            "style": "IPY_MODEL_2ccf31cf61eb491fa0b5c9426d2ef241",
            "value": "0.008 MB of 0.008 MB uploaded (0.000 MB deduped)\r"
          }
        },
        "47f0f504647f4ebdab261028f1a2bf5e": {
          "model_module": "@jupyter-widgets/controls",
          "model_module_version": "1.5.0",
          "model_name": "DescriptionStyleModel",
          "state": {
            "_model_module": "@jupyter-widgets/controls",
            "_model_module_version": "1.5.0",
            "_model_name": "DescriptionStyleModel",
            "_view_count": null,
            "_view_module": "@jupyter-widgets/base",
            "_view_module_version": "1.2.0",
            "_view_name": "StyleView",
            "description_width": ""
          }
        },
        "497f187a61a24b0f985327f7f3784877": {
          "model_module": "@jupyter-widgets/base",
          "model_module_version": "1.2.0",
          "model_name": "LayoutModel",
          "state": {
            "_model_module": "@jupyter-widgets/base",
            "_model_module_version": "1.2.0",
            "_model_name": "LayoutModel",
            "_view_count": null,
            "_view_module": "@jupyter-widgets/base",
            "_view_module_version": "1.2.0",
            "_view_name": "LayoutView",
            "align_content": null,
            "align_items": null,
            "align_self": null,
            "border": null,
            "bottom": null,
            "display": null,
            "flex": null,
            "flex_flow": null,
            "grid_area": null,
            "grid_auto_columns": null,
            "grid_auto_flow": null,
            "grid_auto_rows": null,
            "grid_column": null,
            "grid_gap": null,
            "grid_row": null,
            "grid_template_areas": null,
            "grid_template_columns": null,
            "grid_template_rows": null,
            "height": null,
            "justify_content": null,
            "justify_items": null,
            "left": null,
            "margin": null,
            "max_height": null,
            "max_width": null,
            "min_height": null,
            "min_width": null,
            "object_fit": null,
            "object_position": null,
            "order": null,
            "overflow": null,
            "overflow_x": null,
            "overflow_y": null,
            "padding": null,
            "right": null,
            "top": null,
            "visibility": null,
            "width": null
          }
        },
        "4a0fa1c5356148acb1cb2f68788df8b5": {
          "model_module": "@jupyter-widgets/controls",
          "model_module_version": "1.5.0",
          "model_name": "FloatProgressModel",
          "state": {
            "_dom_classes": [],
            "_model_module": "@jupyter-widgets/controls",
            "_model_module_version": "1.5.0",
            "_model_name": "FloatProgressModel",
            "_view_count": null,
            "_view_module": "@jupyter-widgets/controls",
            "_view_module_version": "1.5.0",
            "_view_name": "ProgressView",
            "bar_style": "",
            "description": "",
            "description_tooltip": null,
            "layout": "IPY_MODEL_3a2fdf5217134439a33b8d38a93d99c8",
            "max": 1,
            "min": 0,
            "orientation": "horizontal",
            "style": "IPY_MODEL_4c2265180f624702bd5daeea0d28eb01",
            "value": 1
          }
        },
        "4a1125c9b8294969ad4b67ee21f7a32c": {
          "model_module": "@jupyter-widgets/controls",
          "model_module_version": "1.5.0",
          "model_name": "LabelModel",
          "state": {
            "_dom_classes": [],
            "_model_module": "@jupyter-widgets/controls",
            "_model_module_version": "1.5.0",
            "_model_name": "LabelModel",
            "_view_count": null,
            "_view_module": "@jupyter-widgets/controls",
            "_view_module_version": "1.5.0",
            "_view_name": "LabelView",
            "description": "",
            "description_tooltip": null,
            "layout": "IPY_MODEL_91a95985fd3149d3bb692bb01774479d",
            "placeholder": "​",
            "style": "IPY_MODEL_a12c7dde79514cfbb3207f761b933d02",
            "value": "0.008 MB of 0.008 MB uploaded (0.000 MB deduped)\r"
          }
        },
        "4c2265180f624702bd5daeea0d28eb01": {
          "model_module": "@jupyter-widgets/controls",
          "model_module_version": "1.5.0",
          "model_name": "ProgressStyleModel",
          "state": {
            "_model_module": "@jupyter-widgets/controls",
            "_model_module_version": "1.5.0",
            "_model_name": "ProgressStyleModel",
            "_view_count": null,
            "_view_module": "@jupyter-widgets/base",
            "_view_module_version": "1.2.0",
            "_view_name": "StyleView",
            "bar_color": null,
            "description_width": ""
          }
        },
        "4daf486de0284709a5fd169cbd051adc": {
          "model_module": "@jupyter-widgets/controls",
          "model_module_version": "1.5.0",
          "model_name": "ProgressStyleModel",
          "state": {
            "_model_module": "@jupyter-widgets/controls",
            "_model_module_version": "1.5.0",
            "_model_name": "ProgressStyleModel",
            "_view_count": null,
            "_view_module": "@jupyter-widgets/base",
            "_view_module_version": "1.2.0",
            "_view_name": "StyleView",
            "bar_color": null,
            "description_width": ""
          }
        },
        "4df464a71d1a4ae7a477ab896f1267cd": {
          "model_module": "@jupyter-widgets/controls",
          "model_module_version": "1.5.0",
          "model_name": "VBoxModel",
          "state": {
            "_dom_classes": [],
            "_model_module": "@jupyter-widgets/controls",
            "_model_module_version": "1.5.0",
            "_model_name": "VBoxModel",
            "_view_count": null,
            "_view_module": "@jupyter-widgets/controls",
            "_view_module_version": "1.5.0",
            "_view_name": "VBoxView",
            "box_style": "",
            "children": [
              "IPY_MODEL_20e9b221af5143d7b5f1843edb913fbd",
              "IPY_MODEL_0e8d0369675845c58f34dfa438adf1f4"
            ],
            "layout": "IPY_MODEL_d603e39db84f4244a64947bda7b5ad2f"
          }
        },
        "4f9ad66584794f5296650ee19f066374": {
          "model_module": "@jupyter-widgets/base",
          "model_module_version": "1.2.0",
          "model_name": "LayoutModel",
          "state": {
            "_model_module": "@jupyter-widgets/base",
            "_model_module_version": "1.2.0",
            "_model_name": "LayoutModel",
            "_view_count": null,
            "_view_module": "@jupyter-widgets/base",
            "_view_module_version": "1.2.0",
            "_view_name": "LayoutView",
            "align_content": null,
            "align_items": null,
            "align_self": null,
            "border": null,
            "bottom": null,
            "display": null,
            "flex": null,
            "flex_flow": null,
            "grid_area": null,
            "grid_auto_columns": null,
            "grid_auto_flow": null,
            "grid_auto_rows": null,
            "grid_column": null,
            "grid_gap": null,
            "grid_row": null,
            "grid_template_areas": null,
            "grid_template_columns": null,
            "grid_template_rows": null,
            "height": null,
            "justify_content": null,
            "justify_items": null,
            "left": null,
            "margin": null,
            "max_height": null,
            "max_width": null,
            "min_height": null,
            "min_width": null,
            "object_fit": null,
            "object_position": null,
            "order": null,
            "overflow": null,
            "overflow_x": null,
            "overflow_y": null,
            "padding": null,
            "right": null,
            "top": null,
            "visibility": null,
            "width": null
          }
        },
        "4f9afc02411947ffab8fcbee88b952da": {
          "model_module": "@jupyter-widgets/base",
          "model_module_version": "1.2.0",
          "model_name": "LayoutModel",
          "state": {
            "_model_module": "@jupyter-widgets/base",
            "_model_module_version": "1.2.0",
            "_model_name": "LayoutModel",
            "_view_count": null,
            "_view_module": "@jupyter-widgets/base",
            "_view_module_version": "1.2.0",
            "_view_name": "LayoutView",
            "align_content": null,
            "align_items": null,
            "align_self": null,
            "border": null,
            "bottom": null,
            "display": null,
            "flex": null,
            "flex_flow": null,
            "grid_area": null,
            "grid_auto_columns": null,
            "grid_auto_flow": null,
            "grid_auto_rows": null,
            "grid_column": null,
            "grid_gap": null,
            "grid_row": null,
            "grid_template_areas": null,
            "grid_template_columns": null,
            "grid_template_rows": null,
            "height": null,
            "justify_content": null,
            "justify_items": null,
            "left": null,
            "margin": null,
            "max_height": null,
            "max_width": null,
            "min_height": null,
            "min_width": null,
            "object_fit": null,
            "object_position": null,
            "order": null,
            "overflow": null,
            "overflow_x": null,
            "overflow_y": null,
            "padding": null,
            "right": null,
            "top": null,
            "visibility": null,
            "width": null
          }
        },
        "503e2e2d48e04062ab68473558d75ad3": {
          "model_module": "@jupyter-widgets/controls",
          "model_module_version": "1.5.0",
          "model_name": "FloatProgressModel",
          "state": {
            "_dom_classes": [],
            "_model_module": "@jupyter-widgets/controls",
            "_model_module_version": "1.5.0",
            "_model_name": "FloatProgressModel",
            "_view_count": null,
            "_view_module": "@jupyter-widgets/controls",
            "_view_module_version": "1.5.0",
            "_view_name": "ProgressView",
            "bar_style": "",
            "description": "",
            "description_tooltip": null,
            "layout": "IPY_MODEL_24e3356080b64ab1be16438ff008ec86",
            "max": 1,
            "min": 0,
            "orientation": "horizontal",
            "style": "IPY_MODEL_33bc36a6661242b19f0a4183a8a69196",
            "value": 1
          }
        },
        "5045b7a92fda49a09e934715065ad2f2": {
          "model_module": "@jupyter-widgets/controls",
          "model_module_version": "1.5.0",
          "model_name": "ProgressStyleModel",
          "state": {
            "_model_module": "@jupyter-widgets/controls",
            "_model_module_version": "1.5.0",
            "_model_name": "ProgressStyleModel",
            "_view_count": null,
            "_view_module": "@jupyter-widgets/base",
            "_view_module_version": "1.2.0",
            "_view_name": "StyleView",
            "bar_color": null,
            "description_width": ""
          }
        },
        "5093eeb46acc490188a87bf43047a1ac": {
          "model_module": "@jupyter-widgets/controls",
          "model_module_version": "1.5.0",
          "model_name": "DescriptionStyleModel",
          "state": {
            "_model_module": "@jupyter-widgets/controls",
            "_model_module_version": "1.5.0",
            "_model_name": "DescriptionStyleModel",
            "_view_count": null,
            "_view_module": "@jupyter-widgets/base",
            "_view_module_version": "1.2.0",
            "_view_name": "StyleView",
            "description_width": ""
          }
        },
        "51246c1b6b4c4c8cbb160abc599f9eb7": {
          "model_module": "@jupyter-widgets/controls",
          "model_module_version": "1.5.0",
          "model_name": "FloatProgressModel",
          "state": {
            "_dom_classes": [],
            "_model_module": "@jupyter-widgets/controls",
            "_model_module_version": "1.5.0",
            "_model_name": "FloatProgressModel",
            "_view_count": null,
            "_view_module": "@jupyter-widgets/controls",
            "_view_module_version": "1.5.0",
            "_view_name": "ProgressView",
            "bar_style": "",
            "description": "",
            "description_tooltip": null,
            "layout": "IPY_MODEL_0aab280feae246178b404973f3533c28",
            "max": 1,
            "min": 0,
            "orientation": "horizontal",
            "style": "IPY_MODEL_0fe76597c25c4532a33452ca07abdfee",
            "value": 1
          }
        },
        "55818a2263374c2a887841b4a7e792c3": {
          "model_module": "@jupyter-widgets/base",
          "model_module_version": "1.2.0",
          "model_name": "LayoutModel",
          "state": {
            "_model_module": "@jupyter-widgets/base",
            "_model_module_version": "1.2.0",
            "_model_name": "LayoutModel",
            "_view_count": null,
            "_view_module": "@jupyter-widgets/base",
            "_view_module_version": "1.2.0",
            "_view_name": "LayoutView",
            "align_content": null,
            "align_items": null,
            "align_self": null,
            "border": null,
            "bottom": null,
            "display": null,
            "flex": null,
            "flex_flow": null,
            "grid_area": null,
            "grid_auto_columns": null,
            "grid_auto_flow": null,
            "grid_auto_rows": null,
            "grid_column": null,
            "grid_gap": null,
            "grid_row": null,
            "grid_template_areas": null,
            "grid_template_columns": null,
            "grid_template_rows": null,
            "height": null,
            "justify_content": null,
            "justify_items": null,
            "left": null,
            "margin": null,
            "max_height": null,
            "max_width": null,
            "min_height": null,
            "min_width": null,
            "object_fit": null,
            "object_position": null,
            "order": null,
            "overflow": null,
            "overflow_x": null,
            "overflow_y": null,
            "padding": null,
            "right": null,
            "top": null,
            "visibility": null,
            "width": null
          }
        },
        "566f98bc71bc4dc09d9a1305516fed01": {
          "model_module": "@jupyter-widgets/controls",
          "model_module_version": "1.5.0",
          "model_name": "FloatProgressModel",
          "state": {
            "_dom_classes": [],
            "_model_module": "@jupyter-widgets/controls",
            "_model_module_version": "1.5.0",
            "_model_name": "FloatProgressModel",
            "_view_count": null,
            "_view_module": "@jupyter-widgets/controls",
            "_view_module_version": "1.5.0",
            "_view_name": "ProgressView",
            "bar_style": "",
            "description": "",
            "description_tooltip": null,
            "layout": "IPY_MODEL_b8a401eab66446ecba5f67dc0513af2d",
            "max": 1,
            "min": 0,
            "orientation": "horizontal",
            "style": "IPY_MODEL_3d5a257b1db9411c8d5728352ba36178",
            "value": 1
          }
        },
        "57c838a409b342c699a3019000e48295": {
          "model_module": "@jupyter-widgets/base",
          "model_module_version": "1.2.0",
          "model_name": "LayoutModel",
          "state": {
            "_model_module": "@jupyter-widgets/base",
            "_model_module_version": "1.2.0",
            "_model_name": "LayoutModel",
            "_view_count": null,
            "_view_module": "@jupyter-widgets/base",
            "_view_module_version": "1.2.0",
            "_view_name": "LayoutView",
            "align_content": null,
            "align_items": null,
            "align_self": null,
            "border": null,
            "bottom": null,
            "display": null,
            "flex": null,
            "flex_flow": null,
            "grid_area": null,
            "grid_auto_columns": null,
            "grid_auto_flow": null,
            "grid_auto_rows": null,
            "grid_column": null,
            "grid_gap": null,
            "grid_row": null,
            "grid_template_areas": null,
            "grid_template_columns": null,
            "grid_template_rows": null,
            "height": null,
            "justify_content": null,
            "justify_items": null,
            "left": null,
            "margin": null,
            "max_height": null,
            "max_width": null,
            "min_height": null,
            "min_width": null,
            "object_fit": null,
            "object_position": null,
            "order": null,
            "overflow": null,
            "overflow_x": null,
            "overflow_y": null,
            "padding": null,
            "right": null,
            "top": null,
            "visibility": null,
            "width": null
          }
        },
        "58290fc2414040618ed243c2cde7506a": {
          "model_module": "@jupyter-widgets/base",
          "model_module_version": "1.2.0",
          "model_name": "LayoutModel",
          "state": {
            "_model_module": "@jupyter-widgets/base",
            "_model_module_version": "1.2.0",
            "_model_name": "LayoutModel",
            "_view_count": null,
            "_view_module": "@jupyter-widgets/base",
            "_view_module_version": "1.2.0",
            "_view_name": "LayoutView",
            "align_content": null,
            "align_items": null,
            "align_self": null,
            "border": null,
            "bottom": null,
            "display": null,
            "flex": null,
            "flex_flow": null,
            "grid_area": null,
            "grid_auto_columns": null,
            "grid_auto_flow": null,
            "grid_auto_rows": null,
            "grid_column": null,
            "grid_gap": null,
            "grid_row": null,
            "grid_template_areas": null,
            "grid_template_columns": null,
            "grid_template_rows": null,
            "height": null,
            "justify_content": null,
            "justify_items": null,
            "left": null,
            "margin": null,
            "max_height": null,
            "max_width": null,
            "min_height": null,
            "min_width": null,
            "object_fit": null,
            "object_position": null,
            "order": null,
            "overflow": null,
            "overflow_x": null,
            "overflow_y": null,
            "padding": null,
            "right": null,
            "top": null,
            "visibility": null,
            "width": null
          }
        },
        "58b47451faa54f3dbdfb07dcb6f43f71": {
          "model_module": "@jupyter-widgets/controls",
          "model_module_version": "1.5.0",
          "model_name": "FloatProgressModel",
          "state": {
            "_dom_classes": [],
            "_model_module": "@jupyter-widgets/controls",
            "_model_module_version": "1.5.0",
            "_model_name": "FloatProgressModel",
            "_view_count": null,
            "_view_module": "@jupyter-widgets/controls",
            "_view_module_version": "1.5.0",
            "_view_name": "ProgressView",
            "bar_style": "",
            "description": "",
            "description_tooltip": null,
            "layout": "IPY_MODEL_6e93e92526ca4f7c8841e0604dbc04f3",
            "max": 1,
            "min": 0,
            "orientation": "horizontal",
            "style": "IPY_MODEL_e979bbacdc1c4e339525c7a83f9dff5a",
            "value": 1
          }
        },
        "59ef3cafc3c4489f9634ec14977146b1": {
          "model_module": "@jupyter-widgets/base",
          "model_module_version": "1.2.0",
          "model_name": "LayoutModel",
          "state": {
            "_model_module": "@jupyter-widgets/base",
            "_model_module_version": "1.2.0",
            "_model_name": "LayoutModel",
            "_view_count": null,
            "_view_module": "@jupyter-widgets/base",
            "_view_module_version": "1.2.0",
            "_view_name": "LayoutView",
            "align_content": null,
            "align_items": null,
            "align_self": null,
            "border": null,
            "bottom": null,
            "display": null,
            "flex": null,
            "flex_flow": null,
            "grid_area": null,
            "grid_auto_columns": null,
            "grid_auto_flow": null,
            "grid_auto_rows": null,
            "grid_column": null,
            "grid_gap": null,
            "grid_row": null,
            "grid_template_areas": null,
            "grid_template_columns": null,
            "grid_template_rows": null,
            "height": null,
            "justify_content": null,
            "justify_items": null,
            "left": null,
            "margin": null,
            "max_height": null,
            "max_width": null,
            "min_height": null,
            "min_width": null,
            "object_fit": null,
            "object_position": null,
            "order": null,
            "overflow": null,
            "overflow_x": null,
            "overflow_y": null,
            "padding": null,
            "right": null,
            "top": null,
            "visibility": null,
            "width": null
          }
        },
        "59f9c978c1b6474593569de29957fc70": {
          "model_module": "@jupyter-widgets/base",
          "model_module_version": "1.2.0",
          "model_name": "LayoutModel",
          "state": {
            "_model_module": "@jupyter-widgets/base",
            "_model_module_version": "1.2.0",
            "_model_name": "LayoutModel",
            "_view_count": null,
            "_view_module": "@jupyter-widgets/base",
            "_view_module_version": "1.2.0",
            "_view_name": "LayoutView",
            "align_content": null,
            "align_items": null,
            "align_self": null,
            "border": null,
            "bottom": null,
            "display": null,
            "flex": null,
            "flex_flow": null,
            "grid_area": null,
            "grid_auto_columns": null,
            "grid_auto_flow": null,
            "grid_auto_rows": null,
            "grid_column": null,
            "grid_gap": null,
            "grid_row": null,
            "grid_template_areas": null,
            "grid_template_columns": null,
            "grid_template_rows": null,
            "height": null,
            "justify_content": null,
            "justify_items": null,
            "left": null,
            "margin": null,
            "max_height": null,
            "max_width": null,
            "min_height": null,
            "min_width": null,
            "object_fit": null,
            "object_position": null,
            "order": null,
            "overflow": null,
            "overflow_x": null,
            "overflow_y": null,
            "padding": null,
            "right": null,
            "top": null,
            "visibility": null,
            "width": null
          }
        },
        "5d03cd6ca18d42cdbd525152e46a4342": {
          "model_module": "@jupyter-widgets/base",
          "model_module_version": "1.2.0",
          "model_name": "LayoutModel",
          "state": {
            "_model_module": "@jupyter-widgets/base",
            "_model_module_version": "1.2.0",
            "_model_name": "LayoutModel",
            "_view_count": null,
            "_view_module": "@jupyter-widgets/base",
            "_view_module_version": "1.2.0",
            "_view_name": "LayoutView",
            "align_content": null,
            "align_items": null,
            "align_self": null,
            "border": null,
            "bottom": null,
            "display": null,
            "flex": null,
            "flex_flow": null,
            "grid_area": null,
            "grid_auto_columns": null,
            "grid_auto_flow": null,
            "grid_auto_rows": null,
            "grid_column": null,
            "grid_gap": null,
            "grid_row": null,
            "grid_template_areas": null,
            "grid_template_columns": null,
            "grid_template_rows": null,
            "height": null,
            "justify_content": null,
            "justify_items": null,
            "left": null,
            "margin": null,
            "max_height": null,
            "max_width": null,
            "min_height": null,
            "min_width": null,
            "object_fit": null,
            "object_position": null,
            "order": null,
            "overflow": null,
            "overflow_x": null,
            "overflow_y": null,
            "padding": null,
            "right": null,
            "top": null,
            "visibility": null,
            "width": null
          }
        },
        "5d088203116a4b8fa64c5fe84b57600c": {
          "model_module": "@jupyter-widgets/controls",
          "model_module_version": "1.5.0",
          "model_name": "DescriptionStyleModel",
          "state": {
            "_model_module": "@jupyter-widgets/controls",
            "_model_module_version": "1.5.0",
            "_model_name": "DescriptionStyleModel",
            "_view_count": null,
            "_view_module": "@jupyter-widgets/base",
            "_view_module_version": "1.2.0",
            "_view_name": "StyleView",
            "description_width": ""
          }
        },
        "5d2d6a7dce344c7ba2b632ea2a2cff25": {
          "model_module": "@jupyter-widgets/controls",
          "model_module_version": "1.5.0",
          "model_name": "VBoxModel",
          "state": {
            "_dom_classes": [],
            "_model_module": "@jupyter-widgets/controls",
            "_model_module_version": "1.5.0",
            "_model_name": "VBoxModel",
            "_view_count": null,
            "_view_module": "@jupyter-widgets/controls",
            "_view_module_version": "1.5.0",
            "_view_name": "VBoxView",
            "box_style": "",
            "children": [
              "IPY_MODEL_dd7fdd8eca5a416eb5eef8992f64ed89",
              "IPY_MODEL_b8bb90a08e3c471aa0c3287ae22c959b"
            ],
            "layout": "IPY_MODEL_ae044b9ef7334e5bb1f5e33db19696cb"
          }
        },
        "5f202a8e19ae4824bed6e4b1c292342a": {
          "model_module": "@jupyter-widgets/controls",
          "model_module_version": "1.5.0",
          "model_name": "FloatProgressModel",
          "state": {
            "_dom_classes": [],
            "_model_module": "@jupyter-widgets/controls",
            "_model_module_version": "1.5.0",
            "_model_name": "FloatProgressModel",
            "_view_count": null,
            "_view_module": "@jupyter-widgets/controls",
            "_view_module_version": "1.5.0",
            "_view_name": "ProgressView",
            "bar_style": "",
            "description": "",
            "description_tooltip": null,
            "layout": "IPY_MODEL_cafc98a2a04d4571b71ad4931f10dbca",
            "max": 1,
            "min": 0,
            "orientation": "horizontal",
            "style": "IPY_MODEL_815dc0d771b34e469d745986715d353d",
            "value": 1
          }
        },
        "602ce2cd6edf41159c2d0fb284d7b118": {
          "model_module": "@jupyter-widgets/base",
          "model_module_version": "1.2.0",
          "model_name": "LayoutModel",
          "state": {
            "_model_module": "@jupyter-widgets/base",
            "_model_module_version": "1.2.0",
            "_model_name": "LayoutModel",
            "_view_count": null,
            "_view_module": "@jupyter-widgets/base",
            "_view_module_version": "1.2.0",
            "_view_name": "LayoutView",
            "align_content": null,
            "align_items": null,
            "align_self": null,
            "border": null,
            "bottom": null,
            "display": null,
            "flex": null,
            "flex_flow": null,
            "grid_area": null,
            "grid_auto_columns": null,
            "grid_auto_flow": null,
            "grid_auto_rows": null,
            "grid_column": null,
            "grid_gap": null,
            "grid_row": null,
            "grid_template_areas": null,
            "grid_template_columns": null,
            "grid_template_rows": null,
            "height": null,
            "justify_content": null,
            "justify_items": null,
            "left": null,
            "margin": null,
            "max_height": null,
            "max_width": null,
            "min_height": null,
            "min_width": null,
            "object_fit": null,
            "object_position": null,
            "order": null,
            "overflow": null,
            "overflow_x": null,
            "overflow_y": null,
            "padding": null,
            "right": null,
            "top": null,
            "visibility": null,
            "width": null
          }
        },
        "6144be84c64647469a285ce6b3b863e3": {
          "model_module": "@jupyter-widgets/controls",
          "model_module_version": "1.5.0",
          "model_name": "ProgressStyleModel",
          "state": {
            "_model_module": "@jupyter-widgets/controls",
            "_model_module_version": "1.5.0",
            "_model_name": "ProgressStyleModel",
            "_view_count": null,
            "_view_module": "@jupyter-widgets/base",
            "_view_module_version": "1.2.0",
            "_view_name": "StyleView",
            "bar_color": null,
            "description_width": ""
          }
        },
        "625a387baa0e454182ca3438f49ae1c9": {
          "model_module": "@jupyter-widgets/base",
          "model_module_version": "1.2.0",
          "model_name": "LayoutModel",
          "state": {
            "_model_module": "@jupyter-widgets/base",
            "_model_module_version": "1.2.0",
            "_model_name": "LayoutModel",
            "_view_count": null,
            "_view_module": "@jupyter-widgets/base",
            "_view_module_version": "1.2.0",
            "_view_name": "LayoutView",
            "align_content": null,
            "align_items": null,
            "align_self": null,
            "border": null,
            "bottom": null,
            "display": null,
            "flex": null,
            "flex_flow": null,
            "grid_area": null,
            "grid_auto_columns": null,
            "grid_auto_flow": null,
            "grid_auto_rows": null,
            "grid_column": null,
            "grid_gap": null,
            "grid_row": null,
            "grid_template_areas": null,
            "grid_template_columns": null,
            "grid_template_rows": null,
            "height": null,
            "justify_content": null,
            "justify_items": null,
            "left": null,
            "margin": null,
            "max_height": null,
            "max_width": null,
            "min_height": null,
            "min_width": null,
            "object_fit": null,
            "object_position": null,
            "order": null,
            "overflow": null,
            "overflow_x": null,
            "overflow_y": null,
            "padding": null,
            "right": null,
            "top": null,
            "visibility": null,
            "width": null
          }
        },
        "6325acc936c44b3b8c1bc06a9dfd63b7": {
          "model_module": "@jupyter-widgets/base",
          "model_module_version": "1.2.0",
          "model_name": "LayoutModel",
          "state": {
            "_model_module": "@jupyter-widgets/base",
            "_model_module_version": "1.2.0",
            "_model_name": "LayoutModel",
            "_view_count": null,
            "_view_module": "@jupyter-widgets/base",
            "_view_module_version": "1.2.0",
            "_view_name": "LayoutView",
            "align_content": null,
            "align_items": null,
            "align_self": null,
            "border": null,
            "bottom": null,
            "display": null,
            "flex": null,
            "flex_flow": null,
            "grid_area": null,
            "grid_auto_columns": null,
            "grid_auto_flow": null,
            "grid_auto_rows": null,
            "grid_column": null,
            "grid_gap": null,
            "grid_row": null,
            "grid_template_areas": null,
            "grid_template_columns": null,
            "grid_template_rows": null,
            "height": null,
            "justify_content": null,
            "justify_items": null,
            "left": null,
            "margin": null,
            "max_height": null,
            "max_width": null,
            "min_height": null,
            "min_width": null,
            "object_fit": null,
            "object_position": null,
            "order": null,
            "overflow": null,
            "overflow_x": null,
            "overflow_y": null,
            "padding": null,
            "right": null,
            "top": null,
            "visibility": null,
            "width": null
          }
        },
        "63c68ef5e2894d338847f7acc63805d0": {
          "model_module": "@jupyter-widgets/base",
          "model_module_version": "1.2.0",
          "model_name": "LayoutModel",
          "state": {
            "_model_module": "@jupyter-widgets/base",
            "_model_module_version": "1.2.0",
            "_model_name": "LayoutModel",
            "_view_count": null,
            "_view_module": "@jupyter-widgets/base",
            "_view_module_version": "1.2.0",
            "_view_name": "LayoutView",
            "align_content": null,
            "align_items": null,
            "align_self": null,
            "border": null,
            "bottom": null,
            "display": null,
            "flex": null,
            "flex_flow": null,
            "grid_area": null,
            "grid_auto_columns": null,
            "grid_auto_flow": null,
            "grid_auto_rows": null,
            "grid_column": null,
            "grid_gap": null,
            "grid_row": null,
            "grid_template_areas": null,
            "grid_template_columns": null,
            "grid_template_rows": null,
            "height": null,
            "justify_content": null,
            "justify_items": null,
            "left": null,
            "margin": null,
            "max_height": null,
            "max_width": null,
            "min_height": null,
            "min_width": null,
            "object_fit": null,
            "object_position": null,
            "order": null,
            "overflow": null,
            "overflow_x": null,
            "overflow_y": null,
            "padding": null,
            "right": null,
            "top": null,
            "visibility": null,
            "width": null
          }
        },
        "63de53e832f74d94a23c13825c9ea14b": {
          "model_module": "@jupyter-widgets/controls",
          "model_module_version": "1.5.0",
          "model_name": "VBoxModel",
          "state": {
            "_dom_classes": [],
            "_model_module": "@jupyter-widgets/controls",
            "_model_module_version": "1.5.0",
            "_model_name": "VBoxModel",
            "_view_count": null,
            "_view_module": "@jupyter-widgets/controls",
            "_view_module_version": "1.5.0",
            "_view_name": "VBoxView",
            "box_style": "",
            "children": [
              "IPY_MODEL_d13ca2793aa24a9e94fefd629c4ed798",
              "IPY_MODEL_2d79bde4308044f5b655f870fd9cc823"
            ],
            "layout": "IPY_MODEL_9d985d0406854c619d594ae20a10a6b9"
          }
        },
        "650f88ef032d416ab8604aa31c12f91b": {
          "model_module": "@jupyter-widgets/controls",
          "model_module_version": "1.5.0",
          "model_name": "FloatProgressModel",
          "state": {
            "_dom_classes": [],
            "_model_module": "@jupyter-widgets/controls",
            "_model_module_version": "1.5.0",
            "_model_name": "FloatProgressModel",
            "_view_count": null,
            "_view_module": "@jupyter-widgets/controls",
            "_view_module_version": "1.5.0",
            "_view_name": "ProgressView",
            "bar_style": "",
            "description": "",
            "description_tooltip": null,
            "layout": "IPY_MODEL_58290fc2414040618ed243c2cde7506a",
            "max": 1,
            "min": 0,
            "orientation": "horizontal",
            "style": "IPY_MODEL_ffbdf902c2214935833f67a162471ba2",
            "value": 1
          }
        },
        "66388fb5f2fa45488f8483110b20e4f4": {
          "model_module": "@jupyter-widgets/controls",
          "model_module_version": "1.5.0",
          "model_name": "LabelModel",
          "state": {
            "_dom_classes": [],
            "_model_module": "@jupyter-widgets/controls",
            "_model_module_version": "1.5.0",
            "_model_name": "LabelModel",
            "_view_count": null,
            "_view_module": "@jupyter-widgets/controls",
            "_view_module_version": "1.5.0",
            "_view_name": "LabelView",
            "description": "",
            "description_tooltip": null,
            "layout": "IPY_MODEL_004da51d715041848df6bd161334ffcc",
            "placeholder": "​",
            "style": "IPY_MODEL_5093eeb46acc490188a87bf43047a1ac",
            "value": "0.008 MB of 0.008 MB uploaded (0.000 MB deduped)\r"
          }
        },
        "6745d5cb2c314c30b065638d08b84344": {
          "model_module": "@jupyter-widgets/controls",
          "model_module_version": "1.5.0",
          "model_name": "VBoxModel",
          "state": {
            "_dom_classes": [],
            "_model_module": "@jupyter-widgets/controls",
            "_model_module_version": "1.5.0",
            "_model_name": "VBoxModel",
            "_view_count": null,
            "_view_module": "@jupyter-widgets/controls",
            "_view_module_version": "1.5.0",
            "_view_name": "VBoxView",
            "box_style": "",
            "children": [
              "IPY_MODEL_2384a0ae6db94eebb5996889c4f906ac",
              "IPY_MODEL_fa0c7102a3ad46b1885ce7407a05f746"
            ],
            "layout": "IPY_MODEL_a1a1db81e853468aa5c3349c4992c00e"
          }
        },
        "6ac7f23a6ada4dada30e9163aaf6a11c": {
          "model_module": "@jupyter-widgets/controls",
          "model_module_version": "1.5.0",
          "model_name": "FloatProgressModel",
          "state": {
            "_dom_classes": [],
            "_model_module": "@jupyter-widgets/controls",
            "_model_module_version": "1.5.0",
            "_model_name": "FloatProgressModel",
            "_view_count": null,
            "_view_module": "@jupyter-widgets/controls",
            "_view_module_version": "1.5.0",
            "_view_name": "ProgressView",
            "bar_style": "",
            "description": "",
            "description_tooltip": null,
            "layout": "IPY_MODEL_a04b8d16311146d390d8f1c61df8acab",
            "max": 1,
            "min": 0,
            "orientation": "horizontal",
            "style": "IPY_MODEL_4daf486de0284709a5fd169cbd051adc",
            "value": 1
          }
        },
        "6aed5bcb1e6e45008ba6d25ac5c0a6c8": {
          "model_module": "@jupyter-widgets/base",
          "model_module_version": "1.2.0",
          "model_name": "LayoutModel",
          "state": {
            "_model_module": "@jupyter-widgets/base",
            "_model_module_version": "1.2.0",
            "_model_name": "LayoutModel",
            "_view_count": null,
            "_view_module": "@jupyter-widgets/base",
            "_view_module_version": "1.2.0",
            "_view_name": "LayoutView",
            "align_content": null,
            "align_items": null,
            "align_self": null,
            "border": null,
            "bottom": null,
            "display": null,
            "flex": null,
            "flex_flow": null,
            "grid_area": null,
            "grid_auto_columns": null,
            "grid_auto_flow": null,
            "grid_auto_rows": null,
            "grid_column": null,
            "grid_gap": null,
            "grid_row": null,
            "grid_template_areas": null,
            "grid_template_columns": null,
            "grid_template_rows": null,
            "height": null,
            "justify_content": null,
            "justify_items": null,
            "left": null,
            "margin": null,
            "max_height": null,
            "max_width": null,
            "min_height": null,
            "min_width": null,
            "object_fit": null,
            "object_position": null,
            "order": null,
            "overflow": null,
            "overflow_x": null,
            "overflow_y": null,
            "padding": null,
            "right": null,
            "top": null,
            "visibility": null,
            "width": null
          }
        },
        "6e93e92526ca4f7c8841e0604dbc04f3": {
          "model_module": "@jupyter-widgets/base",
          "model_module_version": "1.2.0",
          "model_name": "LayoutModel",
          "state": {
            "_model_module": "@jupyter-widgets/base",
            "_model_module_version": "1.2.0",
            "_model_name": "LayoutModel",
            "_view_count": null,
            "_view_module": "@jupyter-widgets/base",
            "_view_module_version": "1.2.0",
            "_view_name": "LayoutView",
            "align_content": null,
            "align_items": null,
            "align_self": null,
            "border": null,
            "bottom": null,
            "display": null,
            "flex": null,
            "flex_flow": null,
            "grid_area": null,
            "grid_auto_columns": null,
            "grid_auto_flow": null,
            "grid_auto_rows": null,
            "grid_column": null,
            "grid_gap": null,
            "grid_row": null,
            "grid_template_areas": null,
            "grid_template_columns": null,
            "grid_template_rows": null,
            "height": null,
            "justify_content": null,
            "justify_items": null,
            "left": null,
            "margin": null,
            "max_height": null,
            "max_width": null,
            "min_height": null,
            "min_width": null,
            "object_fit": null,
            "object_position": null,
            "order": null,
            "overflow": null,
            "overflow_x": null,
            "overflow_y": null,
            "padding": null,
            "right": null,
            "top": null,
            "visibility": null,
            "width": null
          }
        },
        "78342a5670444d0b936908da936f8f91": {
          "model_module": "@jupyter-widgets/base",
          "model_module_version": "1.2.0",
          "model_name": "LayoutModel",
          "state": {
            "_model_module": "@jupyter-widgets/base",
            "_model_module_version": "1.2.0",
            "_model_name": "LayoutModel",
            "_view_count": null,
            "_view_module": "@jupyter-widgets/base",
            "_view_module_version": "1.2.0",
            "_view_name": "LayoutView",
            "align_content": null,
            "align_items": null,
            "align_self": null,
            "border": null,
            "bottom": null,
            "display": null,
            "flex": null,
            "flex_flow": null,
            "grid_area": null,
            "grid_auto_columns": null,
            "grid_auto_flow": null,
            "grid_auto_rows": null,
            "grid_column": null,
            "grid_gap": null,
            "grid_row": null,
            "grid_template_areas": null,
            "grid_template_columns": null,
            "grid_template_rows": null,
            "height": null,
            "justify_content": null,
            "justify_items": null,
            "left": null,
            "margin": null,
            "max_height": null,
            "max_width": null,
            "min_height": null,
            "min_width": null,
            "object_fit": null,
            "object_position": null,
            "order": null,
            "overflow": null,
            "overflow_x": null,
            "overflow_y": null,
            "padding": null,
            "right": null,
            "top": null,
            "visibility": null,
            "width": null
          }
        },
        "79f389fe04034fc9a67a5f748e1ceea0": {
          "model_module": "@jupyter-widgets/controls",
          "model_module_version": "1.5.0",
          "model_name": "FloatProgressModel",
          "state": {
            "_dom_classes": [],
            "_model_module": "@jupyter-widgets/controls",
            "_model_module_version": "1.5.0",
            "_model_name": "FloatProgressModel",
            "_view_count": null,
            "_view_module": "@jupyter-widgets/controls",
            "_view_module_version": "1.5.0",
            "_view_name": "ProgressView",
            "bar_style": "",
            "description": "",
            "description_tooltip": null,
            "layout": "IPY_MODEL_f1f1e0f2fdd744d1ac76643731a520c9",
            "max": 1,
            "min": 0,
            "orientation": "horizontal",
            "style": "IPY_MODEL_6144be84c64647469a285ce6b3b863e3",
            "value": 1
          }
        },
        "7c396dc441054d53be359f252d7da7fc": {
          "model_module": "@jupyter-widgets/controls",
          "model_module_version": "1.5.0",
          "model_name": "FloatProgressModel",
          "state": {
            "_dom_classes": [],
            "_model_module": "@jupyter-widgets/controls",
            "_model_module_version": "1.5.0",
            "_model_name": "FloatProgressModel",
            "_view_count": null,
            "_view_module": "@jupyter-widgets/controls",
            "_view_module_version": "1.5.0",
            "_view_name": "ProgressView",
            "bar_style": "",
            "description": "",
            "description_tooltip": null,
            "layout": "IPY_MODEL_f910e97216f14cee97a2acd3ef95c2c2",
            "max": 1,
            "min": 0,
            "orientation": "horizontal",
            "style": "IPY_MODEL_b4dca91ff6e24e00a4c8bd152791d01d",
            "value": 1
          }
        },
        "7c4bcc9a6bd74c56b99268f8c6e65f14": {
          "model_module": "@jupyter-widgets/base",
          "model_module_version": "1.2.0",
          "model_name": "LayoutModel",
          "state": {
            "_model_module": "@jupyter-widgets/base",
            "_model_module_version": "1.2.0",
            "_model_name": "LayoutModel",
            "_view_count": null,
            "_view_module": "@jupyter-widgets/base",
            "_view_module_version": "1.2.0",
            "_view_name": "LayoutView",
            "align_content": null,
            "align_items": null,
            "align_self": null,
            "border": null,
            "bottom": null,
            "display": null,
            "flex": null,
            "flex_flow": null,
            "grid_area": null,
            "grid_auto_columns": null,
            "grid_auto_flow": null,
            "grid_auto_rows": null,
            "grid_column": null,
            "grid_gap": null,
            "grid_row": null,
            "grid_template_areas": null,
            "grid_template_columns": null,
            "grid_template_rows": null,
            "height": null,
            "justify_content": null,
            "justify_items": null,
            "left": null,
            "margin": null,
            "max_height": null,
            "max_width": null,
            "min_height": null,
            "min_width": null,
            "object_fit": null,
            "object_position": null,
            "order": null,
            "overflow": null,
            "overflow_x": null,
            "overflow_y": null,
            "padding": null,
            "right": null,
            "top": null,
            "visibility": null,
            "width": null
          }
        },
        "7d0bd7bd596e46759a5b2c4c7972083f": {
          "model_module": "@jupyter-widgets/controls",
          "model_module_version": "1.5.0",
          "model_name": "DescriptionStyleModel",
          "state": {
            "_model_module": "@jupyter-widgets/controls",
            "_model_module_version": "1.5.0",
            "_model_name": "DescriptionStyleModel",
            "_view_count": null,
            "_view_module": "@jupyter-widgets/base",
            "_view_module_version": "1.2.0",
            "_view_name": "StyleView",
            "description_width": ""
          }
        },
        "7d32bc35434f433793b3791bf7320f74": {
          "model_module": "@jupyter-widgets/base",
          "model_module_version": "1.2.0",
          "model_name": "LayoutModel",
          "state": {
            "_model_module": "@jupyter-widgets/base",
            "_model_module_version": "1.2.0",
            "_model_name": "LayoutModel",
            "_view_count": null,
            "_view_module": "@jupyter-widgets/base",
            "_view_module_version": "1.2.0",
            "_view_name": "LayoutView",
            "align_content": null,
            "align_items": null,
            "align_self": null,
            "border": null,
            "bottom": null,
            "display": null,
            "flex": null,
            "flex_flow": null,
            "grid_area": null,
            "grid_auto_columns": null,
            "grid_auto_flow": null,
            "grid_auto_rows": null,
            "grid_column": null,
            "grid_gap": null,
            "grid_row": null,
            "grid_template_areas": null,
            "grid_template_columns": null,
            "grid_template_rows": null,
            "height": null,
            "justify_content": null,
            "justify_items": null,
            "left": null,
            "margin": null,
            "max_height": null,
            "max_width": null,
            "min_height": null,
            "min_width": null,
            "object_fit": null,
            "object_position": null,
            "order": null,
            "overflow": null,
            "overflow_x": null,
            "overflow_y": null,
            "padding": null,
            "right": null,
            "top": null,
            "visibility": null,
            "width": null
          }
        },
        "80b293c34b86413a8a18c1b1b8214903": {
          "model_module": "@jupyter-widgets/base",
          "model_module_version": "1.2.0",
          "model_name": "LayoutModel",
          "state": {
            "_model_module": "@jupyter-widgets/base",
            "_model_module_version": "1.2.0",
            "_model_name": "LayoutModel",
            "_view_count": null,
            "_view_module": "@jupyter-widgets/base",
            "_view_module_version": "1.2.0",
            "_view_name": "LayoutView",
            "align_content": null,
            "align_items": null,
            "align_self": null,
            "border": null,
            "bottom": null,
            "display": null,
            "flex": null,
            "flex_flow": null,
            "grid_area": null,
            "grid_auto_columns": null,
            "grid_auto_flow": null,
            "grid_auto_rows": null,
            "grid_column": null,
            "grid_gap": null,
            "grid_row": null,
            "grid_template_areas": null,
            "grid_template_columns": null,
            "grid_template_rows": null,
            "height": null,
            "justify_content": null,
            "justify_items": null,
            "left": null,
            "margin": null,
            "max_height": null,
            "max_width": null,
            "min_height": null,
            "min_width": null,
            "object_fit": null,
            "object_position": null,
            "order": null,
            "overflow": null,
            "overflow_x": null,
            "overflow_y": null,
            "padding": null,
            "right": null,
            "top": null,
            "visibility": null,
            "width": null
          }
        },
        "811b6896d326492296def400203eb8d4": {
          "model_module": "@jupyter-widgets/base",
          "model_module_version": "1.2.0",
          "model_name": "LayoutModel",
          "state": {
            "_model_module": "@jupyter-widgets/base",
            "_model_module_version": "1.2.0",
            "_model_name": "LayoutModel",
            "_view_count": null,
            "_view_module": "@jupyter-widgets/base",
            "_view_module_version": "1.2.0",
            "_view_name": "LayoutView",
            "align_content": null,
            "align_items": null,
            "align_self": null,
            "border": null,
            "bottom": null,
            "display": null,
            "flex": null,
            "flex_flow": null,
            "grid_area": null,
            "grid_auto_columns": null,
            "grid_auto_flow": null,
            "grid_auto_rows": null,
            "grid_column": null,
            "grid_gap": null,
            "grid_row": null,
            "grid_template_areas": null,
            "grid_template_columns": null,
            "grid_template_rows": null,
            "height": null,
            "justify_content": null,
            "justify_items": null,
            "left": null,
            "margin": null,
            "max_height": null,
            "max_width": null,
            "min_height": null,
            "min_width": null,
            "object_fit": null,
            "object_position": null,
            "order": null,
            "overflow": null,
            "overflow_x": null,
            "overflow_y": null,
            "padding": null,
            "right": null,
            "top": null,
            "visibility": null,
            "width": null
          }
        },
        "813021519aa74fcb8c73e8b537af6f9f": {
          "model_module": "@jupyter-widgets/base",
          "model_module_version": "1.2.0",
          "model_name": "LayoutModel",
          "state": {
            "_model_module": "@jupyter-widgets/base",
            "_model_module_version": "1.2.0",
            "_model_name": "LayoutModel",
            "_view_count": null,
            "_view_module": "@jupyter-widgets/base",
            "_view_module_version": "1.2.0",
            "_view_name": "LayoutView",
            "align_content": null,
            "align_items": null,
            "align_self": null,
            "border": null,
            "bottom": null,
            "display": null,
            "flex": null,
            "flex_flow": null,
            "grid_area": null,
            "grid_auto_columns": null,
            "grid_auto_flow": null,
            "grid_auto_rows": null,
            "grid_column": null,
            "grid_gap": null,
            "grid_row": null,
            "grid_template_areas": null,
            "grid_template_columns": null,
            "grid_template_rows": null,
            "height": null,
            "justify_content": null,
            "justify_items": null,
            "left": null,
            "margin": null,
            "max_height": null,
            "max_width": null,
            "min_height": null,
            "min_width": null,
            "object_fit": null,
            "object_position": null,
            "order": null,
            "overflow": null,
            "overflow_x": null,
            "overflow_y": null,
            "padding": null,
            "right": null,
            "top": null,
            "visibility": null,
            "width": null
          }
        },
        "815dc0d771b34e469d745986715d353d": {
          "model_module": "@jupyter-widgets/controls",
          "model_module_version": "1.5.0",
          "model_name": "ProgressStyleModel",
          "state": {
            "_model_module": "@jupyter-widgets/controls",
            "_model_module_version": "1.5.0",
            "_model_name": "ProgressStyleModel",
            "_view_count": null,
            "_view_module": "@jupyter-widgets/base",
            "_view_module_version": "1.2.0",
            "_view_name": "StyleView",
            "bar_color": null,
            "description_width": ""
          }
        },
        "81e931851276420ab082de7776b77cff": {
          "model_module": "@jupyter-widgets/controls",
          "model_module_version": "1.5.0",
          "model_name": "DescriptionStyleModel",
          "state": {
            "_model_module": "@jupyter-widgets/controls",
            "_model_module_version": "1.5.0",
            "_model_name": "DescriptionStyleModel",
            "_view_count": null,
            "_view_module": "@jupyter-widgets/base",
            "_view_module_version": "1.2.0",
            "_view_name": "StyleView",
            "description_width": ""
          }
        },
        "82186c81c6d346958ea974d7a03debd6": {
          "model_module": "@jupyter-widgets/base",
          "model_module_version": "1.2.0",
          "model_name": "LayoutModel",
          "state": {
            "_model_module": "@jupyter-widgets/base",
            "_model_module_version": "1.2.0",
            "_model_name": "LayoutModel",
            "_view_count": null,
            "_view_module": "@jupyter-widgets/base",
            "_view_module_version": "1.2.0",
            "_view_name": "LayoutView",
            "align_content": null,
            "align_items": null,
            "align_self": null,
            "border": null,
            "bottom": null,
            "display": null,
            "flex": null,
            "flex_flow": null,
            "grid_area": null,
            "grid_auto_columns": null,
            "grid_auto_flow": null,
            "grid_auto_rows": null,
            "grid_column": null,
            "grid_gap": null,
            "grid_row": null,
            "grid_template_areas": null,
            "grid_template_columns": null,
            "grid_template_rows": null,
            "height": null,
            "justify_content": null,
            "justify_items": null,
            "left": null,
            "margin": null,
            "max_height": null,
            "max_width": null,
            "min_height": null,
            "min_width": null,
            "object_fit": null,
            "object_position": null,
            "order": null,
            "overflow": null,
            "overflow_x": null,
            "overflow_y": null,
            "padding": null,
            "right": null,
            "top": null,
            "visibility": null,
            "width": null
          }
        },
        "840194c93d934dba9ef52b06a7a1b145": {
          "model_module": "@jupyter-widgets/base",
          "model_module_version": "1.2.0",
          "model_name": "LayoutModel",
          "state": {
            "_model_module": "@jupyter-widgets/base",
            "_model_module_version": "1.2.0",
            "_model_name": "LayoutModel",
            "_view_count": null,
            "_view_module": "@jupyter-widgets/base",
            "_view_module_version": "1.2.0",
            "_view_name": "LayoutView",
            "align_content": null,
            "align_items": null,
            "align_self": null,
            "border": null,
            "bottom": null,
            "display": null,
            "flex": null,
            "flex_flow": null,
            "grid_area": null,
            "grid_auto_columns": null,
            "grid_auto_flow": null,
            "grid_auto_rows": null,
            "grid_column": null,
            "grid_gap": null,
            "grid_row": null,
            "grid_template_areas": null,
            "grid_template_columns": null,
            "grid_template_rows": null,
            "height": null,
            "justify_content": null,
            "justify_items": null,
            "left": null,
            "margin": null,
            "max_height": null,
            "max_width": null,
            "min_height": null,
            "min_width": null,
            "object_fit": null,
            "object_position": null,
            "order": null,
            "overflow": null,
            "overflow_x": null,
            "overflow_y": null,
            "padding": null,
            "right": null,
            "top": null,
            "visibility": null,
            "width": null
          }
        },
        "86e82a1bb9c44d23a46d20b71740c6df": {
          "model_module": "@jupyter-widgets/base",
          "model_module_version": "1.2.0",
          "model_name": "LayoutModel",
          "state": {
            "_model_module": "@jupyter-widgets/base",
            "_model_module_version": "1.2.0",
            "_model_name": "LayoutModel",
            "_view_count": null,
            "_view_module": "@jupyter-widgets/base",
            "_view_module_version": "1.2.0",
            "_view_name": "LayoutView",
            "align_content": null,
            "align_items": null,
            "align_self": null,
            "border": null,
            "bottom": null,
            "display": null,
            "flex": null,
            "flex_flow": null,
            "grid_area": null,
            "grid_auto_columns": null,
            "grid_auto_flow": null,
            "grid_auto_rows": null,
            "grid_column": null,
            "grid_gap": null,
            "grid_row": null,
            "grid_template_areas": null,
            "grid_template_columns": null,
            "grid_template_rows": null,
            "height": null,
            "justify_content": null,
            "justify_items": null,
            "left": null,
            "margin": null,
            "max_height": null,
            "max_width": null,
            "min_height": null,
            "min_width": null,
            "object_fit": null,
            "object_position": null,
            "order": null,
            "overflow": null,
            "overflow_x": null,
            "overflow_y": null,
            "padding": null,
            "right": null,
            "top": null,
            "visibility": null,
            "width": null
          }
        },
        "876a644894164db8a78d7cef8d1a0df8": {
          "model_module": "@jupyter-widgets/base",
          "model_module_version": "1.2.0",
          "model_name": "LayoutModel",
          "state": {
            "_model_module": "@jupyter-widgets/base",
            "_model_module_version": "1.2.0",
            "_model_name": "LayoutModel",
            "_view_count": null,
            "_view_module": "@jupyter-widgets/base",
            "_view_module_version": "1.2.0",
            "_view_name": "LayoutView",
            "align_content": null,
            "align_items": null,
            "align_self": null,
            "border": null,
            "bottom": null,
            "display": null,
            "flex": null,
            "flex_flow": null,
            "grid_area": null,
            "grid_auto_columns": null,
            "grid_auto_flow": null,
            "grid_auto_rows": null,
            "grid_column": null,
            "grid_gap": null,
            "grid_row": null,
            "grid_template_areas": null,
            "grid_template_columns": null,
            "grid_template_rows": null,
            "height": null,
            "justify_content": null,
            "justify_items": null,
            "left": null,
            "margin": null,
            "max_height": null,
            "max_width": null,
            "min_height": null,
            "min_width": null,
            "object_fit": null,
            "object_position": null,
            "order": null,
            "overflow": null,
            "overflow_x": null,
            "overflow_y": null,
            "padding": null,
            "right": null,
            "top": null,
            "visibility": null,
            "width": null
          }
        },
        "8912748f2232409baa206a99e14680a0": {
          "model_module": "@jupyter-widgets/base",
          "model_module_version": "1.2.0",
          "model_name": "LayoutModel",
          "state": {
            "_model_module": "@jupyter-widgets/base",
            "_model_module_version": "1.2.0",
            "_model_name": "LayoutModel",
            "_view_count": null,
            "_view_module": "@jupyter-widgets/base",
            "_view_module_version": "1.2.0",
            "_view_name": "LayoutView",
            "align_content": null,
            "align_items": null,
            "align_self": null,
            "border": null,
            "bottom": null,
            "display": null,
            "flex": null,
            "flex_flow": null,
            "grid_area": null,
            "grid_auto_columns": null,
            "grid_auto_flow": null,
            "grid_auto_rows": null,
            "grid_column": null,
            "grid_gap": null,
            "grid_row": null,
            "grid_template_areas": null,
            "grid_template_columns": null,
            "grid_template_rows": null,
            "height": null,
            "justify_content": null,
            "justify_items": null,
            "left": null,
            "margin": null,
            "max_height": null,
            "max_width": null,
            "min_height": null,
            "min_width": null,
            "object_fit": null,
            "object_position": null,
            "order": null,
            "overflow": null,
            "overflow_x": null,
            "overflow_y": null,
            "padding": null,
            "right": null,
            "top": null,
            "visibility": null,
            "width": null
          }
        },
        "89e047d97b7f48b2b651bc39b14de2bb": {
          "model_module": "@jupyter-widgets/base",
          "model_module_version": "1.2.0",
          "model_name": "LayoutModel",
          "state": {
            "_model_module": "@jupyter-widgets/base",
            "_model_module_version": "1.2.0",
            "_model_name": "LayoutModel",
            "_view_count": null,
            "_view_module": "@jupyter-widgets/base",
            "_view_module_version": "1.2.0",
            "_view_name": "LayoutView",
            "align_content": null,
            "align_items": null,
            "align_self": null,
            "border": null,
            "bottom": null,
            "display": null,
            "flex": null,
            "flex_flow": null,
            "grid_area": null,
            "grid_auto_columns": null,
            "grid_auto_flow": null,
            "grid_auto_rows": null,
            "grid_column": null,
            "grid_gap": null,
            "grid_row": null,
            "grid_template_areas": null,
            "grid_template_columns": null,
            "grid_template_rows": null,
            "height": null,
            "justify_content": null,
            "justify_items": null,
            "left": null,
            "margin": null,
            "max_height": null,
            "max_width": null,
            "min_height": null,
            "min_width": null,
            "object_fit": null,
            "object_position": null,
            "order": null,
            "overflow": null,
            "overflow_x": null,
            "overflow_y": null,
            "padding": null,
            "right": null,
            "top": null,
            "visibility": null,
            "width": null
          }
        },
        "8b1602365e77495490718cd18c060a94": {
          "model_module": "@jupyter-widgets/controls",
          "model_module_version": "1.5.0",
          "model_name": "VBoxModel",
          "state": {
            "_dom_classes": [],
            "_model_module": "@jupyter-widgets/controls",
            "_model_module_version": "1.5.0",
            "_model_name": "VBoxModel",
            "_view_count": null,
            "_view_module": "@jupyter-widgets/controls",
            "_view_module_version": "1.5.0",
            "_view_name": "VBoxView",
            "box_style": "",
            "children": [
              "IPY_MODEL_fa71bebb91a24fa4aa18f82edb91031f",
              "IPY_MODEL_5f202a8e19ae4824bed6e4b1c292342a"
            ],
            "layout": "IPY_MODEL_0efb3656d0eb46f39fc2bdbbf0e84175"
          }
        },
        "8bf93ab1c5284d60af65c9d8d5f1a546": {
          "model_module": "@jupyter-widgets/base",
          "model_module_version": "1.2.0",
          "model_name": "LayoutModel",
          "state": {
            "_model_module": "@jupyter-widgets/base",
            "_model_module_version": "1.2.0",
            "_model_name": "LayoutModel",
            "_view_count": null,
            "_view_module": "@jupyter-widgets/base",
            "_view_module_version": "1.2.0",
            "_view_name": "LayoutView",
            "align_content": null,
            "align_items": null,
            "align_self": null,
            "border": null,
            "bottom": null,
            "display": null,
            "flex": null,
            "flex_flow": null,
            "grid_area": null,
            "grid_auto_columns": null,
            "grid_auto_flow": null,
            "grid_auto_rows": null,
            "grid_column": null,
            "grid_gap": null,
            "grid_row": null,
            "grid_template_areas": null,
            "grid_template_columns": null,
            "grid_template_rows": null,
            "height": null,
            "justify_content": null,
            "justify_items": null,
            "left": null,
            "margin": null,
            "max_height": null,
            "max_width": null,
            "min_height": null,
            "min_width": null,
            "object_fit": null,
            "object_position": null,
            "order": null,
            "overflow": null,
            "overflow_x": null,
            "overflow_y": null,
            "padding": null,
            "right": null,
            "top": null,
            "visibility": null,
            "width": null
          }
        },
        "8d122c3ca249437ea64ce684ee70e2a5": {
          "model_module": "@jupyter-widgets/base",
          "model_module_version": "1.2.0",
          "model_name": "LayoutModel",
          "state": {
            "_model_module": "@jupyter-widgets/base",
            "_model_module_version": "1.2.0",
            "_model_name": "LayoutModel",
            "_view_count": null,
            "_view_module": "@jupyter-widgets/base",
            "_view_module_version": "1.2.0",
            "_view_name": "LayoutView",
            "align_content": null,
            "align_items": null,
            "align_self": null,
            "border": null,
            "bottom": null,
            "display": null,
            "flex": null,
            "flex_flow": null,
            "grid_area": null,
            "grid_auto_columns": null,
            "grid_auto_flow": null,
            "grid_auto_rows": null,
            "grid_column": null,
            "grid_gap": null,
            "grid_row": null,
            "grid_template_areas": null,
            "grid_template_columns": null,
            "grid_template_rows": null,
            "height": null,
            "justify_content": null,
            "justify_items": null,
            "left": null,
            "margin": null,
            "max_height": null,
            "max_width": null,
            "min_height": null,
            "min_width": null,
            "object_fit": null,
            "object_position": null,
            "order": null,
            "overflow": null,
            "overflow_x": null,
            "overflow_y": null,
            "padding": null,
            "right": null,
            "top": null,
            "visibility": null,
            "width": null
          }
        },
        "8d278945055e4c3e94635fa5dc38f63f": {
          "model_module": "@jupyter-widgets/controls",
          "model_module_version": "1.5.0",
          "model_name": "VBoxModel",
          "state": {
            "_dom_classes": [],
            "_model_module": "@jupyter-widgets/controls",
            "_model_module_version": "1.5.0",
            "_model_name": "VBoxModel",
            "_view_count": null,
            "_view_module": "@jupyter-widgets/controls",
            "_view_module_version": "1.5.0",
            "_view_name": "VBoxView",
            "box_style": "",
            "children": [
              "IPY_MODEL_1919a3a7a54a4572a3a16698bcec7853",
              "IPY_MODEL_79f389fe04034fc9a67a5f748e1ceea0"
            ],
            "layout": "IPY_MODEL_463c4a2e877f44a6b424f6a128f789e2"
          }
        },
        "8d5a6e628a3b4b3b82ffbf1d55d9c7c4": {
          "model_module": "@jupyter-widgets/base",
          "model_module_version": "1.2.0",
          "model_name": "LayoutModel",
          "state": {
            "_model_module": "@jupyter-widgets/base",
            "_model_module_version": "1.2.0",
            "_model_name": "LayoutModel",
            "_view_count": null,
            "_view_module": "@jupyter-widgets/base",
            "_view_module_version": "1.2.0",
            "_view_name": "LayoutView",
            "align_content": null,
            "align_items": null,
            "align_self": null,
            "border": null,
            "bottom": null,
            "display": null,
            "flex": null,
            "flex_flow": null,
            "grid_area": null,
            "grid_auto_columns": null,
            "grid_auto_flow": null,
            "grid_auto_rows": null,
            "grid_column": null,
            "grid_gap": null,
            "grid_row": null,
            "grid_template_areas": null,
            "grid_template_columns": null,
            "grid_template_rows": null,
            "height": null,
            "justify_content": null,
            "justify_items": null,
            "left": null,
            "margin": null,
            "max_height": null,
            "max_width": null,
            "min_height": null,
            "min_width": null,
            "object_fit": null,
            "object_position": null,
            "order": null,
            "overflow": null,
            "overflow_x": null,
            "overflow_y": null,
            "padding": null,
            "right": null,
            "top": null,
            "visibility": null,
            "width": null
          }
        },
        "8dfc78e14cf84ea3a9b1234f26b278c7": {
          "model_module": "@jupyter-widgets/controls",
          "model_module_version": "1.5.0",
          "model_name": "ProgressStyleModel",
          "state": {
            "_model_module": "@jupyter-widgets/controls",
            "_model_module_version": "1.5.0",
            "_model_name": "ProgressStyleModel",
            "_view_count": null,
            "_view_module": "@jupyter-widgets/base",
            "_view_module_version": "1.2.0",
            "_view_name": "StyleView",
            "bar_color": null,
            "description_width": ""
          }
        },
        "8e18905611ae451f8c284fd5c98ca10e": {
          "model_module": "@jupyter-widgets/controls",
          "model_module_version": "1.5.0",
          "model_name": "LabelModel",
          "state": {
            "_dom_classes": [],
            "_model_module": "@jupyter-widgets/controls",
            "_model_module_version": "1.5.0",
            "_model_name": "LabelModel",
            "_view_count": null,
            "_view_module": "@jupyter-widgets/controls",
            "_view_module_version": "1.5.0",
            "_view_name": "LabelView",
            "description": "",
            "description_tooltip": null,
            "layout": "IPY_MODEL_2664b14d06194da2b7e2e64f470e4e42",
            "placeholder": "​",
            "style": "IPY_MODEL_2cf68ef5507a48d494e5eacae4fb01d4",
            "value": "0.008 MB of 0.008 MB uploaded (0.000 MB deduped)\r"
          }
        },
        "8f44516f17684e9ba9c6689a627a6797": {
          "model_module": "@jupyter-widgets/controls",
          "model_module_version": "1.5.0",
          "model_name": "VBoxModel",
          "state": {
            "_dom_classes": [],
            "_model_module": "@jupyter-widgets/controls",
            "_model_module_version": "1.5.0",
            "_model_name": "VBoxModel",
            "_view_count": null,
            "_view_module": "@jupyter-widgets/controls",
            "_view_module_version": "1.5.0",
            "_view_name": "VBoxView",
            "box_style": "",
            "children": [
              "IPY_MODEL_d08017603ed7413db89f64e4a94c3479",
              "IPY_MODEL_adc52bbc39ee44558f8052d4ab0cadf4"
            ],
            "layout": "IPY_MODEL_321ffe9f3dbf491f9b51fb933bb5a2f0"
          }
        },
        "915ad1517d1d406d9e43c159e248bc8e": {
          "model_module": "@jupyter-widgets/controls",
          "model_module_version": "1.5.0",
          "model_name": "ProgressStyleModel",
          "state": {
            "_model_module": "@jupyter-widgets/controls",
            "_model_module_version": "1.5.0",
            "_model_name": "ProgressStyleModel",
            "_view_count": null,
            "_view_module": "@jupyter-widgets/base",
            "_view_module_version": "1.2.0",
            "_view_name": "StyleView",
            "bar_color": null,
            "description_width": ""
          }
        },
        "916245db3e7246f1afe6e96172502e4a": {
          "model_module": "@jupyter-widgets/controls",
          "model_module_version": "1.5.0",
          "model_name": "ProgressStyleModel",
          "state": {
            "_model_module": "@jupyter-widgets/controls",
            "_model_module_version": "1.5.0",
            "_model_name": "ProgressStyleModel",
            "_view_count": null,
            "_view_module": "@jupyter-widgets/base",
            "_view_module_version": "1.2.0",
            "_view_name": "StyleView",
            "bar_color": null,
            "description_width": ""
          }
        },
        "91a95985fd3149d3bb692bb01774479d": {
          "model_module": "@jupyter-widgets/base",
          "model_module_version": "1.2.0",
          "model_name": "LayoutModel",
          "state": {
            "_model_module": "@jupyter-widgets/base",
            "_model_module_version": "1.2.0",
            "_model_name": "LayoutModel",
            "_view_count": null,
            "_view_module": "@jupyter-widgets/base",
            "_view_module_version": "1.2.0",
            "_view_name": "LayoutView",
            "align_content": null,
            "align_items": null,
            "align_self": null,
            "border": null,
            "bottom": null,
            "display": null,
            "flex": null,
            "flex_flow": null,
            "grid_area": null,
            "grid_auto_columns": null,
            "grid_auto_flow": null,
            "grid_auto_rows": null,
            "grid_column": null,
            "grid_gap": null,
            "grid_row": null,
            "grid_template_areas": null,
            "grid_template_columns": null,
            "grid_template_rows": null,
            "height": null,
            "justify_content": null,
            "justify_items": null,
            "left": null,
            "margin": null,
            "max_height": null,
            "max_width": null,
            "min_height": null,
            "min_width": null,
            "object_fit": null,
            "object_position": null,
            "order": null,
            "overflow": null,
            "overflow_x": null,
            "overflow_y": null,
            "padding": null,
            "right": null,
            "top": null,
            "visibility": null,
            "width": null
          }
        },
        "94e1872c085b4a50a8941f360d0383cd": {
          "model_module": "@jupyter-widgets/controls",
          "model_module_version": "1.5.0",
          "model_name": "LabelModel",
          "state": {
            "_dom_classes": [],
            "_model_module": "@jupyter-widgets/controls",
            "_model_module_version": "1.5.0",
            "_model_name": "LabelModel",
            "_view_count": null,
            "_view_module": "@jupyter-widgets/controls",
            "_view_module_version": "1.5.0",
            "_view_name": "LabelView",
            "description": "",
            "description_tooltip": null,
            "layout": "IPY_MODEL_9fbe9eb70d89460297efa1d832d142ad",
            "placeholder": "​",
            "style": "IPY_MODEL_e9b2ba0253cd488da241ae6a8db3846a",
            "value": "0.008 MB of 0.008 MB uploaded (0.000 MB deduped)\r"
          }
        },
        "9769c731fdad41cca6ed9b72d5dff22f": {
          "model_module": "@jupyter-widgets/controls",
          "model_module_version": "1.5.0",
          "model_name": "DescriptionStyleModel",
          "state": {
            "_model_module": "@jupyter-widgets/controls",
            "_model_module_version": "1.5.0",
            "_model_name": "DescriptionStyleModel",
            "_view_count": null,
            "_view_module": "@jupyter-widgets/base",
            "_view_module_version": "1.2.0",
            "_view_name": "StyleView",
            "description_width": ""
          }
        },
        "98977b5d30e54703b9b81a1e47252371": {
          "model_module": "@jupyter-widgets/controls",
          "model_module_version": "1.5.0",
          "model_name": "VBoxModel",
          "state": {
            "_dom_classes": [],
            "_model_module": "@jupyter-widgets/controls",
            "_model_module_version": "1.5.0",
            "_model_name": "VBoxModel",
            "_view_count": null,
            "_view_module": "@jupyter-widgets/controls",
            "_view_module_version": "1.5.0",
            "_view_name": "VBoxView",
            "box_style": "",
            "children": [
              "IPY_MODEL_66388fb5f2fa45488f8483110b20e4f4",
              "IPY_MODEL_2b45aa962d3f4081abaa3e9400d96517"
            ],
            "layout": "IPY_MODEL_876a644894164db8a78d7cef8d1a0df8"
          }
        },
        "9b2516edb4b84b50a88f85fbcee9d2f3": {
          "model_module": "@jupyter-widgets/base",
          "model_module_version": "1.2.0",
          "model_name": "LayoutModel",
          "state": {
            "_model_module": "@jupyter-widgets/base",
            "_model_module_version": "1.2.0",
            "_model_name": "LayoutModel",
            "_view_count": null,
            "_view_module": "@jupyter-widgets/base",
            "_view_module_version": "1.2.0",
            "_view_name": "LayoutView",
            "align_content": null,
            "align_items": null,
            "align_self": null,
            "border": null,
            "bottom": null,
            "display": null,
            "flex": null,
            "flex_flow": null,
            "grid_area": null,
            "grid_auto_columns": null,
            "grid_auto_flow": null,
            "grid_auto_rows": null,
            "grid_column": null,
            "grid_gap": null,
            "grid_row": null,
            "grid_template_areas": null,
            "grid_template_columns": null,
            "grid_template_rows": null,
            "height": null,
            "justify_content": null,
            "justify_items": null,
            "left": null,
            "margin": null,
            "max_height": null,
            "max_width": null,
            "min_height": null,
            "min_width": null,
            "object_fit": null,
            "object_position": null,
            "order": null,
            "overflow": null,
            "overflow_x": null,
            "overflow_y": null,
            "padding": null,
            "right": null,
            "top": null,
            "visibility": null,
            "width": null
          }
        },
        "9cbe280d97414106a069d684cd96b205": {
          "model_module": "@jupyter-widgets/controls",
          "model_module_version": "1.5.0",
          "model_name": "LabelModel",
          "state": {
            "_dom_classes": [],
            "_model_module": "@jupyter-widgets/controls",
            "_model_module_version": "1.5.0",
            "_model_name": "LabelModel",
            "_view_count": null,
            "_view_module": "@jupyter-widgets/controls",
            "_view_module_version": "1.5.0",
            "_view_name": "LabelView",
            "description": "",
            "description_tooltip": null,
            "layout": "IPY_MODEL_eaeaa9577c90464ba30cf1b865de2e3d",
            "placeholder": "​",
            "style": "IPY_MODEL_04f004d28c684b669844abb548c08c22",
            "value": "0.008 MB of 0.008 MB uploaded (0.000 MB deduped)\r"
          }
        },
        "9d985d0406854c619d594ae20a10a6b9": {
          "model_module": "@jupyter-widgets/base",
          "model_module_version": "1.2.0",
          "model_name": "LayoutModel",
          "state": {
            "_model_module": "@jupyter-widgets/base",
            "_model_module_version": "1.2.0",
            "_model_name": "LayoutModel",
            "_view_count": null,
            "_view_module": "@jupyter-widgets/base",
            "_view_module_version": "1.2.0",
            "_view_name": "LayoutView",
            "align_content": null,
            "align_items": null,
            "align_self": null,
            "border": null,
            "bottom": null,
            "display": null,
            "flex": null,
            "flex_flow": null,
            "grid_area": null,
            "grid_auto_columns": null,
            "grid_auto_flow": null,
            "grid_auto_rows": null,
            "grid_column": null,
            "grid_gap": null,
            "grid_row": null,
            "grid_template_areas": null,
            "grid_template_columns": null,
            "grid_template_rows": null,
            "height": null,
            "justify_content": null,
            "justify_items": null,
            "left": null,
            "margin": null,
            "max_height": null,
            "max_width": null,
            "min_height": null,
            "min_width": null,
            "object_fit": null,
            "object_position": null,
            "order": null,
            "overflow": null,
            "overflow_x": null,
            "overflow_y": null,
            "padding": null,
            "right": null,
            "top": null,
            "visibility": null,
            "width": null
          }
        },
        "9f9fd2cc0b604daeade25d5ae9615462": {
          "model_module": "@jupyter-widgets/controls",
          "model_module_version": "1.5.0",
          "model_name": "LabelModel",
          "state": {
            "_dom_classes": [],
            "_model_module": "@jupyter-widgets/controls",
            "_model_module_version": "1.5.0",
            "_model_name": "LabelModel",
            "_view_count": null,
            "_view_module": "@jupyter-widgets/controls",
            "_view_module_version": "1.5.0",
            "_view_name": "LabelView",
            "description": "",
            "description_tooltip": null,
            "layout": "IPY_MODEL_bef6a2e9b62142e988fa7f95a11b0318",
            "placeholder": "​",
            "style": "IPY_MODEL_a6a9527db00149a6bb3318bc5e658580",
            "value": "0.008 MB of 0.008 MB uploaded (0.000 MB deduped)\r"
          }
        },
        "9fbe9eb70d89460297efa1d832d142ad": {
          "model_module": "@jupyter-widgets/base",
          "model_module_version": "1.2.0",
          "model_name": "LayoutModel",
          "state": {
            "_model_module": "@jupyter-widgets/base",
            "_model_module_version": "1.2.0",
            "_model_name": "LayoutModel",
            "_view_count": null,
            "_view_module": "@jupyter-widgets/base",
            "_view_module_version": "1.2.0",
            "_view_name": "LayoutView",
            "align_content": null,
            "align_items": null,
            "align_self": null,
            "border": null,
            "bottom": null,
            "display": null,
            "flex": null,
            "flex_flow": null,
            "grid_area": null,
            "grid_auto_columns": null,
            "grid_auto_flow": null,
            "grid_auto_rows": null,
            "grid_column": null,
            "grid_gap": null,
            "grid_row": null,
            "grid_template_areas": null,
            "grid_template_columns": null,
            "grid_template_rows": null,
            "height": null,
            "justify_content": null,
            "justify_items": null,
            "left": null,
            "margin": null,
            "max_height": null,
            "max_width": null,
            "min_height": null,
            "min_width": null,
            "object_fit": null,
            "object_position": null,
            "order": null,
            "overflow": null,
            "overflow_x": null,
            "overflow_y": null,
            "padding": null,
            "right": null,
            "top": null,
            "visibility": null,
            "width": null
          }
        },
        "a04b8d16311146d390d8f1c61df8acab": {
          "model_module": "@jupyter-widgets/base",
          "model_module_version": "1.2.0",
          "model_name": "LayoutModel",
          "state": {
            "_model_module": "@jupyter-widgets/base",
            "_model_module_version": "1.2.0",
            "_model_name": "LayoutModel",
            "_view_count": null,
            "_view_module": "@jupyter-widgets/base",
            "_view_module_version": "1.2.0",
            "_view_name": "LayoutView",
            "align_content": null,
            "align_items": null,
            "align_self": null,
            "border": null,
            "bottom": null,
            "display": null,
            "flex": null,
            "flex_flow": null,
            "grid_area": null,
            "grid_auto_columns": null,
            "grid_auto_flow": null,
            "grid_auto_rows": null,
            "grid_column": null,
            "grid_gap": null,
            "grid_row": null,
            "grid_template_areas": null,
            "grid_template_columns": null,
            "grid_template_rows": null,
            "height": null,
            "justify_content": null,
            "justify_items": null,
            "left": null,
            "margin": null,
            "max_height": null,
            "max_width": null,
            "min_height": null,
            "min_width": null,
            "object_fit": null,
            "object_position": null,
            "order": null,
            "overflow": null,
            "overflow_x": null,
            "overflow_y": null,
            "padding": null,
            "right": null,
            "top": null,
            "visibility": null,
            "width": null
          }
        },
        "a12c7dde79514cfbb3207f761b933d02": {
          "model_module": "@jupyter-widgets/controls",
          "model_module_version": "1.5.0",
          "model_name": "DescriptionStyleModel",
          "state": {
            "_model_module": "@jupyter-widgets/controls",
            "_model_module_version": "1.5.0",
            "_model_name": "DescriptionStyleModel",
            "_view_count": null,
            "_view_module": "@jupyter-widgets/base",
            "_view_module_version": "1.2.0",
            "_view_name": "StyleView",
            "description_width": ""
          }
        },
        "a18b09bce6b34368befcc6d439eb2968": {
          "model_module": "@jupyter-widgets/base",
          "model_module_version": "1.2.0",
          "model_name": "LayoutModel",
          "state": {
            "_model_module": "@jupyter-widgets/base",
            "_model_module_version": "1.2.0",
            "_model_name": "LayoutModel",
            "_view_count": null,
            "_view_module": "@jupyter-widgets/base",
            "_view_module_version": "1.2.0",
            "_view_name": "LayoutView",
            "align_content": null,
            "align_items": null,
            "align_self": null,
            "border": null,
            "bottom": null,
            "display": null,
            "flex": null,
            "flex_flow": null,
            "grid_area": null,
            "grid_auto_columns": null,
            "grid_auto_flow": null,
            "grid_auto_rows": null,
            "grid_column": null,
            "grid_gap": null,
            "grid_row": null,
            "grid_template_areas": null,
            "grid_template_columns": null,
            "grid_template_rows": null,
            "height": null,
            "justify_content": null,
            "justify_items": null,
            "left": null,
            "margin": null,
            "max_height": null,
            "max_width": null,
            "min_height": null,
            "min_width": null,
            "object_fit": null,
            "object_position": null,
            "order": null,
            "overflow": null,
            "overflow_x": null,
            "overflow_y": null,
            "padding": null,
            "right": null,
            "top": null,
            "visibility": null,
            "width": null
          }
        },
        "a1a1db81e853468aa5c3349c4992c00e": {
          "model_module": "@jupyter-widgets/base",
          "model_module_version": "1.2.0",
          "model_name": "LayoutModel",
          "state": {
            "_model_module": "@jupyter-widgets/base",
            "_model_module_version": "1.2.0",
            "_model_name": "LayoutModel",
            "_view_count": null,
            "_view_module": "@jupyter-widgets/base",
            "_view_module_version": "1.2.0",
            "_view_name": "LayoutView",
            "align_content": null,
            "align_items": null,
            "align_self": null,
            "border": null,
            "bottom": null,
            "display": null,
            "flex": null,
            "flex_flow": null,
            "grid_area": null,
            "grid_auto_columns": null,
            "grid_auto_flow": null,
            "grid_auto_rows": null,
            "grid_column": null,
            "grid_gap": null,
            "grid_row": null,
            "grid_template_areas": null,
            "grid_template_columns": null,
            "grid_template_rows": null,
            "height": null,
            "justify_content": null,
            "justify_items": null,
            "left": null,
            "margin": null,
            "max_height": null,
            "max_width": null,
            "min_height": null,
            "min_width": null,
            "object_fit": null,
            "object_position": null,
            "order": null,
            "overflow": null,
            "overflow_x": null,
            "overflow_y": null,
            "padding": null,
            "right": null,
            "top": null,
            "visibility": null,
            "width": null
          }
        },
        "a435164101124af885bcfad8c1c41a73": {
          "model_module": "@jupyter-widgets/controls",
          "model_module_version": "1.5.0",
          "model_name": "DescriptionStyleModel",
          "state": {
            "_model_module": "@jupyter-widgets/controls",
            "_model_module_version": "1.5.0",
            "_model_name": "DescriptionStyleModel",
            "_view_count": null,
            "_view_module": "@jupyter-widgets/base",
            "_view_module_version": "1.2.0",
            "_view_name": "StyleView",
            "description_width": ""
          }
        },
        "a571918b972e45ffb19d2cc722cbd2a0": {
          "model_module": "@jupyter-widgets/controls",
          "model_module_version": "1.5.0",
          "model_name": "FloatProgressModel",
          "state": {
            "_dom_classes": [],
            "_model_module": "@jupyter-widgets/controls",
            "_model_module_version": "1.5.0",
            "_model_name": "FloatProgressModel",
            "_view_count": null,
            "_view_module": "@jupyter-widgets/controls",
            "_view_module_version": "1.5.0",
            "_view_name": "ProgressView",
            "bar_style": "",
            "description": "",
            "description_tooltip": null,
            "layout": "IPY_MODEL_4f9afc02411947ffab8fcbee88b952da",
            "max": 1,
            "min": 0,
            "orientation": "horizontal",
            "style": "IPY_MODEL_a883e0b955584e66ac33315731fc55fd",
            "value": 1
          }
        },
        "a5aee57400104014be8740bcbd4b22f7": {
          "model_module": "@jupyter-widgets/base",
          "model_module_version": "1.2.0",
          "model_name": "LayoutModel",
          "state": {
            "_model_module": "@jupyter-widgets/base",
            "_model_module_version": "1.2.0",
            "_model_name": "LayoutModel",
            "_view_count": null,
            "_view_module": "@jupyter-widgets/base",
            "_view_module_version": "1.2.0",
            "_view_name": "LayoutView",
            "align_content": null,
            "align_items": null,
            "align_self": null,
            "border": null,
            "bottom": null,
            "display": null,
            "flex": null,
            "flex_flow": null,
            "grid_area": null,
            "grid_auto_columns": null,
            "grid_auto_flow": null,
            "grid_auto_rows": null,
            "grid_column": null,
            "grid_gap": null,
            "grid_row": null,
            "grid_template_areas": null,
            "grid_template_columns": null,
            "grid_template_rows": null,
            "height": null,
            "justify_content": null,
            "justify_items": null,
            "left": null,
            "margin": null,
            "max_height": null,
            "max_width": null,
            "min_height": null,
            "min_width": null,
            "object_fit": null,
            "object_position": null,
            "order": null,
            "overflow": null,
            "overflow_x": null,
            "overflow_y": null,
            "padding": null,
            "right": null,
            "top": null,
            "visibility": null,
            "width": null
          }
        },
        "a630b998f05a4093aa443de4e004d883": {
          "model_module": "@jupyter-widgets/controls",
          "model_module_version": "1.5.0",
          "model_name": "VBoxModel",
          "state": {
            "_dom_classes": [],
            "_model_module": "@jupyter-widgets/controls",
            "_model_module_version": "1.5.0",
            "_model_name": "VBoxModel",
            "_view_count": null,
            "_view_module": "@jupyter-widgets/controls",
            "_view_module_version": "1.5.0",
            "_view_name": "VBoxView",
            "box_style": "",
            "children": [
              "IPY_MODEL_cb1006f80c044be4914826220de0bf2a",
              "IPY_MODEL_6ac7f23a6ada4dada30e9163aaf6a11c"
            ],
            "layout": "IPY_MODEL_3a4f05d58c794108bfd3129a20977010"
          }
        },
        "a6a9527db00149a6bb3318bc5e658580": {
          "model_module": "@jupyter-widgets/controls",
          "model_module_version": "1.5.0",
          "model_name": "DescriptionStyleModel",
          "state": {
            "_model_module": "@jupyter-widgets/controls",
            "_model_module_version": "1.5.0",
            "_model_name": "DescriptionStyleModel",
            "_view_count": null,
            "_view_module": "@jupyter-widgets/base",
            "_view_module_version": "1.2.0",
            "_view_name": "StyleView",
            "description_width": ""
          }
        },
        "a84df2021ef54e79b901d4cb8f1142b2": {
          "model_module": "@jupyter-widgets/controls",
          "model_module_version": "1.5.0",
          "model_name": "LabelModel",
          "state": {
            "_dom_classes": [],
            "_model_module": "@jupyter-widgets/controls",
            "_model_module_version": "1.5.0",
            "_model_name": "LabelModel",
            "_view_count": null,
            "_view_module": "@jupyter-widgets/controls",
            "_view_module_version": "1.5.0",
            "_view_name": "LabelView",
            "description": "",
            "description_tooltip": null,
            "layout": "IPY_MODEL_78342a5670444d0b936908da936f8f91",
            "placeholder": "​",
            "style": "IPY_MODEL_ea1b2b46aa5d4dfc87cb317f36963031",
            "value": "0.008 MB of 0.008 MB uploaded (0.000 MB deduped)\r"
          }
        },
        "a883e0b955584e66ac33315731fc55fd": {
          "model_module": "@jupyter-widgets/controls",
          "model_module_version": "1.5.0",
          "model_name": "ProgressStyleModel",
          "state": {
            "_model_module": "@jupyter-widgets/controls",
            "_model_module_version": "1.5.0",
            "_model_name": "ProgressStyleModel",
            "_view_count": null,
            "_view_module": "@jupyter-widgets/base",
            "_view_module_version": "1.2.0",
            "_view_name": "StyleView",
            "bar_color": null,
            "description_width": ""
          }
        },
        "aa2e9317eb744bb794b550afdf29803f": {
          "model_module": "@jupyter-widgets/controls",
          "model_module_version": "1.5.0",
          "model_name": "DescriptionStyleModel",
          "state": {
            "_model_module": "@jupyter-widgets/controls",
            "_model_module_version": "1.5.0",
            "_model_name": "DescriptionStyleModel",
            "_view_count": null,
            "_view_module": "@jupyter-widgets/base",
            "_view_module_version": "1.2.0",
            "_view_name": "StyleView",
            "description_width": ""
          }
        },
        "ab090e7051d24e99b718b7882e0a6994": {
          "model_module": "@jupyter-widgets/controls",
          "model_module_version": "1.5.0",
          "model_name": "FloatProgressModel",
          "state": {
            "_dom_classes": [],
            "_model_module": "@jupyter-widgets/controls",
            "_model_module_version": "1.5.0",
            "_model_name": "FloatProgressModel",
            "_view_count": null,
            "_view_module": "@jupyter-widgets/controls",
            "_view_module_version": "1.5.0",
            "_view_name": "ProgressView",
            "bar_style": "",
            "description": "",
            "description_tooltip": null,
            "layout": "IPY_MODEL_cb90ac3971664c3491351fdb89ab74ed",
            "max": 1,
            "min": 0,
            "orientation": "horizontal",
            "style": "IPY_MODEL_e98be2d306b6474487eac45df736e207",
            "value": 1
          }
        },
        "ad9547688cb84f7cb81e9e7868991baf": {
          "model_module": "@jupyter-widgets/controls",
          "model_module_version": "1.5.0",
          "model_name": "DescriptionStyleModel",
          "state": {
            "_model_module": "@jupyter-widgets/controls",
            "_model_module_version": "1.5.0",
            "_model_name": "DescriptionStyleModel",
            "_view_count": null,
            "_view_module": "@jupyter-widgets/base",
            "_view_module_version": "1.2.0",
            "_view_name": "StyleView",
            "description_width": ""
          }
        },
        "adc52bbc39ee44558f8052d4ab0cadf4": {
          "model_module": "@jupyter-widgets/controls",
          "model_module_version": "1.5.0",
          "model_name": "FloatProgressModel",
          "state": {
            "_dom_classes": [],
            "_model_module": "@jupyter-widgets/controls",
            "_model_module_version": "1.5.0",
            "_model_name": "FloatProgressModel",
            "_view_count": null,
            "_view_module": "@jupyter-widgets/controls",
            "_view_module_version": "1.5.0",
            "_view_name": "ProgressView",
            "bar_style": "",
            "description": "",
            "description_tooltip": null,
            "layout": "IPY_MODEL_5d03cd6ca18d42cdbd525152e46a4342",
            "max": 1,
            "min": 0,
            "orientation": "horizontal",
            "style": "IPY_MODEL_915ad1517d1d406d9e43c159e248bc8e",
            "value": 1
          }
        },
        "ae044b9ef7334e5bb1f5e33db19696cb": {
          "model_module": "@jupyter-widgets/base",
          "model_module_version": "1.2.0",
          "model_name": "LayoutModel",
          "state": {
            "_model_module": "@jupyter-widgets/base",
            "_model_module_version": "1.2.0",
            "_model_name": "LayoutModel",
            "_view_count": null,
            "_view_module": "@jupyter-widgets/base",
            "_view_module_version": "1.2.0",
            "_view_name": "LayoutView",
            "align_content": null,
            "align_items": null,
            "align_self": null,
            "border": null,
            "bottom": null,
            "display": null,
            "flex": null,
            "flex_flow": null,
            "grid_area": null,
            "grid_auto_columns": null,
            "grid_auto_flow": null,
            "grid_auto_rows": null,
            "grid_column": null,
            "grid_gap": null,
            "grid_row": null,
            "grid_template_areas": null,
            "grid_template_columns": null,
            "grid_template_rows": null,
            "height": null,
            "justify_content": null,
            "justify_items": null,
            "left": null,
            "margin": null,
            "max_height": null,
            "max_width": null,
            "min_height": null,
            "min_width": null,
            "object_fit": null,
            "object_position": null,
            "order": null,
            "overflow": null,
            "overflow_x": null,
            "overflow_y": null,
            "padding": null,
            "right": null,
            "top": null,
            "visibility": null,
            "width": null
          }
        },
        "b4dca91ff6e24e00a4c8bd152791d01d": {
          "model_module": "@jupyter-widgets/controls",
          "model_module_version": "1.5.0",
          "model_name": "ProgressStyleModel",
          "state": {
            "_model_module": "@jupyter-widgets/controls",
            "_model_module_version": "1.5.0",
            "_model_name": "ProgressStyleModel",
            "_view_count": null,
            "_view_module": "@jupyter-widgets/base",
            "_view_module_version": "1.2.0",
            "_view_name": "StyleView",
            "bar_color": null,
            "description_width": ""
          }
        },
        "b6d040221da94f9f9971f39e0393314e": {
          "model_module": "@jupyter-widgets/controls",
          "model_module_version": "1.5.0",
          "model_name": "LabelModel",
          "state": {
            "_dom_classes": [],
            "_model_module": "@jupyter-widgets/controls",
            "_model_module_version": "1.5.0",
            "_model_name": "LabelModel",
            "_view_count": null,
            "_view_module": "@jupyter-widgets/controls",
            "_view_module_version": "1.5.0",
            "_view_name": "LabelView",
            "description": "",
            "description_tooltip": null,
            "layout": "IPY_MODEL_8d122c3ca249437ea64ce684ee70e2a5",
            "placeholder": "​",
            "style": "IPY_MODEL_eeb0b790132c44378fc4b5377dacfec0",
            "value": "0.008 MB of 0.008 MB uploaded (0.000 MB deduped)\r"
          }
        },
        "b801ab4350784c0098daeb80330272a7": {
          "model_module": "@jupyter-widgets/controls",
          "model_module_version": "1.5.0",
          "model_name": "DescriptionStyleModel",
          "state": {
            "_model_module": "@jupyter-widgets/controls",
            "_model_module_version": "1.5.0",
            "_model_name": "DescriptionStyleModel",
            "_view_count": null,
            "_view_module": "@jupyter-widgets/base",
            "_view_module_version": "1.2.0",
            "_view_name": "StyleView",
            "description_width": ""
          }
        },
        "b85284f3ce654685a95d3c2e7af9cdb2": {
          "model_module": "@jupyter-widgets/base",
          "model_module_version": "1.2.0",
          "model_name": "LayoutModel",
          "state": {
            "_model_module": "@jupyter-widgets/base",
            "_model_module_version": "1.2.0",
            "_model_name": "LayoutModel",
            "_view_count": null,
            "_view_module": "@jupyter-widgets/base",
            "_view_module_version": "1.2.0",
            "_view_name": "LayoutView",
            "align_content": null,
            "align_items": null,
            "align_self": null,
            "border": null,
            "bottom": null,
            "display": null,
            "flex": null,
            "flex_flow": null,
            "grid_area": null,
            "grid_auto_columns": null,
            "grid_auto_flow": null,
            "grid_auto_rows": null,
            "grid_column": null,
            "grid_gap": null,
            "grid_row": null,
            "grid_template_areas": null,
            "grid_template_columns": null,
            "grid_template_rows": null,
            "height": null,
            "justify_content": null,
            "justify_items": null,
            "left": null,
            "margin": null,
            "max_height": null,
            "max_width": null,
            "min_height": null,
            "min_width": null,
            "object_fit": null,
            "object_position": null,
            "order": null,
            "overflow": null,
            "overflow_x": null,
            "overflow_y": null,
            "padding": null,
            "right": null,
            "top": null,
            "visibility": null,
            "width": null
          }
        },
        "b8a401eab66446ecba5f67dc0513af2d": {
          "model_module": "@jupyter-widgets/base",
          "model_module_version": "1.2.0",
          "model_name": "LayoutModel",
          "state": {
            "_model_module": "@jupyter-widgets/base",
            "_model_module_version": "1.2.0",
            "_model_name": "LayoutModel",
            "_view_count": null,
            "_view_module": "@jupyter-widgets/base",
            "_view_module_version": "1.2.0",
            "_view_name": "LayoutView",
            "align_content": null,
            "align_items": null,
            "align_self": null,
            "border": null,
            "bottom": null,
            "display": null,
            "flex": null,
            "flex_flow": null,
            "grid_area": null,
            "grid_auto_columns": null,
            "grid_auto_flow": null,
            "grid_auto_rows": null,
            "grid_column": null,
            "grid_gap": null,
            "grid_row": null,
            "grid_template_areas": null,
            "grid_template_columns": null,
            "grid_template_rows": null,
            "height": null,
            "justify_content": null,
            "justify_items": null,
            "left": null,
            "margin": null,
            "max_height": null,
            "max_width": null,
            "min_height": null,
            "min_width": null,
            "object_fit": null,
            "object_position": null,
            "order": null,
            "overflow": null,
            "overflow_x": null,
            "overflow_y": null,
            "padding": null,
            "right": null,
            "top": null,
            "visibility": null,
            "width": null
          }
        },
        "b8bb90a08e3c471aa0c3287ae22c959b": {
          "model_module": "@jupyter-widgets/controls",
          "model_module_version": "1.5.0",
          "model_name": "FloatProgressModel",
          "state": {
            "_dom_classes": [],
            "_model_module": "@jupyter-widgets/controls",
            "_model_module_version": "1.5.0",
            "_model_name": "FloatProgressModel",
            "_view_count": null,
            "_view_module": "@jupyter-widgets/controls",
            "_view_module_version": "1.5.0",
            "_view_name": "ProgressView",
            "bar_style": "",
            "description": "",
            "description_tooltip": null,
            "layout": "IPY_MODEL_183d6131e4af46b0b4b0d9984b72e572",
            "max": 1,
            "min": 0,
            "orientation": "horizontal",
            "style": "IPY_MODEL_c47fbbaf89dc41efb3860ad1e90f2354",
            "value": 1
          }
        },
        "b8ca777145314448890a76c917f993a5": {
          "model_module": "@jupyter-widgets/base",
          "model_module_version": "1.2.0",
          "model_name": "LayoutModel",
          "state": {
            "_model_module": "@jupyter-widgets/base",
            "_model_module_version": "1.2.0",
            "_model_name": "LayoutModel",
            "_view_count": null,
            "_view_module": "@jupyter-widgets/base",
            "_view_module_version": "1.2.0",
            "_view_name": "LayoutView",
            "align_content": null,
            "align_items": null,
            "align_self": null,
            "border": null,
            "bottom": null,
            "display": null,
            "flex": null,
            "flex_flow": null,
            "grid_area": null,
            "grid_auto_columns": null,
            "grid_auto_flow": null,
            "grid_auto_rows": null,
            "grid_column": null,
            "grid_gap": null,
            "grid_row": null,
            "grid_template_areas": null,
            "grid_template_columns": null,
            "grid_template_rows": null,
            "height": null,
            "justify_content": null,
            "justify_items": null,
            "left": null,
            "margin": null,
            "max_height": null,
            "max_width": null,
            "min_height": null,
            "min_width": null,
            "object_fit": null,
            "object_position": null,
            "order": null,
            "overflow": null,
            "overflow_x": null,
            "overflow_y": null,
            "padding": null,
            "right": null,
            "top": null,
            "visibility": null,
            "width": null
          }
        },
        "b8d4c651035944c88c74b77ad2480c2b": {
          "model_module": "@jupyter-widgets/controls",
          "model_module_version": "1.5.0",
          "model_name": "LabelModel",
          "state": {
            "_dom_classes": [],
            "_model_module": "@jupyter-widgets/controls",
            "_model_module_version": "1.5.0",
            "_model_name": "LabelModel",
            "_view_count": null,
            "_view_module": "@jupyter-widgets/controls",
            "_view_module_version": "1.5.0",
            "_view_name": "LabelView",
            "description": "",
            "description_tooltip": null,
            "layout": "IPY_MODEL_ed01318b11aa4a599214b31ec2692f23",
            "placeholder": "​",
            "style": "IPY_MODEL_f59ae748f74f4eb7acda483c8256f320",
            "value": "0.008 MB of 0.008 MB uploaded (0.000 MB deduped)\r"
          }
        },
        "b9aa70d3b05c4fbca060f32328cba164": {
          "model_module": "@jupyter-widgets/controls",
          "model_module_version": "1.5.0",
          "model_name": "DescriptionStyleModel",
          "state": {
            "_model_module": "@jupyter-widgets/controls",
            "_model_module_version": "1.5.0",
            "_model_name": "DescriptionStyleModel",
            "_view_count": null,
            "_view_module": "@jupyter-widgets/base",
            "_view_module_version": "1.2.0",
            "_view_name": "StyleView",
            "description_width": ""
          }
        },
        "bef6a2e9b62142e988fa7f95a11b0318": {
          "model_module": "@jupyter-widgets/base",
          "model_module_version": "1.2.0",
          "model_name": "LayoutModel",
          "state": {
            "_model_module": "@jupyter-widgets/base",
            "_model_module_version": "1.2.0",
            "_model_name": "LayoutModel",
            "_view_count": null,
            "_view_module": "@jupyter-widgets/base",
            "_view_module_version": "1.2.0",
            "_view_name": "LayoutView",
            "align_content": null,
            "align_items": null,
            "align_self": null,
            "border": null,
            "bottom": null,
            "display": null,
            "flex": null,
            "flex_flow": null,
            "grid_area": null,
            "grid_auto_columns": null,
            "grid_auto_flow": null,
            "grid_auto_rows": null,
            "grid_column": null,
            "grid_gap": null,
            "grid_row": null,
            "grid_template_areas": null,
            "grid_template_columns": null,
            "grid_template_rows": null,
            "height": null,
            "justify_content": null,
            "justify_items": null,
            "left": null,
            "margin": null,
            "max_height": null,
            "max_width": null,
            "min_height": null,
            "min_width": null,
            "object_fit": null,
            "object_position": null,
            "order": null,
            "overflow": null,
            "overflow_x": null,
            "overflow_y": null,
            "padding": null,
            "right": null,
            "top": null,
            "visibility": null,
            "width": null
          }
        },
        "bf114f7a0dd74a7d9e304a924d029604": {
          "model_module": "@jupyter-widgets/controls",
          "model_module_version": "1.5.0",
          "model_name": "LabelModel",
          "state": {
            "_dom_classes": [],
            "_model_module": "@jupyter-widgets/controls",
            "_model_module_version": "1.5.0",
            "_model_name": "LabelModel",
            "_view_count": null,
            "_view_module": "@jupyter-widgets/controls",
            "_view_module_version": "1.5.0",
            "_view_name": "LabelView",
            "description": "",
            "description_tooltip": null,
            "layout": "IPY_MODEL_55818a2263374c2a887841b4a7e792c3",
            "placeholder": "​",
            "style": "IPY_MODEL_34b99805b93e474aa118e9f9a205fd70",
            "value": "0.008 MB of 0.008 MB uploaded (0.000 MB deduped)\r"
          }
        },
        "c137a47624804cad90f8bd2021e52a78": {
          "model_module": "@jupyter-widgets/base",
          "model_module_version": "1.2.0",
          "model_name": "LayoutModel",
          "state": {
            "_model_module": "@jupyter-widgets/base",
            "_model_module_version": "1.2.0",
            "_model_name": "LayoutModel",
            "_view_count": null,
            "_view_module": "@jupyter-widgets/base",
            "_view_module_version": "1.2.0",
            "_view_name": "LayoutView",
            "align_content": null,
            "align_items": null,
            "align_self": null,
            "border": null,
            "bottom": null,
            "display": null,
            "flex": null,
            "flex_flow": null,
            "grid_area": null,
            "grid_auto_columns": null,
            "grid_auto_flow": null,
            "grid_auto_rows": null,
            "grid_column": null,
            "grid_gap": null,
            "grid_row": null,
            "grid_template_areas": null,
            "grid_template_columns": null,
            "grid_template_rows": null,
            "height": null,
            "justify_content": null,
            "justify_items": null,
            "left": null,
            "margin": null,
            "max_height": null,
            "max_width": null,
            "min_height": null,
            "min_width": null,
            "object_fit": null,
            "object_position": null,
            "order": null,
            "overflow": null,
            "overflow_x": null,
            "overflow_y": null,
            "padding": null,
            "right": null,
            "top": null,
            "visibility": null,
            "width": null
          }
        },
        "c1d17547758d4d2280871fb57cdc5c45": {
          "model_module": "@jupyter-widgets/controls",
          "model_module_version": "1.5.0",
          "model_name": "LabelModel",
          "state": {
            "_dom_classes": [],
            "_model_module": "@jupyter-widgets/controls",
            "_model_module_version": "1.5.0",
            "_model_name": "LabelModel",
            "_view_count": null,
            "_view_module": "@jupyter-widgets/controls",
            "_view_module_version": "1.5.0",
            "_view_name": "LabelView",
            "description": "",
            "description_tooltip": null,
            "layout": "IPY_MODEL_f603bdd4e9414c07ae21ca887139999b",
            "placeholder": "​",
            "style": "IPY_MODEL_46c10c2bc0a44d1f8015aff07610eceb",
            "value": ""
          }
        },
        "c40f18dd2f834b6684dce77c0440b879": {
          "model_module": "@jupyter-widgets/controls",
          "model_module_version": "1.5.0",
          "model_name": "DescriptionStyleModel",
          "state": {
            "_model_module": "@jupyter-widgets/controls",
            "_model_module_version": "1.5.0",
            "_model_name": "DescriptionStyleModel",
            "_view_count": null,
            "_view_module": "@jupyter-widgets/base",
            "_view_module_version": "1.2.0",
            "_view_name": "StyleView",
            "description_width": ""
          }
        },
        "c47fbbaf89dc41efb3860ad1e90f2354": {
          "model_module": "@jupyter-widgets/controls",
          "model_module_version": "1.5.0",
          "model_name": "ProgressStyleModel",
          "state": {
            "_model_module": "@jupyter-widgets/controls",
            "_model_module_version": "1.5.0",
            "_model_name": "ProgressStyleModel",
            "_view_count": null,
            "_view_module": "@jupyter-widgets/base",
            "_view_module_version": "1.2.0",
            "_view_name": "StyleView",
            "bar_color": null,
            "description_width": ""
          }
        },
        "c6862e17e15c42cf9165c87e9db4a6a1": {
          "model_module": "@jupyter-widgets/controls",
          "model_module_version": "1.5.0",
          "model_name": "VBoxModel",
          "state": {
            "_dom_classes": [],
            "_model_module": "@jupyter-widgets/controls",
            "_model_module_version": "1.5.0",
            "_model_name": "VBoxModel",
            "_view_count": null,
            "_view_module": "@jupyter-widgets/controls",
            "_view_module_version": "1.5.0",
            "_view_name": "VBoxView",
            "box_style": "",
            "children": [
              "IPY_MODEL_bf114f7a0dd74a7d9e304a924d029604",
              "IPY_MODEL_7c396dc441054d53be359f252d7da7fc"
            ],
            "layout": "IPY_MODEL_b8ca777145314448890a76c917f993a5"
          }
        },
        "c704154a2d2647c1afabb9a1e74bf868": {
          "model_module": "@jupyter-widgets/controls",
          "model_module_version": "1.5.0",
          "model_name": "ProgressStyleModel",
          "state": {
            "_model_module": "@jupyter-widgets/controls",
            "_model_module_version": "1.5.0",
            "_model_name": "ProgressStyleModel",
            "_view_count": null,
            "_view_module": "@jupyter-widgets/base",
            "_view_module_version": "1.2.0",
            "_view_name": "StyleView",
            "bar_color": null,
            "description_width": ""
          }
        },
        "c78b588af7244f108ce969b6589da135": {
          "model_module": "@jupyter-widgets/base",
          "model_module_version": "1.2.0",
          "model_name": "LayoutModel",
          "state": {
            "_model_module": "@jupyter-widgets/base",
            "_model_module_version": "1.2.0",
            "_model_name": "LayoutModel",
            "_view_count": null,
            "_view_module": "@jupyter-widgets/base",
            "_view_module_version": "1.2.0",
            "_view_name": "LayoutView",
            "align_content": null,
            "align_items": null,
            "align_self": null,
            "border": null,
            "bottom": null,
            "display": null,
            "flex": null,
            "flex_flow": null,
            "grid_area": null,
            "grid_auto_columns": null,
            "grid_auto_flow": null,
            "grid_auto_rows": null,
            "grid_column": null,
            "grid_gap": null,
            "grid_row": null,
            "grid_template_areas": null,
            "grid_template_columns": null,
            "grid_template_rows": null,
            "height": null,
            "justify_content": null,
            "justify_items": null,
            "left": null,
            "margin": null,
            "max_height": null,
            "max_width": null,
            "min_height": null,
            "min_width": null,
            "object_fit": null,
            "object_position": null,
            "order": null,
            "overflow": null,
            "overflow_x": null,
            "overflow_y": null,
            "padding": null,
            "right": null,
            "top": null,
            "visibility": null,
            "width": null
          }
        },
        "c8167a8507524b1d9356a94496400ce5": {
          "model_module": "@jupyter-widgets/controls",
          "model_module_version": "1.5.0",
          "model_name": "FloatProgressModel",
          "state": {
            "_dom_classes": [],
            "_model_module": "@jupyter-widgets/controls",
            "_model_module_version": "1.5.0",
            "_model_name": "FloatProgressModel",
            "_view_count": null,
            "_view_module": "@jupyter-widgets/controls",
            "_view_module_version": "1.5.0",
            "_view_name": "ProgressView",
            "bar_style": "",
            "description": "",
            "description_tooltip": null,
            "layout": "IPY_MODEL_2967348e60c946eda75f3fdde40630a0",
            "max": 1,
            "min": 0,
            "orientation": "horizontal",
            "style": "IPY_MODEL_3653042f67714efb9035b280418cea6a",
            "value": 1
          }
        },
        "c8ead56d5cbf44c3804c8dba501cd667": {
          "model_module": "@jupyter-widgets/controls",
          "model_module_version": "1.5.0",
          "model_name": "LabelModel",
          "state": {
            "_dom_classes": [],
            "_model_module": "@jupyter-widgets/controls",
            "_model_module_version": "1.5.0",
            "_model_name": "LabelModel",
            "_view_count": null,
            "_view_module": "@jupyter-widgets/controls",
            "_view_module_version": "1.5.0",
            "_view_name": "LabelView",
            "description": "",
            "description_tooltip": null,
            "layout": "IPY_MODEL_22c0682b12fd483785b5fb220bc3c109",
            "placeholder": "​",
            "style": "IPY_MODEL_475f5e4e54dd430a97112106881c24d4",
            "value": "0.008 MB of 0.008 MB uploaded (0.000 MB deduped)\r"
          }
        },
        "c9ca545a5f0641d5bcd8fc3b9d1bfb3b": {
          "model_module": "@jupyter-widgets/controls",
          "model_module_version": "1.5.0",
          "model_name": "DescriptionStyleModel",
          "state": {
            "_model_module": "@jupyter-widgets/controls",
            "_model_module_version": "1.5.0",
            "_model_name": "DescriptionStyleModel",
            "_view_count": null,
            "_view_module": "@jupyter-widgets/base",
            "_view_module_version": "1.2.0",
            "_view_name": "StyleView",
            "description_width": ""
          }
        },
        "ca3830a9d8654d97944246e0f62f1589": {
          "model_module": "@jupyter-widgets/controls",
          "model_module_version": "1.5.0",
          "model_name": "FloatProgressModel",
          "state": {
            "_dom_classes": [],
            "_model_module": "@jupyter-widgets/controls",
            "_model_module_version": "1.5.0",
            "_model_name": "FloatProgressModel",
            "_view_count": null,
            "_view_module": "@jupyter-widgets/controls",
            "_view_module_version": "1.5.0",
            "_view_name": "ProgressView",
            "bar_style": "",
            "description": "",
            "description_tooltip": null,
            "layout": "IPY_MODEL_59f9c978c1b6474593569de29957fc70",
            "max": 1,
            "min": 0,
            "orientation": "horizontal",
            "style": "IPY_MODEL_3eb68411a5364caebcf715a82451929b",
            "value": 1
          }
        },
        "cafc98a2a04d4571b71ad4931f10dbca": {
          "model_module": "@jupyter-widgets/base",
          "model_module_version": "1.2.0",
          "model_name": "LayoutModel",
          "state": {
            "_model_module": "@jupyter-widgets/base",
            "_model_module_version": "1.2.0",
            "_model_name": "LayoutModel",
            "_view_count": null,
            "_view_module": "@jupyter-widgets/base",
            "_view_module_version": "1.2.0",
            "_view_name": "LayoutView",
            "align_content": null,
            "align_items": null,
            "align_self": null,
            "border": null,
            "bottom": null,
            "display": null,
            "flex": null,
            "flex_flow": null,
            "grid_area": null,
            "grid_auto_columns": null,
            "grid_auto_flow": null,
            "grid_auto_rows": null,
            "grid_column": null,
            "grid_gap": null,
            "grid_row": null,
            "grid_template_areas": null,
            "grid_template_columns": null,
            "grid_template_rows": null,
            "height": null,
            "justify_content": null,
            "justify_items": null,
            "left": null,
            "margin": null,
            "max_height": null,
            "max_width": null,
            "min_height": null,
            "min_width": null,
            "object_fit": null,
            "object_position": null,
            "order": null,
            "overflow": null,
            "overflow_x": null,
            "overflow_y": null,
            "padding": null,
            "right": null,
            "top": null,
            "visibility": null,
            "width": null
          }
        },
        "cb1006f80c044be4914826220de0bf2a": {
          "model_module": "@jupyter-widgets/controls",
          "model_module_version": "1.5.0",
          "model_name": "LabelModel",
          "state": {
            "_dom_classes": [],
            "_model_module": "@jupyter-widgets/controls",
            "_model_module_version": "1.5.0",
            "_model_name": "LabelModel",
            "_view_count": null,
            "_view_module": "@jupyter-widgets/controls",
            "_view_module_version": "1.5.0",
            "_view_name": "LabelView",
            "description": "",
            "description_tooltip": null,
            "layout": "IPY_MODEL_d8c09f59958c4724ba4615ae9e212ee7",
            "placeholder": "​",
            "style": "IPY_MODEL_fba408f940764f9e96d1aec78ff8f0d4",
            "value": "0.008 MB of 0.008 MB uploaded (0.000 MB deduped)\r"
          }
        },
        "cb90ac3971664c3491351fdb89ab74ed": {
          "model_module": "@jupyter-widgets/base",
          "model_module_version": "1.2.0",
          "model_name": "LayoutModel",
          "state": {
            "_model_module": "@jupyter-widgets/base",
            "_model_module_version": "1.2.0",
            "_model_name": "LayoutModel",
            "_view_count": null,
            "_view_module": "@jupyter-widgets/base",
            "_view_module_version": "1.2.0",
            "_view_name": "LayoutView",
            "align_content": null,
            "align_items": null,
            "align_self": null,
            "border": null,
            "bottom": null,
            "display": null,
            "flex": null,
            "flex_flow": null,
            "grid_area": null,
            "grid_auto_columns": null,
            "grid_auto_flow": null,
            "grid_auto_rows": null,
            "grid_column": null,
            "grid_gap": null,
            "grid_row": null,
            "grid_template_areas": null,
            "grid_template_columns": null,
            "grid_template_rows": null,
            "height": null,
            "justify_content": null,
            "justify_items": null,
            "left": null,
            "margin": null,
            "max_height": null,
            "max_width": null,
            "min_height": null,
            "min_width": null,
            "object_fit": null,
            "object_position": null,
            "order": null,
            "overflow": null,
            "overflow_x": null,
            "overflow_y": null,
            "padding": null,
            "right": null,
            "top": null,
            "visibility": null,
            "width": null
          }
        },
        "cc4cfbb6c99d4411829204f371c48912": {
          "model_module": "@jupyter-widgets/base",
          "model_module_version": "1.2.0",
          "model_name": "LayoutModel",
          "state": {
            "_model_module": "@jupyter-widgets/base",
            "_model_module_version": "1.2.0",
            "_model_name": "LayoutModel",
            "_view_count": null,
            "_view_module": "@jupyter-widgets/base",
            "_view_module_version": "1.2.0",
            "_view_name": "LayoutView",
            "align_content": null,
            "align_items": null,
            "align_self": null,
            "border": null,
            "bottom": null,
            "display": null,
            "flex": null,
            "flex_flow": null,
            "grid_area": null,
            "grid_auto_columns": null,
            "grid_auto_flow": null,
            "grid_auto_rows": null,
            "grid_column": null,
            "grid_gap": null,
            "grid_row": null,
            "grid_template_areas": null,
            "grid_template_columns": null,
            "grid_template_rows": null,
            "height": null,
            "justify_content": null,
            "justify_items": null,
            "left": null,
            "margin": null,
            "max_height": null,
            "max_width": null,
            "min_height": null,
            "min_width": null,
            "object_fit": null,
            "object_position": null,
            "order": null,
            "overflow": null,
            "overflow_x": null,
            "overflow_y": null,
            "padding": null,
            "right": null,
            "top": null,
            "visibility": null,
            "width": null
          }
        },
        "ccde29e408bf4b1eab1eb5515db9272a": {
          "model_module": "@jupyter-widgets/controls",
          "model_module_version": "1.5.0",
          "model_name": "FloatProgressModel",
          "state": {
            "_dom_classes": [],
            "_model_module": "@jupyter-widgets/controls",
            "_model_module_version": "1.5.0",
            "_model_name": "FloatProgressModel",
            "_view_count": null,
            "_view_module": "@jupyter-widgets/controls",
            "_view_module_version": "1.5.0",
            "_view_name": "ProgressView",
            "bar_style": "",
            "description": "",
            "description_tooltip": null,
            "layout": "IPY_MODEL_b85284f3ce654685a95d3c2e7af9cdb2",
            "max": 1,
            "min": 0,
            "orientation": "horizontal",
            "style": "IPY_MODEL_108723e43abb4da18a8659a434cfc9c7",
            "value": 1
          }
        },
        "cdb0bca521e341f99c2f428601cae0c6": {
          "model_module": "@jupyter-widgets/controls",
          "model_module_version": "1.5.0",
          "model_name": "ProgressStyleModel",
          "state": {
            "_model_module": "@jupyter-widgets/controls",
            "_model_module_version": "1.5.0",
            "_model_name": "ProgressStyleModel",
            "_view_count": null,
            "_view_module": "@jupyter-widgets/base",
            "_view_module_version": "1.2.0",
            "_view_name": "StyleView",
            "bar_color": null,
            "description_width": ""
          }
        },
        "cdfacdd7542f432bbf594e223489dcdf": {
          "model_module": "@jupyter-widgets/base",
          "model_module_version": "1.2.0",
          "model_name": "LayoutModel",
          "state": {
            "_model_module": "@jupyter-widgets/base",
            "_model_module_version": "1.2.0",
            "_model_name": "LayoutModel",
            "_view_count": null,
            "_view_module": "@jupyter-widgets/base",
            "_view_module_version": "1.2.0",
            "_view_name": "LayoutView",
            "align_content": null,
            "align_items": null,
            "align_self": null,
            "border": null,
            "bottom": null,
            "display": null,
            "flex": null,
            "flex_flow": null,
            "grid_area": null,
            "grid_auto_columns": null,
            "grid_auto_flow": null,
            "grid_auto_rows": null,
            "grid_column": null,
            "grid_gap": null,
            "grid_row": null,
            "grid_template_areas": null,
            "grid_template_columns": null,
            "grid_template_rows": null,
            "height": null,
            "justify_content": null,
            "justify_items": null,
            "left": null,
            "margin": null,
            "max_height": null,
            "max_width": null,
            "min_height": null,
            "min_width": null,
            "object_fit": null,
            "object_position": null,
            "order": null,
            "overflow": null,
            "overflow_x": null,
            "overflow_y": null,
            "padding": null,
            "right": null,
            "top": null,
            "visibility": null,
            "width": null
          }
        },
        "ce366be0b3f44c79b168897888d3e33a": {
          "model_module": "@jupyter-widgets/controls",
          "model_module_version": "1.5.0",
          "model_name": "ProgressStyleModel",
          "state": {
            "_model_module": "@jupyter-widgets/controls",
            "_model_module_version": "1.5.0",
            "_model_name": "ProgressStyleModel",
            "_view_count": null,
            "_view_module": "@jupyter-widgets/base",
            "_view_module_version": "1.2.0",
            "_view_name": "StyleView",
            "bar_color": null,
            "description_width": ""
          }
        },
        "cfe0ee53f9d5481ab3883528698da27a": {
          "model_module": "@jupyter-widgets/controls",
          "model_module_version": "1.5.0",
          "model_name": "VBoxModel",
          "state": {
            "_dom_classes": [],
            "_model_module": "@jupyter-widgets/controls",
            "_model_module_version": "1.5.0",
            "_model_name": "VBoxModel",
            "_view_count": null,
            "_view_module": "@jupyter-widgets/controls",
            "_view_module_version": "1.5.0",
            "_view_name": "VBoxView",
            "box_style": "",
            "children": [
              "IPY_MODEL_8e18905611ae451f8c284fd5c98ca10e",
              "IPY_MODEL_ccde29e408bf4b1eab1eb5515db9272a"
            ],
            "layout": "IPY_MODEL_1b10fc2580a74aeba1e71c277e434159"
          }
        },
        "d08017603ed7413db89f64e4a94c3479": {
          "model_module": "@jupyter-widgets/controls",
          "model_module_version": "1.5.0",
          "model_name": "LabelModel",
          "state": {
            "_dom_classes": [],
            "_model_module": "@jupyter-widgets/controls",
            "_model_module_version": "1.5.0",
            "_model_name": "LabelModel",
            "_view_count": null,
            "_view_module": "@jupyter-widgets/controls",
            "_view_module_version": "1.5.0",
            "_view_name": "LabelView",
            "description": "",
            "description_tooltip": null,
            "layout": "IPY_MODEL_840194c93d934dba9ef52b06a7a1b145",
            "placeholder": "​",
            "style": "IPY_MODEL_c9ca545a5f0641d5bcd8fc3b9d1bfb3b",
            "value": "0.008 MB of 0.008 MB uploaded (0.000 MB deduped)\r"
          }
        },
        "d13ca2793aa24a9e94fefd629c4ed798": {
          "model_module": "@jupyter-widgets/controls",
          "model_module_version": "1.5.0",
          "model_name": "LabelModel",
          "state": {
            "_dom_classes": [],
            "_model_module": "@jupyter-widgets/controls",
            "_model_module_version": "1.5.0",
            "_model_name": "LabelModel",
            "_view_count": null,
            "_view_module": "@jupyter-widgets/controls",
            "_view_module_version": "1.5.0",
            "_view_name": "LabelView",
            "description": "",
            "description_tooltip": null,
            "layout": "IPY_MODEL_f5938dd8e08f4fbb8a18064d81fbffaa",
            "placeholder": "​",
            "style": "IPY_MODEL_c40f18dd2f834b6684dce77c0440b879",
            "value": "0.008 MB of 0.008 MB uploaded (0.000 MB deduped)\r"
          }
        },
        "d14b70c2060e4b24ad9369e58a9b1cb7": {
          "model_module": "@jupyter-widgets/base",
          "model_module_version": "1.2.0",
          "model_name": "LayoutModel",
          "state": {
            "_model_module": "@jupyter-widgets/base",
            "_model_module_version": "1.2.0",
            "_model_name": "LayoutModel",
            "_view_count": null,
            "_view_module": "@jupyter-widgets/base",
            "_view_module_version": "1.2.0",
            "_view_name": "LayoutView",
            "align_content": null,
            "align_items": null,
            "align_self": null,
            "border": null,
            "bottom": null,
            "display": null,
            "flex": null,
            "flex_flow": null,
            "grid_area": null,
            "grid_auto_columns": null,
            "grid_auto_flow": null,
            "grid_auto_rows": null,
            "grid_column": null,
            "grid_gap": null,
            "grid_row": null,
            "grid_template_areas": null,
            "grid_template_columns": null,
            "grid_template_rows": null,
            "height": null,
            "justify_content": null,
            "justify_items": null,
            "left": null,
            "margin": null,
            "max_height": null,
            "max_width": null,
            "min_height": null,
            "min_width": null,
            "object_fit": null,
            "object_position": null,
            "order": null,
            "overflow": null,
            "overflow_x": null,
            "overflow_y": null,
            "padding": null,
            "right": null,
            "top": null,
            "visibility": null,
            "width": null
          }
        },
        "d182ac116e1e43a1bf0d1115c23da5c6": {
          "model_module": "@jupyter-widgets/base",
          "model_module_version": "1.2.0",
          "model_name": "LayoutModel",
          "state": {
            "_model_module": "@jupyter-widgets/base",
            "_model_module_version": "1.2.0",
            "_model_name": "LayoutModel",
            "_view_count": null,
            "_view_module": "@jupyter-widgets/base",
            "_view_module_version": "1.2.0",
            "_view_name": "LayoutView",
            "align_content": null,
            "align_items": null,
            "align_self": null,
            "border": null,
            "bottom": null,
            "display": null,
            "flex": null,
            "flex_flow": null,
            "grid_area": null,
            "grid_auto_columns": null,
            "grid_auto_flow": null,
            "grid_auto_rows": null,
            "grid_column": null,
            "grid_gap": null,
            "grid_row": null,
            "grid_template_areas": null,
            "grid_template_columns": null,
            "grid_template_rows": null,
            "height": null,
            "justify_content": null,
            "justify_items": null,
            "left": null,
            "margin": null,
            "max_height": null,
            "max_width": null,
            "min_height": null,
            "min_width": null,
            "object_fit": null,
            "object_position": null,
            "order": null,
            "overflow": null,
            "overflow_x": null,
            "overflow_y": null,
            "padding": null,
            "right": null,
            "top": null,
            "visibility": null,
            "width": null
          }
        },
        "d1b1b6d63b584f8f923901f7879c4236": {
          "model_module": "@jupyter-widgets/controls",
          "model_module_version": "1.5.0",
          "model_name": "DescriptionStyleModel",
          "state": {
            "_model_module": "@jupyter-widgets/controls",
            "_model_module_version": "1.5.0",
            "_model_name": "DescriptionStyleModel",
            "_view_count": null,
            "_view_module": "@jupyter-widgets/base",
            "_view_module_version": "1.2.0",
            "_view_name": "StyleView",
            "description_width": ""
          }
        },
        "d24d9daced3041b98a3ec5bb5067febb": {
          "model_module": "@jupyter-widgets/controls",
          "model_module_version": "1.5.0",
          "model_name": "ProgressStyleModel",
          "state": {
            "_model_module": "@jupyter-widgets/controls",
            "_model_module_version": "1.5.0",
            "_model_name": "ProgressStyleModel",
            "_view_count": null,
            "_view_module": "@jupyter-widgets/base",
            "_view_module_version": "1.2.0",
            "_view_name": "StyleView",
            "bar_color": null,
            "description_width": ""
          }
        },
        "d36db851d01043178e4f80467050af26": {
          "model_module": "@jupyter-widgets/base",
          "model_module_version": "1.2.0",
          "model_name": "LayoutModel",
          "state": {
            "_model_module": "@jupyter-widgets/base",
            "_model_module_version": "1.2.0",
            "_model_name": "LayoutModel",
            "_view_count": null,
            "_view_module": "@jupyter-widgets/base",
            "_view_module_version": "1.2.0",
            "_view_name": "LayoutView",
            "align_content": null,
            "align_items": null,
            "align_self": null,
            "border": null,
            "bottom": null,
            "display": null,
            "flex": null,
            "flex_flow": null,
            "grid_area": null,
            "grid_auto_columns": null,
            "grid_auto_flow": null,
            "grid_auto_rows": null,
            "grid_column": null,
            "grid_gap": null,
            "grid_row": null,
            "grid_template_areas": null,
            "grid_template_columns": null,
            "grid_template_rows": null,
            "height": null,
            "justify_content": null,
            "justify_items": null,
            "left": null,
            "margin": null,
            "max_height": null,
            "max_width": null,
            "min_height": null,
            "min_width": null,
            "object_fit": null,
            "object_position": null,
            "order": null,
            "overflow": null,
            "overflow_x": null,
            "overflow_y": null,
            "padding": null,
            "right": null,
            "top": null,
            "visibility": null,
            "width": null
          }
        },
        "d55496cf687241c284e205fded47d95a": {
          "model_module": "@jupyter-widgets/controls",
          "model_module_version": "1.5.0",
          "model_name": "DescriptionStyleModel",
          "state": {
            "_model_module": "@jupyter-widgets/controls",
            "_model_module_version": "1.5.0",
            "_model_name": "DescriptionStyleModel",
            "_view_count": null,
            "_view_module": "@jupyter-widgets/base",
            "_view_module_version": "1.2.0",
            "_view_name": "StyleView",
            "description_width": ""
          }
        },
        "d603e39db84f4244a64947bda7b5ad2f": {
          "model_module": "@jupyter-widgets/base",
          "model_module_version": "1.2.0",
          "model_name": "LayoutModel",
          "state": {
            "_model_module": "@jupyter-widgets/base",
            "_model_module_version": "1.2.0",
            "_model_name": "LayoutModel",
            "_view_count": null,
            "_view_module": "@jupyter-widgets/base",
            "_view_module_version": "1.2.0",
            "_view_name": "LayoutView",
            "align_content": null,
            "align_items": null,
            "align_self": null,
            "border": null,
            "bottom": null,
            "display": null,
            "flex": null,
            "flex_flow": null,
            "grid_area": null,
            "grid_auto_columns": null,
            "grid_auto_flow": null,
            "grid_auto_rows": null,
            "grid_column": null,
            "grid_gap": null,
            "grid_row": null,
            "grid_template_areas": null,
            "grid_template_columns": null,
            "grid_template_rows": null,
            "height": null,
            "justify_content": null,
            "justify_items": null,
            "left": null,
            "margin": null,
            "max_height": null,
            "max_width": null,
            "min_height": null,
            "min_width": null,
            "object_fit": null,
            "object_position": null,
            "order": null,
            "overflow": null,
            "overflow_x": null,
            "overflow_y": null,
            "padding": null,
            "right": null,
            "top": null,
            "visibility": null,
            "width": null
          }
        },
        "d7842ed854da4a23835742c8a8c2d2be": {
          "model_module": "@jupyter-widgets/controls",
          "model_module_version": "1.5.0",
          "model_name": "FloatProgressModel",
          "state": {
            "_dom_classes": [],
            "_model_module": "@jupyter-widgets/controls",
            "_model_module_version": "1.5.0",
            "_model_name": "FloatProgressModel",
            "_view_count": null,
            "_view_module": "@jupyter-widgets/controls",
            "_view_module_version": "1.5.0",
            "_view_name": "ProgressView",
            "bar_style": "",
            "description": "",
            "description_tooltip": null,
            "layout": "IPY_MODEL_a5aee57400104014be8740bcbd4b22f7",
            "max": 1,
            "min": 0,
            "orientation": "horizontal",
            "style": "IPY_MODEL_5045b7a92fda49a09e934715065ad2f2",
            "value": 1
          }
        },
        "d7e6d86ba78e45cfbe601ff58a1cd88d": {
          "model_module": "@jupyter-widgets/controls",
          "model_module_version": "1.5.0",
          "model_name": "ProgressStyleModel",
          "state": {
            "_model_module": "@jupyter-widgets/controls",
            "_model_module_version": "1.5.0",
            "_model_name": "ProgressStyleModel",
            "_view_count": null,
            "_view_module": "@jupyter-widgets/base",
            "_view_module_version": "1.2.0",
            "_view_name": "StyleView",
            "bar_color": null,
            "description_width": ""
          }
        },
        "d8c09f59958c4724ba4615ae9e212ee7": {
          "model_module": "@jupyter-widgets/base",
          "model_module_version": "1.2.0",
          "model_name": "LayoutModel",
          "state": {
            "_model_module": "@jupyter-widgets/base",
            "_model_module_version": "1.2.0",
            "_model_name": "LayoutModel",
            "_view_count": null,
            "_view_module": "@jupyter-widgets/base",
            "_view_module_version": "1.2.0",
            "_view_name": "LayoutView",
            "align_content": null,
            "align_items": null,
            "align_self": null,
            "border": null,
            "bottom": null,
            "display": null,
            "flex": null,
            "flex_flow": null,
            "grid_area": null,
            "grid_auto_columns": null,
            "grid_auto_flow": null,
            "grid_auto_rows": null,
            "grid_column": null,
            "grid_gap": null,
            "grid_row": null,
            "grid_template_areas": null,
            "grid_template_columns": null,
            "grid_template_rows": null,
            "height": null,
            "justify_content": null,
            "justify_items": null,
            "left": null,
            "margin": null,
            "max_height": null,
            "max_width": null,
            "min_height": null,
            "min_width": null,
            "object_fit": null,
            "object_position": null,
            "order": null,
            "overflow": null,
            "overflow_x": null,
            "overflow_y": null,
            "padding": null,
            "right": null,
            "top": null,
            "visibility": null,
            "width": null
          }
        },
        "dd7fdd8eca5a416eb5eef8992f64ed89": {
          "model_module": "@jupyter-widgets/controls",
          "model_module_version": "1.5.0",
          "model_name": "LabelModel",
          "state": {
            "_dom_classes": [],
            "_model_module": "@jupyter-widgets/controls",
            "_model_module_version": "1.5.0",
            "_model_name": "LabelModel",
            "_view_count": null,
            "_view_module": "@jupyter-widgets/controls",
            "_view_module_version": "1.5.0",
            "_view_name": "LabelView",
            "description": "",
            "description_tooltip": null,
            "layout": "IPY_MODEL_89e047d97b7f48b2b651bc39b14de2bb",
            "placeholder": "​",
            "style": "IPY_MODEL_e002ede748cc4f1c80dceb6f5fd4355e",
            "value": "0.008 MB of 0.008 MB uploaded (0.000 MB deduped)\r"
          }
        },
        "e002ede748cc4f1c80dceb6f5fd4355e": {
          "model_module": "@jupyter-widgets/controls",
          "model_module_version": "1.5.0",
          "model_name": "DescriptionStyleModel",
          "state": {
            "_model_module": "@jupyter-widgets/controls",
            "_model_module_version": "1.5.0",
            "_model_name": "DescriptionStyleModel",
            "_view_count": null,
            "_view_module": "@jupyter-widgets/base",
            "_view_module_version": "1.2.0",
            "_view_name": "StyleView",
            "description_width": ""
          }
        },
        "e0b5b4d5806146e19da8a55b66861f37": {
          "model_module": "@jupyter-widgets/controls",
          "model_module_version": "1.5.0",
          "model_name": "VBoxModel",
          "state": {
            "_dom_classes": [],
            "_model_module": "@jupyter-widgets/controls",
            "_model_module_version": "1.5.0",
            "_model_name": "VBoxModel",
            "_view_count": null,
            "_view_module": "@jupyter-widgets/controls",
            "_view_module_version": "1.5.0",
            "_view_name": "VBoxView",
            "box_style": "",
            "children": [
              "IPY_MODEL_c1d17547758d4d2280871fb57cdc5c45",
              "IPY_MODEL_2107f5d3081f4011ae7e62ef837ba681"
            ],
            "layout": "IPY_MODEL_0e7d15bee15d415b941be878cc305369"
          }
        },
        "e147d219277b40ec8ef907ad01c41e69": {
          "model_module": "@jupyter-widgets/controls",
          "model_module_version": "1.5.0",
          "model_name": "VBoxModel",
          "state": {
            "_dom_classes": [],
            "_model_module": "@jupyter-widgets/controls",
            "_model_module_version": "1.5.0",
            "_model_name": "VBoxModel",
            "_view_count": null,
            "_view_module": "@jupyter-widgets/controls",
            "_view_module_version": "1.5.0",
            "_view_name": "VBoxView",
            "box_style": "",
            "children": [
              "IPY_MODEL_47e91d54b62541a7b1f96db8a429bd03",
              "IPY_MODEL_ee37bdf8f3d54ab591feb386b482f7eb"
            ],
            "layout": "IPY_MODEL_82186c81c6d346958ea974d7a03debd6"
          }
        },
        "e2c9f028cbee40c78d234c9fdb3c4a03": {
          "model_module": "@jupyter-widgets/base",
          "model_module_version": "1.2.0",
          "model_name": "LayoutModel",
          "state": {
            "_model_module": "@jupyter-widgets/base",
            "_model_module_version": "1.2.0",
            "_model_name": "LayoutModel",
            "_view_count": null,
            "_view_module": "@jupyter-widgets/base",
            "_view_module_version": "1.2.0",
            "_view_name": "LayoutView",
            "align_content": null,
            "align_items": null,
            "align_self": null,
            "border": null,
            "bottom": null,
            "display": null,
            "flex": null,
            "flex_flow": null,
            "grid_area": null,
            "grid_auto_columns": null,
            "grid_auto_flow": null,
            "grid_auto_rows": null,
            "grid_column": null,
            "grid_gap": null,
            "grid_row": null,
            "grid_template_areas": null,
            "grid_template_columns": null,
            "grid_template_rows": null,
            "height": null,
            "justify_content": null,
            "justify_items": null,
            "left": null,
            "margin": null,
            "max_height": null,
            "max_width": null,
            "min_height": null,
            "min_width": null,
            "object_fit": null,
            "object_position": null,
            "order": null,
            "overflow": null,
            "overflow_x": null,
            "overflow_y": null,
            "padding": null,
            "right": null,
            "top": null,
            "visibility": null,
            "width": null
          }
        },
        "e494afcb69ba4db693a268884f3c08ca": {
          "model_module": "@jupyter-widgets/base",
          "model_module_version": "1.2.0",
          "model_name": "LayoutModel",
          "state": {
            "_model_module": "@jupyter-widgets/base",
            "_model_module_version": "1.2.0",
            "_model_name": "LayoutModel",
            "_view_count": null,
            "_view_module": "@jupyter-widgets/base",
            "_view_module_version": "1.2.0",
            "_view_name": "LayoutView",
            "align_content": null,
            "align_items": null,
            "align_self": null,
            "border": null,
            "bottom": null,
            "display": null,
            "flex": null,
            "flex_flow": null,
            "grid_area": null,
            "grid_auto_columns": null,
            "grid_auto_flow": null,
            "grid_auto_rows": null,
            "grid_column": null,
            "grid_gap": null,
            "grid_row": null,
            "grid_template_areas": null,
            "grid_template_columns": null,
            "grid_template_rows": null,
            "height": null,
            "justify_content": null,
            "justify_items": null,
            "left": null,
            "margin": null,
            "max_height": null,
            "max_width": null,
            "min_height": null,
            "min_width": null,
            "object_fit": null,
            "object_position": null,
            "order": null,
            "overflow": null,
            "overflow_x": null,
            "overflow_y": null,
            "padding": null,
            "right": null,
            "top": null,
            "visibility": null,
            "width": null
          }
        },
        "e928d662fd734dde9303edfafc131000": {
          "model_module": "@jupyter-widgets/base",
          "model_module_version": "1.2.0",
          "model_name": "LayoutModel",
          "state": {
            "_model_module": "@jupyter-widgets/base",
            "_model_module_version": "1.2.0",
            "_model_name": "LayoutModel",
            "_view_count": null,
            "_view_module": "@jupyter-widgets/base",
            "_view_module_version": "1.2.0",
            "_view_name": "LayoutView",
            "align_content": null,
            "align_items": null,
            "align_self": null,
            "border": null,
            "bottom": null,
            "display": null,
            "flex": null,
            "flex_flow": null,
            "grid_area": null,
            "grid_auto_columns": null,
            "grid_auto_flow": null,
            "grid_auto_rows": null,
            "grid_column": null,
            "grid_gap": null,
            "grid_row": null,
            "grid_template_areas": null,
            "grid_template_columns": null,
            "grid_template_rows": null,
            "height": null,
            "justify_content": null,
            "justify_items": null,
            "left": null,
            "margin": null,
            "max_height": null,
            "max_width": null,
            "min_height": null,
            "min_width": null,
            "object_fit": null,
            "object_position": null,
            "order": null,
            "overflow": null,
            "overflow_x": null,
            "overflow_y": null,
            "padding": null,
            "right": null,
            "top": null,
            "visibility": null,
            "width": null
          }
        },
        "e979bbacdc1c4e339525c7a83f9dff5a": {
          "model_module": "@jupyter-widgets/controls",
          "model_module_version": "1.5.0",
          "model_name": "ProgressStyleModel",
          "state": {
            "_model_module": "@jupyter-widgets/controls",
            "_model_module_version": "1.5.0",
            "_model_name": "ProgressStyleModel",
            "_view_count": null,
            "_view_module": "@jupyter-widgets/base",
            "_view_module_version": "1.2.0",
            "_view_name": "StyleView",
            "bar_color": null,
            "description_width": ""
          }
        },
        "e98be2d306b6474487eac45df736e207": {
          "model_module": "@jupyter-widgets/controls",
          "model_module_version": "1.5.0",
          "model_name": "ProgressStyleModel",
          "state": {
            "_model_module": "@jupyter-widgets/controls",
            "_model_module_version": "1.5.0",
            "_model_name": "ProgressStyleModel",
            "_view_count": null,
            "_view_module": "@jupyter-widgets/base",
            "_view_module_version": "1.2.0",
            "_view_name": "StyleView",
            "bar_color": null,
            "description_width": ""
          }
        },
        "e9b2ba0253cd488da241ae6a8db3846a": {
          "model_module": "@jupyter-widgets/controls",
          "model_module_version": "1.5.0",
          "model_name": "DescriptionStyleModel",
          "state": {
            "_model_module": "@jupyter-widgets/controls",
            "_model_module_version": "1.5.0",
            "_model_name": "DescriptionStyleModel",
            "_view_count": null,
            "_view_module": "@jupyter-widgets/base",
            "_view_module_version": "1.2.0",
            "_view_name": "StyleView",
            "description_width": ""
          }
        },
        "ea1b2b46aa5d4dfc87cb317f36963031": {
          "model_module": "@jupyter-widgets/controls",
          "model_module_version": "1.5.0",
          "model_name": "DescriptionStyleModel",
          "state": {
            "_model_module": "@jupyter-widgets/controls",
            "_model_module_version": "1.5.0",
            "_model_name": "DescriptionStyleModel",
            "_view_count": null,
            "_view_module": "@jupyter-widgets/base",
            "_view_module_version": "1.2.0",
            "_view_name": "StyleView",
            "description_width": ""
          }
        },
        "eaeaa9577c90464ba30cf1b865de2e3d": {
          "model_module": "@jupyter-widgets/base",
          "model_module_version": "1.2.0",
          "model_name": "LayoutModel",
          "state": {
            "_model_module": "@jupyter-widgets/base",
            "_model_module_version": "1.2.0",
            "_model_name": "LayoutModel",
            "_view_count": null,
            "_view_module": "@jupyter-widgets/base",
            "_view_module_version": "1.2.0",
            "_view_name": "LayoutView",
            "align_content": null,
            "align_items": null,
            "align_self": null,
            "border": null,
            "bottom": null,
            "display": null,
            "flex": null,
            "flex_flow": null,
            "grid_area": null,
            "grid_auto_columns": null,
            "grid_auto_flow": null,
            "grid_auto_rows": null,
            "grid_column": null,
            "grid_gap": null,
            "grid_row": null,
            "grid_template_areas": null,
            "grid_template_columns": null,
            "grid_template_rows": null,
            "height": null,
            "justify_content": null,
            "justify_items": null,
            "left": null,
            "margin": null,
            "max_height": null,
            "max_width": null,
            "min_height": null,
            "min_width": null,
            "object_fit": null,
            "object_position": null,
            "order": null,
            "overflow": null,
            "overflow_x": null,
            "overflow_y": null,
            "padding": null,
            "right": null,
            "top": null,
            "visibility": null,
            "width": null
          }
        },
        "ed01318b11aa4a599214b31ec2692f23": {
          "model_module": "@jupyter-widgets/base",
          "model_module_version": "1.2.0",
          "model_name": "LayoutModel",
          "state": {
            "_model_module": "@jupyter-widgets/base",
            "_model_module_version": "1.2.0",
            "_model_name": "LayoutModel",
            "_view_count": null,
            "_view_module": "@jupyter-widgets/base",
            "_view_module_version": "1.2.0",
            "_view_name": "LayoutView",
            "align_content": null,
            "align_items": null,
            "align_self": null,
            "border": null,
            "bottom": null,
            "display": null,
            "flex": null,
            "flex_flow": null,
            "grid_area": null,
            "grid_auto_columns": null,
            "grid_auto_flow": null,
            "grid_auto_rows": null,
            "grid_column": null,
            "grid_gap": null,
            "grid_row": null,
            "grid_template_areas": null,
            "grid_template_columns": null,
            "grid_template_rows": null,
            "height": null,
            "justify_content": null,
            "justify_items": null,
            "left": null,
            "margin": null,
            "max_height": null,
            "max_width": null,
            "min_height": null,
            "min_width": null,
            "object_fit": null,
            "object_position": null,
            "order": null,
            "overflow": null,
            "overflow_x": null,
            "overflow_y": null,
            "padding": null,
            "right": null,
            "top": null,
            "visibility": null,
            "width": null
          }
        },
        "ed0331e8bf2f4a9e98e3357720156760": {
          "model_module": "@jupyter-widgets/controls",
          "model_module_version": "1.5.0",
          "model_name": "VBoxModel",
          "state": {
            "_dom_classes": [],
            "_model_module": "@jupyter-widgets/controls",
            "_model_module_version": "1.5.0",
            "_model_name": "VBoxModel",
            "_view_count": null,
            "_view_module": "@jupyter-widgets/controls",
            "_view_module_version": "1.5.0",
            "_view_name": "VBoxView",
            "box_style": "",
            "children": [
              "IPY_MODEL_f3f4108387bb47df80ae1c65ae261274",
              "IPY_MODEL_566f98bc71bc4dc09d9a1305516fed01"
            ],
            "layout": "IPY_MODEL_625a387baa0e454182ca3438f49ae1c9"
          }
        },
        "ee0c89f7b3304f489c2a06ede4550075": {
          "model_module": "@jupyter-widgets/base",
          "model_module_version": "1.2.0",
          "model_name": "LayoutModel",
          "state": {
            "_model_module": "@jupyter-widgets/base",
            "_model_module_version": "1.2.0",
            "_model_name": "LayoutModel",
            "_view_count": null,
            "_view_module": "@jupyter-widgets/base",
            "_view_module_version": "1.2.0",
            "_view_name": "LayoutView",
            "align_content": null,
            "align_items": null,
            "align_self": null,
            "border": null,
            "bottom": null,
            "display": null,
            "flex": null,
            "flex_flow": null,
            "grid_area": null,
            "grid_auto_columns": null,
            "grid_auto_flow": null,
            "grid_auto_rows": null,
            "grid_column": null,
            "grid_gap": null,
            "grid_row": null,
            "grid_template_areas": null,
            "grid_template_columns": null,
            "grid_template_rows": null,
            "height": null,
            "justify_content": null,
            "justify_items": null,
            "left": null,
            "margin": null,
            "max_height": null,
            "max_width": null,
            "min_height": null,
            "min_width": null,
            "object_fit": null,
            "object_position": null,
            "order": null,
            "overflow": null,
            "overflow_x": null,
            "overflow_y": null,
            "padding": null,
            "right": null,
            "top": null,
            "visibility": null,
            "width": null
          }
        },
        "ee37bdf8f3d54ab591feb386b482f7eb": {
          "model_module": "@jupyter-widgets/controls",
          "model_module_version": "1.5.0",
          "model_name": "FloatProgressModel",
          "state": {
            "_dom_classes": [],
            "_model_module": "@jupyter-widgets/controls",
            "_model_module_version": "1.5.0",
            "_model_name": "FloatProgressModel",
            "_view_count": null,
            "_view_module": "@jupyter-widgets/controls",
            "_view_module_version": "1.5.0",
            "_view_name": "ProgressView",
            "bar_style": "",
            "description": "",
            "description_tooltip": null,
            "layout": "IPY_MODEL_e2c9f028cbee40c78d234c9fdb3c4a03",
            "max": 1,
            "min": 0,
            "orientation": "horizontal",
            "style": "IPY_MODEL_d24d9daced3041b98a3ec5bb5067febb",
            "value": 1
          }
        },
        "ee8aeec87f1b4a2ab76ab488a11da223": {
          "model_module": "@jupyter-widgets/controls",
          "model_module_version": "1.5.0",
          "model_name": "VBoxModel",
          "state": {
            "_dom_classes": [],
            "_model_module": "@jupyter-widgets/controls",
            "_model_module_version": "1.5.0",
            "_model_name": "VBoxModel",
            "_view_count": null,
            "_view_module": "@jupyter-widgets/controls",
            "_view_module_version": "1.5.0",
            "_view_name": "VBoxView",
            "box_style": "",
            "children": [
              "IPY_MODEL_19182e31e50b403f9648da4cd3c7ad45",
              "IPY_MODEL_ca3830a9d8654d97944246e0f62f1589"
            ],
            "layout": "IPY_MODEL_6aed5bcb1e6e45008ba6d25ac5c0a6c8"
          }
        },
        "ee96d074356e4370ab83b0963f4d9dc2": {
          "model_module": "@jupyter-widgets/controls",
          "model_module_version": "1.5.0",
          "model_name": "LabelModel",
          "state": {
            "_dom_classes": [],
            "_model_module": "@jupyter-widgets/controls",
            "_model_module_version": "1.5.0",
            "_model_name": "LabelModel",
            "_view_count": null,
            "_view_module": "@jupyter-widgets/controls",
            "_view_module_version": "1.5.0",
            "_view_name": "LabelView",
            "description": "",
            "description_tooltip": null,
            "layout": "IPY_MODEL_d14b70c2060e4b24ad9369e58a9b1cb7",
            "placeholder": "​",
            "style": "IPY_MODEL_5d088203116a4b8fa64c5fe84b57600c",
            "value": "0.008 MB of 0.008 MB uploaded (0.000 MB deduped)\r"
          }
        },
        "eeb0b790132c44378fc4b5377dacfec0": {
          "model_module": "@jupyter-widgets/controls",
          "model_module_version": "1.5.0",
          "model_name": "DescriptionStyleModel",
          "state": {
            "_model_module": "@jupyter-widgets/controls",
            "_model_module_version": "1.5.0",
            "_model_name": "DescriptionStyleModel",
            "_view_count": null,
            "_view_module": "@jupyter-widgets/base",
            "_view_module_version": "1.2.0",
            "_view_name": "StyleView",
            "description_width": ""
          }
        },
        "eee23941d9674b05b737b8305aeb4b13": {
          "model_module": "@jupyter-widgets/base",
          "model_module_version": "1.2.0",
          "model_name": "LayoutModel",
          "state": {
            "_model_module": "@jupyter-widgets/base",
            "_model_module_version": "1.2.0",
            "_model_name": "LayoutModel",
            "_view_count": null,
            "_view_module": "@jupyter-widgets/base",
            "_view_module_version": "1.2.0",
            "_view_name": "LayoutView",
            "align_content": null,
            "align_items": null,
            "align_self": null,
            "border": null,
            "bottom": null,
            "display": null,
            "flex": null,
            "flex_flow": null,
            "grid_area": null,
            "grid_auto_columns": null,
            "grid_auto_flow": null,
            "grid_auto_rows": null,
            "grid_column": null,
            "grid_gap": null,
            "grid_row": null,
            "grid_template_areas": null,
            "grid_template_columns": null,
            "grid_template_rows": null,
            "height": null,
            "justify_content": null,
            "justify_items": null,
            "left": null,
            "margin": null,
            "max_height": null,
            "max_width": null,
            "min_height": null,
            "min_width": null,
            "object_fit": null,
            "object_position": null,
            "order": null,
            "overflow": null,
            "overflow_x": null,
            "overflow_y": null,
            "padding": null,
            "right": null,
            "top": null,
            "visibility": null,
            "width": null
          }
        },
        "effc6e31da2d4968973cbf9ce48af9b0": {
          "model_module": "@jupyter-widgets/controls",
          "model_module_version": "1.5.0",
          "model_name": "VBoxModel",
          "state": {
            "_dom_classes": [],
            "_model_module": "@jupyter-widgets/controls",
            "_model_module_version": "1.5.0",
            "_model_name": "VBoxModel",
            "_view_count": null,
            "_view_module": "@jupyter-widgets/controls",
            "_view_module_version": "1.5.0",
            "_view_name": "VBoxView",
            "box_style": "",
            "children": [
              "IPY_MODEL_9f9fd2cc0b604daeade25d5ae9615462",
              "IPY_MODEL_d7842ed854da4a23835742c8a8c2d2be"
            ],
            "layout": "IPY_MODEL_cc4cfbb6c99d4411829204f371c48912"
          }
        },
        "f1f1e0f2fdd744d1ac76643731a520c9": {
          "model_module": "@jupyter-widgets/base",
          "model_module_version": "1.2.0",
          "model_name": "LayoutModel",
          "state": {
            "_model_module": "@jupyter-widgets/base",
            "_model_module_version": "1.2.0",
            "_model_name": "LayoutModel",
            "_view_count": null,
            "_view_module": "@jupyter-widgets/base",
            "_view_module_version": "1.2.0",
            "_view_name": "LayoutView",
            "align_content": null,
            "align_items": null,
            "align_self": null,
            "border": null,
            "bottom": null,
            "display": null,
            "flex": null,
            "flex_flow": null,
            "grid_area": null,
            "grid_auto_columns": null,
            "grid_auto_flow": null,
            "grid_auto_rows": null,
            "grid_column": null,
            "grid_gap": null,
            "grid_row": null,
            "grid_template_areas": null,
            "grid_template_columns": null,
            "grid_template_rows": null,
            "height": null,
            "justify_content": null,
            "justify_items": null,
            "left": null,
            "margin": null,
            "max_height": null,
            "max_width": null,
            "min_height": null,
            "min_width": null,
            "object_fit": null,
            "object_position": null,
            "order": null,
            "overflow": null,
            "overflow_x": null,
            "overflow_y": null,
            "padding": null,
            "right": null,
            "top": null,
            "visibility": null,
            "width": null
          }
        },
        "f1f1f57b2e374ead822775f6bbf7b06b": {
          "model_module": "@jupyter-widgets/controls",
          "model_module_version": "1.5.0",
          "model_name": "VBoxModel",
          "state": {
            "_dom_classes": [],
            "_model_module": "@jupyter-widgets/controls",
            "_model_module_version": "1.5.0",
            "_model_name": "VBoxModel",
            "_view_count": null,
            "_view_module": "@jupyter-widgets/controls",
            "_view_module_version": "1.5.0",
            "_view_name": "VBoxView",
            "box_style": "",
            "children": [
              "IPY_MODEL_b6d040221da94f9f9971f39e0393314e",
              "IPY_MODEL_103941d55de34ca4821f6a3d866ef143"
            ],
            "layout": "IPY_MODEL_f8392c7127024ae4a75f9a14a42c9f4d"
          }
        },
        "f2bdc7112b234a1cb49b9768c7753855": {
          "model_module": "@jupyter-widgets/base",
          "model_module_version": "1.2.0",
          "model_name": "LayoutModel",
          "state": {
            "_model_module": "@jupyter-widgets/base",
            "_model_module_version": "1.2.0",
            "_model_name": "LayoutModel",
            "_view_count": null,
            "_view_module": "@jupyter-widgets/base",
            "_view_module_version": "1.2.0",
            "_view_name": "LayoutView",
            "align_content": null,
            "align_items": null,
            "align_self": null,
            "border": null,
            "bottom": null,
            "display": null,
            "flex": null,
            "flex_flow": null,
            "grid_area": null,
            "grid_auto_columns": null,
            "grid_auto_flow": null,
            "grid_auto_rows": null,
            "grid_column": null,
            "grid_gap": null,
            "grid_row": null,
            "grid_template_areas": null,
            "grid_template_columns": null,
            "grid_template_rows": null,
            "height": null,
            "justify_content": null,
            "justify_items": null,
            "left": null,
            "margin": null,
            "max_height": null,
            "max_width": null,
            "min_height": null,
            "min_width": null,
            "object_fit": null,
            "object_position": null,
            "order": null,
            "overflow": null,
            "overflow_x": null,
            "overflow_y": null,
            "padding": null,
            "right": null,
            "top": null,
            "visibility": null,
            "width": null
          }
        },
        "f3f4108387bb47df80ae1c65ae261274": {
          "model_module": "@jupyter-widgets/controls",
          "model_module_version": "1.5.0",
          "model_name": "LabelModel",
          "state": {
            "_dom_classes": [],
            "_model_module": "@jupyter-widgets/controls",
            "_model_module_version": "1.5.0",
            "_model_name": "LabelModel",
            "_view_count": null,
            "_view_module": "@jupyter-widgets/controls",
            "_view_module_version": "1.5.0",
            "_view_name": "LabelView",
            "description": "",
            "description_tooltip": null,
            "layout": "IPY_MODEL_c78b588af7244f108ce969b6589da135",
            "placeholder": "​",
            "style": "IPY_MODEL_aa2e9317eb744bb794b550afdf29803f",
            "value": "0.008 MB of 0.008 MB uploaded (0.000 MB deduped)\r"
          }
        },
        "f4201bcc83d14dbd8e5c958c169e454e": {
          "model_module": "@jupyter-widgets/controls",
          "model_module_version": "1.5.0",
          "model_name": "LabelModel",
          "state": {
            "_dom_classes": [],
            "_model_module": "@jupyter-widgets/controls",
            "_model_module_version": "1.5.0",
            "_model_name": "LabelModel",
            "_view_count": null,
            "_view_module": "@jupyter-widgets/controls",
            "_view_module_version": "1.5.0",
            "_view_name": "LabelView",
            "description": "",
            "description_tooltip": null,
            "layout": "IPY_MODEL_9b2516edb4b84b50a88f85fbcee9d2f3",
            "placeholder": "​",
            "style": "IPY_MODEL_d1b1b6d63b584f8f923901f7879c4236",
            "value": "0.008 MB of 0.008 MB uploaded (0.000 MB deduped)\r"
          }
        },
        "f4be9cd8c5a24a198d132b956cf6af5e": {
          "model_module": "@jupyter-widgets/controls",
          "model_module_version": "1.5.0",
          "model_name": "FloatProgressModel",
          "state": {
            "_dom_classes": [],
            "_model_module": "@jupyter-widgets/controls",
            "_model_module_version": "1.5.0",
            "_model_name": "FloatProgressModel",
            "_view_count": null,
            "_view_module": "@jupyter-widgets/controls",
            "_view_module_version": "1.5.0",
            "_view_name": "ProgressView",
            "bar_style": "",
            "description": "",
            "description_tooltip": null,
            "layout": "IPY_MODEL_8912748f2232409baa206a99e14680a0",
            "max": 1,
            "min": 0,
            "orientation": "horizontal",
            "style": "IPY_MODEL_ce366be0b3f44c79b168897888d3e33a",
            "value": 1
          }
        },
        "f511e7f6d277488ea67eaa15536079e6": {
          "model_module": "@jupyter-widgets/controls",
          "model_module_version": "1.5.0",
          "model_name": "ProgressStyleModel",
          "state": {
            "_model_module": "@jupyter-widgets/controls",
            "_model_module_version": "1.5.0",
            "_model_name": "ProgressStyleModel",
            "_view_count": null,
            "_view_module": "@jupyter-widgets/base",
            "_view_module_version": "1.2.0",
            "_view_name": "StyleView",
            "bar_color": null,
            "description_width": ""
          }
        },
        "f5938dd8e08f4fbb8a18064d81fbffaa": {
          "model_module": "@jupyter-widgets/base",
          "model_module_version": "1.2.0",
          "model_name": "LayoutModel",
          "state": {
            "_model_module": "@jupyter-widgets/base",
            "_model_module_version": "1.2.0",
            "_model_name": "LayoutModel",
            "_view_count": null,
            "_view_module": "@jupyter-widgets/base",
            "_view_module_version": "1.2.0",
            "_view_name": "LayoutView",
            "align_content": null,
            "align_items": null,
            "align_self": null,
            "border": null,
            "bottom": null,
            "display": null,
            "flex": null,
            "flex_flow": null,
            "grid_area": null,
            "grid_auto_columns": null,
            "grid_auto_flow": null,
            "grid_auto_rows": null,
            "grid_column": null,
            "grid_gap": null,
            "grid_row": null,
            "grid_template_areas": null,
            "grid_template_columns": null,
            "grid_template_rows": null,
            "height": null,
            "justify_content": null,
            "justify_items": null,
            "left": null,
            "margin": null,
            "max_height": null,
            "max_width": null,
            "min_height": null,
            "min_width": null,
            "object_fit": null,
            "object_position": null,
            "order": null,
            "overflow": null,
            "overflow_x": null,
            "overflow_y": null,
            "padding": null,
            "right": null,
            "top": null,
            "visibility": null,
            "width": null
          }
        },
        "f59ae748f74f4eb7acda483c8256f320": {
          "model_module": "@jupyter-widgets/controls",
          "model_module_version": "1.5.0",
          "model_name": "DescriptionStyleModel",
          "state": {
            "_model_module": "@jupyter-widgets/controls",
            "_model_module_version": "1.5.0",
            "_model_name": "DescriptionStyleModel",
            "_view_count": null,
            "_view_module": "@jupyter-widgets/base",
            "_view_module_version": "1.2.0",
            "_view_name": "StyleView",
            "description_width": ""
          }
        },
        "f603bdd4e9414c07ae21ca887139999b": {
          "model_module": "@jupyter-widgets/base",
          "model_module_version": "1.2.0",
          "model_name": "LayoutModel",
          "state": {
            "_model_module": "@jupyter-widgets/base",
            "_model_module_version": "1.2.0",
            "_model_name": "LayoutModel",
            "_view_count": null,
            "_view_module": "@jupyter-widgets/base",
            "_view_module_version": "1.2.0",
            "_view_name": "LayoutView",
            "align_content": null,
            "align_items": null,
            "align_self": null,
            "border": null,
            "bottom": null,
            "display": null,
            "flex": null,
            "flex_flow": null,
            "grid_area": null,
            "grid_auto_columns": null,
            "grid_auto_flow": null,
            "grid_auto_rows": null,
            "grid_column": null,
            "grid_gap": null,
            "grid_row": null,
            "grid_template_areas": null,
            "grid_template_columns": null,
            "grid_template_rows": null,
            "height": null,
            "justify_content": null,
            "justify_items": null,
            "left": null,
            "margin": null,
            "max_height": null,
            "max_width": null,
            "min_height": null,
            "min_width": null,
            "object_fit": null,
            "object_position": null,
            "order": null,
            "overflow": null,
            "overflow_x": null,
            "overflow_y": null,
            "padding": null,
            "right": null,
            "top": null,
            "visibility": null,
            "width": null
          }
        },
        "f606c45c789d4a84907a1532e0808cca": {
          "model_module": "@jupyter-widgets/base",
          "model_module_version": "1.2.0",
          "model_name": "LayoutModel",
          "state": {
            "_model_module": "@jupyter-widgets/base",
            "_model_module_version": "1.2.0",
            "_model_name": "LayoutModel",
            "_view_count": null,
            "_view_module": "@jupyter-widgets/base",
            "_view_module_version": "1.2.0",
            "_view_name": "LayoutView",
            "align_content": null,
            "align_items": null,
            "align_self": null,
            "border": null,
            "bottom": null,
            "display": null,
            "flex": null,
            "flex_flow": null,
            "grid_area": null,
            "grid_auto_columns": null,
            "grid_auto_flow": null,
            "grid_auto_rows": null,
            "grid_column": null,
            "grid_gap": null,
            "grid_row": null,
            "grid_template_areas": null,
            "grid_template_columns": null,
            "grid_template_rows": null,
            "height": null,
            "justify_content": null,
            "justify_items": null,
            "left": null,
            "margin": null,
            "max_height": null,
            "max_width": null,
            "min_height": null,
            "min_width": null,
            "object_fit": null,
            "object_position": null,
            "order": null,
            "overflow": null,
            "overflow_x": null,
            "overflow_y": null,
            "padding": null,
            "right": null,
            "top": null,
            "visibility": null,
            "width": null
          }
        },
        "f618e6c2c0c94ff6bdcbba46a46d32f6": {
          "model_module": "@jupyter-widgets/base",
          "model_module_version": "1.2.0",
          "model_name": "LayoutModel",
          "state": {
            "_model_module": "@jupyter-widgets/base",
            "_model_module_version": "1.2.0",
            "_model_name": "LayoutModel",
            "_view_count": null,
            "_view_module": "@jupyter-widgets/base",
            "_view_module_version": "1.2.0",
            "_view_name": "LayoutView",
            "align_content": null,
            "align_items": null,
            "align_self": null,
            "border": null,
            "bottom": null,
            "display": null,
            "flex": null,
            "flex_flow": null,
            "grid_area": null,
            "grid_auto_columns": null,
            "grid_auto_flow": null,
            "grid_auto_rows": null,
            "grid_column": null,
            "grid_gap": null,
            "grid_row": null,
            "grid_template_areas": null,
            "grid_template_columns": null,
            "grid_template_rows": null,
            "height": null,
            "justify_content": null,
            "justify_items": null,
            "left": null,
            "margin": null,
            "max_height": null,
            "max_width": null,
            "min_height": null,
            "min_width": null,
            "object_fit": null,
            "object_position": null,
            "order": null,
            "overflow": null,
            "overflow_x": null,
            "overflow_y": null,
            "padding": null,
            "right": null,
            "top": null,
            "visibility": null,
            "width": null
          }
        },
        "f6763434694e493aa1dcdb627385ab88": {
          "model_module": "@jupyter-widgets/controls",
          "model_module_version": "1.5.0",
          "model_name": "LabelModel",
          "state": {
            "_dom_classes": [],
            "_model_module": "@jupyter-widgets/controls",
            "_model_module_version": "1.5.0",
            "_model_name": "LabelModel",
            "_view_count": null,
            "_view_module": "@jupyter-widgets/controls",
            "_view_module_version": "1.5.0",
            "_view_name": "LabelView",
            "description": "",
            "description_tooltip": null,
            "layout": "IPY_MODEL_602ce2cd6edf41159c2d0fb284d7b118",
            "placeholder": "​",
            "style": "IPY_MODEL_81e931851276420ab082de7776b77cff",
            "value": "0.008 MB of 0.008 MB uploaded (0.000 MB deduped)\r"
          }
        },
        "f8392c7127024ae4a75f9a14a42c9f4d": {
          "model_module": "@jupyter-widgets/base",
          "model_module_version": "1.2.0",
          "model_name": "LayoutModel",
          "state": {
            "_model_module": "@jupyter-widgets/base",
            "_model_module_version": "1.2.0",
            "_model_name": "LayoutModel",
            "_view_count": null,
            "_view_module": "@jupyter-widgets/base",
            "_view_module_version": "1.2.0",
            "_view_name": "LayoutView",
            "align_content": null,
            "align_items": null,
            "align_self": null,
            "border": null,
            "bottom": null,
            "display": null,
            "flex": null,
            "flex_flow": null,
            "grid_area": null,
            "grid_auto_columns": null,
            "grid_auto_flow": null,
            "grid_auto_rows": null,
            "grid_column": null,
            "grid_gap": null,
            "grid_row": null,
            "grid_template_areas": null,
            "grid_template_columns": null,
            "grid_template_rows": null,
            "height": null,
            "justify_content": null,
            "justify_items": null,
            "left": null,
            "margin": null,
            "max_height": null,
            "max_width": null,
            "min_height": null,
            "min_width": null,
            "object_fit": null,
            "object_position": null,
            "order": null,
            "overflow": null,
            "overflow_x": null,
            "overflow_y": null,
            "padding": null,
            "right": null,
            "top": null,
            "visibility": null,
            "width": null
          }
        },
        "f910e97216f14cee97a2acd3ef95c2c2": {
          "model_module": "@jupyter-widgets/base",
          "model_module_version": "1.2.0",
          "model_name": "LayoutModel",
          "state": {
            "_model_module": "@jupyter-widgets/base",
            "_model_module_version": "1.2.0",
            "_model_name": "LayoutModel",
            "_view_count": null,
            "_view_module": "@jupyter-widgets/base",
            "_view_module_version": "1.2.0",
            "_view_name": "LayoutView",
            "align_content": null,
            "align_items": null,
            "align_self": null,
            "border": null,
            "bottom": null,
            "display": null,
            "flex": null,
            "flex_flow": null,
            "grid_area": null,
            "grid_auto_columns": null,
            "grid_auto_flow": null,
            "grid_auto_rows": null,
            "grid_column": null,
            "grid_gap": null,
            "grid_row": null,
            "grid_template_areas": null,
            "grid_template_columns": null,
            "grid_template_rows": null,
            "height": null,
            "justify_content": null,
            "justify_items": null,
            "left": null,
            "margin": null,
            "max_height": null,
            "max_width": null,
            "min_height": null,
            "min_width": null,
            "object_fit": null,
            "object_position": null,
            "order": null,
            "overflow": null,
            "overflow_x": null,
            "overflow_y": null,
            "padding": null,
            "right": null,
            "top": null,
            "visibility": null,
            "width": null
          }
        },
        "f9b55732d73042ac8b5788a7ba7fd13b": {
          "model_module": "@jupyter-widgets/controls",
          "model_module_version": "1.5.0",
          "model_name": "VBoxModel",
          "state": {
            "_dom_classes": [],
            "_model_module": "@jupyter-widgets/controls",
            "_model_module_version": "1.5.0",
            "_model_name": "VBoxModel",
            "_view_count": null,
            "_view_module": "@jupyter-widgets/controls",
            "_view_module_version": "1.5.0",
            "_view_name": "VBoxView",
            "box_style": "",
            "children": [
              "IPY_MODEL_f6763434694e493aa1dcdb627385ab88",
              "IPY_MODEL_f4be9cd8c5a24a198d132b956cf6af5e"
            ],
            "layout": "IPY_MODEL_63c68ef5e2894d338847f7acc63805d0"
          }
        },
        "fa0c7102a3ad46b1885ce7407a05f746": {
          "model_module": "@jupyter-widgets/controls",
          "model_module_version": "1.5.0",
          "model_name": "FloatProgressModel",
          "state": {
            "_dom_classes": [],
            "_model_module": "@jupyter-widgets/controls",
            "_model_module_version": "1.5.0",
            "_model_name": "FloatProgressModel",
            "_view_count": null,
            "_view_module": "@jupyter-widgets/controls",
            "_view_module_version": "1.5.0",
            "_view_name": "ProgressView",
            "bar_style": "",
            "description": "",
            "description_tooltip": null,
            "layout": "IPY_MODEL_57c838a409b342c699a3019000e48295",
            "max": 1,
            "min": 0,
            "orientation": "horizontal",
            "style": "IPY_MODEL_d7e6d86ba78e45cfbe601ff58a1cd88d",
            "value": 1
          }
        },
        "fa71bebb91a24fa4aa18f82edb91031f": {
          "model_module": "@jupyter-widgets/controls",
          "model_module_version": "1.5.0",
          "model_name": "LabelModel",
          "state": {
            "_dom_classes": [],
            "_model_module": "@jupyter-widgets/controls",
            "_model_module_version": "1.5.0",
            "_model_name": "LabelModel",
            "_view_count": null,
            "_view_module": "@jupyter-widgets/controls",
            "_view_module_version": "1.5.0",
            "_view_name": "LabelView",
            "description": "",
            "description_tooltip": null,
            "layout": "IPY_MODEL_cdfacdd7542f432bbf594e223489dcdf",
            "placeholder": "​",
            "style": "IPY_MODEL_9769c731fdad41cca6ed9b72d5dff22f",
            "value": "0.008 MB of 0.008 MB uploaded (0.000 MB deduped)\r"
          }
        },
        "faa5e01da3494fc3b7dcecfd91fb124f": {
          "model_module": "@jupyter-widgets/controls",
          "model_module_version": "1.5.0",
          "model_name": "VBoxModel",
          "state": {
            "_dom_classes": [],
            "_model_module": "@jupyter-widgets/controls",
            "_model_module_version": "1.5.0",
            "_model_name": "VBoxModel",
            "_view_count": null,
            "_view_module": "@jupyter-widgets/controls",
            "_view_module_version": "1.5.0",
            "_view_name": "VBoxView",
            "box_style": "",
            "children": [
              "IPY_MODEL_14914c80f4a24ae5aebd18bc651edc6c",
              "IPY_MODEL_4a0fa1c5356148acb1cb2f68788df8b5"
            ],
            "layout": "IPY_MODEL_e494afcb69ba4db693a268884f3c08ca"
          }
        },
        "fba408f940764f9e96d1aec78ff8f0d4": {
          "model_module": "@jupyter-widgets/controls",
          "model_module_version": "1.5.0",
          "model_name": "DescriptionStyleModel",
          "state": {
            "_model_module": "@jupyter-widgets/controls",
            "_model_module_version": "1.5.0",
            "_model_name": "DescriptionStyleModel",
            "_view_count": null,
            "_view_module": "@jupyter-widgets/base",
            "_view_module_version": "1.2.0",
            "_view_name": "StyleView",
            "description_width": ""
          }
        },
        "ffbdf902c2214935833f67a162471ba2": {
          "model_module": "@jupyter-widgets/controls",
          "model_module_version": "1.5.0",
          "model_name": "ProgressStyleModel",
          "state": {
            "_model_module": "@jupyter-widgets/controls",
            "_model_module_version": "1.5.0",
            "_model_name": "ProgressStyleModel",
            "_view_count": null,
            "_view_module": "@jupyter-widgets/base",
            "_view_module_version": "1.2.0",
            "_view_name": "StyleView",
            "bar_color": null,
            "description_width": ""
          }
        }
      }
    }
  },
  "nbformat": 4,
  "nbformat_minor": 0
}