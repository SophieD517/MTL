{
  "cells": [
    {
      "cell_type": "code",
      "execution_count": null,
      "metadata": {
        "id": "aGn1m7hhPO5G",
        "colab": {
          "base_uri": "https://localhost:8080/"
        },
        "outputId": "852641f9-f75f-420f-fedb-4cef99f22215"
      },
      "outputs": [
        {
          "output_type": "stream",
          "name": "stdout",
          "text": [
            "Collecting colour\n",
            "  Downloading colour-0.1.5-py2.py3-none-any.whl (23 kB)\n",
            "Installing collected packages: colour\n",
            "Successfully installed colour-0.1.5\n",
            "Drive already mounted at /content/drive; to attempt to forcibly remount, call drive.mount(\"/content/drive\", force_remount=True).\n"
          ]
        }
      ],
      "source": [
        "import numpy as np\n",
        "import pandas as pd\n",
        "import torch\n",
        "import math as m\n",
        "import os\n",
        "import matplotlib.pyplot as plt\n",
        "from google.colab import drive\n",
        "from torch.utils.data import DataLoader\n",
        "!pip install colour\n",
        "from colour import Color\n",
        "drive.mount('/content/drive')"
      ]
    },
    {
      "cell_type": "code",
      "execution_count": null,
      "metadata": {
        "id": "oLvuH4LMPhUW"
      },
      "outputs": [],
      "source": [
        "class AutoEncoder(torch.nn.Module):\n",
        "  def __init__(self):\n",
        "    super().__init__()\n",
        "    self.encoder = torch.nn.Sequential(\n",
        "      torch.nn.Linear(100, 70),\n",
        "      torch.nn.ReLU(),\n",
        "      torch.nn.Linear(70, 40),\n",
        "      torch.nn.ReLU(),\n",
        "      torch.nn.Linear(40, 20),\n",
        "      torch.nn.ReLU(),\n",
        "      torch.nn.Linear(20, 10),\n",
        "      torch.nn.ReLU(),\n",
        "      torch.nn.Linear(10, 2)\n",
        "    )\n",
        "    self.decoder = torch.nn.Sequential( \n",
        "      torch.nn.ReLU(),\n",
        "      torch.nn.Linear(2, 10),\n",
        "      torch.nn.ReLU(),\n",
        "      torch.nn.Linear(10, 20),\n",
        "      torch.nn.ReLU(),\n",
        "      torch.nn.Linear(20, 40),\n",
        "      torch.nn.ReLU(),\n",
        "      torch.nn.Linear(40, 70),\n",
        "      torch.nn.ReLU(),\n",
        "      torch.nn.Linear(70, 100),\n",
        "      torch.nn.Sigmoid()\n",
        "    )\n",
        "\n",
        "  def forward(self, x):\n",
        "    latent_space = self.encoder(x)\n",
        "    return self.decoder(latent_space)"
      ]
    },
    {
      "cell_type": "code",
      "execution_count": null,
      "metadata": {
        "id": "559_V0JzQgEG"
      },
      "outputs": [],
      "source": [
        "class Penguin:\n",
        "  def __init__(self, epochs, num_batches, learning_rate=0.001):\n",
        "    self.learning_rate = learning_rate\n",
        "    self.epochs = epochs\n",
        "    self.loss_func = torch.nn.MSELoss()\n",
        "    self.model = AutoEncoder()\n",
        "    self.optimizer = torch.optim.Adam(self.model.parameters(), lr=self.learning_rate)\n",
        "    self.losses = []\n",
        "    self.predictions = []\n",
        "    self.num_batches = num_batches\n",
        "  \n",
        "  def train(self, x):\n",
        "    dataloader = DataLoader(x, batch_size=(m.ceil(x.shape[0]/self.num_batches)))\n",
        "    for epoch in range(self.epochs):\n",
        "      for batch in dataloader:\n",
        "        pred = self.model(batch)\n",
        "        self.predictions.append(pred)\n",
        "        loss = self.loss_func(pred, batch)\n",
        "        self.losses.append(loss.detach().numpy())\n",
        "        self.model.zero_grad()\n",
        "        loss.backward(retain_graph=True)\n",
        "        with torch.no_grad():\n",
        "            for param in self.model.parameters():\n",
        "              param -= self.learning_rate * param.grad\n",
        "        self.optimizer.step()\n",
        "    return self.predictions\n",
        "\n",
        "  def save(self):\n",
        "    torch.save(self.model.state_dict(), '/content/model.zip') \n",
        "    \n",
        "  def graph_loss(self):\n",
        "    plt.style.use('seaborn-whitegrid')\n",
        "    plt.xlabel('Iterations')\n",
        "    plt.ylabel('Loss')\n",
        "    x = np.arange(1/self.num_batches, self.epochs+1/self.num_batches, 1/self.num_batches)\n",
        "    y = self.losses\n",
        "    plt.plot(x, y)\n",
        "    plt.xlim(0)\n",
        "    plt.ylim(0)\n",
        "\n",
        "  def test(self, x_test):\n",
        "    weights = torch.load('/content/model.zip')\n",
        "    self.model.load_state_dict(weights)\n",
        "    self.model.eval()\n",
        "    pred = self.model(x_test)\n",
        "    loss = self.loss_func(pred, x_test).detach().numpy()\n",
        "    return loss, pred.detach().numpy()"
      ]
    },
    {
      "cell_type": "code",
      "source": [
        "test = pd.read_csv('/content/drive/MyDrive/Project_MTL/data/SyntheticData/test.csv').drop(columns='Unnamed: 0')\n",
        "train = pd.read_csv('/content/drive/MyDrive/Project_MTL/data/SyntheticData/train.csv').drop(columns='Unnamed: 0')\n",
        "\n",
        "X = torch.tensor(train.drop(columns=['half_life']).values, requires_grad=True, dtype=torch.float32).to(torch.float32)\n",
        "X_test = torch.tensor(test.drop(columns=['half_life']).values, requires_grad=True, dtype=torch.float32).to(torch.float32)\n",
        "\n",
        "handler = Penguin(3, 10)\n",
        "handler.train(X)\n",
        "handler.graph_loss()\n",
        "handler.save()"
      ],
      "metadata": {
        "colab": {
          "base_uri": "https://localhost:8080/",
          "height": 276
        },
        "id": "aL1ODstyySU6",
        "outputId": "49cf1b1d-a24a-4b2d-f30d-86664c0eeb79"
      },
      "execution_count": null,
      "outputs": [
        {
          "output_type": "display_data",
          "data": {
            "image/png": "[encoded data removed]",
            "text/plain": [
              "<Figure size 432x288 with 1 Axes>"
            ]
          },
          "metadata": {}
        }
      ]
    }
  ],
  "metadata": {
    "colab": {
      "name": "AutoEncoder.ipynb",
      "provenance": [],
      "collapsed_sections": []
    },
    "kernelspec": {
      "display_name": "Python 3",
      "name": "python3"
    },
    "language_info": {
      "name": "python"
    }
  },
  "nbformat": 4,
  "nbformat_minor": 0
}